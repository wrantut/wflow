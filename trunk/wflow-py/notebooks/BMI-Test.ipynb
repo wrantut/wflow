{
 "metadata": {
  "name": "",
  "signature": "sha256:3525720c71c3811aeb5020713a2ab21ef24cbe5734bc55a8124d9c8d705ac397"
 },
 "nbformat": 3,
 "nbformat_minor": 0,
 "worksheets": [
  {
   "cells": [
    {
     "cell_type": "markdown",
     "metadata": {},
     "source": [
      "Basic test of the wflow BMI interface"
     ]
    },
    {
     "cell_type": "code",
     "collapsed": false,
     "input": [
      "import wflow.wflow_bmi as bmi\n",
      "%matplotlib\n",
      "reload(bmi)"
     ],
     "language": "python",
     "metadata": {},
     "outputs": [
      {
       "output_type": "stream",
       "stream": "stdout",
       "text": [
        "Using matplotlib backend: TkAgg\n"
       ]
      },
      {
       "metadata": {},
       "output_type": "pyout",
       "prompt_number": 36,
       "text": [
        "<module 'wflow.wflow_bmi' from '/usr/local/lib/python2.7/dist-packages/wflow/wflow_bmi.pyc'>"
       ]
      }
     ],
     "prompt_number": 36
    },
    {
     "cell_type": "code",
     "collapsed": false,
     "input": [
      "LA_model = bmi.wflowbmi()\n",
      "LA_model.initialize(configfile='../../examples/wflow_rhine_sbm/wflow_sbm.ini')\n",
      "\n",
      "RT_model = bmi.wflowbmi()\n",
      "RT_model.initialize(configfile='../../examples/wflow_rhine_sbm/wflow_routing.ini')"
     ],
     "language": "python",
     "metadata": {},
     "outputs": [
      {
       "output_type": "stream",
       "stream": "stderr",
       "text": [
        "2014-10-15 21:11:17,345 - model - DEBUG - File logging to /home/jaap/repos/wflow/examples/wflow_rhine_sbm/run_default/wflow.log\n"
       ]
      },
      {
       "output_type": "stream",
       "stream": "stderr",
       "text": [
        "2014-10-15 21:11:17,345 - model - DEBUG - File logging to /home/jaap/repos/wflow/examples/wflow_rhine_sbm/run_default/wflow.log\n"
       ]
      },
      {
       "output_type": "stream",
       "stream": "stderr",
       "text": [
        "2014-10-15 21:11:17,345 - model - DEBUG - File logging to /home/jaap/repos/wflow/examples/wflow_rhine_sbm/run_default/wflow.log\n"
       ]
      },
      {
       "output_type": "stream",
       "stream": "stderr",
       "text": [
        "2014-10-15 21:11:17,345 - model - DEBUG - File logging to /home/jaap/repos/wflow/examples/wflow_rhine_sbm/run_default/wflow.log\n"
       ]
      },
      {
       "output_type": "stream",
       "stream": "stderr",
       "text": [
        "2014-10-15 21:11:17,345 - model - DEBUG - File logging to /home/jaap/repos/wflow/examples/wflow_rhine_sbm/run_default/wflow.log\n"
       ]
      },
      {
       "output_type": "stream",
       "stream": "stderr",
       "text": [
        "2014-10-15 21:11:17,345 - model - DEBUG - File logging to /home/jaap/repos/wflow/examples/wflow_rhine_sbm/run_default/wflow.log\n"
       ]
      },
      {
       "output_type": "stream",
       "stream": "stderr",
       "text": [
        "2014-10-15 21:11:17,345 - model - DEBUG - File logging to /home/jaap/repos/wflow/examples/wflow_rhine_sbm/run_default/wflow.log\n"
       ]
      },
      {
       "output_type": "stream",
       "stream": "stderr",
       "text": [
        "2014-10-15 21:11:17,345 - model - DEBUG - File logging to /home/jaap/repos/wflow/examples/wflow_rhine_sbm/run_default/wflow.log\n"
       ]
      },
      {
       "output_type": "stream",
       "stream": "stderr",
       "text": [
        "2014-10-15 21:11:17,345 - model - DEBUG - File logging to /home/jaap/repos/wflow/examples/wflow_rhine_sbm/run_default/wflow.log\n"
       ]
      },
      {
       "output_type": "stream",
       "stream": "stderr",
       "text": [
        "2014-10-15 21:11:17,345 - model - DEBUG - File logging to /home/jaap/repos/wflow/examples/wflow_rhine_sbm/run_default/wflow.log\n"
       ]
      },
      {
       "output_type": "stream",
       "stream": "stderr",
       "text": [
        "2014-10-15 21:11:17,345 - model - DEBUG - File logging to /home/jaap/repos/wflow/examples/wflow_rhine_sbm/run_default/wflow.log\n"
       ]
      },
      {
       "output_type": "stream",
       "stream": "stderr",
       "text": [
        "2014-10-15 21:11:17,345 - model - DEBUG - File logging to /home/jaap/repos/wflow/examples/wflow_rhine_sbm/run_default/wflow.log\n"
       ]
      },
      {
       "output_type": "stream",
       "stream": "stderr",
       "text": [
        "DEBUG:model:File logging to /home/jaap/repos/wflow/examples/wflow_rhine_sbm/run_default/wflow.log\n"
       ]
      },
      {
       "output_type": "stream",
       "stream": "stderr",
       "text": [
        "2014-10-15 21:11:17,353 - model - INFO - model no version Case: /home/jaap/repos/wflow/examples/wflow_rhine_sbm Runid: run_default\n"
       ]
      },
      {
       "output_type": "stream",
       "stream": "stderr",
       "text": [
        "2014-10-15 21:11:17,353 - model - INFO - model no version Case: /home/jaap/repos/wflow/examples/wflow_rhine_sbm Runid: run_default\n"
       ]
      },
      {
       "output_type": "stream",
       "stream": "stderr",
       "text": [
        "2014-10-15 21:11:17,353 - model - INFO - model no version Case: /home/jaap/repos/wflow/examples/wflow_rhine_sbm Runid: run_default\n"
       ]
      },
      {
       "output_type": "stream",
       "stream": "stderr",
       "text": [
        "2014-10-15 21:11:17,353 - model - INFO - model no version Case: /home/jaap/repos/wflow/examples/wflow_rhine_sbm Runid: run_default\n"
       ]
      },
      {
       "output_type": "stream",
       "stream": "stderr",
       "text": [
        "2014-10-15 21:11:17,353 - model - INFO - model no version Case: /home/jaap/repos/wflow/examples/wflow_rhine_sbm Runid: run_default\n"
       ]
      },
      {
       "output_type": "stream",
       "stream": "stderr",
       "text": [
        "2014-10-15 21:11:17,353 - model - INFO - model no version Case: /home/jaap/repos/wflow/examples/wflow_rhine_sbm Runid: run_default\n"
       ]
      },
      {
       "output_type": "stream",
       "stream": "stderr",
       "text": [
        "2014-10-15 21:11:17,353 - model - INFO - model no version Case: /home/jaap/repos/wflow/examples/wflow_rhine_sbm Runid: run_default\n"
       ]
      },
      {
       "output_type": "stream",
       "stream": "stderr",
       "text": [
        "2014-10-15 21:11:17,353 - model - INFO - model no version Case: /home/jaap/repos/wflow/examples/wflow_rhine_sbm Runid: run_default\n"
       ]
      },
      {
       "output_type": "stream",
       "stream": "stderr",
       "text": [
        "2014-10-15 21:11:17,353 - model - INFO - model no version Case: /home/jaap/repos/wflow/examples/wflow_rhine_sbm Runid: run_default\n"
       ]
      },
      {
       "output_type": "stream",
       "stream": "stderr",
       "text": [
        "2014-10-15 21:11:17,353 - model - INFO - model no version Case: /home/jaap/repos/wflow/examples/wflow_rhine_sbm Runid: run_default\n"
       ]
      },
      {
       "output_type": "stream",
       "stream": "stderr",
       "text": [
        "2014-10-15 21:11:17,353 - model - INFO - model no version Case: /home/jaap/repos/wflow/examples/wflow_rhine_sbm Runid: run_default\n"
       ]
      },
      {
       "output_type": "stream",
       "stream": "stderr",
       "text": [
        "2014-10-15 21:11:17,353 - model - INFO - model no version Case: /home/jaap/repos/wflow/examples/wflow_rhine_sbm Runid: run_default\n"
       ]
      },
      {
       "output_type": "stream",
       "stream": "stderr",
       "text": [
        "INFO:model:model no version Case: /home/jaap/repos/wflow/examples/wflow_rhine_sbm Runid: run_default\n"
       ]
      },
      {
       "output_type": "stream",
       "stream": "stderr",
       "text": [
        "2014-10-15 21:11:17,364 - model - INFO - Adding csv output at /home/jaap/repos/wflow/examples/wflow_rhine_sbm/staticmaps/wflow_landuse.map\n"
       ]
      },
      {
       "output_type": "stream",
       "stream": "stderr",
       "text": [
        "2014-10-15 21:11:17,364 - model - INFO - Adding csv output at /home/jaap/repos/wflow/examples/wflow_rhine_sbm/staticmaps/wflow_landuse.map\n"
       ]
      },
      {
       "output_type": "stream",
       "stream": "stderr",
       "text": [
        "2014-10-15 21:11:17,364 - model - INFO - Adding csv output at /home/jaap/repos/wflow/examples/wflow_rhine_sbm/staticmaps/wflow_landuse.map\n"
       ]
      },
      {
       "output_type": "stream",
       "stream": "stderr",
       "text": [
        "2014-10-15 21:11:17,364 - model - INFO - Adding csv output at /home/jaap/repos/wflow/examples/wflow_rhine_sbm/staticmaps/wflow_landuse.map\n"
       ]
      },
      {
       "output_type": "stream",
       "stream": "stderr",
       "text": [
        "2014-10-15 21:11:17,364 - model - INFO - Adding csv output at /home/jaap/repos/wflow/examples/wflow_rhine_sbm/staticmaps/wflow_landuse.map\n"
       ]
      },
      {
       "output_type": "stream",
       "stream": "stderr",
       "text": [
        "2014-10-15 21:11:17,364 - model - INFO - Adding csv output at /home/jaap/repos/wflow/examples/wflow_rhine_sbm/staticmaps/wflow_landuse.map\n"
       ]
      },
      {
       "output_type": "stream",
       "stream": "stderr",
       "text": [
        "2014-10-15 21:11:17,364 - model - INFO - Adding csv output at /home/jaap/repos/wflow/examples/wflow_rhine_sbm/staticmaps/wflow_landuse.map\n"
       ]
      },
      {
       "output_type": "stream",
       "stream": "stderr",
       "text": [
        "2014-10-15 21:11:17,364 - model - INFO - Adding csv output at /home/jaap/repos/wflow/examples/wflow_rhine_sbm/staticmaps/wflow_landuse.map\n"
       ]
      },
      {
       "output_type": "stream",
       "stream": "stderr",
       "text": [
        "2014-10-15 21:11:17,364 - model - INFO - Adding csv output at /home/jaap/repos/wflow/examples/wflow_rhine_sbm/staticmaps/wflow_landuse.map\n"
       ]
      },
      {
       "output_type": "stream",
       "stream": "stderr",
       "text": [
        "2014-10-15 21:11:17,364 - model - INFO - Adding csv output at /home/jaap/repos/wflow/examples/wflow_rhine_sbm/staticmaps/wflow_landuse.map\n"
       ]
      },
      {
       "output_type": "stream",
       "stream": "stderr",
       "text": [
        "2014-10-15 21:11:17,364 - model - INFO - Adding csv output at /home/jaap/repos/wflow/examples/wflow_rhine_sbm/staticmaps/wflow_landuse.map\n"
       ]
      },
      {
       "output_type": "stream",
       "stream": "stderr",
       "text": [
        "2014-10-15 21:11:17,364 - model - INFO - Adding csv output at /home/jaap/repos/wflow/examples/wflow_rhine_sbm/staticmaps/wflow_landuse.map\n"
       ]
      },
      {
       "output_type": "stream",
       "stream": "stderr",
       "text": [
        "INFO:model:Adding csv output at /home/jaap/repos/wflow/examples/wflow_rhine_sbm/staticmaps/wflow_landuse.map\n"
       ]
      },
      {
       "output_type": "stream",
       "stream": "stderr",
       "text": [
        "2014-10-15 21:11:17,370 - model - WARNING - Could not read sample id-map for timeseries: /home/jaap/repos/wflow/examples/wflow_rhine_sbm/staticmaps/area.map\n"
       ]
      },
      {
       "output_type": "stream",
       "stream": "stderr",
       "text": [
        "2014-10-15 21:11:17,370 - model - WARNING - Could not read sample id-map for timeseries: /home/jaap/repos/wflow/examples/wflow_rhine_sbm/staticmaps/area.map\n"
       ]
      },
      {
       "output_type": "stream",
       "stream": "stderr",
       "text": [
        "2014-10-15 21:11:17,370 - model - WARNING - Could not read sample id-map for timeseries: /home/jaap/repos/wflow/examples/wflow_rhine_sbm/staticmaps/area.map\n"
       ]
      },
      {
       "output_type": "stream",
       "stream": "stderr",
       "text": [
        "2014-10-15 21:11:17,370 - model - WARNING - Could not read sample id-map for timeseries: /home/jaap/repos/wflow/examples/wflow_rhine_sbm/staticmaps/area.map\n"
       ]
      },
      {
       "output_type": "stream",
       "stream": "stderr",
       "text": [
        "2014-10-15 21:11:17,370 - model - WARNING - Could not read sample id-map for timeseries: /home/jaap/repos/wflow/examples/wflow_rhine_sbm/staticmaps/area.map\n"
       ]
      },
      {
       "output_type": "stream",
       "stream": "stderr",
       "text": [
        "2014-10-15 21:11:17,370 - model - WARNING - Could not read sample id-map for timeseries: /home/jaap/repos/wflow/examples/wflow_rhine_sbm/staticmaps/area.map\n"
       ]
      },
      {
       "output_type": "stream",
       "stream": "stderr",
       "text": [
        "2014-10-15 21:11:17,370 - model - WARNING - Could not read sample id-map for timeseries: /home/jaap/repos/wflow/examples/wflow_rhine_sbm/staticmaps/area.map\n"
       ]
      },
      {
       "output_type": "stream",
       "stream": "stderr",
       "text": [
        "2014-10-15 21:11:17,370 - model - WARNING - Could not read sample id-map for timeseries: /home/jaap/repos/wflow/examples/wflow_rhine_sbm/staticmaps/area.map\n"
       ]
      },
      {
       "output_type": "stream",
       "stream": "stderr",
       "text": [
        "2014-10-15 21:11:17,370 - model - WARNING - Could not read sample id-map for timeseries: /home/jaap/repos/wflow/examples/wflow_rhine_sbm/staticmaps/area.map\n"
       ]
      },
      {
       "output_type": "stream",
       "stream": "stderr",
       "text": [
        "2014-10-15 21:11:17,370 - model - WARNING - Could not read sample id-map for timeseries: /home/jaap/repos/wflow/examples/wflow_rhine_sbm/staticmaps/area.map\n"
       ]
      },
      {
       "output_type": "stream",
       "stream": "stderr",
       "text": [
        "2014-10-15 21:11:17,370 - model - WARNING - Could not read sample id-map for timeseries: /home/jaap/repos/wflow/examples/wflow_rhine_sbm/staticmaps/area.map\n"
       ]
      },
      {
       "output_type": "stream",
       "stream": "stderr",
       "text": [
        "2014-10-15 21:11:17,370 - model - WARNING - Could not read sample id-map for timeseries: /home/jaap/repos/wflow/examples/wflow_rhine_sbm/staticmaps/area.map\n"
       ]
      },
      {
       "output_type": "stream",
       "stream": "stderr",
       "text": [
        "WARNING:model:Could not read sample id-map for timeseries: /home/jaap/repos/wflow/examples/wflow_rhine_sbm/staticmaps/area.map\n"
       ]
      },
      {
       "output_type": "stream",
       "stream": "stderr",
       "text": [
        "2014-10-15 21:11:17,377 - model - INFO - Adding tss output at /home/jaap/repos/wflow/examples/wflow_rhine_sbm/staticmaps/wflow_gauges.map\n"
       ]
      },
      {
       "output_type": "stream",
       "stream": "stderr",
       "text": [
        "2014-10-15 21:11:17,377 - model - INFO - Adding tss output at /home/jaap/repos/wflow/examples/wflow_rhine_sbm/staticmaps/wflow_gauges.map\n"
       ]
      },
      {
       "output_type": "stream",
       "stream": "stderr",
       "text": [
        "2014-10-15 21:11:17,377 - model - INFO - Adding tss output at /home/jaap/repos/wflow/examples/wflow_rhine_sbm/staticmaps/wflow_gauges.map\n"
       ]
      },
      {
       "output_type": "stream",
       "stream": "stderr",
       "text": [
        "2014-10-15 21:11:17,377 - model - INFO - Adding tss output at /home/jaap/repos/wflow/examples/wflow_rhine_sbm/staticmaps/wflow_gauges.map\n"
       ]
      },
      {
       "output_type": "stream",
       "stream": "stderr",
       "text": [
        "2014-10-15 21:11:17,377 - model - INFO - Adding tss output at /home/jaap/repos/wflow/examples/wflow_rhine_sbm/staticmaps/wflow_gauges.map\n"
       ]
      },
      {
       "output_type": "stream",
       "stream": "stderr",
       "text": [
        "2014-10-15 21:11:17,377 - model - INFO - Adding tss output at /home/jaap/repos/wflow/examples/wflow_rhine_sbm/staticmaps/wflow_gauges.map\n"
       ]
      },
      {
       "output_type": "stream",
       "stream": "stderr",
       "text": [
        "2014-10-15 21:11:17,377 - model - INFO - Adding tss output at /home/jaap/repos/wflow/examples/wflow_rhine_sbm/staticmaps/wflow_gauges.map\n"
       ]
      },
      {
       "output_type": "stream",
       "stream": "stderr",
       "text": [
        "2014-10-15 21:11:17,377 - model - INFO - Adding tss output at /home/jaap/repos/wflow/examples/wflow_rhine_sbm/staticmaps/wflow_gauges.map\n"
       ]
      },
      {
       "output_type": "stream",
       "stream": "stderr",
       "text": [
        "2014-10-15 21:11:17,377 - model - INFO - Adding tss output at /home/jaap/repos/wflow/examples/wflow_rhine_sbm/staticmaps/wflow_gauges.map\n"
       ]
      },
      {
       "output_type": "stream",
       "stream": "stderr",
       "text": [
        "2014-10-15 21:11:17,377 - model - INFO - Adding tss output at /home/jaap/repos/wflow/examples/wflow_rhine_sbm/staticmaps/wflow_gauges.map\n"
       ]
      },
      {
       "output_type": "stream",
       "stream": "stderr",
       "text": [
        "2014-10-15 21:11:17,377 - model - INFO - Adding tss output at /home/jaap/repos/wflow/examples/wflow_rhine_sbm/staticmaps/wflow_gauges.map\n"
       ]
      },
      {
       "output_type": "stream",
       "stream": "stderr",
       "text": [
        "2014-10-15 21:11:17,377 - model - INFO - Adding tss output at /home/jaap/repos/wflow/examples/wflow_rhine_sbm/staticmaps/wflow_gauges.map\n"
       ]
      },
      {
       "output_type": "stream",
       "stream": "stderr",
       "text": [
        "INFO:model:Adding tss output at /home/jaap/repos/wflow/examples/wflow_rhine_sbm/staticmaps/wflow_gauges.map\n"
       ]
      },
      {
       "output_type": "stream",
       "stream": "stderr",
       "text": [
        "2014-10-15 21:11:17,385 - model - INFO - Adding tss output at /home/jaap/repos/wflow/examples/wflow_rhine_sbm/staticmaps/wflow_gauges.map\n"
       ]
      },
      {
       "output_type": "stream",
       "stream": "stderr",
       "text": [
        "2014-10-15 21:11:17,385 - model - INFO - Adding tss output at /home/jaap/repos/wflow/examples/wflow_rhine_sbm/staticmaps/wflow_gauges.map\n"
       ]
      },
      {
       "output_type": "stream",
       "stream": "stderr",
       "text": [
        "2014-10-15 21:11:17,385 - model - INFO - Adding tss output at /home/jaap/repos/wflow/examples/wflow_rhine_sbm/staticmaps/wflow_gauges.map\n"
       ]
      },
      {
       "output_type": "stream",
       "stream": "stderr",
       "text": [
        "2014-10-15 21:11:17,385 - model - INFO - Adding tss output at /home/jaap/repos/wflow/examples/wflow_rhine_sbm/staticmaps/wflow_gauges.map\n"
       ]
      },
      {
       "output_type": "stream",
       "stream": "stderr",
       "text": [
        "2014-10-15 21:11:17,385 - model - INFO - Adding tss output at /home/jaap/repos/wflow/examples/wflow_rhine_sbm/staticmaps/wflow_gauges.map\n"
       ]
      },
      {
       "output_type": "stream",
       "stream": "stderr",
       "text": [
        "2014-10-15 21:11:17,385 - model - INFO - Adding tss output at /home/jaap/repos/wflow/examples/wflow_rhine_sbm/staticmaps/wflow_gauges.map\n"
       ]
      },
      {
       "output_type": "stream",
       "stream": "stderr",
       "text": [
        "2014-10-15 21:11:17,385 - model - INFO - Adding tss output at /home/jaap/repos/wflow/examples/wflow_rhine_sbm/staticmaps/wflow_gauges.map\n"
       ]
      },
      {
       "output_type": "stream",
       "stream": "stderr",
       "text": [
        "2014-10-15 21:11:17,385 - model - INFO - Adding tss output at /home/jaap/repos/wflow/examples/wflow_rhine_sbm/staticmaps/wflow_gauges.map\n"
       ]
      },
      {
       "output_type": "stream",
       "stream": "stderr",
       "text": [
        "2014-10-15 21:11:17,385 - model - INFO - Adding tss output at /home/jaap/repos/wflow/examples/wflow_rhine_sbm/staticmaps/wflow_gauges.map\n"
       ]
      },
      {
       "output_type": "stream",
       "stream": "stderr",
       "text": [
        "2014-10-15 21:11:17,385 - model - INFO - Adding tss output at /home/jaap/repos/wflow/examples/wflow_rhine_sbm/staticmaps/wflow_gauges.map\n"
       ]
      },
      {
       "output_type": "stream",
       "stream": "stderr",
       "text": [
        "2014-10-15 21:11:17,385 - model - INFO - Adding tss output at /home/jaap/repos/wflow/examples/wflow_rhine_sbm/staticmaps/wflow_gauges.map\n"
       ]
      },
      {
       "output_type": "stream",
       "stream": "stderr",
       "text": [
        "2014-10-15 21:11:17,385 - model - INFO - Adding tss output at /home/jaap/repos/wflow/examples/wflow_rhine_sbm/staticmaps/wflow_gauges.map\n"
       ]
      },
      {
       "output_type": "stream",
       "stream": "stderr",
       "text": [
        "INFO:model:Adding tss output at /home/jaap/repos/wflow/examples/wflow_rhine_sbm/staticmaps/wflow_gauges.map\n"
       ]
      },
      {
       "output_type": "stream",
       "stream": "stderr",
       "text": [
        "2014-10-15 21:11:17,391 - model - INFO - running for 28 timesteps\n"
       ]
      },
      {
       "output_type": "stream",
       "stream": "stderr",
       "text": [
        "2014-10-15 21:11:17,391 - model - INFO - running for 28 timesteps\n"
       ]
      },
      {
       "output_type": "stream",
       "stream": "stderr",
       "text": [
        "2014-10-15 21:11:17,391 - model - INFO - running for 28 timesteps\n"
       ]
      },
      {
       "output_type": "stream",
       "stream": "stderr",
       "text": [
        "2014-10-15 21:11:17,391 - model - INFO - running for 28 timesteps\n"
       ]
      },
      {
       "output_type": "stream",
       "stream": "stderr",
       "text": [
        "2014-10-15 21:11:17,391 - model - INFO - running for 28 timesteps\n"
       ]
      },
      {
       "output_type": "stream",
       "stream": "stderr",
       "text": [
        "2014-10-15 21:11:17,391 - model - INFO - running for 28 timesteps\n"
       ]
      },
      {
       "output_type": "stream",
       "stream": "stderr",
       "text": [
        "2014-10-15 21:11:17,391 - model - INFO - running for 28 timesteps\n"
       ]
      },
      {
       "output_type": "stream",
       "stream": "stderr",
       "text": [
        "2014-10-15 21:11:17,391 - model - INFO - running for 28 timesteps\n"
       ]
      },
      {
       "output_type": "stream",
       "stream": "stderr",
       "text": [
        "2014-10-15 21:11:17,391 - model - INFO - running for 28 timesteps\n"
       ]
      },
      {
       "output_type": "stream",
       "stream": "stderr",
       "text": [
        "2014-10-15 21:11:17,391 - model - INFO - running for 28 timesteps\n"
       ]
      },
      {
       "output_type": "stream",
       "stream": "stderr",
       "text": [
        "2014-10-15 21:11:17,391 - model - INFO - running for 28 timesteps\n"
       ]
      },
      {
       "output_type": "stream",
       "stream": "stderr",
       "text": [
        "2014-10-15 21:11:17,391 - model - INFO - running for 28 timesteps\n"
       ]
      },
      {
       "output_type": "stream",
       "stream": "stderr",
       "text": [
        "INFO:model:running for 28 timesteps\n"
       ]
      },
      {
       "output_type": "stream",
       "stream": "stderr",
       "text": [
        "2014-10-15 21:11:17,397 - model - INFO - Applying the original topog_sbm lateral transfer formulation\n"
       ]
      },
      {
       "output_type": "stream",
       "stream": "stderr",
       "text": [
        "2014-10-15 21:11:17,397 - model - INFO - Applying the original topog_sbm lateral transfer formulation\n"
       ]
      },
      {
       "output_type": "stream",
       "stream": "stderr",
       "text": [
        "2014-10-15 21:11:17,397 - model - INFO - Applying the original topog_sbm lateral transfer formulation\n"
       ]
      },
      {
       "output_type": "stream",
       "stream": "stderr",
       "text": [
        "2014-10-15 21:11:17,397 - model - INFO - Applying the original topog_sbm lateral transfer formulation\n"
       ]
      },
      {
       "output_type": "stream",
       "stream": "stderr",
       "text": [
        "2014-10-15 21:11:17,397 - model - INFO - Applying the original topog_sbm lateral transfer formulation\n"
       ]
      },
      {
       "output_type": "stream",
       "stream": "stderr",
       "text": [
        "2014-10-15 21:11:17,397 - model - INFO - Applying the original topog_sbm lateral transfer formulation\n"
       ]
      },
      {
       "output_type": "stream",
       "stream": "stderr",
       "text": [
        "2014-10-15 21:11:17,397 - model - INFO - Applying the original topog_sbm lateral transfer formulation\n"
       ]
      },
      {
       "output_type": "stream",
       "stream": "stderr",
       "text": [
        "2014-10-15 21:11:17,397 - model - INFO - Applying the original topog_sbm lateral transfer formulation\n"
       ]
      },
      {
       "output_type": "stream",
       "stream": "stderr",
       "text": [
        "2014-10-15 21:11:17,397 - model - INFO - Applying the original topog_sbm lateral transfer formulation\n"
       ]
      },
      {
       "output_type": "stream",
       "stream": "stderr",
       "text": [
        "2014-10-15 21:11:17,397 - model - INFO - Applying the original topog_sbm lateral transfer formulation\n"
       ]
      },
      {
       "output_type": "stream",
       "stream": "stderr",
       "text": [
        "2014-10-15 21:11:17,397 - model - INFO - Applying the original topog_sbm lateral transfer formulation\n"
       ]
      },
      {
       "output_type": "stream",
       "stream": "stderr",
       "text": [
        "2014-10-15 21:11:17,397 - model - INFO - Applying the original topog_sbm lateral transfer formulation\n"
       ]
      },
      {
       "output_type": "stream",
       "stream": "stderr",
       "text": [
        "INFO:model:Applying the original topog_sbm lateral transfer formulation\n"
       ]
      },
      {
       "output_type": "stream",
       "stream": "stderr",
       "text": [
        "2014-10-15 21:11:17,411 - model - INFO - Linking parameters to landuse, catchment and soil...\n"
       ]
      },
      {
       "output_type": "stream",
       "stream": "stderr",
       "text": [
        "2014-10-15 21:11:17,411 - model - INFO - Linking parameters to landuse, catchment and soil...\n"
       ]
      },
      {
       "output_type": "stream",
       "stream": "stderr",
       "text": [
        "2014-10-15 21:11:17,411 - model - INFO - Linking parameters to landuse, catchment and soil...\n"
       ]
      },
      {
       "output_type": "stream",
       "stream": "stderr",
       "text": [
        "2014-10-15 21:11:17,411 - model - INFO - Linking parameters to landuse, catchment and soil...\n"
       ]
      },
      {
       "output_type": "stream",
       "stream": "stderr",
       "text": [
        "2014-10-15 21:11:17,411 - model - INFO - Linking parameters to landuse, catchment and soil...\n"
       ]
      },
      {
       "output_type": "stream",
       "stream": "stderr",
       "text": [
        "2014-10-15 21:11:17,411 - model - INFO - Linking parameters to landuse, catchment and soil...\n"
       ]
      },
      {
       "output_type": "stream",
       "stream": "stderr",
       "text": [
        "2014-10-15 21:11:17,411 - model - INFO - Linking parameters to landuse, catchment and soil...\n"
       ]
      },
      {
       "output_type": "stream",
       "stream": "stderr",
       "text": [
        "2014-10-15 21:11:17,411 - model - INFO - Linking parameters to landuse, catchment and soil...\n"
       ]
      },
      {
       "output_type": "stream",
       "stream": "stderr",
       "text": [
        "2014-10-15 21:11:17,411 - model - INFO - Linking parameters to landuse, catchment and soil...\n"
       ]
      },
      {
       "output_type": "stream",
       "stream": "stderr",
       "text": [
        "2014-10-15 21:11:17,411 - model - INFO - Linking parameters to landuse, catchment and soil...\n"
       ]
      },
      {
       "output_type": "stream",
       "stream": "stderr",
       "text": [
        "2014-10-15 21:11:17,411 - model - INFO - Linking parameters to landuse, catchment and soil...\n"
       ]
      },
      {
       "output_type": "stream",
       "stream": "stderr",
       "text": [
        "2014-10-15 21:11:17,411 - model - INFO - Linking parameters to landuse, catchment and soil...\n"
       ]
      },
      {
       "output_type": "stream",
       "stream": "stderr",
       "text": [
        "INFO:model:Linking parameters to landuse, catchment and soil...\n"
       ]
      },
      {
       "output_type": "stream",
       "stream": "stderr",
       "text": [
        "2014-10-15 21:11:17,416 - model - WARNING - tbl file not found (/home/jaap/repos/wflow/examples/wflow_rhine_sbm/intbl/RunoffGeneratingGWPerc.tbl) returning default value: 0.1\n"
       ]
      },
      {
       "output_type": "stream",
       "stream": "stderr",
       "text": [
        "2014-10-15 21:11:17,416 - model - WARNING - tbl file not found (/home/jaap/repos/wflow/examples/wflow_rhine_sbm/intbl/RunoffGeneratingGWPerc.tbl) returning default value: 0.1\n"
       ]
      },
      {
       "output_type": "stream",
       "stream": "stderr",
       "text": [
        "2014-10-15 21:11:17,416 - model - WARNING - tbl file not found (/home/jaap/repos/wflow/examples/wflow_rhine_sbm/intbl/RunoffGeneratingGWPerc.tbl) returning default value: 0.1\n"
       ]
      },
      {
       "output_type": "stream",
       "stream": "stderr",
       "text": [
        "2014-10-15 21:11:17,416 - model - WARNING - tbl file not found (/home/jaap/repos/wflow/examples/wflow_rhine_sbm/intbl/RunoffGeneratingGWPerc.tbl) returning default value: 0.1\n"
       ]
      },
      {
       "output_type": "stream",
       "stream": "stderr",
       "text": [
        "2014-10-15 21:11:17,416 - model - WARNING - tbl file not found (/home/jaap/repos/wflow/examples/wflow_rhine_sbm/intbl/RunoffGeneratingGWPerc.tbl) returning default value: 0.1\n"
       ]
      },
      {
       "output_type": "stream",
       "stream": "stderr",
       "text": [
        "2014-10-15 21:11:17,416 - model - WARNING - tbl file not found (/home/jaap/repos/wflow/examples/wflow_rhine_sbm/intbl/RunoffGeneratingGWPerc.tbl) returning default value: 0.1\n"
       ]
      },
      {
       "output_type": "stream",
       "stream": "stderr",
       "text": [
        "2014-10-15 21:11:17,416 - model - WARNING - tbl file not found (/home/jaap/repos/wflow/examples/wflow_rhine_sbm/intbl/RunoffGeneratingGWPerc.tbl) returning default value: 0.1\n"
       ]
      },
      {
       "output_type": "stream",
       "stream": "stderr",
       "text": [
        "2014-10-15 21:11:17,416 - model - WARNING - tbl file not found (/home/jaap/repos/wflow/examples/wflow_rhine_sbm/intbl/RunoffGeneratingGWPerc.tbl) returning default value: 0.1\n"
       ]
      },
      {
       "output_type": "stream",
       "stream": "stderr",
       "text": [
        "2014-10-15 21:11:17,416 - model - WARNING - tbl file not found (/home/jaap/repos/wflow/examples/wflow_rhine_sbm/intbl/RunoffGeneratingGWPerc.tbl) returning default value: 0.1\n"
       ]
      },
      {
       "output_type": "stream",
       "stream": "stderr",
       "text": [
        "2014-10-15 21:11:17,416 - model - WARNING - tbl file not found (/home/jaap/repos/wflow/examples/wflow_rhine_sbm/intbl/RunoffGeneratingGWPerc.tbl) returning default value: 0.1\n"
       ]
      },
      {
       "output_type": "stream",
       "stream": "stderr",
       "text": [
        "2014-10-15 21:11:17,416 - model - WARNING - tbl file not found (/home/jaap/repos/wflow/examples/wflow_rhine_sbm/intbl/RunoffGeneratingGWPerc.tbl) returning default value: 0.1\n"
       ]
      },
      {
       "output_type": "stream",
       "stream": "stderr",
       "text": [
        "2014-10-15 21:11:17,416 - model - WARNING - tbl file not found (/home/jaap/repos/wflow/examples/wflow_rhine_sbm/intbl/RunoffGeneratingGWPerc.tbl) returning default value: 0.1\n"
       ]
      },
      {
       "output_type": "stream",
       "stream": "stderr",
       "text": [
        "WARNING:model:tbl file not found (/home/jaap/repos/wflow/examples/wflow_rhine_sbm/intbl/RunoffGeneratingGWPerc.tbl) returning default value: 0.1\n"
       ]
      },
      {
       "output_type": "stream",
       "stream": "stderr",
       "text": [
        "2014-10-15 21:11:17,425 - model - INFO - Creating map from table: /home/jaap/repos/wflow/examples/wflow_rhine_sbm/intbl/MaxCanopyStorage.tbl\n"
       ]
      },
      {
       "output_type": "stream",
       "stream": "stderr",
       "text": [
        "2014-10-15 21:11:17,425 - model - INFO - Creating map from table: /home/jaap/repos/wflow/examples/wflow_rhine_sbm/intbl/MaxCanopyStorage.tbl\n"
       ]
      },
      {
       "output_type": "stream",
       "stream": "stderr",
       "text": [
        "2014-10-15 21:11:17,425 - model - INFO - Creating map from table: /home/jaap/repos/wflow/examples/wflow_rhine_sbm/intbl/MaxCanopyStorage.tbl\n"
       ]
      },
      {
       "output_type": "stream",
       "stream": "stderr",
       "text": [
        "2014-10-15 21:11:17,425 - model - INFO - Creating map from table: /home/jaap/repos/wflow/examples/wflow_rhine_sbm/intbl/MaxCanopyStorage.tbl\n"
       ]
      },
      {
       "output_type": "stream",
       "stream": "stderr",
       "text": [
        "2014-10-15 21:11:17,425 - model - INFO - Creating map from table: /home/jaap/repos/wflow/examples/wflow_rhine_sbm/intbl/MaxCanopyStorage.tbl\n"
       ]
      },
      {
       "output_type": "stream",
       "stream": "stderr",
       "text": [
        "2014-10-15 21:11:17,425 - model - INFO - Creating map from table: /home/jaap/repos/wflow/examples/wflow_rhine_sbm/intbl/MaxCanopyStorage.tbl\n"
       ]
      },
      {
       "output_type": "stream",
       "stream": "stderr",
       "text": [
        "2014-10-15 21:11:17,425 - model - INFO - Creating map from table: /home/jaap/repos/wflow/examples/wflow_rhine_sbm/intbl/MaxCanopyStorage.tbl\n"
       ]
      },
      {
       "output_type": "stream",
       "stream": "stderr",
       "text": [
        "2014-10-15 21:11:17,425 - model - INFO - Creating map from table: /home/jaap/repos/wflow/examples/wflow_rhine_sbm/intbl/MaxCanopyStorage.tbl\n"
       ]
      },
      {
       "output_type": "stream",
       "stream": "stderr",
       "text": [
        "2014-10-15 21:11:17,425 - model - INFO - Creating map from table: /home/jaap/repos/wflow/examples/wflow_rhine_sbm/intbl/MaxCanopyStorage.tbl\n"
       ]
      },
      {
       "output_type": "stream",
       "stream": "stderr",
       "text": [
        "2014-10-15 21:11:17,425 - model - INFO - Creating map from table: /home/jaap/repos/wflow/examples/wflow_rhine_sbm/intbl/MaxCanopyStorage.tbl\n"
       ]
      },
      {
       "output_type": "stream",
       "stream": "stderr",
       "text": [
        "2014-10-15 21:11:17,425 - model - INFO - Creating map from table: /home/jaap/repos/wflow/examples/wflow_rhine_sbm/intbl/MaxCanopyStorage.tbl\n"
       ]
      },
      {
       "output_type": "stream",
       "stream": "stderr",
       "text": [
        "2014-10-15 21:11:17,425 - model - INFO - Creating map from table: /home/jaap/repos/wflow/examples/wflow_rhine_sbm/intbl/MaxCanopyStorage.tbl\n"
       ]
      },
      {
       "output_type": "stream",
       "stream": "stderr",
       "text": [
        "INFO:model:Creating map from table: /home/jaap/repos/wflow/examples/wflow_rhine_sbm/intbl/MaxCanopyStorage.tbl\n"
       ]
      },
      {
       "output_type": "stream",
       "stream": "stderr",
       "text": [
        "2014-10-15 21:11:17,431 - model - INFO - Creating map from table: /home/jaap/repos/wflow/examples/wflow_rhine_sbm/intbl/EoverR.tbl\n"
       ]
      },
      {
       "output_type": "stream",
       "stream": "stderr",
       "text": [
        "2014-10-15 21:11:17,431 - model - INFO - Creating map from table: /home/jaap/repos/wflow/examples/wflow_rhine_sbm/intbl/EoverR.tbl\n"
       ]
      },
      {
       "output_type": "stream",
       "stream": "stderr",
       "text": [
        "2014-10-15 21:11:17,431 - model - INFO - Creating map from table: /home/jaap/repos/wflow/examples/wflow_rhine_sbm/intbl/EoverR.tbl\n"
       ]
      },
      {
       "output_type": "stream",
       "stream": "stderr",
       "text": [
        "2014-10-15 21:11:17,431 - model - INFO - Creating map from table: /home/jaap/repos/wflow/examples/wflow_rhine_sbm/intbl/EoverR.tbl\n"
       ]
      },
      {
       "output_type": "stream",
       "stream": "stderr",
       "text": [
        "2014-10-15 21:11:17,431 - model - INFO - Creating map from table: /home/jaap/repos/wflow/examples/wflow_rhine_sbm/intbl/EoverR.tbl\n"
       ]
      },
      {
       "output_type": "stream",
       "stream": "stderr",
       "text": [
        "2014-10-15 21:11:17,431 - model - INFO - Creating map from table: /home/jaap/repos/wflow/examples/wflow_rhine_sbm/intbl/EoverR.tbl\n"
       ]
      },
      {
       "output_type": "stream",
       "stream": "stderr",
       "text": [
        "2014-10-15 21:11:17,431 - model - INFO - Creating map from table: /home/jaap/repos/wflow/examples/wflow_rhine_sbm/intbl/EoverR.tbl\n"
       ]
      },
      {
       "output_type": "stream",
       "stream": "stderr",
       "text": [
        "2014-10-15 21:11:17,431 - model - INFO - Creating map from table: /home/jaap/repos/wflow/examples/wflow_rhine_sbm/intbl/EoverR.tbl\n"
       ]
      },
      {
       "output_type": "stream",
       "stream": "stderr",
       "text": [
        "2014-10-15 21:11:17,431 - model - INFO - Creating map from table: /home/jaap/repos/wflow/examples/wflow_rhine_sbm/intbl/EoverR.tbl\n"
       ]
      },
      {
       "output_type": "stream",
       "stream": "stderr",
       "text": [
        "2014-10-15 21:11:17,431 - model - INFO - Creating map from table: /home/jaap/repos/wflow/examples/wflow_rhine_sbm/intbl/EoverR.tbl\n"
       ]
      },
      {
       "output_type": "stream",
       "stream": "stderr",
       "text": [
        "2014-10-15 21:11:17,431 - model - INFO - Creating map from table: /home/jaap/repos/wflow/examples/wflow_rhine_sbm/intbl/EoverR.tbl\n"
       ]
      },
      {
       "output_type": "stream",
       "stream": "stderr",
       "text": [
        "2014-10-15 21:11:17,431 - model - INFO - Creating map from table: /home/jaap/repos/wflow/examples/wflow_rhine_sbm/intbl/EoverR.tbl\n"
       ]
      },
      {
       "output_type": "stream",
       "stream": "stderr",
       "text": [
        "INFO:model:Creating map from table: /home/jaap/repos/wflow/examples/wflow_rhine_sbm/intbl/EoverR.tbl\n"
       ]
      },
      {
       "output_type": "stream",
       "stream": "stderr",
       "text": [
        "2014-10-15 21:11:17,438 - model - INFO - Creating map from table: /home/jaap/repos/wflow/examples/wflow_rhine_sbm/intbl/CanopyGapFraction.tbl\n"
       ]
      },
      {
       "output_type": "stream",
       "stream": "stderr",
       "text": [
        "2014-10-15 21:11:17,438 - model - INFO - Creating map from table: /home/jaap/repos/wflow/examples/wflow_rhine_sbm/intbl/CanopyGapFraction.tbl\n"
       ]
      },
      {
       "output_type": "stream",
       "stream": "stderr",
       "text": [
        "2014-10-15 21:11:17,438 - model - INFO - Creating map from table: /home/jaap/repos/wflow/examples/wflow_rhine_sbm/intbl/CanopyGapFraction.tbl\n"
       ]
      },
      {
       "output_type": "stream",
       "stream": "stderr",
       "text": [
        "2014-10-15 21:11:17,438 - model - INFO - Creating map from table: /home/jaap/repos/wflow/examples/wflow_rhine_sbm/intbl/CanopyGapFraction.tbl\n"
       ]
      },
      {
       "output_type": "stream",
       "stream": "stderr",
       "text": [
        "2014-10-15 21:11:17,438 - model - INFO - Creating map from table: /home/jaap/repos/wflow/examples/wflow_rhine_sbm/intbl/CanopyGapFraction.tbl\n"
       ]
      },
      {
       "output_type": "stream",
       "stream": "stderr",
       "text": [
        "2014-10-15 21:11:17,438 - model - INFO - Creating map from table: /home/jaap/repos/wflow/examples/wflow_rhine_sbm/intbl/CanopyGapFraction.tbl\n"
       ]
      },
      {
       "output_type": "stream",
       "stream": "stderr",
       "text": [
        "2014-10-15 21:11:17,438 - model - INFO - Creating map from table: /home/jaap/repos/wflow/examples/wflow_rhine_sbm/intbl/CanopyGapFraction.tbl\n"
       ]
      },
      {
       "output_type": "stream",
       "stream": "stderr",
       "text": [
        "2014-10-15 21:11:17,438 - model - INFO - Creating map from table: /home/jaap/repos/wflow/examples/wflow_rhine_sbm/intbl/CanopyGapFraction.tbl\n"
       ]
      },
      {
       "output_type": "stream",
       "stream": "stderr",
       "text": [
        "2014-10-15 21:11:17,438 - model - INFO - Creating map from table: /home/jaap/repos/wflow/examples/wflow_rhine_sbm/intbl/CanopyGapFraction.tbl\n"
       ]
      },
      {
       "output_type": "stream",
       "stream": "stderr",
       "text": [
        "2014-10-15 21:11:17,438 - model - INFO - Creating map from table: /home/jaap/repos/wflow/examples/wflow_rhine_sbm/intbl/CanopyGapFraction.tbl\n"
       ]
      },
      {
       "output_type": "stream",
       "stream": "stderr",
       "text": [
        "2014-10-15 21:11:17,438 - model - INFO - Creating map from table: /home/jaap/repos/wflow/examples/wflow_rhine_sbm/intbl/CanopyGapFraction.tbl\n"
       ]
      },
      {
       "output_type": "stream",
       "stream": "stderr",
       "text": [
        "2014-10-15 21:11:17,438 - model - INFO - Creating map from table: /home/jaap/repos/wflow/examples/wflow_rhine_sbm/intbl/CanopyGapFraction.tbl\n"
       ]
      },
      {
       "output_type": "stream",
       "stream": "stderr",
       "text": [
        "INFO:model:Creating map from table: /home/jaap/repos/wflow/examples/wflow_rhine_sbm/intbl/CanopyGapFraction.tbl\n"
       ]
      },
      {
       "output_type": "stream",
       "stream": "stderr",
       "text": [
        "2014-10-15 21:11:17,449 - model - INFO - Creating map from table: /home/jaap/repos/wflow/examples/wflow_rhine_sbm/intbl/RootingDepth.tbl\n"
       ]
      },
      {
       "output_type": "stream",
       "stream": "stderr",
       "text": [
        "2014-10-15 21:11:17,449 - model - INFO - Creating map from table: /home/jaap/repos/wflow/examples/wflow_rhine_sbm/intbl/RootingDepth.tbl\n"
       ]
      },
      {
       "output_type": "stream",
       "stream": "stderr",
       "text": [
        "2014-10-15 21:11:17,449 - model - INFO - Creating map from table: /home/jaap/repos/wflow/examples/wflow_rhine_sbm/intbl/RootingDepth.tbl\n"
       ]
      },
      {
       "output_type": "stream",
       "stream": "stderr",
       "text": [
        "2014-10-15 21:11:17,449 - model - INFO - Creating map from table: /home/jaap/repos/wflow/examples/wflow_rhine_sbm/intbl/RootingDepth.tbl\n"
       ]
      },
      {
       "output_type": "stream",
       "stream": "stderr",
       "text": [
        "2014-10-15 21:11:17,449 - model - INFO - Creating map from table: /home/jaap/repos/wflow/examples/wflow_rhine_sbm/intbl/RootingDepth.tbl\n"
       ]
      },
      {
       "output_type": "stream",
       "stream": "stderr",
       "text": [
        "2014-10-15 21:11:17,449 - model - INFO - Creating map from table: /home/jaap/repos/wflow/examples/wflow_rhine_sbm/intbl/RootingDepth.tbl\n"
       ]
      },
      {
       "output_type": "stream",
       "stream": "stderr",
       "text": [
        "2014-10-15 21:11:17,449 - model - INFO - Creating map from table: /home/jaap/repos/wflow/examples/wflow_rhine_sbm/intbl/RootingDepth.tbl\n"
       ]
      },
      {
       "output_type": "stream",
       "stream": "stderr",
       "text": [
        "2014-10-15 21:11:17,449 - model - INFO - Creating map from table: /home/jaap/repos/wflow/examples/wflow_rhine_sbm/intbl/RootingDepth.tbl\n"
       ]
      },
      {
       "output_type": "stream",
       "stream": "stderr",
       "text": [
        "2014-10-15 21:11:17,449 - model - INFO - Creating map from table: /home/jaap/repos/wflow/examples/wflow_rhine_sbm/intbl/RootingDepth.tbl\n"
       ]
      },
      {
       "output_type": "stream",
       "stream": "stderr",
       "text": [
        "2014-10-15 21:11:17,449 - model - INFO - Creating map from table: /home/jaap/repos/wflow/examples/wflow_rhine_sbm/intbl/RootingDepth.tbl\n"
       ]
      },
      {
       "output_type": "stream",
       "stream": "stderr",
       "text": [
        "2014-10-15 21:11:17,449 - model - INFO - Creating map from table: /home/jaap/repos/wflow/examples/wflow_rhine_sbm/intbl/RootingDepth.tbl\n"
       ]
      },
      {
       "output_type": "stream",
       "stream": "stderr",
       "text": [
        "2014-10-15 21:11:17,449 - model - INFO - Creating map from table: /home/jaap/repos/wflow/examples/wflow_rhine_sbm/intbl/RootingDepth.tbl\n"
       ]
      },
      {
       "output_type": "stream",
       "stream": "stderr",
       "text": [
        "INFO:model:Creating map from table: /home/jaap/repos/wflow/examples/wflow_rhine_sbm/intbl/RootingDepth.tbl\n"
       ]
      },
      {
       "output_type": "stream",
       "stream": "stderr",
       "text": [
        "2014-10-15 21:11:17,456 - model - WARNING - tbl file not found (/home/jaap/repos/wflow/examples/wflow_rhine_sbm/intbl/rootdistpar.tbl) returning default value: -8000\n"
       ]
      },
      {
       "output_type": "stream",
       "stream": "stderr",
       "text": [
        "2014-10-15 21:11:17,456 - model - WARNING - tbl file not found (/home/jaap/repos/wflow/examples/wflow_rhine_sbm/intbl/rootdistpar.tbl) returning default value: -8000\n"
       ]
      },
      {
       "output_type": "stream",
       "stream": "stderr",
       "text": [
        "2014-10-15 21:11:17,456 - model - WARNING - tbl file not found (/home/jaap/repos/wflow/examples/wflow_rhine_sbm/intbl/rootdistpar.tbl) returning default value: -8000\n"
       ]
      },
      {
       "output_type": "stream",
       "stream": "stderr",
       "text": [
        "2014-10-15 21:11:17,456 - model - WARNING - tbl file not found (/home/jaap/repos/wflow/examples/wflow_rhine_sbm/intbl/rootdistpar.tbl) returning default value: -8000\n"
       ]
      },
      {
       "output_type": "stream",
       "stream": "stderr",
       "text": [
        "2014-10-15 21:11:17,456 - model - WARNING - tbl file not found (/home/jaap/repos/wflow/examples/wflow_rhine_sbm/intbl/rootdistpar.tbl) returning default value: -8000\n"
       ]
      },
      {
       "output_type": "stream",
       "stream": "stderr",
       "text": [
        "2014-10-15 21:11:17,456 - model - WARNING - tbl file not found (/home/jaap/repos/wflow/examples/wflow_rhine_sbm/intbl/rootdistpar.tbl) returning default value: -8000\n"
       ]
      },
      {
       "output_type": "stream",
       "stream": "stderr",
       "text": [
        "2014-10-15 21:11:17,456 - model - WARNING - tbl file not found (/home/jaap/repos/wflow/examples/wflow_rhine_sbm/intbl/rootdistpar.tbl) returning default value: -8000\n"
       ]
      },
      {
       "output_type": "stream",
       "stream": "stderr",
       "text": [
        "2014-10-15 21:11:17,456 - model - WARNING - tbl file not found (/home/jaap/repos/wflow/examples/wflow_rhine_sbm/intbl/rootdistpar.tbl) returning default value: -8000\n"
       ]
      },
      {
       "output_type": "stream",
       "stream": "stderr",
       "text": [
        "2014-10-15 21:11:17,456 - model - WARNING - tbl file not found (/home/jaap/repos/wflow/examples/wflow_rhine_sbm/intbl/rootdistpar.tbl) returning default value: -8000\n"
       ]
      },
      {
       "output_type": "stream",
       "stream": "stderr",
       "text": [
        "2014-10-15 21:11:17,456 - model - WARNING - tbl file not found (/home/jaap/repos/wflow/examples/wflow_rhine_sbm/intbl/rootdistpar.tbl) returning default value: -8000\n"
       ]
      },
      {
       "output_type": "stream",
       "stream": "stderr",
       "text": [
        "2014-10-15 21:11:17,456 - model - WARNING - tbl file not found (/home/jaap/repos/wflow/examples/wflow_rhine_sbm/intbl/rootdistpar.tbl) returning default value: -8000\n"
       ]
      },
      {
       "output_type": "stream",
       "stream": "stderr",
       "text": [
        "2014-10-15 21:11:17,456 - model - WARNING - tbl file not found (/home/jaap/repos/wflow/examples/wflow_rhine_sbm/intbl/rootdistpar.tbl) returning default value: -8000\n"
       ]
      },
      {
       "output_type": "stream",
       "stream": "stderr",
       "text": [
        "WARNING:model:tbl file not found (/home/jaap/repos/wflow/examples/wflow_rhine_sbm/intbl/rootdistpar.tbl) returning default value: -8000\n"
       ]
      },
      {
       "output_type": "stream",
       "stream": "stderr",
       "text": [
        "2014-10-15 21:11:17,467 - model - INFO - Creating map from table: /home/jaap/repos/wflow/examples/wflow_rhine_sbm/intbl/InfiltCapSoil.tbl\n"
       ]
      },
      {
       "output_type": "stream",
       "stream": "stderr",
       "text": [
        "2014-10-15 21:11:17,467 - model - INFO - Creating map from table: /home/jaap/repos/wflow/examples/wflow_rhine_sbm/intbl/InfiltCapSoil.tbl\n"
       ]
      },
      {
       "output_type": "stream",
       "stream": "stderr",
       "text": [
        "2014-10-15 21:11:17,467 - model - INFO - Creating map from table: /home/jaap/repos/wflow/examples/wflow_rhine_sbm/intbl/InfiltCapSoil.tbl\n"
       ]
      },
      {
       "output_type": "stream",
       "stream": "stderr",
       "text": [
        "2014-10-15 21:11:17,467 - model - INFO - Creating map from table: /home/jaap/repos/wflow/examples/wflow_rhine_sbm/intbl/InfiltCapSoil.tbl\n"
       ]
      },
      {
       "output_type": "stream",
       "stream": "stderr",
       "text": [
        "2014-10-15 21:11:17,467 - model - INFO - Creating map from table: /home/jaap/repos/wflow/examples/wflow_rhine_sbm/intbl/InfiltCapSoil.tbl\n"
       ]
      },
      {
       "output_type": "stream",
       "stream": "stderr",
       "text": [
        "2014-10-15 21:11:17,467 - model - INFO - Creating map from table: /home/jaap/repos/wflow/examples/wflow_rhine_sbm/intbl/InfiltCapSoil.tbl\n"
       ]
      },
      {
       "output_type": "stream",
       "stream": "stderr",
       "text": [
        "2014-10-15 21:11:17,467 - model - INFO - Creating map from table: /home/jaap/repos/wflow/examples/wflow_rhine_sbm/intbl/InfiltCapSoil.tbl\n"
       ]
      },
      {
       "output_type": "stream",
       "stream": "stderr",
       "text": [
        "2014-10-15 21:11:17,467 - model - INFO - Creating map from table: /home/jaap/repos/wflow/examples/wflow_rhine_sbm/intbl/InfiltCapSoil.tbl\n"
       ]
      },
      {
       "output_type": "stream",
       "stream": "stderr",
       "text": [
        "2014-10-15 21:11:17,467 - model - INFO - Creating map from table: /home/jaap/repos/wflow/examples/wflow_rhine_sbm/intbl/InfiltCapSoil.tbl\n"
       ]
      },
      {
       "output_type": "stream",
       "stream": "stderr",
       "text": [
        "2014-10-15 21:11:17,467 - model - INFO - Creating map from table: /home/jaap/repos/wflow/examples/wflow_rhine_sbm/intbl/InfiltCapSoil.tbl\n"
       ]
      },
      {
       "output_type": "stream",
       "stream": "stderr",
       "text": [
        "2014-10-15 21:11:17,467 - model - INFO - Creating map from table: /home/jaap/repos/wflow/examples/wflow_rhine_sbm/intbl/InfiltCapSoil.tbl\n"
       ]
      },
      {
       "output_type": "stream",
       "stream": "stderr",
       "text": [
        "2014-10-15 21:11:17,467 - model - INFO - Creating map from table: /home/jaap/repos/wflow/examples/wflow_rhine_sbm/intbl/InfiltCapSoil.tbl\n"
       ]
      },
      {
       "output_type": "stream",
       "stream": "stderr",
       "text": [
        "INFO:model:Creating map from table: /home/jaap/repos/wflow/examples/wflow_rhine_sbm/intbl/InfiltCapSoil.tbl\n"
       ]
      },
      {
       "output_type": "stream",
       "stream": "stderr",
       "text": [
        "2014-10-15 21:11:17,473 - model - WARNING - tbl file not found (/home/jaap/repos/wflow/examples/wflow_rhine_sbm/intbl/CapScale.tbl) returning default value: 100.0\n"
       ]
      },
      {
       "output_type": "stream",
       "stream": "stderr",
       "text": [
        "2014-10-15 21:11:17,473 - model - WARNING - tbl file not found (/home/jaap/repos/wflow/examples/wflow_rhine_sbm/intbl/CapScale.tbl) returning default value: 100.0\n"
       ]
      },
      {
       "output_type": "stream",
       "stream": "stderr",
       "text": [
        "2014-10-15 21:11:17,473 - model - WARNING - tbl file not found (/home/jaap/repos/wflow/examples/wflow_rhine_sbm/intbl/CapScale.tbl) returning default value: 100.0\n"
       ]
      },
      {
       "output_type": "stream",
       "stream": "stderr",
       "text": [
        "2014-10-15 21:11:17,473 - model - WARNING - tbl file not found (/home/jaap/repos/wflow/examples/wflow_rhine_sbm/intbl/CapScale.tbl) returning default value: 100.0\n"
       ]
      },
      {
       "output_type": "stream",
       "stream": "stderr",
       "text": [
        "2014-10-15 21:11:17,473 - model - WARNING - tbl file not found (/home/jaap/repos/wflow/examples/wflow_rhine_sbm/intbl/CapScale.tbl) returning default value: 100.0\n"
       ]
      },
      {
       "output_type": "stream",
       "stream": "stderr",
       "text": [
        "2014-10-15 21:11:17,473 - model - WARNING - tbl file not found (/home/jaap/repos/wflow/examples/wflow_rhine_sbm/intbl/CapScale.tbl) returning default value: 100.0\n"
       ]
      },
      {
       "output_type": "stream",
       "stream": "stderr",
       "text": [
        "2014-10-15 21:11:17,473 - model - WARNING - tbl file not found (/home/jaap/repos/wflow/examples/wflow_rhine_sbm/intbl/CapScale.tbl) returning default value: 100.0\n"
       ]
      },
      {
       "output_type": "stream",
       "stream": "stderr",
       "text": [
        "2014-10-15 21:11:17,473 - model - WARNING - tbl file not found (/home/jaap/repos/wflow/examples/wflow_rhine_sbm/intbl/CapScale.tbl) returning default value: 100.0\n"
       ]
      },
      {
       "output_type": "stream",
       "stream": "stderr",
       "text": [
        "2014-10-15 21:11:17,473 - model - WARNING - tbl file not found (/home/jaap/repos/wflow/examples/wflow_rhine_sbm/intbl/CapScale.tbl) returning default value: 100.0\n"
       ]
      },
      {
       "output_type": "stream",
       "stream": "stderr",
       "text": [
        "2014-10-15 21:11:17,473 - model - WARNING - tbl file not found (/home/jaap/repos/wflow/examples/wflow_rhine_sbm/intbl/CapScale.tbl) returning default value: 100.0\n"
       ]
      },
      {
       "output_type": "stream",
       "stream": "stderr",
       "text": [
        "2014-10-15 21:11:17,473 - model - WARNING - tbl file not found (/home/jaap/repos/wflow/examples/wflow_rhine_sbm/intbl/CapScale.tbl) returning default value: 100.0\n"
       ]
      },
      {
       "output_type": "stream",
       "stream": "stderr",
       "text": [
        "2014-10-15 21:11:17,473 - model - WARNING - tbl file not found (/home/jaap/repos/wflow/examples/wflow_rhine_sbm/intbl/CapScale.tbl) returning default value: 100.0\n"
       ]
      },
      {
       "output_type": "stream",
       "stream": "stderr",
       "text": [
        "WARNING:model:tbl file not found (/home/jaap/repos/wflow/examples/wflow_rhine_sbm/intbl/CapScale.tbl) returning default value: 100.0\n"
       ]
      },
      {
       "output_type": "stream",
       "stream": "stderr",
       "text": [
        "2014-10-15 21:11:17,479 - model - WARNING - tbl file not found (/home/jaap/repos/wflow/examples/wflow_rhine_sbm/intbl/K4.tbl) returning default value: 0.02307\n"
       ]
      },
      {
       "output_type": "stream",
       "stream": "stderr",
       "text": [
        "2014-10-15 21:11:17,479 - model - WARNING - tbl file not found (/home/jaap/repos/wflow/examples/wflow_rhine_sbm/intbl/K4.tbl) returning default value: 0.02307\n"
       ]
      },
      {
       "output_type": "stream",
       "stream": "stderr",
       "text": [
        "2014-10-15 21:11:17,479 - model - WARNING - tbl file not found (/home/jaap/repos/wflow/examples/wflow_rhine_sbm/intbl/K4.tbl) returning default value: 0.02307\n"
       ]
      },
      {
       "output_type": "stream",
       "stream": "stderr",
       "text": [
        "2014-10-15 21:11:17,479 - model - WARNING - tbl file not found (/home/jaap/repos/wflow/examples/wflow_rhine_sbm/intbl/K4.tbl) returning default value: 0.02307\n"
       ]
      },
      {
       "output_type": "stream",
       "stream": "stderr",
       "text": [
        "2014-10-15 21:11:17,479 - model - WARNING - tbl file not found (/home/jaap/repos/wflow/examples/wflow_rhine_sbm/intbl/K4.tbl) returning default value: 0.02307\n"
       ]
      },
      {
       "output_type": "stream",
       "stream": "stderr",
       "text": [
        "2014-10-15 21:11:17,479 - model - WARNING - tbl file not found (/home/jaap/repos/wflow/examples/wflow_rhine_sbm/intbl/K4.tbl) returning default value: 0.02307\n"
       ]
      },
      {
       "output_type": "stream",
       "stream": "stderr",
       "text": [
        "2014-10-15 21:11:17,479 - model - WARNING - tbl file not found (/home/jaap/repos/wflow/examples/wflow_rhine_sbm/intbl/K4.tbl) returning default value: 0.02307\n"
       ]
      },
      {
       "output_type": "stream",
       "stream": "stderr",
       "text": [
        "2014-10-15 21:11:17,479 - model - WARNING - tbl file not found (/home/jaap/repos/wflow/examples/wflow_rhine_sbm/intbl/K4.tbl) returning default value: 0.02307\n"
       ]
      },
      {
       "output_type": "stream",
       "stream": "stderr",
       "text": [
        "2014-10-15 21:11:17,479 - model - WARNING - tbl file not found (/home/jaap/repos/wflow/examples/wflow_rhine_sbm/intbl/K4.tbl) returning default value: 0.02307\n"
       ]
      },
      {
       "output_type": "stream",
       "stream": "stderr",
       "text": [
        "2014-10-15 21:11:17,479 - model - WARNING - tbl file not found (/home/jaap/repos/wflow/examples/wflow_rhine_sbm/intbl/K4.tbl) returning default value: 0.02307\n"
       ]
      },
      {
       "output_type": "stream",
       "stream": "stderr",
       "text": [
        "2014-10-15 21:11:17,479 - model - WARNING - tbl file not found (/home/jaap/repos/wflow/examples/wflow_rhine_sbm/intbl/K4.tbl) returning default value: 0.02307\n"
       ]
      },
      {
       "output_type": "stream",
       "stream": "stderr",
       "text": [
        "2014-10-15 21:11:17,479 - model - WARNING - tbl file not found (/home/jaap/repos/wflow/examples/wflow_rhine_sbm/intbl/K4.tbl) returning default value: 0.02307\n"
       ]
      },
      {
       "output_type": "stream",
       "stream": "stderr",
       "text": [
        "WARNING:model:tbl file not found (/home/jaap/repos/wflow/examples/wflow_rhine_sbm/intbl/K4.tbl) returning default value: 0.02307\n"
       ]
      },
      {
       "output_type": "stream",
       "stream": "stderr",
       "text": [
        "2014-10-15 21:11:17,488 - model - INFO - Creating map from table: /home/jaap/repos/wflow/examples/wflow_rhine_sbm/intbl/InfiltCapPath.tbl\n"
       ]
      },
      {
       "output_type": "stream",
       "stream": "stderr",
       "text": [
        "2014-10-15 21:11:17,488 - model - INFO - Creating map from table: /home/jaap/repos/wflow/examples/wflow_rhine_sbm/intbl/InfiltCapPath.tbl\n"
       ]
      },
      {
       "output_type": "stream",
       "stream": "stderr",
       "text": [
        "2014-10-15 21:11:17,488 - model - INFO - Creating map from table: /home/jaap/repos/wflow/examples/wflow_rhine_sbm/intbl/InfiltCapPath.tbl\n"
       ]
      },
      {
       "output_type": "stream",
       "stream": "stderr",
       "text": [
        "2014-10-15 21:11:17,488 - model - INFO - Creating map from table: /home/jaap/repos/wflow/examples/wflow_rhine_sbm/intbl/InfiltCapPath.tbl\n"
       ]
      },
      {
       "output_type": "stream",
       "stream": "stderr",
       "text": [
        "2014-10-15 21:11:17,488 - model - INFO - Creating map from table: /home/jaap/repos/wflow/examples/wflow_rhine_sbm/intbl/InfiltCapPath.tbl\n"
       ]
      },
      {
       "output_type": "stream",
       "stream": "stderr",
       "text": [
        "2014-10-15 21:11:17,488 - model - INFO - Creating map from table: /home/jaap/repos/wflow/examples/wflow_rhine_sbm/intbl/InfiltCapPath.tbl\n"
       ]
      },
      {
       "output_type": "stream",
       "stream": "stderr",
       "text": [
        "2014-10-15 21:11:17,488 - model - INFO - Creating map from table: /home/jaap/repos/wflow/examples/wflow_rhine_sbm/intbl/InfiltCapPath.tbl\n"
       ]
      },
      {
       "output_type": "stream",
       "stream": "stderr",
       "text": [
        "2014-10-15 21:11:17,488 - model - INFO - Creating map from table: /home/jaap/repos/wflow/examples/wflow_rhine_sbm/intbl/InfiltCapPath.tbl\n"
       ]
      },
      {
       "output_type": "stream",
       "stream": "stderr",
       "text": [
        "2014-10-15 21:11:17,488 - model - INFO - Creating map from table: /home/jaap/repos/wflow/examples/wflow_rhine_sbm/intbl/InfiltCapPath.tbl\n"
       ]
      },
      {
       "output_type": "stream",
       "stream": "stderr",
       "text": [
        "2014-10-15 21:11:17,488 - model - INFO - Creating map from table: /home/jaap/repos/wflow/examples/wflow_rhine_sbm/intbl/InfiltCapPath.tbl\n"
       ]
      },
      {
       "output_type": "stream",
       "stream": "stderr",
       "text": [
        "2014-10-15 21:11:17,488 - model - INFO - Creating map from table: /home/jaap/repos/wflow/examples/wflow_rhine_sbm/intbl/InfiltCapPath.tbl\n"
       ]
      },
      {
       "output_type": "stream",
       "stream": "stderr",
       "text": [
        "2014-10-15 21:11:17,488 - model - INFO - Creating map from table: /home/jaap/repos/wflow/examples/wflow_rhine_sbm/intbl/InfiltCapPath.tbl\n"
       ]
      },
      {
       "output_type": "stream",
       "stream": "stderr",
       "text": [
        "INFO:model:Creating map from table: /home/jaap/repos/wflow/examples/wflow_rhine_sbm/intbl/InfiltCapPath.tbl\n"
       ]
      },
      {
       "output_type": "stream",
       "stream": "stderr",
       "text": [
        "2014-10-15 21:11:17,496 - model - INFO - Creating map from table: /home/jaap/repos/wflow/examples/wflow_rhine_sbm/intbl/MaxLeakage.tbl\n"
       ]
      },
      {
       "output_type": "stream",
       "stream": "stderr",
       "text": [
        "2014-10-15 21:11:17,496 - model - INFO - Creating map from table: /home/jaap/repos/wflow/examples/wflow_rhine_sbm/intbl/MaxLeakage.tbl\n"
       ]
      },
      {
       "output_type": "stream",
       "stream": "stderr",
       "text": [
        "2014-10-15 21:11:17,496 - model - INFO - Creating map from table: /home/jaap/repos/wflow/examples/wflow_rhine_sbm/intbl/MaxLeakage.tbl\n"
       ]
      },
      {
       "output_type": "stream",
       "stream": "stderr",
       "text": [
        "2014-10-15 21:11:17,496 - model - INFO - Creating map from table: /home/jaap/repos/wflow/examples/wflow_rhine_sbm/intbl/MaxLeakage.tbl\n"
       ]
      },
      {
       "output_type": "stream",
       "stream": "stderr",
       "text": [
        "2014-10-15 21:11:17,496 - model - INFO - Creating map from table: /home/jaap/repos/wflow/examples/wflow_rhine_sbm/intbl/MaxLeakage.tbl\n"
       ]
      },
      {
       "output_type": "stream",
       "stream": "stderr",
       "text": [
        "2014-10-15 21:11:17,496 - model - INFO - Creating map from table: /home/jaap/repos/wflow/examples/wflow_rhine_sbm/intbl/MaxLeakage.tbl\n"
       ]
      },
      {
       "output_type": "stream",
       "stream": "stderr",
       "text": [
        "2014-10-15 21:11:17,496 - model - INFO - Creating map from table: /home/jaap/repos/wflow/examples/wflow_rhine_sbm/intbl/MaxLeakage.tbl\n"
       ]
      },
      {
       "output_type": "stream",
       "stream": "stderr",
       "text": [
        "2014-10-15 21:11:17,496 - model - INFO - Creating map from table: /home/jaap/repos/wflow/examples/wflow_rhine_sbm/intbl/MaxLeakage.tbl\n"
       ]
      },
      {
       "output_type": "stream",
       "stream": "stderr",
       "text": [
        "2014-10-15 21:11:17,496 - model - INFO - Creating map from table: /home/jaap/repos/wflow/examples/wflow_rhine_sbm/intbl/MaxLeakage.tbl\n"
       ]
      },
      {
       "output_type": "stream",
       "stream": "stderr",
       "text": [
        "2014-10-15 21:11:17,496 - model - INFO - Creating map from table: /home/jaap/repos/wflow/examples/wflow_rhine_sbm/intbl/MaxLeakage.tbl\n"
       ]
      },
      {
       "output_type": "stream",
       "stream": "stderr",
       "text": [
        "2014-10-15 21:11:17,496 - model - INFO - Creating map from table: /home/jaap/repos/wflow/examples/wflow_rhine_sbm/intbl/MaxLeakage.tbl\n"
       ]
      },
      {
       "output_type": "stream",
       "stream": "stderr",
       "text": [
        "2014-10-15 21:11:17,496 - model - INFO - Creating map from table: /home/jaap/repos/wflow/examples/wflow_rhine_sbm/intbl/MaxLeakage.tbl\n"
       ]
      },
      {
       "output_type": "stream",
       "stream": "stderr",
       "text": [
        "INFO:model:Creating map from table: /home/jaap/repos/wflow/examples/wflow_rhine_sbm/intbl/MaxLeakage.tbl\n"
       ]
      },
      {
       "output_type": "stream",
       "stream": "stderr",
       "text": [
        "2014-10-15 21:11:17,503 - model - WARNING - tbl file not found (/home/jaap/repos/wflow/examples/wflow_rhine_sbm/intbl/MaxPercolation.tbl) returning default value: 0.0\n"
       ]
      },
      {
       "output_type": "stream",
       "stream": "stderr",
       "text": [
        "2014-10-15 21:11:17,503 - model - WARNING - tbl file not found (/home/jaap/repos/wflow/examples/wflow_rhine_sbm/intbl/MaxPercolation.tbl) returning default value: 0.0\n"
       ]
      },
      {
       "output_type": "stream",
       "stream": "stderr",
       "text": [
        "2014-10-15 21:11:17,503 - model - WARNING - tbl file not found (/home/jaap/repos/wflow/examples/wflow_rhine_sbm/intbl/MaxPercolation.tbl) returning default value: 0.0\n"
       ]
      },
      {
       "output_type": "stream",
       "stream": "stderr",
       "text": [
        "2014-10-15 21:11:17,503 - model - WARNING - tbl file not found (/home/jaap/repos/wflow/examples/wflow_rhine_sbm/intbl/MaxPercolation.tbl) returning default value: 0.0\n"
       ]
      },
      {
       "output_type": "stream",
       "stream": "stderr",
       "text": [
        "2014-10-15 21:11:17,503 - model - WARNING - tbl file not found (/home/jaap/repos/wflow/examples/wflow_rhine_sbm/intbl/MaxPercolation.tbl) returning default value: 0.0\n"
       ]
      },
      {
       "output_type": "stream",
       "stream": "stderr",
       "text": [
        "2014-10-15 21:11:17,503 - model - WARNING - tbl file not found (/home/jaap/repos/wflow/examples/wflow_rhine_sbm/intbl/MaxPercolation.tbl) returning default value: 0.0\n"
       ]
      },
      {
       "output_type": "stream",
       "stream": "stderr",
       "text": [
        "2014-10-15 21:11:17,503 - model - WARNING - tbl file not found (/home/jaap/repos/wflow/examples/wflow_rhine_sbm/intbl/MaxPercolation.tbl) returning default value: 0.0\n"
       ]
      },
      {
       "output_type": "stream",
       "stream": "stderr",
       "text": [
        "2014-10-15 21:11:17,503 - model - WARNING - tbl file not found (/home/jaap/repos/wflow/examples/wflow_rhine_sbm/intbl/MaxPercolation.tbl) returning default value: 0.0\n"
       ]
      },
      {
       "output_type": "stream",
       "stream": "stderr",
       "text": [
        "2014-10-15 21:11:17,503 - model - WARNING - tbl file not found (/home/jaap/repos/wflow/examples/wflow_rhine_sbm/intbl/MaxPercolation.tbl) returning default value: 0.0\n"
       ]
      },
      {
       "output_type": "stream",
       "stream": "stderr",
       "text": [
        "2014-10-15 21:11:17,503 - model - WARNING - tbl file not found (/home/jaap/repos/wflow/examples/wflow_rhine_sbm/intbl/MaxPercolation.tbl) returning default value: 0.0\n"
       ]
      },
      {
       "output_type": "stream",
       "stream": "stderr",
       "text": [
        "2014-10-15 21:11:17,503 - model - WARNING - tbl file not found (/home/jaap/repos/wflow/examples/wflow_rhine_sbm/intbl/MaxPercolation.tbl) returning default value: 0.0\n"
       ]
      },
      {
       "output_type": "stream",
       "stream": "stderr",
       "text": [
        "2014-10-15 21:11:17,503 - model - WARNING - tbl file not found (/home/jaap/repos/wflow/examples/wflow_rhine_sbm/intbl/MaxPercolation.tbl) returning default value: 0.0\n"
       ]
      },
      {
       "output_type": "stream",
       "stream": "stderr",
       "text": [
        "WARNING:model:tbl file not found (/home/jaap/repos/wflow/examples/wflow_rhine_sbm/intbl/MaxPercolation.tbl) returning default value: 0.0\n"
       ]
      },
      {
       "output_type": "stream",
       "stream": "stderr",
       "text": [
        "2014-10-15 21:11:17,509 - model - INFO - Disabling HBV Type lower zone\n"
       ]
      },
      {
       "output_type": "stream",
       "stream": "stderr",
       "text": [
        "2014-10-15 21:11:17,509 - model - INFO - Disabling HBV Type lower zone\n"
       ]
      },
      {
       "output_type": "stream",
       "stream": "stderr",
       "text": [
        "2014-10-15 21:11:17,509 - model - INFO - Disabling HBV Type lower zone\n"
       ]
      },
      {
       "output_type": "stream",
       "stream": "stderr",
       "text": [
        "2014-10-15 21:11:17,509 - model - INFO - Disabling HBV Type lower zone\n"
       ]
      },
      {
       "output_type": "stream",
       "stream": "stderr",
       "text": [
        "2014-10-15 21:11:17,509 - model - INFO - Disabling HBV Type lower zone\n"
       ]
      },
      {
       "output_type": "stream",
       "stream": "stderr",
       "text": [
        "2014-10-15 21:11:17,509 - model - INFO - Disabling HBV Type lower zone\n"
       ]
      },
      {
       "output_type": "stream",
       "stream": "stderr",
       "text": [
        "2014-10-15 21:11:17,509 - model - INFO - Disabling HBV Type lower zone\n"
       ]
      },
      {
       "output_type": "stream",
       "stream": "stderr",
       "text": [
        "2014-10-15 21:11:17,509 - model - INFO - Disabling HBV Type lower zone\n"
       ]
      },
      {
       "output_type": "stream",
       "stream": "stderr",
       "text": [
        "2014-10-15 21:11:17,509 - model - INFO - Disabling HBV Type lower zone\n"
       ]
      },
      {
       "output_type": "stream",
       "stream": "stderr",
       "text": [
        "2014-10-15 21:11:17,509 - model - INFO - Disabling HBV Type lower zone\n"
       ]
      },
      {
       "output_type": "stream",
       "stream": "stderr",
       "text": [
        "2014-10-15 21:11:17,509 - model - INFO - Disabling HBV Type lower zone\n"
       ]
      },
      {
       "output_type": "stream",
       "stream": "stderr",
       "text": [
        "2014-10-15 21:11:17,509 - model - INFO - Disabling HBV Type lower zone\n"
       ]
      },
      {
       "output_type": "stream",
       "stream": "stderr",
       "text": [
        "INFO:model:Disabling HBV Type lower zone\n"
       ]
      },
      {
       "output_type": "stream",
       "stream": "stderr",
       "text": [
        "2014-10-15 21:11:17,518 - model - INFO - Creating map from table: /home/jaap/repos/wflow/examples/wflow_rhine_sbm/intbl/PathFrac.tbl\n"
       ]
      },
      {
       "output_type": "stream",
       "stream": "stderr",
       "text": [
        "2014-10-15 21:11:17,518 - model - INFO - Creating map from table: /home/jaap/repos/wflow/examples/wflow_rhine_sbm/intbl/PathFrac.tbl\n"
       ]
      },
      {
       "output_type": "stream",
       "stream": "stderr",
       "text": [
        "2014-10-15 21:11:17,518 - model - INFO - Creating map from table: /home/jaap/repos/wflow/examples/wflow_rhine_sbm/intbl/PathFrac.tbl\n"
       ]
      },
      {
       "output_type": "stream",
       "stream": "stderr",
       "text": [
        "2014-10-15 21:11:17,518 - model - INFO - Creating map from table: /home/jaap/repos/wflow/examples/wflow_rhine_sbm/intbl/PathFrac.tbl\n"
       ]
      },
      {
       "output_type": "stream",
       "stream": "stderr",
       "text": [
        "2014-10-15 21:11:17,518 - model - INFO - Creating map from table: /home/jaap/repos/wflow/examples/wflow_rhine_sbm/intbl/PathFrac.tbl\n"
       ]
      },
      {
       "output_type": "stream",
       "stream": "stderr",
       "text": [
        "2014-10-15 21:11:17,518 - model - INFO - Creating map from table: /home/jaap/repos/wflow/examples/wflow_rhine_sbm/intbl/PathFrac.tbl\n"
       ]
      },
      {
       "output_type": "stream",
       "stream": "stderr",
       "text": [
        "2014-10-15 21:11:17,518 - model - INFO - Creating map from table: /home/jaap/repos/wflow/examples/wflow_rhine_sbm/intbl/PathFrac.tbl\n"
       ]
      },
      {
       "output_type": "stream",
       "stream": "stderr",
       "text": [
        "2014-10-15 21:11:17,518 - model - INFO - Creating map from table: /home/jaap/repos/wflow/examples/wflow_rhine_sbm/intbl/PathFrac.tbl\n"
       ]
      },
      {
       "output_type": "stream",
       "stream": "stderr",
       "text": [
        "2014-10-15 21:11:17,518 - model - INFO - Creating map from table: /home/jaap/repos/wflow/examples/wflow_rhine_sbm/intbl/PathFrac.tbl\n"
       ]
      },
      {
       "output_type": "stream",
       "stream": "stderr",
       "text": [
        "2014-10-15 21:11:17,518 - model - INFO - Creating map from table: /home/jaap/repos/wflow/examples/wflow_rhine_sbm/intbl/PathFrac.tbl\n"
       ]
      },
      {
       "output_type": "stream",
       "stream": "stderr",
       "text": [
        "2014-10-15 21:11:17,518 - model - INFO - Creating map from table: /home/jaap/repos/wflow/examples/wflow_rhine_sbm/intbl/PathFrac.tbl\n"
       ]
      },
      {
       "output_type": "stream",
       "stream": "stderr",
       "text": [
        "2014-10-15 21:11:17,518 - model - INFO - Creating map from table: /home/jaap/repos/wflow/examples/wflow_rhine_sbm/intbl/PathFrac.tbl\n"
       ]
      },
      {
       "output_type": "stream",
       "stream": "stderr",
       "text": [
        "INFO:model:Creating map from table: /home/jaap/repos/wflow/examples/wflow_rhine_sbm/intbl/PathFrac.tbl\n"
       ]
      },
      {
       "output_type": "stream",
       "stream": "stderr",
       "text": [
        "2014-10-15 21:11:17,531 - model - INFO - Creating map from table: /home/jaap/repos/wflow/examples/wflow_rhine_sbm/intbl/FirstZoneCapacity.tbl\n"
       ]
      },
      {
       "output_type": "stream",
       "stream": "stderr",
       "text": [
        "2014-10-15 21:11:17,531 - model - INFO - Creating map from table: /home/jaap/repos/wflow/examples/wflow_rhine_sbm/intbl/FirstZoneCapacity.tbl\n"
       ]
      },
      {
       "output_type": "stream",
       "stream": "stderr",
       "text": [
        "2014-10-15 21:11:17,531 - model - INFO - Creating map from table: /home/jaap/repos/wflow/examples/wflow_rhine_sbm/intbl/FirstZoneCapacity.tbl\n"
       ]
      },
      {
       "output_type": "stream",
       "stream": "stderr",
       "text": [
        "2014-10-15 21:11:17,531 - model - INFO - Creating map from table: /home/jaap/repos/wflow/examples/wflow_rhine_sbm/intbl/FirstZoneCapacity.tbl\n"
       ]
      },
      {
       "output_type": "stream",
       "stream": "stderr",
       "text": [
        "2014-10-15 21:11:17,531 - model - INFO - Creating map from table: /home/jaap/repos/wflow/examples/wflow_rhine_sbm/intbl/FirstZoneCapacity.tbl\n"
       ]
      },
      {
       "output_type": "stream",
       "stream": "stderr",
       "text": [
        "2014-10-15 21:11:17,531 - model - INFO - Creating map from table: /home/jaap/repos/wflow/examples/wflow_rhine_sbm/intbl/FirstZoneCapacity.tbl\n"
       ]
      },
      {
       "output_type": "stream",
       "stream": "stderr",
       "text": [
        "2014-10-15 21:11:17,531 - model - INFO - Creating map from table: /home/jaap/repos/wflow/examples/wflow_rhine_sbm/intbl/FirstZoneCapacity.tbl\n"
       ]
      },
      {
       "output_type": "stream",
       "stream": "stderr",
       "text": [
        "2014-10-15 21:11:17,531 - model - INFO - Creating map from table: /home/jaap/repos/wflow/examples/wflow_rhine_sbm/intbl/FirstZoneCapacity.tbl\n"
       ]
      },
      {
       "output_type": "stream",
       "stream": "stderr",
       "text": [
        "2014-10-15 21:11:17,531 - model - INFO - Creating map from table: /home/jaap/repos/wflow/examples/wflow_rhine_sbm/intbl/FirstZoneCapacity.tbl\n"
       ]
      },
      {
       "output_type": "stream",
       "stream": "stderr",
       "text": [
        "2014-10-15 21:11:17,531 - model - INFO - Creating map from table: /home/jaap/repos/wflow/examples/wflow_rhine_sbm/intbl/FirstZoneCapacity.tbl\n"
       ]
      },
      {
       "output_type": "stream",
       "stream": "stderr",
       "text": [
        "2014-10-15 21:11:17,531 - model - INFO - Creating map from table: /home/jaap/repos/wflow/examples/wflow_rhine_sbm/intbl/FirstZoneCapacity.tbl\n"
       ]
      },
      {
       "output_type": "stream",
       "stream": "stderr",
       "text": [
        "2014-10-15 21:11:17,531 - model - INFO - Creating map from table: /home/jaap/repos/wflow/examples/wflow_rhine_sbm/intbl/FirstZoneCapacity.tbl\n"
       ]
      },
      {
       "output_type": "stream",
       "stream": "stderr",
       "text": [
        "INFO:model:Creating map from table: /home/jaap/repos/wflow/examples/wflow_rhine_sbm/intbl/FirstZoneCapacity.tbl\n"
       ]
      },
      {
       "output_type": "stream",
       "stream": "stderr",
       "text": [
        "2014-10-15 21:11:17,540 - model - INFO - Creating map from table: /home/jaap/repos/wflow/examples/wflow_rhine_sbm/intbl/thetaR.tbl\n"
       ]
      },
      {
       "output_type": "stream",
       "stream": "stderr",
       "text": [
        "2014-10-15 21:11:17,540 - model - INFO - Creating map from table: /home/jaap/repos/wflow/examples/wflow_rhine_sbm/intbl/thetaR.tbl\n"
       ]
      },
      {
       "output_type": "stream",
       "stream": "stderr",
       "text": [
        "2014-10-15 21:11:17,540 - model - INFO - Creating map from table: /home/jaap/repos/wflow/examples/wflow_rhine_sbm/intbl/thetaR.tbl\n"
       ]
      },
      {
       "output_type": "stream",
       "stream": "stderr",
       "text": [
        "2014-10-15 21:11:17,540 - model - INFO - Creating map from table: /home/jaap/repos/wflow/examples/wflow_rhine_sbm/intbl/thetaR.tbl\n"
       ]
      },
      {
       "output_type": "stream",
       "stream": "stderr",
       "text": [
        "2014-10-15 21:11:17,540 - model - INFO - Creating map from table: /home/jaap/repos/wflow/examples/wflow_rhine_sbm/intbl/thetaR.tbl\n"
       ]
      },
      {
       "output_type": "stream",
       "stream": "stderr",
       "text": [
        "2014-10-15 21:11:17,540 - model - INFO - Creating map from table: /home/jaap/repos/wflow/examples/wflow_rhine_sbm/intbl/thetaR.tbl\n"
       ]
      },
      {
       "output_type": "stream",
       "stream": "stderr",
       "text": [
        "2014-10-15 21:11:17,540 - model - INFO - Creating map from table: /home/jaap/repos/wflow/examples/wflow_rhine_sbm/intbl/thetaR.tbl\n"
       ]
      },
      {
       "output_type": "stream",
       "stream": "stderr",
       "text": [
        "2014-10-15 21:11:17,540 - model - INFO - Creating map from table: /home/jaap/repos/wflow/examples/wflow_rhine_sbm/intbl/thetaR.tbl\n"
       ]
      },
      {
       "output_type": "stream",
       "stream": "stderr",
       "text": [
        "2014-10-15 21:11:17,540 - model - INFO - Creating map from table: /home/jaap/repos/wflow/examples/wflow_rhine_sbm/intbl/thetaR.tbl\n"
       ]
      },
      {
       "output_type": "stream",
       "stream": "stderr",
       "text": [
        "2014-10-15 21:11:17,540 - model - INFO - Creating map from table: /home/jaap/repos/wflow/examples/wflow_rhine_sbm/intbl/thetaR.tbl\n"
       ]
      },
      {
       "output_type": "stream",
       "stream": "stderr",
       "text": [
        "2014-10-15 21:11:17,540 - model - INFO - Creating map from table: /home/jaap/repos/wflow/examples/wflow_rhine_sbm/intbl/thetaR.tbl\n"
       ]
      },
      {
       "output_type": "stream",
       "stream": "stderr",
       "text": [
        "2014-10-15 21:11:17,540 - model - INFO - Creating map from table: /home/jaap/repos/wflow/examples/wflow_rhine_sbm/intbl/thetaR.tbl\n"
       ]
      },
      {
       "output_type": "stream",
       "stream": "stderr",
       "text": [
        "INFO:model:Creating map from table: /home/jaap/repos/wflow/examples/wflow_rhine_sbm/intbl/thetaR.tbl\n"
       ]
      },
      {
       "output_type": "stream",
       "stream": "stderr",
       "text": [
        "2014-10-15 21:11:17,548 - model - INFO - Creating map from table: /home/jaap/repos/wflow/examples/wflow_rhine_sbm/intbl/thetaS.tbl\n"
       ]
      },
      {
       "output_type": "stream",
       "stream": "stderr",
       "text": [
        "2014-10-15 21:11:17,548 - model - INFO - Creating map from table: /home/jaap/repos/wflow/examples/wflow_rhine_sbm/intbl/thetaS.tbl\n"
       ]
      },
      {
       "output_type": "stream",
       "stream": "stderr",
       "text": [
        "2014-10-15 21:11:17,548 - model - INFO - Creating map from table: /home/jaap/repos/wflow/examples/wflow_rhine_sbm/intbl/thetaS.tbl\n"
       ]
      },
      {
       "output_type": "stream",
       "stream": "stderr",
       "text": [
        "2014-10-15 21:11:17,548 - model - INFO - Creating map from table: /home/jaap/repos/wflow/examples/wflow_rhine_sbm/intbl/thetaS.tbl\n"
       ]
      },
      {
       "output_type": "stream",
       "stream": "stderr",
       "text": [
        "2014-10-15 21:11:17,548 - model - INFO - Creating map from table: /home/jaap/repos/wflow/examples/wflow_rhine_sbm/intbl/thetaS.tbl\n"
       ]
      },
      {
       "output_type": "stream",
       "stream": "stderr",
       "text": [
        "2014-10-15 21:11:17,548 - model - INFO - Creating map from table: /home/jaap/repos/wflow/examples/wflow_rhine_sbm/intbl/thetaS.tbl\n"
       ]
      },
      {
       "output_type": "stream",
       "stream": "stderr",
       "text": [
        "2014-10-15 21:11:17,548 - model - INFO - Creating map from table: /home/jaap/repos/wflow/examples/wflow_rhine_sbm/intbl/thetaS.tbl\n"
       ]
      },
      {
       "output_type": "stream",
       "stream": "stderr",
       "text": [
        "2014-10-15 21:11:17,548 - model - INFO - Creating map from table: /home/jaap/repos/wflow/examples/wflow_rhine_sbm/intbl/thetaS.tbl\n"
       ]
      },
      {
       "output_type": "stream",
       "stream": "stderr",
       "text": [
        "2014-10-15 21:11:17,548 - model - INFO - Creating map from table: /home/jaap/repos/wflow/examples/wflow_rhine_sbm/intbl/thetaS.tbl\n"
       ]
      },
      {
       "output_type": "stream",
       "stream": "stderr",
       "text": [
        "2014-10-15 21:11:17,548 - model - INFO - Creating map from table: /home/jaap/repos/wflow/examples/wflow_rhine_sbm/intbl/thetaS.tbl\n"
       ]
      },
      {
       "output_type": "stream",
       "stream": "stderr",
       "text": [
        "2014-10-15 21:11:17,548 - model - INFO - Creating map from table: /home/jaap/repos/wflow/examples/wflow_rhine_sbm/intbl/thetaS.tbl\n"
       ]
      },
      {
       "output_type": "stream",
       "stream": "stderr",
       "text": [
        "2014-10-15 21:11:17,548 - model - INFO - Creating map from table: /home/jaap/repos/wflow/examples/wflow_rhine_sbm/intbl/thetaS.tbl\n"
       ]
      },
      {
       "output_type": "stream",
       "stream": "stderr",
       "text": [
        "INFO:model:Creating map from table: /home/jaap/repos/wflow/examples/wflow_rhine_sbm/intbl/thetaS.tbl\n"
       ]
      },
      {
       "output_type": "stream",
       "stream": "stderr",
       "text": [
        "2014-10-15 21:11:17,562 - model - INFO - Creating map from table: /home/jaap/repos/wflow/examples/wflow_rhine_sbm/intbl/FirstZoneMinCapacity.tbl\n"
       ]
      },
      {
       "output_type": "stream",
       "stream": "stderr",
       "text": [
        "2014-10-15 21:11:17,562 - model - INFO - Creating map from table: /home/jaap/repos/wflow/examples/wflow_rhine_sbm/intbl/FirstZoneMinCapacity.tbl\n"
       ]
      },
      {
       "output_type": "stream",
       "stream": "stderr",
       "text": [
        "2014-10-15 21:11:17,562 - model - INFO - Creating map from table: /home/jaap/repos/wflow/examples/wflow_rhine_sbm/intbl/FirstZoneMinCapacity.tbl\n"
       ]
      },
      {
       "output_type": "stream",
       "stream": "stderr",
       "text": [
        "2014-10-15 21:11:17,562 - model - INFO - Creating map from table: /home/jaap/repos/wflow/examples/wflow_rhine_sbm/intbl/FirstZoneMinCapacity.tbl\n"
       ]
      },
      {
       "output_type": "stream",
       "stream": "stderr",
       "text": [
        "2014-10-15 21:11:17,562 - model - INFO - Creating map from table: /home/jaap/repos/wflow/examples/wflow_rhine_sbm/intbl/FirstZoneMinCapacity.tbl\n"
       ]
      },
      {
       "output_type": "stream",
       "stream": "stderr",
       "text": [
        "2014-10-15 21:11:17,562 - model - INFO - Creating map from table: /home/jaap/repos/wflow/examples/wflow_rhine_sbm/intbl/FirstZoneMinCapacity.tbl\n"
       ]
      },
      {
       "output_type": "stream",
       "stream": "stderr",
       "text": [
        "2014-10-15 21:11:17,562 - model - INFO - Creating map from table: /home/jaap/repos/wflow/examples/wflow_rhine_sbm/intbl/FirstZoneMinCapacity.tbl\n"
       ]
      },
      {
       "output_type": "stream",
       "stream": "stderr",
       "text": [
        "2014-10-15 21:11:17,562 - model - INFO - Creating map from table: /home/jaap/repos/wflow/examples/wflow_rhine_sbm/intbl/FirstZoneMinCapacity.tbl\n"
       ]
      },
      {
       "output_type": "stream",
       "stream": "stderr",
       "text": [
        "2014-10-15 21:11:17,562 - model - INFO - Creating map from table: /home/jaap/repos/wflow/examples/wflow_rhine_sbm/intbl/FirstZoneMinCapacity.tbl\n"
       ]
      },
      {
       "output_type": "stream",
       "stream": "stderr",
       "text": [
        "2014-10-15 21:11:17,562 - model - INFO - Creating map from table: /home/jaap/repos/wflow/examples/wflow_rhine_sbm/intbl/FirstZoneMinCapacity.tbl\n"
       ]
      },
      {
       "output_type": "stream",
       "stream": "stderr",
       "text": [
        "2014-10-15 21:11:17,562 - model - INFO - Creating map from table: /home/jaap/repos/wflow/examples/wflow_rhine_sbm/intbl/FirstZoneMinCapacity.tbl\n"
       ]
      },
      {
       "output_type": "stream",
       "stream": "stderr",
       "text": [
        "2014-10-15 21:11:17,562 - model - INFO - Creating map from table: /home/jaap/repos/wflow/examples/wflow_rhine_sbm/intbl/FirstZoneMinCapacity.tbl\n"
       ]
      },
      {
       "output_type": "stream",
       "stream": "stderr",
       "text": [
        "INFO:model:Creating map from table: /home/jaap/repos/wflow/examples/wflow_rhine_sbm/intbl/FirstZoneMinCapacity.tbl\n"
       ]
      },
      {
       "output_type": "stream",
       "stream": "stderr",
       "text": [
        "2014-10-15 21:11:17,573 - model - INFO - Creating map from table: /home/jaap/repos/wflow/examples/wflow_rhine_sbm/intbl/FirstZoneKsatVer.tbl\n"
       ]
      },
      {
       "output_type": "stream",
       "stream": "stderr",
       "text": [
        "2014-10-15 21:11:17,573 - model - INFO - Creating map from table: /home/jaap/repos/wflow/examples/wflow_rhine_sbm/intbl/FirstZoneKsatVer.tbl\n"
       ]
      },
      {
       "output_type": "stream",
       "stream": "stderr",
       "text": [
        "2014-10-15 21:11:17,573 - model - INFO - Creating map from table: /home/jaap/repos/wflow/examples/wflow_rhine_sbm/intbl/FirstZoneKsatVer.tbl\n"
       ]
      },
      {
       "output_type": "stream",
       "stream": "stderr",
       "text": [
        "2014-10-15 21:11:17,573 - model - INFO - Creating map from table: /home/jaap/repos/wflow/examples/wflow_rhine_sbm/intbl/FirstZoneKsatVer.tbl\n"
       ]
      },
      {
       "output_type": "stream",
       "stream": "stderr",
       "text": [
        "2014-10-15 21:11:17,573 - model - INFO - Creating map from table: /home/jaap/repos/wflow/examples/wflow_rhine_sbm/intbl/FirstZoneKsatVer.tbl\n"
       ]
      },
      {
       "output_type": "stream",
       "stream": "stderr",
       "text": [
        "2014-10-15 21:11:17,573 - model - INFO - Creating map from table: /home/jaap/repos/wflow/examples/wflow_rhine_sbm/intbl/FirstZoneKsatVer.tbl\n"
       ]
      },
      {
       "output_type": "stream",
       "stream": "stderr",
       "text": [
        "2014-10-15 21:11:17,573 - model - INFO - Creating map from table: /home/jaap/repos/wflow/examples/wflow_rhine_sbm/intbl/FirstZoneKsatVer.tbl\n"
       ]
      },
      {
       "output_type": "stream",
       "stream": "stderr",
       "text": [
        "2014-10-15 21:11:17,573 - model - INFO - Creating map from table: /home/jaap/repos/wflow/examples/wflow_rhine_sbm/intbl/FirstZoneKsatVer.tbl\n"
       ]
      },
      {
       "output_type": "stream",
       "stream": "stderr",
       "text": [
        "2014-10-15 21:11:17,573 - model - INFO - Creating map from table: /home/jaap/repos/wflow/examples/wflow_rhine_sbm/intbl/FirstZoneKsatVer.tbl\n"
       ]
      },
      {
       "output_type": "stream",
       "stream": "stderr",
       "text": [
        "2014-10-15 21:11:17,573 - model - INFO - Creating map from table: /home/jaap/repos/wflow/examples/wflow_rhine_sbm/intbl/FirstZoneKsatVer.tbl\n"
       ]
      },
      {
       "output_type": "stream",
       "stream": "stderr",
       "text": [
        "2014-10-15 21:11:17,573 - model - INFO - Creating map from table: /home/jaap/repos/wflow/examples/wflow_rhine_sbm/intbl/FirstZoneKsatVer.tbl\n"
       ]
      },
      {
       "output_type": "stream",
       "stream": "stderr",
       "text": [
        "2014-10-15 21:11:17,573 - model - INFO - Creating map from table: /home/jaap/repos/wflow/examples/wflow_rhine_sbm/intbl/FirstZoneKsatVer.tbl\n"
       ]
      },
      {
       "output_type": "stream",
       "stream": "stderr",
       "text": [
        "INFO:model:Creating map from table: /home/jaap/repos/wflow/examples/wflow_rhine_sbm/intbl/FirstZoneKsatVer.tbl\n"
       ]
      },
      {
       "output_type": "stream",
       "stream": "stderr",
       "text": [
        "2014-10-15 21:11:17,582 - model - INFO - Creating map from table: /home/jaap/repos/wflow/examples/wflow_rhine_sbm/intbl/M.tbl\n"
       ]
      },
      {
       "output_type": "stream",
       "stream": "stderr",
       "text": [
        "2014-10-15 21:11:17,582 - model - INFO - Creating map from table: /home/jaap/repos/wflow/examples/wflow_rhine_sbm/intbl/M.tbl\n"
       ]
      },
      {
       "output_type": "stream",
       "stream": "stderr",
       "text": [
        "2014-10-15 21:11:17,582 - model - INFO - Creating map from table: /home/jaap/repos/wflow/examples/wflow_rhine_sbm/intbl/M.tbl\n"
       ]
      },
      {
       "output_type": "stream",
       "stream": "stderr",
       "text": [
        "2014-10-15 21:11:17,582 - model - INFO - Creating map from table: /home/jaap/repos/wflow/examples/wflow_rhine_sbm/intbl/M.tbl\n"
       ]
      },
      {
       "output_type": "stream",
       "stream": "stderr",
       "text": [
        "2014-10-15 21:11:17,582 - model - INFO - Creating map from table: /home/jaap/repos/wflow/examples/wflow_rhine_sbm/intbl/M.tbl\n"
       ]
      },
      {
       "output_type": "stream",
       "stream": "stderr",
       "text": [
        "2014-10-15 21:11:17,582 - model - INFO - Creating map from table: /home/jaap/repos/wflow/examples/wflow_rhine_sbm/intbl/M.tbl\n"
       ]
      },
      {
       "output_type": "stream",
       "stream": "stderr",
       "text": [
        "2014-10-15 21:11:17,582 - model - INFO - Creating map from table: /home/jaap/repos/wflow/examples/wflow_rhine_sbm/intbl/M.tbl\n"
       ]
      },
      {
       "output_type": "stream",
       "stream": "stderr",
       "text": [
        "2014-10-15 21:11:17,582 - model - INFO - Creating map from table: /home/jaap/repos/wflow/examples/wflow_rhine_sbm/intbl/M.tbl\n"
       ]
      },
      {
       "output_type": "stream",
       "stream": "stderr",
       "text": [
        "2014-10-15 21:11:17,582 - model - INFO - Creating map from table: /home/jaap/repos/wflow/examples/wflow_rhine_sbm/intbl/M.tbl\n"
       ]
      },
      {
       "output_type": "stream",
       "stream": "stderr",
       "text": [
        "2014-10-15 21:11:17,582 - model - INFO - Creating map from table: /home/jaap/repos/wflow/examples/wflow_rhine_sbm/intbl/M.tbl\n"
       ]
      },
      {
       "output_type": "stream",
       "stream": "stderr",
       "text": [
        "2014-10-15 21:11:17,582 - model - INFO - Creating map from table: /home/jaap/repos/wflow/examples/wflow_rhine_sbm/intbl/M.tbl\n"
       ]
      },
      {
       "output_type": "stream",
       "stream": "stderr",
       "text": [
        "2014-10-15 21:11:17,582 - model - INFO - Creating map from table: /home/jaap/repos/wflow/examples/wflow_rhine_sbm/intbl/M.tbl\n"
       ]
      },
      {
       "output_type": "stream",
       "stream": "stderr",
       "text": [
        "INFO:model:Creating map from table: /home/jaap/repos/wflow/examples/wflow_rhine_sbm/intbl/M.tbl\n"
       ]
      },
      {
       "output_type": "stream",
       "stream": "stderr",
       "text": [
        "2014-10-15 21:11:17,591 - model - INFO - Creating map from table: /home/jaap/repos/wflow/examples/wflow_rhine_sbm/intbl/N.tbl\n"
       ]
      },
      {
       "output_type": "stream",
       "stream": "stderr",
       "text": [
        "2014-10-15 21:11:17,591 - model - INFO - Creating map from table: /home/jaap/repos/wflow/examples/wflow_rhine_sbm/intbl/N.tbl\n"
       ]
      },
      {
       "output_type": "stream",
       "stream": "stderr",
       "text": [
        "2014-10-15 21:11:17,591 - model - INFO - Creating map from table: /home/jaap/repos/wflow/examples/wflow_rhine_sbm/intbl/N.tbl\n"
       ]
      },
      {
       "output_type": "stream",
       "stream": "stderr",
       "text": [
        "2014-10-15 21:11:17,591 - model - INFO - Creating map from table: /home/jaap/repos/wflow/examples/wflow_rhine_sbm/intbl/N.tbl\n"
       ]
      },
      {
       "output_type": "stream",
       "stream": "stderr",
       "text": [
        "2014-10-15 21:11:17,591 - model - INFO - Creating map from table: /home/jaap/repos/wflow/examples/wflow_rhine_sbm/intbl/N.tbl\n"
       ]
      },
      {
       "output_type": "stream",
       "stream": "stderr",
       "text": [
        "2014-10-15 21:11:17,591 - model - INFO - Creating map from table: /home/jaap/repos/wflow/examples/wflow_rhine_sbm/intbl/N.tbl\n"
       ]
      },
      {
       "output_type": "stream",
       "stream": "stderr",
       "text": [
        "2014-10-15 21:11:17,591 - model - INFO - Creating map from table: /home/jaap/repos/wflow/examples/wflow_rhine_sbm/intbl/N.tbl\n"
       ]
      },
      {
       "output_type": "stream",
       "stream": "stderr",
       "text": [
        "2014-10-15 21:11:17,591 - model - INFO - Creating map from table: /home/jaap/repos/wflow/examples/wflow_rhine_sbm/intbl/N.tbl\n"
       ]
      },
      {
       "output_type": "stream",
       "stream": "stderr",
       "text": [
        "2014-10-15 21:11:17,591 - model - INFO - Creating map from table: /home/jaap/repos/wflow/examples/wflow_rhine_sbm/intbl/N.tbl\n"
       ]
      },
      {
       "output_type": "stream",
       "stream": "stderr",
       "text": [
        "2014-10-15 21:11:17,591 - model - INFO - Creating map from table: /home/jaap/repos/wflow/examples/wflow_rhine_sbm/intbl/N.tbl\n"
       ]
      },
      {
       "output_type": "stream",
       "stream": "stderr",
       "text": [
        "2014-10-15 21:11:17,591 - model - INFO - Creating map from table: /home/jaap/repos/wflow/examples/wflow_rhine_sbm/intbl/N.tbl\n"
       ]
      },
      {
       "output_type": "stream",
       "stream": "stderr",
       "text": [
        "2014-10-15 21:11:17,591 - model - INFO - Creating map from table: /home/jaap/repos/wflow/examples/wflow_rhine_sbm/intbl/N.tbl\n"
       ]
      },
      {
       "output_type": "stream",
       "stream": "stderr",
       "text": [
        "INFO:model:Creating map from table: /home/jaap/repos/wflow/examples/wflow_rhine_sbm/intbl/N.tbl\n"
       ]
      },
      {
       "output_type": "stream",
       "stream": "stderr",
       "text": [
        "2014-10-15 21:11:17,600 - model - INFO - Creating map from table: /home/jaap/repos/wflow/examples/wflow_rhine_sbm/intbl/N_River.tbl\n"
       ]
      },
      {
       "output_type": "stream",
       "stream": "stderr",
       "text": [
        "2014-10-15 21:11:17,600 - model - INFO - Creating map from table: /home/jaap/repos/wflow/examples/wflow_rhine_sbm/intbl/N_River.tbl\n"
       ]
      },
      {
       "output_type": "stream",
       "stream": "stderr",
       "text": [
        "2014-10-15 21:11:17,600 - model - INFO - Creating map from table: /home/jaap/repos/wflow/examples/wflow_rhine_sbm/intbl/N_River.tbl\n"
       ]
      },
      {
       "output_type": "stream",
       "stream": "stderr",
       "text": [
        "2014-10-15 21:11:17,600 - model - INFO - Creating map from table: /home/jaap/repos/wflow/examples/wflow_rhine_sbm/intbl/N_River.tbl\n"
       ]
      },
      {
       "output_type": "stream",
       "stream": "stderr",
       "text": [
        "2014-10-15 21:11:17,600 - model - INFO - Creating map from table: /home/jaap/repos/wflow/examples/wflow_rhine_sbm/intbl/N_River.tbl\n"
       ]
      },
      {
       "output_type": "stream",
       "stream": "stderr",
       "text": [
        "2014-10-15 21:11:17,600 - model - INFO - Creating map from table: /home/jaap/repos/wflow/examples/wflow_rhine_sbm/intbl/N_River.tbl\n"
       ]
      },
      {
       "output_type": "stream",
       "stream": "stderr",
       "text": [
        "2014-10-15 21:11:17,600 - model - INFO - Creating map from table: /home/jaap/repos/wflow/examples/wflow_rhine_sbm/intbl/N_River.tbl\n"
       ]
      },
      {
       "output_type": "stream",
       "stream": "stderr",
       "text": [
        "2014-10-15 21:11:17,600 - model - INFO - Creating map from table: /home/jaap/repos/wflow/examples/wflow_rhine_sbm/intbl/N_River.tbl\n"
       ]
      },
      {
       "output_type": "stream",
       "stream": "stderr",
       "text": [
        "2014-10-15 21:11:17,600 - model - INFO - Creating map from table: /home/jaap/repos/wflow/examples/wflow_rhine_sbm/intbl/N_River.tbl\n"
       ]
      },
      {
       "output_type": "stream",
       "stream": "stderr",
       "text": [
        "2014-10-15 21:11:17,600 - model - INFO - Creating map from table: /home/jaap/repos/wflow/examples/wflow_rhine_sbm/intbl/N_River.tbl\n"
       ]
      },
      {
       "output_type": "stream",
       "stream": "stderr",
       "text": [
        "2014-10-15 21:11:17,600 - model - INFO - Creating map from table: /home/jaap/repos/wflow/examples/wflow_rhine_sbm/intbl/N_River.tbl\n"
       ]
      },
      {
       "output_type": "stream",
       "stream": "stderr",
       "text": [
        "2014-10-15 21:11:17,600 - model - INFO - Creating map from table: /home/jaap/repos/wflow/examples/wflow_rhine_sbm/intbl/N_River.tbl\n"
       ]
      },
      {
       "output_type": "stream",
       "stream": "stderr",
       "text": [
        "INFO:model:Creating map from table: /home/jaap/repos/wflow/examples/wflow_rhine_sbm/intbl/N_River.tbl\n"
       ]
      },
      {
       "output_type": "stream",
       "stream": "stderr",
       "text": [
        "2014-10-15 21:11:17,606 - model - WARNING - tbl file not found (/home/jaap/repos/wflow/examples/wflow_rhine_sbm/intbl/WaterFrac.tbl) returning default value: 0.0\n"
       ]
      },
      {
       "output_type": "stream",
       "stream": "stderr",
       "text": [
        "2014-10-15 21:11:17,606 - model - WARNING - tbl file not found (/home/jaap/repos/wflow/examples/wflow_rhine_sbm/intbl/WaterFrac.tbl) returning default value: 0.0\n"
       ]
      },
      {
       "output_type": "stream",
       "stream": "stderr",
       "text": [
        "2014-10-15 21:11:17,606 - model - WARNING - tbl file not found (/home/jaap/repos/wflow/examples/wflow_rhine_sbm/intbl/WaterFrac.tbl) returning default value: 0.0\n"
       ]
      },
      {
       "output_type": "stream",
       "stream": "stderr",
       "text": [
        "2014-10-15 21:11:17,606 - model - WARNING - tbl file not found (/home/jaap/repos/wflow/examples/wflow_rhine_sbm/intbl/WaterFrac.tbl) returning default value: 0.0\n"
       ]
      },
      {
       "output_type": "stream",
       "stream": "stderr",
       "text": [
        "2014-10-15 21:11:17,606 - model - WARNING - tbl file not found (/home/jaap/repos/wflow/examples/wflow_rhine_sbm/intbl/WaterFrac.tbl) returning default value: 0.0\n"
       ]
      },
      {
       "output_type": "stream",
       "stream": "stderr",
       "text": [
        "2014-10-15 21:11:17,606 - model - WARNING - tbl file not found (/home/jaap/repos/wflow/examples/wflow_rhine_sbm/intbl/WaterFrac.tbl) returning default value: 0.0\n"
       ]
      },
      {
       "output_type": "stream",
       "stream": "stderr",
       "text": [
        "2014-10-15 21:11:17,606 - model - WARNING - tbl file not found (/home/jaap/repos/wflow/examples/wflow_rhine_sbm/intbl/WaterFrac.tbl) returning default value: 0.0\n"
       ]
      },
      {
       "output_type": "stream",
       "stream": "stderr",
       "text": [
        "2014-10-15 21:11:17,606 - model - WARNING - tbl file not found (/home/jaap/repos/wflow/examples/wflow_rhine_sbm/intbl/WaterFrac.tbl) returning default value: 0.0\n"
       ]
      },
      {
       "output_type": "stream",
       "stream": "stderr",
       "text": [
        "2014-10-15 21:11:17,606 - model - WARNING - tbl file not found (/home/jaap/repos/wflow/examples/wflow_rhine_sbm/intbl/WaterFrac.tbl) returning default value: 0.0\n"
       ]
      },
      {
       "output_type": "stream",
       "stream": "stderr",
       "text": [
        "2014-10-15 21:11:17,606 - model - WARNING - tbl file not found (/home/jaap/repos/wflow/examples/wflow_rhine_sbm/intbl/WaterFrac.tbl) returning default value: 0.0\n"
       ]
      },
      {
       "output_type": "stream",
       "stream": "stderr",
       "text": [
        "2014-10-15 21:11:17,606 - model - WARNING - tbl file not found (/home/jaap/repos/wflow/examples/wflow_rhine_sbm/intbl/WaterFrac.tbl) returning default value: 0.0\n"
       ]
      },
      {
       "output_type": "stream",
       "stream": "stderr",
       "text": [
        "2014-10-15 21:11:17,606 - model - WARNING - tbl file not found (/home/jaap/repos/wflow/examples/wflow_rhine_sbm/intbl/WaterFrac.tbl) returning default value: 0.0\n"
       ]
      },
      {
       "output_type": "stream",
       "stream": "stderr",
       "text": [
        "WARNING:model:tbl file not found (/home/jaap/repos/wflow/examples/wflow_rhine_sbm/intbl/WaterFrac.tbl) returning default value: 0.0\n"
       ]
      },
      {
       "output_type": "stream",
       "stream": "stderr",
       "text": [
        "2014-10-15 21:11:17,613 - model - WARNING - tbl file not found (/home/jaap/repos/wflow/examples/wflow_rhine_sbm/intbl/et_reftopot.tbl) returning default value: 0.0\n"
       ]
      },
      {
       "output_type": "stream",
       "stream": "stderr",
       "text": [
        "2014-10-15 21:11:17,613 - model - WARNING - tbl file not found (/home/jaap/repos/wflow/examples/wflow_rhine_sbm/intbl/et_reftopot.tbl) returning default value: 0.0\n"
       ]
      },
      {
       "output_type": "stream",
       "stream": "stderr",
       "text": [
        "2014-10-15 21:11:17,613 - model - WARNING - tbl file not found (/home/jaap/repos/wflow/examples/wflow_rhine_sbm/intbl/et_reftopot.tbl) returning default value: 0.0\n"
       ]
      },
      {
       "output_type": "stream",
       "stream": "stderr",
       "text": [
        "2014-10-15 21:11:17,613 - model - WARNING - tbl file not found (/home/jaap/repos/wflow/examples/wflow_rhine_sbm/intbl/et_reftopot.tbl) returning default value: 0.0\n"
       ]
      },
      {
       "output_type": "stream",
       "stream": "stderr",
       "text": [
        "2014-10-15 21:11:17,613 - model - WARNING - tbl file not found (/home/jaap/repos/wflow/examples/wflow_rhine_sbm/intbl/et_reftopot.tbl) returning default value: 0.0\n"
       ]
      },
      {
       "output_type": "stream",
       "stream": "stderr",
       "text": [
        "2014-10-15 21:11:17,613 - model - WARNING - tbl file not found (/home/jaap/repos/wflow/examples/wflow_rhine_sbm/intbl/et_reftopot.tbl) returning default value: 0.0\n"
       ]
      },
      {
       "output_type": "stream",
       "stream": "stderr",
       "text": [
        "2014-10-15 21:11:17,613 - model - WARNING - tbl file not found (/home/jaap/repos/wflow/examples/wflow_rhine_sbm/intbl/et_reftopot.tbl) returning default value: 0.0\n"
       ]
      },
      {
       "output_type": "stream",
       "stream": "stderr",
       "text": [
        "2014-10-15 21:11:17,613 - model - WARNING - tbl file not found (/home/jaap/repos/wflow/examples/wflow_rhine_sbm/intbl/et_reftopot.tbl) returning default value: 0.0\n"
       ]
      },
      {
       "output_type": "stream",
       "stream": "stderr",
       "text": [
        "2014-10-15 21:11:17,613 - model - WARNING - tbl file not found (/home/jaap/repos/wflow/examples/wflow_rhine_sbm/intbl/et_reftopot.tbl) returning default value: 0.0\n"
       ]
      },
      {
       "output_type": "stream",
       "stream": "stderr",
       "text": [
        "2014-10-15 21:11:17,613 - model - WARNING - tbl file not found (/home/jaap/repos/wflow/examples/wflow_rhine_sbm/intbl/et_reftopot.tbl) returning default value: 0.0\n"
       ]
      },
      {
       "output_type": "stream",
       "stream": "stderr",
       "text": [
        "2014-10-15 21:11:17,613 - model - WARNING - tbl file not found (/home/jaap/repos/wflow/examples/wflow_rhine_sbm/intbl/et_reftopot.tbl) returning default value: 0.0\n"
       ]
      },
      {
       "output_type": "stream",
       "stream": "stderr",
       "text": [
        "2014-10-15 21:11:17,613 - model - WARNING - tbl file not found (/home/jaap/repos/wflow/examples/wflow_rhine_sbm/intbl/et_reftopot.tbl) returning default value: 0.0\n"
       ]
      },
      {
       "output_type": "stream",
       "stream": "stderr",
       "text": [
        "WARNING:model:tbl file not found (/home/jaap/repos/wflow/examples/wflow_rhine_sbm/intbl/et_reftopot.tbl) returning default value: 0.0\n"
       ]
      },
      {
       "output_type": "stream",
       "stream": "stderr",
       "text": [
        "2014-10-15 21:11:17,661 - model - INFO - Initializing of model variables..\n"
       ]
      },
      {
       "output_type": "stream",
       "stream": "stderr",
       "text": [
        "2014-10-15 21:11:17,661 - model - INFO - Initializing of model variables..\n"
       ]
      },
      {
       "output_type": "stream",
       "stream": "stderr",
       "text": [
        "2014-10-15 21:11:17,661 - model - INFO - Initializing of model variables..\n"
       ]
      },
      {
       "output_type": "stream",
       "stream": "stderr",
       "text": [
        "2014-10-15 21:11:17,661 - model - INFO - Initializing of model variables..\n"
       ]
      },
      {
       "output_type": "stream",
       "stream": "stderr",
       "text": [
        "2014-10-15 21:11:17,661 - model - INFO - Initializing of model variables..\n"
       ]
      },
      {
       "output_type": "stream",
       "stream": "stderr",
       "text": [
        "2014-10-15 21:11:17,661 - model - INFO - Initializing of model variables..\n"
       ]
      },
      {
       "output_type": "stream",
       "stream": "stderr",
       "text": [
        "2014-10-15 21:11:17,661 - model - INFO - Initializing of model variables..\n"
       ]
      },
      {
       "output_type": "stream",
       "stream": "stderr",
       "text": [
        "2014-10-15 21:11:17,661 - model - INFO - Initializing of model variables..\n"
       ]
      },
      {
       "output_type": "stream",
       "stream": "stderr",
       "text": [
        "2014-10-15 21:11:17,661 - model - INFO - Initializing of model variables..\n"
       ]
      },
      {
       "output_type": "stream",
       "stream": "stderr",
       "text": [
        "2014-10-15 21:11:17,661 - model - INFO - Initializing of model variables..\n"
       ]
      },
      {
       "output_type": "stream",
       "stream": "stderr",
       "text": [
        "2014-10-15 21:11:17,661 - model - INFO - Initializing of model variables..\n"
       ]
      },
      {
       "output_type": "stream",
       "stream": "stderr",
       "text": [
        "2014-10-15 21:11:17,661 - model - INFO - Initializing of model variables..\n"
       ]
      },
      {
       "output_type": "stream",
       "stream": "stderr",
       "text": [
        "INFO:model:Initializing of model variables..\n"
       ]
      },
      {
       "output_type": "stream",
       "stream": "stderr",
       "text": [
        "2014-10-15 21:11:17,694 - model - INFO - Saving summary maps...\n"
       ]
      },
      {
       "output_type": "stream",
       "stream": "stderr",
       "text": [
        "2014-10-15 21:11:17,694 - model - INFO - Saving summary maps...\n"
       ]
      },
      {
       "output_type": "stream",
       "stream": "stderr",
       "text": [
        "2014-10-15 21:11:17,694 - model - INFO - Saving summary maps...\n"
       ]
      },
      {
       "output_type": "stream",
       "stream": "stderr",
       "text": [
        "2014-10-15 21:11:17,694 - model - INFO - Saving summary maps...\n"
       ]
      },
      {
       "output_type": "stream",
       "stream": "stderr",
       "text": [
        "2014-10-15 21:11:17,694 - model - INFO - Saving summary maps...\n"
       ]
      },
      {
       "output_type": "stream",
       "stream": "stderr",
       "text": [
        "2014-10-15 21:11:17,694 - model - INFO - Saving summary maps...\n"
       ]
      },
      {
       "output_type": "stream",
       "stream": "stderr",
       "text": [
        "2014-10-15 21:11:17,694 - model - INFO - Saving summary maps...\n"
       ]
      },
      {
       "output_type": "stream",
       "stream": "stderr",
       "text": [
        "2014-10-15 21:11:17,694 - model - INFO - Saving summary maps...\n"
       ]
      },
      {
       "output_type": "stream",
       "stream": "stderr",
       "text": [
        "2014-10-15 21:11:17,694 - model - INFO - Saving summary maps...\n"
       ]
      },
      {
       "output_type": "stream",
       "stream": "stderr",
       "text": [
        "2014-10-15 21:11:17,694 - model - INFO - Saving summary maps...\n"
       ]
      },
      {
       "output_type": "stream",
       "stream": "stderr",
       "text": [
        "2014-10-15 21:11:17,694 - model - INFO - Saving summary maps...\n"
       ]
      },
      {
       "output_type": "stream",
       "stream": "stderr",
       "text": [
        "2014-10-15 21:11:17,694 - model - INFO - Saving summary maps...\n"
       ]
      },
      {
       "output_type": "stream",
       "stream": "stderr",
       "text": [
        "INFO:model:Saving summary maps...\n"
       ]
      },
      {
       "output_type": "stream",
       "stream": "stderr",
       "text": [
        "2014-10-15 21:11:17,699 - model - INFO - End of initial section\n"
       ]
      },
      {
       "output_type": "stream",
       "stream": "stderr",
       "text": [
        "2014-10-15 21:11:17,699 - model - INFO - End of initial section\n"
       ]
      },
      {
       "output_type": "stream",
       "stream": "stderr",
       "text": [
        "2014-10-15 21:11:17,699 - model - INFO - End of initial section\n"
       ]
      },
      {
       "output_type": "stream",
       "stream": "stderr",
       "text": [
        "2014-10-15 21:11:17,699 - model - INFO - End of initial section\n"
       ]
      },
      {
       "output_type": "stream",
       "stream": "stderr",
       "text": [
        "2014-10-15 21:11:17,699 - model - INFO - End of initial section\n"
       ]
      },
      {
       "output_type": "stream",
       "stream": "stderr",
       "text": [
        "2014-10-15 21:11:17,699 - model - INFO - End of initial section\n"
       ]
      },
      {
       "output_type": "stream",
       "stream": "stderr",
       "text": [
        "2014-10-15 21:11:17,699 - model - INFO - End of initial section\n"
       ]
      },
      {
       "output_type": "stream",
       "stream": "stderr",
       "text": [
        "2014-10-15 21:11:17,699 - model - INFO - End of initial section\n"
       ]
      },
      {
       "output_type": "stream",
       "stream": "stderr",
       "text": [
        "2014-10-15 21:11:17,699 - model - INFO - End of initial section\n"
       ]
      },
      {
       "output_type": "stream",
       "stream": "stderr",
       "text": [
        "2014-10-15 21:11:17,699 - model - INFO - End of initial section\n"
       ]
      },
      {
       "output_type": "stream",
       "stream": "stderr",
       "text": [
        "2014-10-15 21:11:17,699 - model - INFO - End of initial section\n"
       ]
      },
      {
       "output_type": "stream",
       "stream": "stderr",
       "text": [
        "2014-10-15 21:11:17,699 - model - INFO - End of initial section\n"
       ]
      },
      {
       "output_type": "stream",
       "stream": "stderr",
       "text": [
        "INFO:model:End of initial section\n"
       ]
      },
      {
       "output_type": "stream",
       "stream": "stderr",
       "text": [
        "2014-10-15 21:11:17,704 - model - INFO - Setting initial conditions from state files\n"
       ]
      },
      {
       "output_type": "stream",
       "stream": "stderr",
       "text": [
        "2014-10-15 21:11:17,704 - model - INFO - Setting initial conditions from state files\n"
       ]
      },
      {
       "output_type": "stream",
       "stream": "stderr",
       "text": [
        "2014-10-15 21:11:17,704 - model - INFO - Setting initial conditions from state files\n"
       ]
      },
      {
       "output_type": "stream",
       "stream": "stderr",
       "text": [
        "2014-10-15 21:11:17,704 - model - INFO - Setting initial conditions from state files\n"
       ]
      },
      {
       "output_type": "stream",
       "stream": "stderr",
       "text": [
        "2014-10-15 21:11:17,704 - model - INFO - Setting initial conditions from state files\n"
       ]
      },
      {
       "output_type": "stream",
       "stream": "stderr",
       "text": [
        "2014-10-15 21:11:17,704 - model - INFO - Setting initial conditions from state files\n"
       ]
      },
      {
       "output_type": "stream",
       "stream": "stderr",
       "text": [
        "2014-10-15 21:11:17,704 - model - INFO - Setting initial conditions from state files\n"
       ]
      },
      {
       "output_type": "stream",
       "stream": "stderr",
       "text": [
        "2014-10-15 21:11:17,704 - model - INFO - Setting initial conditions from state files\n"
       ]
      },
      {
       "output_type": "stream",
       "stream": "stderr",
       "text": [
        "2014-10-15 21:11:17,704 - model - INFO - Setting initial conditions from state files\n"
       ]
      },
      {
       "output_type": "stream",
       "stream": "stderr",
       "text": [
        "2014-10-15 21:11:17,704 - model - INFO - Setting initial conditions from state files\n"
       ]
      },
      {
       "output_type": "stream",
       "stream": "stderr",
       "text": [
        "2014-10-15 21:11:17,704 - model - INFO - Setting initial conditions from state files\n"
       ]
      },
      {
       "output_type": "stream",
       "stream": "stderr",
       "text": [
        "2014-10-15 21:11:17,704 - model - INFO - Setting initial conditions from state files\n"
       ]
      },
      {
       "output_type": "stream",
       "stream": "stderr",
       "text": [
        "INFO:model:Setting initial conditions from state files\n"
       ]
      },
      {
       "output_type": "stream",
       "stream": "stderr",
       "text": [
        "2014-10-15 21:11:17,720 - model - DEBUG - File logging to /home/jaap/repos/wflow/examples/wflow_rhine_sbm/run_default/wflow.log\n"
       ]
      },
      {
       "output_type": "stream",
       "stream": "stderr",
       "text": [
        "2014-10-15 21:11:17,720 - model - DEBUG - File logging to /home/jaap/repos/wflow/examples/wflow_rhine_sbm/run_default/wflow.log\n"
       ]
      },
      {
       "output_type": "stream",
       "stream": "stderr",
       "text": [
        "2014-10-15 21:11:17,720 - model - DEBUG - File logging to /home/jaap/repos/wflow/examples/wflow_rhine_sbm/run_default/wflow.log\n"
       ]
      },
      {
       "output_type": "stream",
       "stream": "stderr",
       "text": [
        "2014-10-15 21:11:17,720 - model - DEBUG - File logging to /home/jaap/repos/wflow/examples/wflow_rhine_sbm/run_default/wflow.log\n"
       ]
      },
      {
       "output_type": "stream",
       "stream": "stderr",
       "text": [
        "2014-10-15 21:11:17,720 - model - DEBUG - File logging to /home/jaap/repos/wflow/examples/wflow_rhine_sbm/run_default/wflow.log\n"
       ]
      },
      {
       "output_type": "stream",
       "stream": "stderr",
       "text": [
        "2014-10-15 21:11:17,720 - model - DEBUG - File logging to /home/jaap/repos/wflow/examples/wflow_rhine_sbm/run_default/wflow.log\n"
       ]
      },
      {
       "output_type": "stream",
       "stream": "stderr",
       "text": [
        "2014-10-15 21:11:17,720 - model - DEBUG - File logging to /home/jaap/repos/wflow/examples/wflow_rhine_sbm/run_default/wflow.log\n"
       ]
      },
      {
       "output_type": "stream",
       "stream": "stderr",
       "text": [
        "2014-10-15 21:11:17,720 - model - DEBUG - File logging to /home/jaap/repos/wflow/examples/wflow_rhine_sbm/run_default/wflow.log\n"
       ]
      },
      {
       "output_type": "stream",
       "stream": "stderr",
       "text": [
        "2014-10-15 21:11:17,720 - model - DEBUG - File logging to /home/jaap/repos/wflow/examples/wflow_rhine_sbm/run_default/wflow.log\n"
       ]
      },
      {
       "output_type": "stream",
       "stream": "stderr",
       "text": [
        "2014-10-15 21:11:17,720 - model - DEBUG - File logging to /home/jaap/repos/wflow/examples/wflow_rhine_sbm/run_default/wflow.log\n"
       ]
      },
      {
       "output_type": "stream",
       "stream": "stderr",
       "text": [
        "2014-10-15 21:11:17,720 - model - DEBUG - File logging to /home/jaap/repos/wflow/examples/wflow_rhine_sbm/run_default/wflow.log\n"
       ]
      },
      {
       "output_type": "stream",
       "stream": "stderr",
       "text": [
        "2014-10-15 21:11:17,720 - model - DEBUG - File logging to /home/jaap/repos/wflow/examples/wflow_rhine_sbm/run_default/wflow.log\n"
       ]
      },
      {
       "output_type": "stream",
       "stream": "stderr",
       "text": [
        "2014-10-15 21:11:17,720 - model - DEBUG - File logging to /home/jaap/repos/wflow/examples/wflow_rhine_sbm/run_default/wflow.log\n"
       ]
      },
      {
       "output_type": "stream",
       "stream": "stderr",
       "text": [
        "DEBUG:model:File logging to /home/jaap/repos/wflow/examples/wflow_rhine_sbm/run_default/wflow.log\n"
       ]
      },
      {
       "output_type": "stream",
       "stream": "stderr",
       "text": [
        "2014-10-15 21:11:17,725 - model - INFO - model no version Case: /home/jaap/repos/wflow/examples/wflow_rhine_sbm Runid: run_default\n"
       ]
      },
      {
       "output_type": "stream",
       "stream": "stderr",
       "text": [
        "2014-10-15 21:11:17,725 - model - INFO - model no version Case: /home/jaap/repos/wflow/examples/wflow_rhine_sbm Runid: run_default\n"
       ]
      },
      {
       "output_type": "stream",
       "stream": "stderr",
       "text": [
        "2014-10-15 21:11:17,725 - model - INFO - model no version Case: /home/jaap/repos/wflow/examples/wflow_rhine_sbm Runid: run_default\n"
       ]
      },
      {
       "output_type": "stream",
       "stream": "stderr",
       "text": [
        "2014-10-15 21:11:17,725 - model - INFO - model no version Case: /home/jaap/repos/wflow/examples/wflow_rhine_sbm Runid: run_default\n"
       ]
      },
      {
       "output_type": "stream",
       "stream": "stderr",
       "text": [
        "2014-10-15 21:11:17,725 - model - INFO - model no version Case: /home/jaap/repos/wflow/examples/wflow_rhine_sbm Runid: run_default\n"
       ]
      },
      {
       "output_type": "stream",
       "stream": "stderr",
       "text": [
        "2014-10-15 21:11:17,725 - model - INFO - model no version Case: /home/jaap/repos/wflow/examples/wflow_rhine_sbm Runid: run_default\n"
       ]
      },
      {
       "output_type": "stream",
       "stream": "stderr",
       "text": [
        "2014-10-15 21:11:17,725 - model - INFO - model no version Case: /home/jaap/repos/wflow/examples/wflow_rhine_sbm Runid: run_default\n"
       ]
      },
      {
       "output_type": "stream",
       "stream": "stderr",
       "text": [
        "2014-10-15 21:11:17,725 - model - INFO - model no version Case: /home/jaap/repos/wflow/examples/wflow_rhine_sbm Runid: run_default\n"
       ]
      },
      {
       "output_type": "stream",
       "stream": "stderr",
       "text": [
        "2014-10-15 21:11:17,725 - model - INFO - model no version Case: /home/jaap/repos/wflow/examples/wflow_rhine_sbm Runid: run_default\n"
       ]
      },
      {
       "output_type": "stream",
       "stream": "stderr",
       "text": [
        "2014-10-15 21:11:17,725 - model - INFO - model no version Case: /home/jaap/repos/wflow/examples/wflow_rhine_sbm Runid: run_default\n"
       ]
      },
      {
       "output_type": "stream",
       "stream": "stderr",
       "text": [
        "2014-10-15 21:11:17,725 - model - INFO - model no version Case: /home/jaap/repos/wflow/examples/wflow_rhine_sbm Runid: run_default\n"
       ]
      },
      {
       "output_type": "stream",
       "stream": "stderr",
       "text": [
        "2014-10-15 21:11:17,725 - model - INFO - model no version Case: /home/jaap/repos/wflow/examples/wflow_rhine_sbm Runid: run_default\n"
       ]
      },
      {
       "output_type": "stream",
       "stream": "stderr",
       "text": [
        "2014-10-15 21:11:17,725 - model - INFO - model no version Case: /home/jaap/repos/wflow/examples/wflow_rhine_sbm Runid: run_default\n"
       ]
      },
      {
       "output_type": "stream",
       "stream": "stderr",
       "text": [
        "INFO:model:model no version Case: /home/jaap/repos/wflow/examples/wflow_rhine_sbm Runid: run_default\n"
       ]
      },
      {
       "output_type": "stream",
       "stream": "stderr",
       "text": [
        "2014-10-15 21:11:17,732 - model - INFO - running for 28 timesteps\n"
       ]
      },
      {
       "output_type": "stream",
       "stream": "stderr",
       "text": [
        "2014-10-15 21:11:17,732 - model - INFO - running for 28 timesteps\n"
       ]
      },
      {
       "output_type": "stream",
       "stream": "stderr",
       "text": [
        "2014-10-15 21:11:17,732 - model - INFO - running for 28 timesteps\n"
       ]
      },
      {
       "output_type": "stream",
       "stream": "stderr",
       "text": [
        "2014-10-15 21:11:17,732 - model - INFO - running for 28 timesteps\n"
       ]
      },
      {
       "output_type": "stream",
       "stream": "stderr",
       "text": [
        "2014-10-15 21:11:17,732 - model - INFO - running for 28 timesteps\n"
       ]
      },
      {
       "output_type": "stream",
       "stream": "stderr",
       "text": [
        "2014-10-15 21:11:17,732 - model - INFO - running for 28 timesteps\n"
       ]
      },
      {
       "output_type": "stream",
       "stream": "stderr",
       "text": [
        "2014-10-15 21:11:17,732 - model - INFO - running for 28 timesteps\n"
       ]
      },
      {
       "output_type": "stream",
       "stream": "stderr",
       "text": [
        "2014-10-15 21:11:17,732 - model - INFO - running for 28 timesteps\n"
       ]
      },
      {
       "output_type": "stream",
       "stream": "stderr",
       "text": [
        "2014-10-15 21:11:17,732 - model - INFO - running for 28 timesteps\n"
       ]
      },
      {
       "output_type": "stream",
       "stream": "stderr",
       "text": [
        "2014-10-15 21:11:17,732 - model - INFO - running for 28 timesteps\n"
       ]
      },
      {
       "output_type": "stream",
       "stream": "stderr",
       "text": [
        "2014-10-15 21:11:17,732 - model - INFO - running for 28 timesteps\n"
       ]
      },
      {
       "output_type": "stream",
       "stream": "stderr",
       "text": [
        "2014-10-15 21:11:17,732 - model - INFO - running for 28 timesteps\n"
       ]
      },
      {
       "output_type": "stream",
       "stream": "stderr",
       "text": [
        "2014-10-15 21:11:17,732 - model - INFO - running for 28 timesteps\n"
       ]
      },
      {
       "output_type": "stream",
       "stream": "stderr",
       "text": [
        "INFO:model:running for 28 timesteps\n"
       ]
      },
      {
       "output_type": "stream",
       "stream": "stderr",
       "text": [
        "2014-10-15 21:11:17,744 - model - INFO - Linking parameters to landuse, catchment and soil...\n"
       ]
      },
      {
       "output_type": "stream",
       "stream": "stderr",
       "text": [
        "2014-10-15 21:11:17,744 - model - INFO - Linking parameters to landuse, catchment and soil...\n"
       ]
      },
      {
       "output_type": "stream",
       "stream": "stderr",
       "text": [
        "2014-10-15 21:11:17,744 - model - INFO - Linking parameters to landuse, catchment and soil...\n"
       ]
      },
      {
       "output_type": "stream",
       "stream": "stderr",
       "text": [
        "2014-10-15 21:11:17,744 - model - INFO - Linking parameters to landuse, catchment and soil...\n"
       ]
      },
      {
       "output_type": "stream",
       "stream": "stderr",
       "text": [
        "2014-10-15 21:11:17,744 - model - INFO - Linking parameters to landuse, catchment and soil...\n"
       ]
      },
      {
       "output_type": "stream",
       "stream": "stderr",
       "text": [
        "2014-10-15 21:11:17,744 - model - INFO - Linking parameters to landuse, catchment and soil...\n"
       ]
      },
      {
       "output_type": "stream",
       "stream": "stderr",
       "text": [
        "2014-10-15 21:11:17,744 - model - INFO - Linking parameters to landuse, catchment and soil...\n"
       ]
      },
      {
       "output_type": "stream",
       "stream": "stderr",
       "text": [
        "2014-10-15 21:11:17,744 - model - INFO - Linking parameters to landuse, catchment and soil...\n"
       ]
      },
      {
       "output_type": "stream",
       "stream": "stderr",
       "text": [
        "2014-10-15 21:11:17,744 - model - INFO - Linking parameters to landuse, catchment and soil...\n"
       ]
      },
      {
       "output_type": "stream",
       "stream": "stderr",
       "text": [
        "2014-10-15 21:11:17,744 - model - INFO - Linking parameters to landuse, catchment and soil...\n"
       ]
      },
      {
       "output_type": "stream",
       "stream": "stderr",
       "text": [
        "2014-10-15 21:11:17,744 - model - INFO - Linking parameters to landuse, catchment and soil...\n"
       ]
      },
      {
       "output_type": "stream",
       "stream": "stderr",
       "text": [
        "2014-10-15 21:11:17,744 - model - INFO - Linking parameters to landuse, catchment and soil...\n"
       ]
      },
      {
       "output_type": "stream",
       "stream": "stderr",
       "text": [
        "2014-10-15 21:11:17,744 - model - INFO - Linking parameters to landuse, catchment and soil...\n"
       ]
      },
      {
       "output_type": "stream",
       "stream": "stderr",
       "text": [
        "INFO:model:Linking parameters to landuse, catchment and soil...\n"
       ]
      },
      {
       "output_type": "stream",
       "stream": "stderr",
       "text": [
        "2014-10-15 21:11:17,753 - model - INFO - Creating map from table: /home/jaap/repos/wflow/examples/wflow_rhine_sbm/intbl/N.tbl\n"
       ]
      },
      {
       "output_type": "stream",
       "stream": "stderr",
       "text": [
        "2014-10-15 21:11:17,753 - model - INFO - Creating map from table: /home/jaap/repos/wflow/examples/wflow_rhine_sbm/intbl/N.tbl\n"
       ]
      },
      {
       "output_type": "stream",
       "stream": "stderr",
       "text": [
        "2014-10-15 21:11:17,753 - model - INFO - Creating map from table: /home/jaap/repos/wflow/examples/wflow_rhine_sbm/intbl/N.tbl\n"
       ]
      },
      {
       "output_type": "stream",
       "stream": "stderr",
       "text": [
        "2014-10-15 21:11:17,753 - model - INFO - Creating map from table: /home/jaap/repos/wflow/examples/wflow_rhine_sbm/intbl/N.tbl\n"
       ]
      },
      {
       "output_type": "stream",
       "stream": "stderr",
       "text": [
        "2014-10-15 21:11:17,753 - model - INFO - Creating map from table: /home/jaap/repos/wflow/examples/wflow_rhine_sbm/intbl/N.tbl\n"
       ]
      },
      {
       "output_type": "stream",
       "stream": "stderr",
       "text": [
        "2014-10-15 21:11:17,753 - model - INFO - Creating map from table: /home/jaap/repos/wflow/examples/wflow_rhine_sbm/intbl/N.tbl\n"
       ]
      },
      {
       "output_type": "stream",
       "stream": "stderr",
       "text": [
        "2014-10-15 21:11:17,753 - model - INFO - Creating map from table: /home/jaap/repos/wflow/examples/wflow_rhine_sbm/intbl/N.tbl\n"
       ]
      },
      {
       "output_type": "stream",
       "stream": "stderr",
       "text": [
        "2014-10-15 21:11:17,753 - model - INFO - Creating map from table: /home/jaap/repos/wflow/examples/wflow_rhine_sbm/intbl/N.tbl\n"
       ]
      },
      {
       "output_type": "stream",
       "stream": "stderr",
       "text": [
        "2014-10-15 21:11:17,753 - model - INFO - Creating map from table: /home/jaap/repos/wflow/examples/wflow_rhine_sbm/intbl/N.tbl\n"
       ]
      },
      {
       "output_type": "stream",
       "stream": "stderr",
       "text": [
        "2014-10-15 21:11:17,753 - model - INFO - Creating map from table: /home/jaap/repos/wflow/examples/wflow_rhine_sbm/intbl/N.tbl\n"
       ]
      },
      {
       "output_type": "stream",
       "stream": "stderr",
       "text": [
        "2014-10-15 21:11:17,753 - model - INFO - Creating map from table: /home/jaap/repos/wflow/examples/wflow_rhine_sbm/intbl/N.tbl\n"
       ]
      },
      {
       "output_type": "stream",
       "stream": "stderr",
       "text": [
        "2014-10-15 21:11:17,753 - model - INFO - Creating map from table: /home/jaap/repos/wflow/examples/wflow_rhine_sbm/intbl/N.tbl\n"
       ]
      },
      {
       "output_type": "stream",
       "stream": "stderr",
       "text": [
        "2014-10-15 21:11:17,753 - model - INFO - Creating map from table: /home/jaap/repos/wflow/examples/wflow_rhine_sbm/intbl/N.tbl\n"
       ]
      },
      {
       "output_type": "stream",
       "stream": "stderr",
       "text": [
        "INFO:model:Creating map from table: /home/jaap/repos/wflow/examples/wflow_rhine_sbm/intbl/N.tbl\n"
       ]
      },
      {
       "output_type": "stream",
       "stream": "stderr",
       "text": [
        "2014-10-15 21:11:17,762 - model - INFO - Creating map from table: /home/jaap/repos/wflow/examples/wflow_rhine_sbm/intbl/N_River.tbl\n"
       ]
      },
      {
       "output_type": "stream",
       "stream": "stderr",
       "text": [
        "2014-10-15 21:11:17,762 - model - INFO - Creating map from table: /home/jaap/repos/wflow/examples/wflow_rhine_sbm/intbl/N_River.tbl\n"
       ]
      },
      {
       "output_type": "stream",
       "stream": "stderr",
       "text": [
        "2014-10-15 21:11:17,762 - model - INFO - Creating map from table: /home/jaap/repos/wflow/examples/wflow_rhine_sbm/intbl/N_River.tbl\n"
       ]
      },
      {
       "output_type": "stream",
       "stream": "stderr",
       "text": [
        "2014-10-15 21:11:17,762 - model - INFO - Creating map from table: /home/jaap/repos/wflow/examples/wflow_rhine_sbm/intbl/N_River.tbl\n"
       ]
      },
      {
       "output_type": "stream",
       "stream": "stderr",
       "text": [
        "2014-10-15 21:11:17,762 - model - INFO - Creating map from table: /home/jaap/repos/wflow/examples/wflow_rhine_sbm/intbl/N_River.tbl\n"
       ]
      },
      {
       "output_type": "stream",
       "stream": "stderr",
       "text": [
        "2014-10-15 21:11:17,762 - model - INFO - Creating map from table: /home/jaap/repos/wflow/examples/wflow_rhine_sbm/intbl/N_River.tbl\n"
       ]
      },
      {
       "output_type": "stream",
       "stream": "stderr",
       "text": [
        "2014-10-15 21:11:17,762 - model - INFO - Creating map from table: /home/jaap/repos/wflow/examples/wflow_rhine_sbm/intbl/N_River.tbl\n"
       ]
      },
      {
       "output_type": "stream",
       "stream": "stderr",
       "text": [
        "2014-10-15 21:11:17,762 - model - INFO - Creating map from table: /home/jaap/repos/wflow/examples/wflow_rhine_sbm/intbl/N_River.tbl\n"
       ]
      },
      {
       "output_type": "stream",
       "stream": "stderr",
       "text": [
        "2014-10-15 21:11:17,762 - model - INFO - Creating map from table: /home/jaap/repos/wflow/examples/wflow_rhine_sbm/intbl/N_River.tbl\n"
       ]
      },
      {
       "output_type": "stream",
       "stream": "stderr",
       "text": [
        "2014-10-15 21:11:17,762 - model - INFO - Creating map from table: /home/jaap/repos/wflow/examples/wflow_rhine_sbm/intbl/N_River.tbl\n"
       ]
      },
      {
       "output_type": "stream",
       "stream": "stderr",
       "text": [
        "2014-10-15 21:11:17,762 - model - INFO - Creating map from table: /home/jaap/repos/wflow/examples/wflow_rhine_sbm/intbl/N_River.tbl\n"
       ]
      },
      {
       "output_type": "stream",
       "stream": "stderr",
       "text": [
        "2014-10-15 21:11:17,762 - model - INFO - Creating map from table: /home/jaap/repos/wflow/examples/wflow_rhine_sbm/intbl/N_River.tbl\n"
       ]
      },
      {
       "output_type": "stream",
       "stream": "stderr",
       "text": [
        "2014-10-15 21:11:17,762 - model - INFO - Creating map from table: /home/jaap/repos/wflow/examples/wflow_rhine_sbm/intbl/N_River.tbl\n"
       ]
      },
      {
       "output_type": "stream",
       "stream": "stderr",
       "text": [
        "INFO:model:Creating map from table: /home/jaap/repos/wflow/examples/wflow_rhine_sbm/intbl/N_River.tbl\n"
       ]
      },
      {
       "output_type": "stream",
       "stream": "stderr",
       "text": [
        "2014-10-15 21:11:17,800 - model - INFO - Initializing of model variables..\n"
       ]
      },
      {
       "output_type": "stream",
       "stream": "stderr",
       "text": [
        "2014-10-15 21:11:17,800 - model - INFO - Initializing of model variables..\n"
       ]
      },
      {
       "output_type": "stream",
       "stream": "stderr",
       "text": [
        "2014-10-15 21:11:17,800 - model - INFO - Initializing of model variables..\n"
       ]
      },
      {
       "output_type": "stream",
       "stream": "stderr",
       "text": [
        "2014-10-15 21:11:17,800 - model - INFO - Initializing of model variables..\n"
       ]
      },
      {
       "output_type": "stream",
       "stream": "stderr",
       "text": [
        "2014-10-15 21:11:17,800 - model - INFO - Initializing of model variables..\n"
       ]
      },
      {
       "output_type": "stream",
       "stream": "stderr",
       "text": [
        "2014-10-15 21:11:17,800 - model - INFO - Initializing of model variables..\n"
       ]
      },
      {
       "output_type": "stream",
       "stream": "stderr",
       "text": [
        "2014-10-15 21:11:17,800 - model - INFO - Initializing of model variables..\n"
       ]
      },
      {
       "output_type": "stream",
       "stream": "stderr",
       "text": [
        "2014-10-15 21:11:17,800 - model - INFO - Initializing of model variables..\n"
       ]
      },
      {
       "output_type": "stream",
       "stream": "stderr",
       "text": [
        "2014-10-15 21:11:17,800 - model - INFO - Initializing of model variables..\n"
       ]
      },
      {
       "output_type": "stream",
       "stream": "stderr",
       "text": [
        "2014-10-15 21:11:17,800 - model - INFO - Initializing of model variables..\n"
       ]
      },
      {
       "output_type": "stream",
       "stream": "stderr",
       "text": [
        "2014-10-15 21:11:17,800 - model - INFO - Initializing of model variables..\n"
       ]
      },
      {
       "output_type": "stream",
       "stream": "stderr",
       "text": [
        "2014-10-15 21:11:17,800 - model - INFO - Initializing of model variables..\n"
       ]
      },
      {
       "output_type": "stream",
       "stream": "stderr",
       "text": [
        "2014-10-15 21:11:17,800 - model - INFO - Initializing of model variables..\n"
       ]
      },
      {
       "output_type": "stream",
       "stream": "stderr",
       "text": [
        "INFO:model:Initializing of model variables..\n"
       ]
      },
      {
       "output_type": "stream",
       "stream": "stderr",
       "text": [
        "2014-10-15 21:11:17,823 - model - INFO - Saving summary maps...\n"
       ]
      },
      {
       "output_type": "stream",
       "stream": "stderr",
       "text": [
        "2014-10-15 21:11:17,823 - model - INFO - Saving summary maps...\n"
       ]
      },
      {
       "output_type": "stream",
       "stream": "stderr",
       "text": [
        "2014-10-15 21:11:17,823 - model - INFO - Saving summary maps...\n"
       ]
      },
      {
       "output_type": "stream",
       "stream": "stderr",
       "text": [
        "2014-10-15 21:11:17,823 - model - INFO - Saving summary maps...\n"
       ]
      },
      {
       "output_type": "stream",
       "stream": "stderr",
       "text": [
        "2014-10-15 21:11:17,823 - model - INFO - Saving summary maps...\n"
       ]
      },
      {
       "output_type": "stream",
       "stream": "stderr",
       "text": [
        "2014-10-15 21:11:17,823 - model - INFO - Saving summary maps...\n"
       ]
      },
      {
       "output_type": "stream",
       "stream": "stderr",
       "text": [
        "2014-10-15 21:11:17,823 - model - INFO - Saving summary maps...\n"
       ]
      },
      {
       "output_type": "stream",
       "stream": "stderr",
       "text": [
        "2014-10-15 21:11:17,823 - model - INFO - Saving summary maps...\n"
       ]
      },
      {
       "output_type": "stream",
       "stream": "stderr",
       "text": [
        "2014-10-15 21:11:17,823 - model - INFO - Saving summary maps...\n"
       ]
      },
      {
       "output_type": "stream",
       "stream": "stderr",
       "text": [
        "2014-10-15 21:11:17,823 - model - INFO - Saving summary maps...\n"
       ]
      },
      {
       "output_type": "stream",
       "stream": "stderr",
       "text": [
        "2014-10-15 21:11:17,823 - model - INFO - Saving summary maps...\n"
       ]
      },
      {
       "output_type": "stream",
       "stream": "stderr",
       "text": [
        "2014-10-15 21:11:17,823 - model - INFO - Saving summary maps...\n"
       ]
      },
      {
       "output_type": "stream",
       "stream": "stderr",
       "text": [
        "2014-10-15 21:11:17,823 - model - INFO - Saving summary maps...\n"
       ]
      },
      {
       "output_type": "stream",
       "stream": "stderr",
       "text": [
        "INFO:model:Saving summary maps...\n"
       ]
      },
      {
       "output_type": "stream",
       "stream": "stderr",
       "text": [
        "2014-10-15 21:11:17,829 - model - INFO - End of initial section\n"
       ]
      },
      {
       "output_type": "stream",
       "stream": "stderr",
       "text": [
        "2014-10-15 21:11:17,829 - model - INFO - End of initial section\n"
       ]
      },
      {
       "output_type": "stream",
       "stream": "stderr",
       "text": [
        "2014-10-15 21:11:17,829 - model - INFO - End of initial section\n"
       ]
      },
      {
       "output_type": "stream",
       "stream": "stderr",
       "text": [
        "2014-10-15 21:11:17,829 - model - INFO - End of initial section\n"
       ]
      },
      {
       "output_type": "stream",
       "stream": "stderr",
       "text": [
        "2014-10-15 21:11:17,829 - model - INFO - End of initial section\n"
       ]
      },
      {
       "output_type": "stream",
       "stream": "stderr",
       "text": [
        "2014-10-15 21:11:17,829 - model - INFO - End of initial section\n"
       ]
      },
      {
       "output_type": "stream",
       "stream": "stderr",
       "text": [
        "2014-10-15 21:11:17,829 - model - INFO - End of initial section\n"
       ]
      },
      {
       "output_type": "stream",
       "stream": "stderr",
       "text": [
        "2014-10-15 21:11:17,829 - model - INFO - End of initial section\n"
       ]
      },
      {
       "output_type": "stream",
       "stream": "stderr",
       "text": [
        "2014-10-15 21:11:17,829 - model - INFO - End of initial section\n"
       ]
      },
      {
       "output_type": "stream",
       "stream": "stderr",
       "text": [
        "2014-10-15 21:11:17,829 - model - INFO - End of initial section\n"
       ]
      },
      {
       "output_type": "stream",
       "stream": "stderr",
       "text": [
        "2014-10-15 21:11:17,829 - model - INFO - End of initial section\n"
       ]
      },
      {
       "output_type": "stream",
       "stream": "stderr",
       "text": [
        "2014-10-15 21:11:17,829 - model - INFO - End of initial section\n"
       ]
      },
      {
       "output_type": "stream",
       "stream": "stderr",
       "text": [
        "2014-10-15 21:11:17,829 - model - INFO - End of initial section\n"
       ]
      },
      {
       "output_type": "stream",
       "stream": "stderr",
       "text": [
        "INFO:model:End of initial section\n"
       ]
      },
      {
       "output_type": "stream",
       "stream": "stderr",
       "text": [
        "2014-10-15 21:11:17,834 - model - INFO - Setting initial conditions from state files\n"
       ]
      },
      {
       "output_type": "stream",
       "stream": "stderr",
       "text": [
        "2014-10-15 21:11:17,834 - model - INFO - Setting initial conditions from state files\n"
       ]
      },
      {
       "output_type": "stream",
       "stream": "stderr",
       "text": [
        "2014-10-15 21:11:17,834 - model - INFO - Setting initial conditions from state files\n"
       ]
      },
      {
       "output_type": "stream",
       "stream": "stderr",
       "text": [
        "2014-10-15 21:11:17,834 - model - INFO - Setting initial conditions from state files\n"
       ]
      },
      {
       "output_type": "stream",
       "stream": "stderr",
       "text": [
        "2014-10-15 21:11:17,834 - model - INFO - Setting initial conditions from state files\n"
       ]
      },
      {
       "output_type": "stream",
       "stream": "stderr",
       "text": [
        "2014-10-15 21:11:17,834 - model - INFO - Setting initial conditions from state files\n"
       ]
      },
      {
       "output_type": "stream",
       "stream": "stderr",
       "text": [
        "2014-10-15 21:11:17,834 - model - INFO - Setting initial conditions from state files\n"
       ]
      },
      {
       "output_type": "stream",
       "stream": "stderr",
       "text": [
        "2014-10-15 21:11:17,834 - model - INFO - Setting initial conditions from state files\n"
       ]
      },
      {
       "output_type": "stream",
       "stream": "stderr",
       "text": [
        "2014-10-15 21:11:17,834 - model - INFO - Setting initial conditions from state files\n"
       ]
      },
      {
       "output_type": "stream",
       "stream": "stderr",
       "text": [
        "2014-10-15 21:11:17,834 - model - INFO - Setting initial conditions from state files\n"
       ]
      },
      {
       "output_type": "stream",
       "stream": "stderr",
       "text": [
        "2014-10-15 21:11:17,834 - model - INFO - Setting initial conditions from state files\n"
       ]
      },
      {
       "output_type": "stream",
       "stream": "stderr",
       "text": [
        "2014-10-15 21:11:17,834 - model - INFO - Setting initial conditions from state files\n"
       ]
      },
      {
       "output_type": "stream",
       "stream": "stderr",
       "text": [
        "2014-10-15 21:11:17,834 - model - INFO - Setting initial conditions from state files\n"
       ]
      },
      {
       "output_type": "stream",
       "stream": "stderr",
       "text": [
        "INFO:model:Setting initial conditions from state files\n"
       ]
      },
      {
       "metadata": {},
       "output_type": "pyout",
       "prompt_number": 37,
       "text": [
        "0"
       ]
      }
     ],
     "prompt_number": 37
    },
    {
     "cell_type": "code",
     "collapsed": false,
     "input": [
      "for i in range(0,LA_model.get_var_count()):\n",
      "    print LA_model.get_var_name(i)"
     ],
     "language": "python",
     "metadata": {},
     "outputs": [
      {
       "output_type": "stream",
       "stream": "stdout",
       "text": [
        "IF\n",
        "InwaterMM\n"
       ]
      }
     ],
     "prompt_number": 38
    },
    {
     "cell_type": "code",
     "collapsed": false,
     "input": [
      "for i in range(0,RT_model.get_var_count()):\n",
      "    print RT_model.get_var_name(i)\n"
     ],
     "language": "python",
     "metadata": {},
     "outputs": [
      {
       "output_type": "stream",
       "stream": "stdout",
       "text": [
        "Inwater\n"
       ]
      }
     ],
     "prompt_number": 39
    },
    {
     "cell_type": "code",
     "collapsed": false,
     "input": [
      "t_end = RT_model.get_end_time()\n",
      "t_start = RT_model.get_start_time()\n",
      "t = RT_model.get_current_time()"
     ],
     "language": "python",
     "metadata": {},
     "outputs": [],
     "prompt_number": 40
    },
    {
     "cell_type": "code",
     "collapsed": false,
     "input": [
      "\n",
      "(t_end  - t_start)/(86400)\n"
     ],
     "language": "python",
     "metadata": {},
     "outputs": [
      {
       "metadata": {},
       "output_type": "pyout",
       "prompt_number": 41,
       "text": [
        "27.0"
       ]
      }
     ],
     "prompt_number": 41
    },
    {
     "cell_type": "code",
     "collapsed": false,
     "input": [
      "t_end = RT_model.get_end_time()\n",
      "t = RT_model.get_start_time()\n",
      "\n",
      "while t < t_end:\n",
      "    LA_model.update(dt=-1)\n",
      "    # Now set the output from the LA model (specific Q) as input to the RT model\n",
      "    thevar = LA_model.get_var(\"InwaterMM\")\n",
      "    RT_model.set_var(\"IW\",thevar)\n",
      "    RT_model.update(dt=-1)\n",
      "    t = RT_model.get_current_time()\n",
      "    print datetime.datetime.fromtimestamp(t)"
     ],
     "language": "python",
     "metadata": {},
     "outputs": [
      {
       "output_type": "stream",
       "stream": "stderr",
       "text": [
        "2014-10-15 21:11:30,520 - model - DEBUG - Step: 1/1\n"
       ]
      },
      {
       "output_type": "stream",
       "stream": "stderr",
       "text": [
        "2014-10-15 21:11:30,520 - model - DEBUG - Step: 1/1\n"
       ]
      },
      {
       "output_type": "stream",
       "stream": "stderr",
       "text": [
        "2014-10-15 21:11:30,520 - model - DEBUG - Step: 1/1\n"
       ]
      },
      {
       "output_type": "stream",
       "stream": "stderr",
       "text": [
        "2014-10-15 21:11:30,520 - model - DEBUG - Step: 1/1\n"
       ]
      },
      {
       "output_type": "stream",
       "stream": "stderr",
       "text": [
        "2014-10-15 21:11:30,520 - model - DEBUG - Step: 1/1\n"
       ]
      },
      {
       "output_type": "stream",
       "stream": "stderr",
       "text": [
        "2014-10-15 21:11:30,520 - model - DEBUG - Step: 1/1\n"
       ]
      },
      {
       "output_type": "stream",
       "stream": "stderr",
       "text": [
        "2014-10-15 21:11:30,520 - model - DEBUG - Step: 1/1\n"
       ]
      },
      {
       "output_type": "stream",
       "stream": "stderr",
       "text": [
        "2014-10-15 21:11:30,520 - model - DEBUG - Step: 1/1\n"
       ]
      },
      {
       "output_type": "stream",
       "stream": "stderr",
       "text": [
        "2014-10-15 21:11:30,520 - model - DEBUG - Step: 1/1\n"
       ]
      },
      {
       "output_type": "stream",
       "stream": "stderr",
       "text": [
        "2014-10-15 21:11:30,520 - model - DEBUG - Step: 1/1\n"
       ]
      },
      {
       "output_type": "stream",
       "stream": "stderr",
       "text": [
        "2014-10-15 21:11:30,520 - model - DEBUG - Step: 1/1\n"
       ]
      },
      {
       "output_type": "stream",
       "stream": "stderr",
       "text": [
        "2014-10-15 21:11:30,520 - model - DEBUG - Step: 1/1\n"
       ]
      },
      {
       "output_type": "stream",
       "stream": "stderr",
       "text": [
        "2014-10-15 21:11:30,520 - model - DEBUG - Step: 1/1\n"
       ]
      },
      {
       "output_type": "stream",
       "stream": "stderr",
       "text": [
        "DEBUG:model:Step: 1/1\n"
       ]
      },
      {
       "output_type": "stream",
       "stream": "stderr",
       "text": [
        "2014-10-15 21:11:30,639 - model - DEBUG - IW is not defined in the usermodel: setting anyway\n"
       ]
      },
      {
       "output_type": "stream",
       "stream": "stderr",
       "text": [
        "2014-10-15 21:11:30,639 - model - DEBUG - IW is not defined in the usermodel: setting anyway\n"
       ]
      },
      {
       "output_type": "stream",
       "stream": "stderr",
       "text": [
        "2014-10-15 21:11:30,639 - model - DEBUG - IW is not defined in the usermodel: setting anyway\n"
       ]
      },
      {
       "output_type": "stream",
       "stream": "stderr",
       "text": [
        "2014-10-15 21:11:30,639 - model - DEBUG - IW is not defined in the usermodel: setting anyway\n"
       ]
      },
      {
       "output_type": "stream",
       "stream": "stderr",
       "text": [
        "2014-10-15 21:11:30,639 - model - DEBUG - IW is not defined in the usermodel: setting anyway\n"
       ]
      },
      {
       "output_type": "stream",
       "stream": "stderr",
       "text": [
        "2014-10-15 21:11:30,639 - model - DEBUG - IW is not defined in the usermodel: setting anyway\n"
       ]
      },
      {
       "output_type": "stream",
       "stream": "stderr",
       "text": [
        "2014-10-15 21:11:30,639 - model - DEBUG - IW is not defined in the usermodel: setting anyway\n"
       ]
      },
      {
       "output_type": "stream",
       "stream": "stderr",
       "text": [
        "2014-10-15 21:11:30,639 - model - DEBUG - IW is not defined in the usermodel: setting anyway\n"
       ]
      },
      {
       "output_type": "stream",
       "stream": "stderr",
       "text": [
        "2014-10-15 21:11:30,639 - model - DEBUG - IW is not defined in the usermodel: setting anyway\n"
       ]
      },
      {
       "output_type": "stream",
       "stream": "stderr",
       "text": [
        "2014-10-15 21:11:30,639 - model - DEBUG - IW is not defined in the usermodel: setting anyway\n"
       ]
      },
      {
       "output_type": "stream",
       "stream": "stderr",
       "text": [
        "2014-10-15 21:11:30,639 - model - DEBUG - IW is not defined in the usermodel: setting anyway\n"
       ]
      },
      {
       "output_type": "stream",
       "stream": "stderr",
       "text": [
        "2014-10-15 21:11:30,639 - model - DEBUG - IW is not defined in the usermodel: setting anyway\n"
       ]
      },
      {
       "output_type": "stream",
       "stream": "stderr",
       "text": [
        "2014-10-15 21:11:30,639 - model - DEBUG - IW is not defined in the usermodel: setting anyway\n"
       ]
      },
      {
       "output_type": "stream",
       "stream": "stderr",
       "text": [
        "DEBUG:model:IW is not defined in the usermodel: setting anyway\n"
       ]
      },
      {
       "output_type": "stream",
       "stream": "stderr",
       "text": [
        "2014-10-15 21:11:30,645 - model - DEBUG - Step: 1/1\n"
       ]
      },
      {
       "output_type": "stream",
       "stream": "stderr",
       "text": [
        "2014-10-15 21:11:30,645 - model - DEBUG - Step: 1/1\n"
       ]
      },
      {
       "output_type": "stream",
       "stream": "stderr",
       "text": [
        "2014-10-15 21:11:30,645 - model - DEBUG - Step: 1/1\n"
       ]
      },
      {
       "output_type": "stream",
       "stream": "stderr",
       "text": [
        "2014-10-15 21:11:30,645 - model - DEBUG - Step: 1/1\n"
       ]
      },
      {
       "output_type": "stream",
       "stream": "stderr",
       "text": [
        "2014-10-15 21:11:30,645 - model - DEBUG - Step: 1/1\n"
       ]
      },
      {
       "output_type": "stream",
       "stream": "stderr",
       "text": [
        "2014-10-15 21:11:30,645 - model - DEBUG - Step: 1/1\n"
       ]
      },
      {
       "output_type": "stream",
       "stream": "stderr",
       "text": [
        "2014-10-15 21:11:30,645 - model - DEBUG - Step: 1/1\n"
       ]
      },
      {
       "output_type": "stream",
       "stream": "stderr",
       "text": [
        "2014-10-15 21:11:30,645 - model - DEBUG - Step: 1/1\n"
       ]
      },
      {
       "output_type": "stream",
       "stream": "stderr",
       "text": [
        "2014-10-15 21:11:30,645 - model - DEBUG - Step: 1/1\n"
       ]
      },
      {
       "output_type": "stream",
       "stream": "stderr",
       "text": [
        "2014-10-15 21:11:30,645 - model - DEBUG - Step: 1/1\n"
       ]
      },
      {
       "output_type": "stream",
       "stream": "stderr",
       "text": [
        "2014-10-15 21:11:30,645 - model - DEBUG - Step: 1/1\n"
       ]
      },
      {
       "output_type": "stream",
       "stream": "stderr",
       "text": [
        "2014-10-15 21:11:30,645 - model - DEBUG - Step: 1/1\n"
       ]
      },
      {
       "output_type": "stream",
       "stream": "stderr",
       "text": [
        "2014-10-15 21:11:30,645 - model - DEBUG - Step: 1/1\n"
       ]
      },
      {
       "output_type": "stream",
       "stream": "stderr",
       "text": [
        "DEBUG:model:Step: 1/1\n"
       ]
      },
      {
       "output_type": "stream",
       "stream": "stderr",
       "text": [
        "2014-10-15 21:11:30,651 - model - WARNING - Forcing data (/home/jaap/repos/wflow/examples/wflow_rhine_sbm/inmaps/IW000000.001) for timestep not present, returning 1.0\n"
       ]
      },
      {
       "output_type": "stream",
       "stream": "stderr",
       "text": [
        "2014-10-15 21:11:30,651 - model - WARNING - Forcing data (/home/jaap/repos/wflow/examples/wflow_rhine_sbm/inmaps/IW000000.001) for timestep not present, returning 1.0\n"
       ]
      },
      {
       "output_type": "stream",
       "stream": "stderr",
       "text": [
        "2014-10-15 21:11:30,651 - model - WARNING - Forcing data (/home/jaap/repos/wflow/examples/wflow_rhine_sbm/inmaps/IW000000.001) for timestep not present, returning 1.0\n"
       ]
      },
      {
       "output_type": "stream",
       "stream": "stderr",
       "text": [
        "2014-10-15 21:11:30,651 - model - WARNING - Forcing data (/home/jaap/repos/wflow/examples/wflow_rhine_sbm/inmaps/IW000000.001) for timestep not present, returning 1.0\n"
       ]
      },
      {
       "output_type": "stream",
       "stream": "stderr",
       "text": [
        "2014-10-15 21:11:30,651 - model - WARNING - Forcing data (/home/jaap/repos/wflow/examples/wflow_rhine_sbm/inmaps/IW000000.001) for timestep not present, returning 1.0\n"
       ]
      },
      {
       "output_type": "stream",
       "stream": "stderr",
       "text": [
        "2014-10-15 21:11:30,651 - model - WARNING - Forcing data (/home/jaap/repos/wflow/examples/wflow_rhine_sbm/inmaps/IW000000.001) for timestep not present, returning 1.0\n"
       ]
      },
      {
       "output_type": "stream",
       "stream": "stderr",
       "text": [
        "2014-10-15 21:11:30,651 - model - WARNING - Forcing data (/home/jaap/repos/wflow/examples/wflow_rhine_sbm/inmaps/IW000000.001) for timestep not present, returning 1.0\n"
       ]
      },
      {
       "output_type": "stream",
       "stream": "stderr",
       "text": [
        "2014-10-15 21:11:30,651 - model - WARNING - Forcing data (/home/jaap/repos/wflow/examples/wflow_rhine_sbm/inmaps/IW000000.001) for timestep not present, returning 1.0\n"
       ]
      },
      {
       "output_type": "stream",
       "stream": "stderr",
       "text": [
        "2014-10-15 21:11:30,651 - model - WARNING - Forcing data (/home/jaap/repos/wflow/examples/wflow_rhine_sbm/inmaps/IW000000.001) for timestep not present, returning 1.0\n"
       ]
      },
      {
       "output_type": "stream",
       "stream": "stderr",
       "text": [
        "2014-10-15 21:11:30,651 - model - WARNING - Forcing data (/home/jaap/repos/wflow/examples/wflow_rhine_sbm/inmaps/IW000000.001) for timestep not present, returning 1.0\n"
       ]
      },
      {
       "output_type": "stream",
       "stream": "stderr",
       "text": [
        "2014-10-15 21:11:30,651 - model - WARNING - Forcing data (/home/jaap/repos/wflow/examples/wflow_rhine_sbm/inmaps/IW000000.001) for timestep not present, returning 1.0\n"
       ]
      },
      {
       "output_type": "stream",
       "stream": "stderr",
       "text": [
        "2014-10-15 21:11:30,651 - model - WARNING - Forcing data (/home/jaap/repos/wflow/examples/wflow_rhine_sbm/inmaps/IW000000.001) for timestep not present, returning 1.0\n"
       ]
      },
      {
       "output_type": "stream",
       "stream": "stderr",
       "text": [
        "2014-10-15 21:11:30,651 - model - WARNING - Forcing data (/home/jaap/repos/wflow/examples/wflow_rhine_sbm/inmaps/IW000000.001) for timestep not present, returning 1.0\n"
       ]
      },
      {
       "output_type": "stream",
       "stream": "stderr",
       "text": [
        "WARNING:model:Forcing data (/home/jaap/repos/wflow/examples/wflow_rhine_sbm/inmaps/IW000000.001) for timestep not present, returning 1.0\n"
       ]
      },
      {
       "output_type": "stream",
       "stream": "stderr",
       "text": [
        "2014-10-15 21:11:30,735 - model - DEBUG - Step: 2/1\n"
       ]
      },
      {
       "output_type": "stream",
       "stream": "stderr",
       "text": [
        "2014-10-15 21:11:30,735 - model - DEBUG - Step: 2/1\n"
       ]
      },
      {
       "output_type": "stream",
       "stream": "stderr",
       "text": [
        "2014-10-15 21:11:30,735 - model - DEBUG - Step: 2/1\n"
       ]
      },
      {
       "output_type": "stream",
       "stream": "stderr",
       "text": [
        "2014-10-15 21:11:30,735 - model - DEBUG - Step: 2/1\n"
       ]
      },
      {
       "output_type": "stream",
       "stream": "stderr",
       "text": [
        "2014-10-15 21:11:30,735 - model - DEBUG - Step: 2/1\n"
       ]
      },
      {
       "output_type": "stream",
       "stream": "stderr",
       "text": [
        "2014-10-15 21:11:30,735 - model - DEBUG - Step: 2/1\n"
       ]
      },
      {
       "output_type": "stream",
       "stream": "stderr",
       "text": [
        "2014-10-15 21:11:30,735 - model - DEBUG - Step: 2/1\n"
       ]
      },
      {
       "output_type": "stream",
       "stream": "stderr",
       "text": [
        "2014-10-15 21:11:30,735 - model - DEBUG - Step: 2/1\n"
       ]
      },
      {
       "output_type": "stream",
       "stream": "stderr",
       "text": [
        "2014-10-15 21:11:30,735 - model - DEBUG - Step: 2/1\n"
       ]
      },
      {
       "output_type": "stream",
       "stream": "stderr",
       "text": [
        "2014-10-15 21:11:30,735 - model - DEBUG - Step: 2/1\n"
       ]
      },
      {
       "output_type": "stream",
       "stream": "stderr",
       "text": [
        "2014-10-15 21:11:30,735 - model - DEBUG - Step: 2/1\n"
       ]
      },
      {
       "output_type": "stream",
       "stream": "stderr",
       "text": [
        "2014-10-15 21:11:30,735 - model - DEBUG - Step: 2/1\n"
       ]
      },
      {
       "output_type": "stream",
       "stream": "stderr",
       "text": [
        "2014-10-15 21:11:30,735 - model - DEBUG - Step: 2/1\n"
       ]
      },
      {
       "output_type": "stream",
       "stream": "stderr",
       "text": [
        "DEBUG:model:Step: 2/1\n"
       ]
      },
      {
       "output_type": "stream",
       "stream": "stderr",
       "text": [
        "2014-10-15 21:11:30,838 - model - DEBUG - Step: 2/1\n"
       ]
      },
      {
       "output_type": "stream",
       "stream": "stderr",
       "text": [
        "2014-10-15 21:11:30,838 - model - DEBUG - Step: 2/1\n"
       ]
      },
      {
       "output_type": "stream",
       "stream": "stderr",
       "text": [
        "2014-10-15 21:11:30,838 - model - DEBUG - Step: 2/1\n"
       ]
      },
      {
       "output_type": "stream",
       "stream": "stderr",
       "text": [
        "2014-10-15 21:11:30,838 - model - DEBUG - Step: 2/1\n"
       ]
      },
      {
       "output_type": "stream",
       "stream": "stderr",
       "text": [
        "2014-10-15 21:11:30,838 - model - DEBUG - Step: 2/1\n"
       ]
      },
      {
       "output_type": "stream",
       "stream": "stderr",
       "text": [
        "2014-10-15 21:11:30,838 - model - DEBUG - Step: 2/1\n"
       ]
      },
      {
       "output_type": "stream",
       "stream": "stderr",
       "text": [
        "2014-10-15 21:11:30,838 - model - DEBUG - Step: 2/1\n"
       ]
      },
      {
       "output_type": "stream",
       "stream": "stderr",
       "text": [
        "2014-10-15 21:11:30,838 - model - DEBUG - Step: 2/1\n"
       ]
      },
      {
       "output_type": "stream",
       "stream": "stderr",
       "text": [
        "2014-10-15 21:11:30,838 - model - DEBUG - Step: 2/1\n"
       ]
      },
      {
       "output_type": "stream",
       "stream": "stderr",
       "text": [
        "2014-10-15 21:11:30,838 - model - DEBUG - Step: 2/1\n"
       ]
      },
      {
       "output_type": "stream",
       "stream": "stderr",
       "text": [
        "2014-10-15 21:11:30,838 - model - DEBUG - Step: 2/1\n"
       ]
      },
      {
       "output_type": "stream",
       "stream": "stderr",
       "text": [
        "2014-10-15 21:11:30,838 - model - DEBUG - Step: 2/1\n"
       ]
      },
      {
       "output_type": "stream",
       "stream": "stderr",
       "text": [
        "2014-10-15 21:11:30,838 - model - DEBUG - Step: 2/1\n"
       ]
      },
      {
       "output_type": "stream",
       "stream": "stderr",
       "text": [
        "DEBUG:model:Step: 2/1\n"
       ]
      },
      {
       "output_type": "stream",
       "stream": "stderr",
       "text": [
        "2014-10-15 21:11:30,842 - model - WARNING - Forcing data (/home/jaap/repos/wflow/examples/wflow_rhine_sbm/inmaps/IW000000.001) for timestep not present, returning 1.0\n"
       ]
      },
      {
       "output_type": "stream",
       "stream": "stderr",
       "text": [
        "2014-10-15 21:11:30,842 - model - WARNING - Forcing data (/home/jaap/repos/wflow/examples/wflow_rhine_sbm/inmaps/IW000000.001) for timestep not present, returning 1.0\n"
       ]
      },
      {
       "output_type": "stream",
       "stream": "stderr",
       "text": [
        "2014-10-15 21:11:30,842 - model - WARNING - Forcing data (/home/jaap/repos/wflow/examples/wflow_rhine_sbm/inmaps/IW000000.001) for timestep not present, returning 1.0\n"
       ]
      },
      {
       "output_type": "stream",
       "stream": "stderr",
       "text": [
        "2014-10-15 21:11:30,842 - model - WARNING - Forcing data (/home/jaap/repos/wflow/examples/wflow_rhine_sbm/inmaps/IW000000.001) for timestep not present, returning 1.0\n"
       ]
      },
      {
       "output_type": "stream",
       "stream": "stderr",
       "text": [
        "2014-10-15 21:11:30,842 - model - WARNING - Forcing data (/home/jaap/repos/wflow/examples/wflow_rhine_sbm/inmaps/IW000000.001) for timestep not present, returning 1.0\n"
       ]
      },
      {
       "output_type": "stream",
       "stream": "stderr",
       "text": [
        "2014-10-15 21:11:30,842 - model - WARNING - Forcing data (/home/jaap/repos/wflow/examples/wflow_rhine_sbm/inmaps/IW000000.001) for timestep not present, returning 1.0\n"
       ]
      },
      {
       "output_type": "stream",
       "stream": "stderr",
       "text": [
        "2014-10-15 21:11:30,842 - model - WARNING - Forcing data (/home/jaap/repos/wflow/examples/wflow_rhine_sbm/inmaps/IW000000.001) for timestep not present, returning 1.0\n"
       ]
      },
      {
       "output_type": "stream",
       "stream": "stderr",
       "text": [
        "2014-10-15 21:11:30,842 - model - WARNING - Forcing data (/home/jaap/repos/wflow/examples/wflow_rhine_sbm/inmaps/IW000000.001) for timestep not present, returning 1.0\n"
       ]
      },
      {
       "output_type": "stream",
       "stream": "stderr",
       "text": [
        "2014-10-15 21:11:30,842 - model - WARNING - Forcing data (/home/jaap/repos/wflow/examples/wflow_rhine_sbm/inmaps/IW000000.001) for timestep not present, returning 1.0\n"
       ]
      },
      {
       "output_type": "stream",
       "stream": "stderr",
       "text": [
        "2014-10-15 21:11:30,842 - model - WARNING - Forcing data (/home/jaap/repos/wflow/examples/wflow_rhine_sbm/inmaps/IW000000.001) for timestep not present, returning 1.0\n"
       ]
      },
      {
       "output_type": "stream",
       "stream": "stderr",
       "text": [
        "2014-10-15 21:11:30,842 - model - WARNING - Forcing data (/home/jaap/repos/wflow/examples/wflow_rhine_sbm/inmaps/IW000000.001) for timestep not present, returning 1.0\n"
       ]
      },
      {
       "output_type": "stream",
       "stream": "stderr",
       "text": [
        "2014-10-15 21:11:30,842 - model - WARNING - Forcing data (/home/jaap/repos/wflow/examples/wflow_rhine_sbm/inmaps/IW000000.001) for timestep not present, returning 1.0\n"
       ]
      },
      {
       "output_type": "stream",
       "stream": "stderr",
       "text": [
        "2014-10-15 21:11:30,842 - model - WARNING - Forcing data (/home/jaap/repos/wflow/examples/wflow_rhine_sbm/inmaps/IW000000.001) for timestep not present, returning 1.0\n"
       ]
      },
      {
       "output_type": "stream",
       "stream": "stderr",
       "text": [
        "WARNING:model:Forcing data (/home/jaap/repos/wflow/examples/wflow_rhine_sbm/inmaps/IW000000.001) for timestep not present, returning 1.0\n"
       ]
      },
      {
       "output_type": "stream",
       "stream": "stdout",
       "text": [
        "1995-02-01 00:00:00\n",
        "1995-02-02 00:00:00"
       ]
      },
      {
       "output_type": "stream",
       "stream": "stderr",
       "text": [
        "2014-10-15 21:11:30,909 - model - DEBUG - Step: 3/1\n"
       ]
      },
      {
       "output_type": "stream",
       "stream": "stderr",
       "text": [
        "2014-10-15 21:11:30,909 - model - DEBUG - Step: 3/1\n"
       ]
      },
      {
       "output_type": "stream",
       "stream": "stderr",
       "text": [
        "2014-10-15 21:11:30,909 - model - DEBUG - Step: 3/1\n"
       ]
      },
      {
       "output_type": "stream",
       "stream": "stderr",
       "text": [
        "2014-10-15 21:11:30,909 - model - DEBUG - Step: 3/1\n"
       ]
      },
      {
       "output_type": "stream",
       "stream": "stderr",
       "text": [
        "2014-10-15 21:11:30,909 - model - DEBUG - Step: 3/1\n"
       ]
      },
      {
       "output_type": "stream",
       "stream": "stderr",
       "text": [
        "2014-10-15 21:11:30,909 - model - DEBUG - Step: 3/1\n"
       ]
      },
      {
       "output_type": "stream",
       "stream": "stderr",
       "text": [
        "2014-10-15 21:11:30,909 - model - DEBUG - Step: 3/1\n"
       ]
      },
      {
       "output_type": "stream",
       "stream": "stderr",
       "text": [
        "2014-10-15 21:11:30,909 - model - DEBUG - Step: 3/1\n"
       ]
      },
      {
       "output_type": "stream",
       "stream": "stderr",
       "text": [
        "2014-10-15 21:11:30,909 - model - DEBUG - Step: 3/1\n"
       ]
      },
      {
       "output_type": "stream",
       "stream": "stderr",
       "text": [
        "2014-10-15 21:11:30,909 - model - DEBUG - Step: 3/1\n"
       ]
      },
      {
       "output_type": "stream",
       "stream": "stderr",
       "text": [
        "2014-10-15 21:11:30,909 - model - DEBUG - Step: 3/1\n"
       ]
      },
      {
       "output_type": "stream",
       "stream": "stderr",
       "text": [
        "2014-10-15 21:11:30,909 - model - DEBUG - Step: 3/1\n"
       ]
      },
      {
       "output_type": "stream",
       "stream": "stderr",
       "text": [
        "2014-10-15 21:11:30,909 - model - DEBUG - Step: 3/1\n"
       ]
      },
      {
       "output_type": "stream",
       "stream": "stderr",
       "text": [
        "DEBUG:model:Step: 3/1\n"
       ]
      },
      {
       "output_type": "stream",
       "stream": "stderr",
       "text": [
        "2014-10-15 21:11:31,006 - model - DEBUG - Step: 3/1\n"
       ]
      },
      {
       "output_type": "stream",
       "stream": "stderr",
       "text": [
        "2014-10-15 21:11:31,006 - model - DEBUG - Step: 3/1\n"
       ]
      },
      {
       "output_type": "stream",
       "stream": "stderr",
       "text": [
        "2014-10-15 21:11:31,006 - model - DEBUG - Step: 3/1\n"
       ]
      },
      {
       "output_type": "stream",
       "stream": "stderr",
       "text": [
        "2014-10-15 21:11:31,006 - model - DEBUG - Step: 3/1\n"
       ]
      },
      {
       "output_type": "stream",
       "stream": "stderr",
       "text": [
        "2014-10-15 21:11:31,006 - model - DEBUG - Step: 3/1\n"
       ]
      },
      {
       "output_type": "stream",
       "stream": "stderr",
       "text": [
        "2014-10-15 21:11:31,006 - model - DEBUG - Step: 3/1\n"
       ]
      },
      {
       "output_type": "stream",
       "stream": "stderr",
       "text": [
        "2014-10-15 21:11:31,006 - model - DEBUG - Step: 3/1\n"
       ]
      },
      {
       "output_type": "stream",
       "stream": "stderr",
       "text": [
        "2014-10-15 21:11:31,006 - model - DEBUG - Step: 3/1\n"
       ]
      },
      {
       "output_type": "stream",
       "stream": "stderr",
       "text": [
        "2014-10-15 21:11:31,006 - model - DEBUG - Step: 3/1\n"
       ]
      },
      {
       "output_type": "stream",
       "stream": "stderr",
       "text": [
        "2014-10-15 21:11:31,006 - model - DEBUG - Step: 3/1\n"
       ]
      },
      {
       "output_type": "stream",
       "stream": "stderr",
       "text": [
        "2014-10-15 21:11:31,006 - model - DEBUG - Step: 3/1\n"
       ]
      },
      {
       "output_type": "stream",
       "stream": "stderr",
       "text": [
        "2014-10-15 21:11:31,006 - model - DEBUG - Step: 3/1\n"
       ]
      },
      {
       "output_type": "stream",
       "stream": "stderr",
       "text": [
        "2014-10-15 21:11:31,006 - model - DEBUG - Step: 3/1\n"
       ]
      },
      {
       "output_type": "stream",
       "stream": "stderr",
       "text": [
        "DEBUG:model:Step: 3/1\n"
       ]
      },
      {
       "output_type": "stream",
       "stream": "stderr",
       "text": [
        "2014-10-15 21:11:31,010 - model - WARNING - Forcing data (/home/jaap/repos/wflow/examples/wflow_rhine_sbm/inmaps/IW000000.001) for timestep not present, returning 1.0\n"
       ]
      },
      {
       "output_type": "stream",
       "stream": "stderr",
       "text": [
        "2014-10-15 21:11:31,010 - model - WARNING - Forcing data (/home/jaap/repos/wflow/examples/wflow_rhine_sbm/inmaps/IW000000.001) for timestep not present, returning 1.0\n"
       ]
      },
      {
       "output_type": "stream",
       "stream": "stderr",
       "text": [
        "2014-10-15 21:11:31,010 - model - WARNING - Forcing data (/home/jaap/repos/wflow/examples/wflow_rhine_sbm/inmaps/IW000000.001) for timestep not present, returning 1.0\n"
       ]
      },
      {
       "output_type": "stream",
       "stream": "stderr",
       "text": [
        "2014-10-15 21:11:31,010 - model - WARNING - Forcing data (/home/jaap/repos/wflow/examples/wflow_rhine_sbm/inmaps/IW000000.001) for timestep not present, returning 1.0\n"
       ]
      },
      {
       "output_type": "stream",
       "stream": "stderr",
       "text": [
        "2014-10-15 21:11:31,010 - model - WARNING - Forcing data (/home/jaap/repos/wflow/examples/wflow_rhine_sbm/inmaps/IW000000.001) for timestep not present, returning 1.0\n"
       ]
      },
      {
       "output_type": "stream",
       "stream": "stderr",
       "text": [
        "2014-10-15 21:11:31,010 - model - WARNING - Forcing data (/home/jaap/repos/wflow/examples/wflow_rhine_sbm/inmaps/IW000000.001) for timestep not present, returning 1.0\n"
       ]
      },
      {
       "output_type": "stream",
       "stream": "stderr",
       "text": [
        "2014-10-15 21:11:31,010 - model - WARNING - Forcing data (/home/jaap/repos/wflow/examples/wflow_rhine_sbm/inmaps/IW000000.001) for timestep not present, returning 1.0\n"
       ]
      },
      {
       "output_type": "stream",
       "stream": "stderr",
       "text": [
        "2014-10-15 21:11:31,010 - model - WARNING - Forcing data (/home/jaap/repos/wflow/examples/wflow_rhine_sbm/inmaps/IW000000.001) for timestep not present, returning 1.0\n"
       ]
      },
      {
       "output_type": "stream",
       "stream": "stderr",
       "text": [
        "2014-10-15 21:11:31,010 - model - WARNING - Forcing data (/home/jaap/repos/wflow/examples/wflow_rhine_sbm/inmaps/IW000000.001) for timestep not present, returning 1.0\n"
       ]
      },
      {
       "output_type": "stream",
       "stream": "stderr",
       "text": [
        "2014-10-15 21:11:31,010 - model - WARNING - Forcing data (/home/jaap/repos/wflow/examples/wflow_rhine_sbm/inmaps/IW000000.001) for timestep not present, returning 1.0\n"
       ]
      },
      {
       "output_type": "stream",
       "stream": "stderr",
       "text": [
        "2014-10-15 21:11:31,010 - model - WARNING - Forcing data (/home/jaap/repos/wflow/examples/wflow_rhine_sbm/inmaps/IW000000.001) for timestep not present, returning 1.0\n"
       ]
      },
      {
       "output_type": "stream",
       "stream": "stderr",
       "text": [
        "2014-10-15 21:11:31,010 - model - WARNING - Forcing data (/home/jaap/repos/wflow/examples/wflow_rhine_sbm/inmaps/IW000000.001) for timestep not present, returning 1.0\n"
       ]
      },
      {
       "output_type": "stream",
       "stream": "stderr",
       "text": [
        "2014-10-15 21:11:31,010 - model - WARNING - Forcing data (/home/jaap/repos/wflow/examples/wflow_rhine_sbm/inmaps/IW000000.001) for timestep not present, returning 1.0\n"
       ]
      },
      {
       "output_type": "stream",
       "stream": "stderr",
       "text": [
        "WARNING:model:Forcing data (/home/jaap/repos/wflow/examples/wflow_rhine_sbm/inmaps/IW000000.001) for timestep not present, returning 1.0\n"
       ]
      },
      {
       "output_type": "stream",
       "stream": "stdout",
       "text": [
        "\n",
        "1995-02-03 00:00:00"
       ]
      },
      {
       "output_type": "stream",
       "stream": "stderr",
       "text": [
        "2014-10-15 21:11:31,071 - model - DEBUG - Step: 4/1\n"
       ]
      },
      {
       "output_type": "stream",
       "stream": "stderr",
       "text": [
        "2014-10-15 21:11:31,071 - model - DEBUG - Step: 4/1\n"
       ]
      },
      {
       "output_type": "stream",
       "stream": "stderr",
       "text": [
        "2014-10-15 21:11:31,071 - model - DEBUG - Step: 4/1\n"
       ]
      },
      {
       "output_type": "stream",
       "stream": "stderr",
       "text": [
        "2014-10-15 21:11:31,071 - model - DEBUG - Step: 4/1\n"
       ]
      },
      {
       "output_type": "stream",
       "stream": "stderr",
       "text": [
        "2014-10-15 21:11:31,071 - model - DEBUG - Step: 4/1\n"
       ]
      },
      {
       "output_type": "stream",
       "stream": "stderr",
       "text": [
        "2014-10-15 21:11:31,071 - model - DEBUG - Step: 4/1\n"
       ]
      },
      {
       "output_type": "stream",
       "stream": "stderr",
       "text": [
        "2014-10-15 21:11:31,071 - model - DEBUG - Step: 4/1\n"
       ]
      },
      {
       "output_type": "stream",
       "stream": "stderr",
       "text": [
        "2014-10-15 21:11:31,071 - model - DEBUG - Step: 4/1\n"
       ]
      },
      {
       "output_type": "stream",
       "stream": "stderr",
       "text": [
        "2014-10-15 21:11:31,071 - model - DEBUG - Step: 4/1\n"
       ]
      },
      {
       "output_type": "stream",
       "stream": "stderr",
       "text": [
        "2014-10-15 21:11:31,071 - model - DEBUG - Step: 4/1\n"
       ]
      },
      {
       "output_type": "stream",
       "stream": "stderr",
       "text": [
        "2014-10-15 21:11:31,071 - model - DEBUG - Step: 4/1\n"
       ]
      },
      {
       "output_type": "stream",
       "stream": "stderr",
       "text": [
        "2014-10-15 21:11:31,071 - model - DEBUG - Step: 4/1\n"
       ]
      },
      {
       "output_type": "stream",
       "stream": "stderr",
       "text": [
        "2014-10-15 21:11:31,071 - model - DEBUG - Step: 4/1\n"
       ]
      },
      {
       "output_type": "stream",
       "stream": "stderr",
       "text": [
        "DEBUG:model:Step: 4/1\n"
       ]
      },
      {
       "output_type": "stream",
       "stream": "stderr",
       "text": [
        "2014-10-15 21:11:31,160 - model - DEBUG - Step: 4/1\n"
       ]
      },
      {
       "output_type": "stream",
       "stream": "stderr",
       "text": [
        "2014-10-15 21:11:31,160 - model - DEBUG - Step: 4/1\n"
       ]
      },
      {
       "output_type": "stream",
       "stream": "stderr",
       "text": [
        "2014-10-15 21:11:31,160 - model - DEBUG - Step: 4/1\n"
       ]
      },
      {
       "output_type": "stream",
       "stream": "stderr",
       "text": [
        "2014-10-15 21:11:31,160 - model - DEBUG - Step: 4/1\n"
       ]
      },
      {
       "output_type": "stream",
       "stream": "stderr",
       "text": [
        "2014-10-15 21:11:31,160 - model - DEBUG - Step: 4/1\n"
       ]
      },
      {
       "output_type": "stream",
       "stream": "stderr",
       "text": [
        "2014-10-15 21:11:31,160 - model - DEBUG - Step: 4/1\n"
       ]
      },
      {
       "output_type": "stream",
       "stream": "stderr",
       "text": [
        "2014-10-15 21:11:31,160 - model - DEBUG - Step: 4/1\n"
       ]
      },
      {
       "output_type": "stream",
       "stream": "stderr",
       "text": [
        "2014-10-15 21:11:31,160 - model - DEBUG - Step: 4/1\n"
       ]
      },
      {
       "output_type": "stream",
       "stream": "stderr",
       "text": [
        "2014-10-15 21:11:31,160 - model - DEBUG - Step: 4/1\n"
       ]
      },
      {
       "output_type": "stream",
       "stream": "stderr",
       "text": [
        "2014-10-15 21:11:31,160 - model - DEBUG - Step: 4/1\n"
       ]
      },
      {
       "output_type": "stream",
       "stream": "stderr",
       "text": [
        "2014-10-15 21:11:31,160 - model - DEBUG - Step: 4/1\n"
       ]
      },
      {
       "output_type": "stream",
       "stream": "stderr",
       "text": [
        "2014-10-15 21:11:31,160 - model - DEBUG - Step: 4/1\n"
       ]
      },
      {
       "output_type": "stream",
       "stream": "stderr",
       "text": [
        "2014-10-15 21:11:31,160 - model - DEBUG - Step: 4/1\n"
       ]
      },
      {
       "output_type": "stream",
       "stream": "stderr",
       "text": [
        "DEBUG:model:Step: 4/1\n"
       ]
      },
      {
       "output_type": "stream",
       "stream": "stderr",
       "text": [
        "2014-10-15 21:11:31,164 - model - WARNING - Forcing data (/home/jaap/repos/wflow/examples/wflow_rhine_sbm/inmaps/IW000000.001) for timestep not present, returning 1.0\n"
       ]
      },
      {
       "output_type": "stream",
       "stream": "stderr",
       "text": [
        "2014-10-15 21:11:31,164 - model - WARNING - Forcing data (/home/jaap/repos/wflow/examples/wflow_rhine_sbm/inmaps/IW000000.001) for timestep not present, returning 1.0\n"
       ]
      },
      {
       "output_type": "stream",
       "stream": "stderr",
       "text": [
        "2014-10-15 21:11:31,164 - model - WARNING - Forcing data (/home/jaap/repos/wflow/examples/wflow_rhine_sbm/inmaps/IW000000.001) for timestep not present, returning 1.0\n"
       ]
      },
      {
       "output_type": "stream",
       "stream": "stderr",
       "text": [
        "2014-10-15 21:11:31,164 - model - WARNING - Forcing data (/home/jaap/repos/wflow/examples/wflow_rhine_sbm/inmaps/IW000000.001) for timestep not present, returning 1.0\n"
       ]
      },
      {
       "output_type": "stream",
       "stream": "stderr",
       "text": [
        "2014-10-15 21:11:31,164 - model - WARNING - Forcing data (/home/jaap/repos/wflow/examples/wflow_rhine_sbm/inmaps/IW000000.001) for timestep not present, returning 1.0\n"
       ]
      },
      {
       "output_type": "stream",
       "stream": "stderr",
       "text": [
        "2014-10-15 21:11:31,164 - model - WARNING - Forcing data (/home/jaap/repos/wflow/examples/wflow_rhine_sbm/inmaps/IW000000.001) for timestep not present, returning 1.0\n"
       ]
      },
      {
       "output_type": "stream",
       "stream": "stderr",
       "text": [
        "2014-10-15 21:11:31,164 - model - WARNING - Forcing data (/home/jaap/repos/wflow/examples/wflow_rhine_sbm/inmaps/IW000000.001) for timestep not present, returning 1.0\n"
       ]
      },
      {
       "output_type": "stream",
       "stream": "stderr",
       "text": [
        "2014-10-15 21:11:31,164 - model - WARNING - Forcing data (/home/jaap/repos/wflow/examples/wflow_rhine_sbm/inmaps/IW000000.001) for timestep not present, returning 1.0\n"
       ]
      },
      {
       "output_type": "stream",
       "stream": "stderr",
       "text": [
        "2014-10-15 21:11:31,164 - model - WARNING - Forcing data (/home/jaap/repos/wflow/examples/wflow_rhine_sbm/inmaps/IW000000.001) for timestep not present, returning 1.0\n"
       ]
      },
      {
       "output_type": "stream",
       "stream": "stderr",
       "text": [
        "2014-10-15 21:11:31,164 - model - WARNING - Forcing data (/home/jaap/repos/wflow/examples/wflow_rhine_sbm/inmaps/IW000000.001) for timestep not present, returning 1.0\n"
       ]
      },
      {
       "output_type": "stream",
       "stream": "stderr",
       "text": [
        "2014-10-15 21:11:31,164 - model - WARNING - Forcing data (/home/jaap/repos/wflow/examples/wflow_rhine_sbm/inmaps/IW000000.001) for timestep not present, returning 1.0\n"
       ]
      },
      {
       "output_type": "stream",
       "stream": "stderr",
       "text": [
        "2014-10-15 21:11:31,164 - model - WARNING - Forcing data (/home/jaap/repos/wflow/examples/wflow_rhine_sbm/inmaps/IW000000.001) for timestep not present, returning 1.0\n"
       ]
      },
      {
       "output_type": "stream",
       "stream": "stderr",
       "text": [
        "2014-10-15 21:11:31,164 - model - WARNING - Forcing data (/home/jaap/repos/wflow/examples/wflow_rhine_sbm/inmaps/IW000000.001) for timestep not present, returning 1.0\n"
       ]
      },
      {
       "output_type": "stream",
       "stream": "stderr",
       "text": [
        "WARNING:model:Forcing data (/home/jaap/repos/wflow/examples/wflow_rhine_sbm/inmaps/IW000000.001) for timestep not present, returning 1.0\n"
       ]
      },
      {
       "output_type": "stream",
       "stream": "stdout",
       "text": [
        "\n",
        "1995-02-04 00:00:00"
       ]
      },
      {
       "output_type": "stream",
       "stream": "stderr",
       "text": [
        "2014-10-15 21:11:31,218 - model - DEBUG - Step: 5/1\n"
       ]
      },
      {
       "output_type": "stream",
       "stream": "stderr",
       "text": [
        "2014-10-15 21:11:31,218 - model - DEBUG - Step: 5/1\n"
       ]
      },
      {
       "output_type": "stream",
       "stream": "stderr",
       "text": [
        "2014-10-15 21:11:31,218 - model - DEBUG - Step: 5/1\n"
       ]
      },
      {
       "output_type": "stream",
       "stream": "stderr",
       "text": [
        "2014-10-15 21:11:31,218 - model - DEBUG - Step: 5/1\n"
       ]
      },
      {
       "output_type": "stream",
       "stream": "stderr",
       "text": [
        "2014-10-15 21:11:31,218 - model - DEBUG - Step: 5/1\n"
       ]
      },
      {
       "output_type": "stream",
       "stream": "stderr",
       "text": [
        "2014-10-15 21:11:31,218 - model - DEBUG - Step: 5/1\n"
       ]
      },
      {
       "output_type": "stream",
       "stream": "stderr",
       "text": [
        "2014-10-15 21:11:31,218 - model - DEBUG - Step: 5/1\n"
       ]
      },
      {
       "output_type": "stream",
       "stream": "stderr",
       "text": [
        "2014-10-15 21:11:31,218 - model - DEBUG - Step: 5/1\n"
       ]
      },
      {
       "output_type": "stream",
       "stream": "stderr",
       "text": [
        "2014-10-15 21:11:31,218 - model - DEBUG - Step: 5/1\n"
       ]
      },
      {
       "output_type": "stream",
       "stream": "stderr",
       "text": [
        "2014-10-15 21:11:31,218 - model - DEBUG - Step: 5/1\n"
       ]
      },
      {
       "output_type": "stream",
       "stream": "stderr",
       "text": [
        "2014-10-15 21:11:31,218 - model - DEBUG - Step: 5/1\n"
       ]
      },
      {
       "output_type": "stream",
       "stream": "stderr",
       "text": [
        "2014-10-15 21:11:31,218 - model - DEBUG - Step: 5/1\n"
       ]
      },
      {
       "output_type": "stream",
       "stream": "stderr",
       "text": [
        "2014-10-15 21:11:31,218 - model - DEBUG - Step: 5/1\n"
       ]
      },
      {
       "output_type": "stream",
       "stream": "stderr",
       "text": [
        "DEBUG:model:Step: 5/1\n"
       ]
      },
      {
       "output_type": "stream",
       "stream": "stderr",
       "text": [
        "2014-10-15 21:11:31,314 - model - DEBUG - Step: 5/1\n"
       ]
      },
      {
       "output_type": "stream",
       "stream": "stderr",
       "text": [
        "2014-10-15 21:11:31,314 - model - DEBUG - Step: 5/1\n"
       ]
      },
      {
       "output_type": "stream",
       "stream": "stderr",
       "text": [
        "2014-10-15 21:11:31,314 - model - DEBUG - Step: 5/1\n"
       ]
      },
      {
       "output_type": "stream",
       "stream": "stderr",
       "text": [
        "2014-10-15 21:11:31,314 - model - DEBUG - Step: 5/1\n"
       ]
      },
      {
       "output_type": "stream",
       "stream": "stderr",
       "text": [
        "2014-10-15 21:11:31,314 - model - DEBUG - Step: 5/1\n"
       ]
      },
      {
       "output_type": "stream",
       "stream": "stderr",
       "text": [
        "2014-10-15 21:11:31,314 - model - DEBUG - Step: 5/1\n"
       ]
      },
      {
       "output_type": "stream",
       "stream": "stderr",
       "text": [
        "2014-10-15 21:11:31,314 - model - DEBUG - Step: 5/1\n"
       ]
      },
      {
       "output_type": "stream",
       "stream": "stderr",
       "text": [
        "2014-10-15 21:11:31,314 - model - DEBUG - Step: 5/1\n"
       ]
      },
      {
       "output_type": "stream",
       "stream": "stderr",
       "text": [
        "2014-10-15 21:11:31,314 - model - DEBUG - Step: 5/1\n"
       ]
      },
      {
       "output_type": "stream",
       "stream": "stderr",
       "text": [
        "2014-10-15 21:11:31,314 - model - DEBUG - Step: 5/1\n"
       ]
      },
      {
       "output_type": "stream",
       "stream": "stderr",
       "text": [
        "2014-10-15 21:11:31,314 - model - DEBUG - Step: 5/1\n"
       ]
      },
      {
       "output_type": "stream",
       "stream": "stderr",
       "text": [
        "2014-10-15 21:11:31,314 - model - DEBUG - Step: 5/1\n"
       ]
      },
      {
       "output_type": "stream",
       "stream": "stderr",
       "text": [
        "2014-10-15 21:11:31,314 - model - DEBUG - Step: 5/1\n"
       ]
      },
      {
       "output_type": "stream",
       "stream": "stderr",
       "text": [
        "DEBUG:model:Step: 5/1\n"
       ]
      },
      {
       "output_type": "stream",
       "stream": "stderr",
       "text": [
        "2014-10-15 21:11:31,317 - model - WARNING - Forcing data (/home/jaap/repos/wflow/examples/wflow_rhine_sbm/inmaps/IW000000.001) for timestep not present, returning 1.0\n"
       ]
      },
      {
       "output_type": "stream",
       "stream": "stderr",
       "text": [
        "2014-10-15 21:11:31,317 - model - WARNING - Forcing data (/home/jaap/repos/wflow/examples/wflow_rhine_sbm/inmaps/IW000000.001) for timestep not present, returning 1.0\n"
       ]
      },
      {
       "output_type": "stream",
       "stream": "stderr",
       "text": [
        "2014-10-15 21:11:31,317 - model - WARNING - Forcing data (/home/jaap/repos/wflow/examples/wflow_rhine_sbm/inmaps/IW000000.001) for timestep not present, returning 1.0\n"
       ]
      },
      {
       "output_type": "stream",
       "stream": "stderr",
       "text": [
        "2014-10-15 21:11:31,317 - model - WARNING - Forcing data (/home/jaap/repos/wflow/examples/wflow_rhine_sbm/inmaps/IW000000.001) for timestep not present, returning 1.0\n"
       ]
      },
      {
       "output_type": "stream",
       "stream": "stderr",
       "text": [
        "2014-10-15 21:11:31,317 - model - WARNING - Forcing data (/home/jaap/repos/wflow/examples/wflow_rhine_sbm/inmaps/IW000000.001) for timestep not present, returning 1.0\n"
       ]
      },
      {
       "output_type": "stream",
       "stream": "stderr",
       "text": [
        "2014-10-15 21:11:31,317 - model - WARNING - Forcing data (/home/jaap/repos/wflow/examples/wflow_rhine_sbm/inmaps/IW000000.001) for timestep not present, returning 1.0\n"
       ]
      },
      {
       "output_type": "stream",
       "stream": "stderr",
       "text": [
        "2014-10-15 21:11:31,317 - model - WARNING - Forcing data (/home/jaap/repos/wflow/examples/wflow_rhine_sbm/inmaps/IW000000.001) for timestep not present, returning 1.0\n"
       ]
      },
      {
       "output_type": "stream",
       "stream": "stderr",
       "text": [
        "2014-10-15 21:11:31,317 - model - WARNING - Forcing data (/home/jaap/repos/wflow/examples/wflow_rhine_sbm/inmaps/IW000000.001) for timestep not present, returning 1.0\n"
       ]
      },
      {
       "output_type": "stream",
       "stream": "stderr",
       "text": [
        "2014-10-15 21:11:31,317 - model - WARNING - Forcing data (/home/jaap/repos/wflow/examples/wflow_rhine_sbm/inmaps/IW000000.001) for timestep not present, returning 1.0\n"
       ]
      },
      {
       "output_type": "stream",
       "stream": "stderr",
       "text": [
        "2014-10-15 21:11:31,317 - model - WARNING - Forcing data (/home/jaap/repos/wflow/examples/wflow_rhine_sbm/inmaps/IW000000.001) for timestep not present, returning 1.0\n"
       ]
      },
      {
       "output_type": "stream",
       "stream": "stderr",
       "text": [
        "2014-10-15 21:11:31,317 - model - WARNING - Forcing data (/home/jaap/repos/wflow/examples/wflow_rhine_sbm/inmaps/IW000000.001) for timestep not present, returning 1.0\n"
       ]
      },
      {
       "output_type": "stream",
       "stream": "stderr",
       "text": [
        "2014-10-15 21:11:31,317 - model - WARNING - Forcing data (/home/jaap/repos/wflow/examples/wflow_rhine_sbm/inmaps/IW000000.001) for timestep not present, returning 1.0\n"
       ]
      },
      {
       "output_type": "stream",
       "stream": "stderr",
       "text": [
        "2014-10-15 21:11:31,317 - model - WARNING - Forcing data (/home/jaap/repos/wflow/examples/wflow_rhine_sbm/inmaps/IW000000.001) for timestep not present, returning 1.0\n"
       ]
      },
      {
       "output_type": "stream",
       "stream": "stderr",
       "text": [
        "WARNING:model:Forcing data (/home/jaap/repos/wflow/examples/wflow_rhine_sbm/inmaps/IW000000.001) for timestep not present, returning 1.0\n"
       ]
      },
      {
       "output_type": "stream",
       "stream": "stdout",
       "text": [
        "\n",
        "1995-02-05 00:00:00"
       ]
      },
      {
       "output_type": "stream",
       "stream": "stderr",
       "text": [
        "2014-10-15 21:11:31,377 - model - DEBUG - Step: 6/1\n"
       ]
      },
      {
       "output_type": "stream",
       "stream": "stderr",
       "text": [
        "2014-10-15 21:11:31,377 - model - DEBUG - Step: 6/1\n"
       ]
      },
      {
       "output_type": "stream",
       "stream": "stderr",
       "text": [
        "2014-10-15 21:11:31,377 - model - DEBUG - Step: 6/1\n"
       ]
      },
      {
       "output_type": "stream",
       "stream": "stderr",
       "text": [
        "2014-10-15 21:11:31,377 - model - DEBUG - Step: 6/1\n"
       ]
      },
      {
       "output_type": "stream",
       "stream": "stderr",
       "text": [
        "2014-10-15 21:11:31,377 - model - DEBUG - Step: 6/1\n"
       ]
      },
      {
       "output_type": "stream",
       "stream": "stderr",
       "text": [
        "2014-10-15 21:11:31,377 - model - DEBUG - Step: 6/1\n"
       ]
      },
      {
       "output_type": "stream",
       "stream": "stderr",
       "text": [
        "2014-10-15 21:11:31,377 - model - DEBUG - Step: 6/1\n"
       ]
      },
      {
       "output_type": "stream",
       "stream": "stderr",
       "text": [
        "2014-10-15 21:11:31,377 - model - DEBUG - Step: 6/1\n"
       ]
      },
      {
       "output_type": "stream",
       "stream": "stderr",
       "text": [
        "2014-10-15 21:11:31,377 - model - DEBUG - Step: 6/1\n"
       ]
      },
      {
       "output_type": "stream",
       "stream": "stderr",
       "text": [
        "2014-10-15 21:11:31,377 - model - DEBUG - Step: 6/1\n"
       ]
      },
      {
       "output_type": "stream",
       "stream": "stderr",
       "text": [
        "2014-10-15 21:11:31,377 - model - DEBUG - Step: 6/1\n"
       ]
      },
      {
       "output_type": "stream",
       "stream": "stderr",
       "text": [
        "2014-10-15 21:11:31,377 - model - DEBUG - Step: 6/1\n"
       ]
      },
      {
       "output_type": "stream",
       "stream": "stderr",
       "text": [
        "2014-10-15 21:11:31,377 - model - DEBUG - Step: 6/1\n"
       ]
      },
      {
       "output_type": "stream",
       "stream": "stderr",
       "text": [
        "DEBUG:model:Step: 6/1\n"
       ]
      },
      {
       "output_type": "stream",
       "stream": "stderr",
       "text": [
        "2014-10-15 21:11:31,470 - model - DEBUG - Step: 6/1\n"
       ]
      },
      {
       "output_type": "stream",
       "stream": "stderr",
       "text": [
        "2014-10-15 21:11:31,470 - model - DEBUG - Step: 6/1\n"
       ]
      },
      {
       "output_type": "stream",
       "stream": "stderr",
       "text": [
        "2014-10-15 21:11:31,470 - model - DEBUG - Step: 6/1\n"
       ]
      },
      {
       "output_type": "stream",
       "stream": "stderr",
       "text": [
        "2014-10-15 21:11:31,470 - model - DEBUG - Step: 6/1\n"
       ]
      },
      {
       "output_type": "stream",
       "stream": "stderr",
       "text": [
        "2014-10-15 21:11:31,470 - model - DEBUG - Step: 6/1\n"
       ]
      },
      {
       "output_type": "stream",
       "stream": "stderr",
       "text": [
        "2014-10-15 21:11:31,470 - model - DEBUG - Step: 6/1\n"
       ]
      },
      {
       "output_type": "stream",
       "stream": "stderr",
       "text": [
        "2014-10-15 21:11:31,470 - model - DEBUG - Step: 6/1\n"
       ]
      },
      {
       "output_type": "stream",
       "stream": "stderr",
       "text": [
        "2014-10-15 21:11:31,470 - model - DEBUG - Step: 6/1\n"
       ]
      },
      {
       "output_type": "stream",
       "stream": "stderr",
       "text": [
        "2014-10-15 21:11:31,470 - model - DEBUG - Step: 6/1\n"
       ]
      },
      {
       "output_type": "stream",
       "stream": "stderr",
       "text": [
        "2014-10-15 21:11:31,470 - model - DEBUG - Step: 6/1\n"
       ]
      },
      {
       "output_type": "stream",
       "stream": "stderr",
       "text": [
        "2014-10-15 21:11:31,470 - model - DEBUG - Step: 6/1\n"
       ]
      },
      {
       "output_type": "stream",
       "stream": "stderr",
       "text": [
        "2014-10-15 21:11:31,470 - model - DEBUG - Step: 6/1\n"
       ]
      },
      {
       "output_type": "stream",
       "stream": "stderr",
       "text": [
        "2014-10-15 21:11:31,470 - model - DEBUG - Step: 6/1\n"
       ]
      },
      {
       "output_type": "stream",
       "stream": "stderr",
       "text": [
        "DEBUG:model:Step: 6/1\n"
       ]
      },
      {
       "output_type": "stream",
       "stream": "stderr",
       "text": [
        "2014-10-15 21:11:31,473 - model - WARNING - Forcing data (/home/jaap/repos/wflow/examples/wflow_rhine_sbm/inmaps/IW000000.001) for timestep not present, returning 1.0\n"
       ]
      },
      {
       "output_type": "stream",
       "stream": "stderr",
       "text": [
        "2014-10-15 21:11:31,473 - model - WARNING - Forcing data (/home/jaap/repos/wflow/examples/wflow_rhine_sbm/inmaps/IW000000.001) for timestep not present, returning 1.0\n"
       ]
      },
      {
       "output_type": "stream",
       "stream": "stderr",
       "text": [
        "2014-10-15 21:11:31,473 - model - WARNING - Forcing data (/home/jaap/repos/wflow/examples/wflow_rhine_sbm/inmaps/IW000000.001) for timestep not present, returning 1.0\n"
       ]
      },
      {
       "output_type": "stream",
       "stream": "stderr",
       "text": [
        "2014-10-15 21:11:31,473 - model - WARNING - Forcing data (/home/jaap/repos/wflow/examples/wflow_rhine_sbm/inmaps/IW000000.001) for timestep not present, returning 1.0\n"
       ]
      },
      {
       "output_type": "stream",
       "stream": "stderr",
       "text": [
        "2014-10-15 21:11:31,473 - model - WARNING - Forcing data (/home/jaap/repos/wflow/examples/wflow_rhine_sbm/inmaps/IW000000.001) for timestep not present, returning 1.0\n"
       ]
      },
      {
       "output_type": "stream",
       "stream": "stderr",
       "text": [
        "2014-10-15 21:11:31,473 - model - WARNING - Forcing data (/home/jaap/repos/wflow/examples/wflow_rhine_sbm/inmaps/IW000000.001) for timestep not present, returning 1.0\n"
       ]
      },
      {
       "output_type": "stream",
       "stream": "stderr",
       "text": [
        "2014-10-15 21:11:31,473 - model - WARNING - Forcing data (/home/jaap/repos/wflow/examples/wflow_rhine_sbm/inmaps/IW000000.001) for timestep not present, returning 1.0\n"
       ]
      },
      {
       "output_type": "stream",
       "stream": "stderr",
       "text": [
        "2014-10-15 21:11:31,473 - model - WARNING - Forcing data (/home/jaap/repos/wflow/examples/wflow_rhine_sbm/inmaps/IW000000.001) for timestep not present, returning 1.0\n"
       ]
      },
      {
       "output_type": "stream",
       "stream": "stderr",
       "text": [
        "2014-10-15 21:11:31,473 - model - WARNING - Forcing data (/home/jaap/repos/wflow/examples/wflow_rhine_sbm/inmaps/IW000000.001) for timestep not present, returning 1.0\n"
       ]
      },
      {
       "output_type": "stream",
       "stream": "stderr",
       "text": [
        "2014-10-15 21:11:31,473 - model - WARNING - Forcing data (/home/jaap/repos/wflow/examples/wflow_rhine_sbm/inmaps/IW000000.001) for timestep not present, returning 1.0\n"
       ]
      },
      {
       "output_type": "stream",
       "stream": "stderr",
       "text": [
        "2014-10-15 21:11:31,473 - model - WARNING - Forcing data (/home/jaap/repos/wflow/examples/wflow_rhine_sbm/inmaps/IW000000.001) for timestep not present, returning 1.0\n"
       ]
      },
      {
       "output_type": "stream",
       "stream": "stderr",
       "text": [
        "2014-10-15 21:11:31,473 - model - WARNING - Forcing data (/home/jaap/repos/wflow/examples/wflow_rhine_sbm/inmaps/IW000000.001) for timestep not present, returning 1.0\n"
       ]
      },
      {
       "output_type": "stream",
       "stream": "stderr",
       "text": [
        "2014-10-15 21:11:31,473 - model - WARNING - Forcing data (/home/jaap/repos/wflow/examples/wflow_rhine_sbm/inmaps/IW000000.001) for timestep not present, returning 1.0\n"
       ]
      },
      {
       "output_type": "stream",
       "stream": "stderr",
       "text": [
        "WARNING:model:Forcing data (/home/jaap/repos/wflow/examples/wflow_rhine_sbm/inmaps/IW000000.001) for timestep not present, returning 1.0\n"
       ]
      },
      {
       "output_type": "stream",
       "stream": "stdout",
       "text": [
        "\n",
        "1995-02-06 00:00:00"
       ]
      },
      {
       "output_type": "stream",
       "stream": "stderr",
       "text": [
        "2014-10-15 21:11:31,527 - model - DEBUG - Step: 7/1\n"
       ]
      },
      {
       "output_type": "stream",
       "stream": "stderr",
       "text": [
        "2014-10-15 21:11:31,527 - model - DEBUG - Step: 7/1\n"
       ]
      },
      {
       "output_type": "stream",
       "stream": "stderr",
       "text": [
        "2014-10-15 21:11:31,527 - model - DEBUG - Step: 7/1\n"
       ]
      },
      {
       "output_type": "stream",
       "stream": "stderr",
       "text": [
        "2014-10-15 21:11:31,527 - model - DEBUG - Step: 7/1\n"
       ]
      },
      {
       "output_type": "stream",
       "stream": "stderr",
       "text": [
        "2014-10-15 21:11:31,527 - model - DEBUG - Step: 7/1\n"
       ]
      },
      {
       "output_type": "stream",
       "stream": "stderr",
       "text": [
        "2014-10-15 21:11:31,527 - model - DEBUG - Step: 7/1\n"
       ]
      },
      {
       "output_type": "stream",
       "stream": "stderr",
       "text": [
        "2014-10-15 21:11:31,527 - model - DEBUG - Step: 7/1\n"
       ]
      },
      {
       "output_type": "stream",
       "stream": "stderr",
       "text": [
        "2014-10-15 21:11:31,527 - model - DEBUG - Step: 7/1\n"
       ]
      },
      {
       "output_type": "stream",
       "stream": "stderr",
       "text": [
        "2014-10-15 21:11:31,527 - model - DEBUG - Step: 7/1\n"
       ]
      },
      {
       "output_type": "stream",
       "stream": "stderr",
       "text": [
        "2014-10-15 21:11:31,527 - model - DEBUG - Step: 7/1\n"
       ]
      },
      {
       "output_type": "stream",
       "stream": "stderr",
       "text": [
        "2014-10-15 21:11:31,527 - model - DEBUG - Step: 7/1\n"
       ]
      },
      {
       "output_type": "stream",
       "stream": "stderr",
       "text": [
        "2014-10-15 21:11:31,527 - model - DEBUG - Step: 7/1\n"
       ]
      },
      {
       "output_type": "stream",
       "stream": "stderr",
       "text": [
        "2014-10-15 21:11:31,527 - model - DEBUG - Step: 7/1\n"
       ]
      },
      {
       "output_type": "stream",
       "stream": "stderr",
       "text": [
        "DEBUG:model:Step: 7/1\n"
       ]
      },
      {
       "output_type": "stream",
       "stream": "stderr",
       "text": [
        "2014-10-15 21:11:31,627 - model - DEBUG - Step: 7/1\n"
       ]
      },
      {
       "output_type": "stream",
       "stream": "stderr",
       "text": [
        "2014-10-15 21:11:31,627 - model - DEBUG - Step: 7/1\n"
       ]
      },
      {
       "output_type": "stream",
       "stream": "stderr",
       "text": [
        "2014-10-15 21:11:31,627 - model - DEBUG - Step: 7/1\n"
       ]
      },
      {
       "output_type": "stream",
       "stream": "stderr",
       "text": [
        "2014-10-15 21:11:31,627 - model - DEBUG - Step: 7/1\n"
       ]
      },
      {
       "output_type": "stream",
       "stream": "stderr",
       "text": [
        "2014-10-15 21:11:31,627 - model - DEBUG - Step: 7/1\n"
       ]
      },
      {
       "output_type": "stream",
       "stream": "stderr",
       "text": [
        "2014-10-15 21:11:31,627 - model - DEBUG - Step: 7/1\n"
       ]
      },
      {
       "output_type": "stream",
       "stream": "stderr",
       "text": [
        "2014-10-15 21:11:31,627 - model - DEBUG - Step: 7/1\n"
       ]
      },
      {
       "output_type": "stream",
       "stream": "stderr",
       "text": [
        "2014-10-15 21:11:31,627 - model - DEBUG - Step: 7/1\n"
       ]
      },
      {
       "output_type": "stream",
       "stream": "stderr",
       "text": [
        "2014-10-15 21:11:31,627 - model - DEBUG - Step: 7/1\n"
       ]
      },
      {
       "output_type": "stream",
       "stream": "stderr",
       "text": [
        "2014-10-15 21:11:31,627 - model - DEBUG - Step: 7/1\n"
       ]
      },
      {
       "output_type": "stream",
       "stream": "stderr",
       "text": [
        "2014-10-15 21:11:31,627 - model - DEBUG - Step: 7/1\n"
       ]
      },
      {
       "output_type": "stream",
       "stream": "stderr",
       "text": [
        "2014-10-15 21:11:31,627 - model - DEBUG - Step: 7/1\n"
       ]
      },
      {
       "output_type": "stream",
       "stream": "stderr",
       "text": [
        "2014-10-15 21:11:31,627 - model - DEBUG - Step: 7/1\n"
       ]
      },
      {
       "output_type": "stream",
       "stream": "stderr",
       "text": [
        "DEBUG:model:Step: 7/1\n"
       ]
      },
      {
       "output_type": "stream",
       "stream": "stderr",
       "text": [
        "2014-10-15 21:11:31,631 - model - WARNING - Forcing data (/home/jaap/repos/wflow/examples/wflow_rhine_sbm/inmaps/IW000000.001) for timestep not present, returning 1.0\n"
       ]
      },
      {
       "output_type": "stream",
       "stream": "stderr",
       "text": [
        "2014-10-15 21:11:31,631 - model - WARNING - Forcing data (/home/jaap/repos/wflow/examples/wflow_rhine_sbm/inmaps/IW000000.001) for timestep not present, returning 1.0\n"
       ]
      },
      {
       "output_type": "stream",
       "stream": "stderr",
       "text": [
        "2014-10-15 21:11:31,631 - model - WARNING - Forcing data (/home/jaap/repos/wflow/examples/wflow_rhine_sbm/inmaps/IW000000.001) for timestep not present, returning 1.0\n"
       ]
      },
      {
       "output_type": "stream",
       "stream": "stderr",
       "text": [
        "2014-10-15 21:11:31,631 - model - WARNING - Forcing data (/home/jaap/repos/wflow/examples/wflow_rhine_sbm/inmaps/IW000000.001) for timestep not present, returning 1.0\n"
       ]
      },
      {
       "output_type": "stream",
       "stream": "stderr",
       "text": [
        "2014-10-15 21:11:31,631 - model - WARNING - Forcing data (/home/jaap/repos/wflow/examples/wflow_rhine_sbm/inmaps/IW000000.001) for timestep not present, returning 1.0\n"
       ]
      },
      {
       "output_type": "stream",
       "stream": "stderr",
       "text": [
        "2014-10-15 21:11:31,631 - model - WARNING - Forcing data (/home/jaap/repos/wflow/examples/wflow_rhine_sbm/inmaps/IW000000.001) for timestep not present, returning 1.0\n"
       ]
      },
      {
       "output_type": "stream",
       "stream": "stderr",
       "text": [
        "2014-10-15 21:11:31,631 - model - WARNING - Forcing data (/home/jaap/repos/wflow/examples/wflow_rhine_sbm/inmaps/IW000000.001) for timestep not present, returning 1.0\n"
       ]
      },
      {
       "output_type": "stream",
       "stream": "stderr",
       "text": [
        "2014-10-15 21:11:31,631 - model - WARNING - Forcing data (/home/jaap/repos/wflow/examples/wflow_rhine_sbm/inmaps/IW000000.001) for timestep not present, returning 1.0\n"
       ]
      },
      {
       "output_type": "stream",
       "stream": "stderr",
       "text": [
        "2014-10-15 21:11:31,631 - model - WARNING - Forcing data (/home/jaap/repos/wflow/examples/wflow_rhine_sbm/inmaps/IW000000.001) for timestep not present, returning 1.0\n"
       ]
      },
      {
       "output_type": "stream",
       "stream": "stderr",
       "text": [
        "2014-10-15 21:11:31,631 - model - WARNING - Forcing data (/home/jaap/repos/wflow/examples/wflow_rhine_sbm/inmaps/IW000000.001) for timestep not present, returning 1.0\n"
       ]
      },
      {
       "output_type": "stream",
       "stream": "stderr",
       "text": [
        "2014-10-15 21:11:31,631 - model - WARNING - Forcing data (/home/jaap/repos/wflow/examples/wflow_rhine_sbm/inmaps/IW000000.001) for timestep not present, returning 1.0\n"
       ]
      },
      {
       "output_type": "stream",
       "stream": "stderr",
       "text": [
        "2014-10-15 21:11:31,631 - model - WARNING - Forcing data (/home/jaap/repos/wflow/examples/wflow_rhine_sbm/inmaps/IW000000.001) for timestep not present, returning 1.0\n"
       ]
      },
      {
       "output_type": "stream",
       "stream": "stderr",
       "text": [
        "2014-10-15 21:11:31,631 - model - WARNING - Forcing data (/home/jaap/repos/wflow/examples/wflow_rhine_sbm/inmaps/IW000000.001) for timestep not present, returning 1.0\n"
       ]
      },
      {
       "output_type": "stream",
       "stream": "stderr",
       "text": [
        "WARNING:model:Forcing data (/home/jaap/repos/wflow/examples/wflow_rhine_sbm/inmaps/IW000000.001) for timestep not present, returning 1.0\n"
       ]
      },
      {
       "output_type": "stream",
       "stream": "stdout",
       "text": [
        "\n",
        "1995-02-07 00:00:00"
       ]
      },
      {
       "output_type": "stream",
       "stream": "stderr",
       "text": [
        "2014-10-15 21:11:31,682 - model - DEBUG - Step: 8/1\n"
       ]
      },
      {
       "output_type": "stream",
       "stream": "stderr",
       "text": [
        "2014-10-15 21:11:31,682 - model - DEBUG - Step: 8/1\n"
       ]
      },
      {
       "output_type": "stream",
       "stream": "stderr",
       "text": [
        "2014-10-15 21:11:31,682 - model - DEBUG - Step: 8/1\n"
       ]
      },
      {
       "output_type": "stream",
       "stream": "stderr",
       "text": [
        "2014-10-15 21:11:31,682 - model - DEBUG - Step: 8/1\n"
       ]
      },
      {
       "output_type": "stream",
       "stream": "stderr",
       "text": [
        "2014-10-15 21:11:31,682 - model - DEBUG - Step: 8/1\n"
       ]
      },
      {
       "output_type": "stream",
       "stream": "stderr",
       "text": [
        "2014-10-15 21:11:31,682 - model - DEBUG - Step: 8/1\n"
       ]
      },
      {
       "output_type": "stream",
       "stream": "stderr",
       "text": [
        "2014-10-15 21:11:31,682 - model - DEBUG - Step: 8/1\n"
       ]
      },
      {
       "output_type": "stream",
       "stream": "stderr",
       "text": [
        "2014-10-15 21:11:31,682 - model - DEBUG - Step: 8/1\n"
       ]
      },
      {
       "output_type": "stream",
       "stream": "stderr",
       "text": [
        "2014-10-15 21:11:31,682 - model - DEBUG - Step: 8/1\n"
       ]
      },
      {
       "output_type": "stream",
       "stream": "stderr",
       "text": [
        "2014-10-15 21:11:31,682 - model - DEBUG - Step: 8/1\n"
       ]
      },
      {
       "output_type": "stream",
       "stream": "stderr",
       "text": [
        "2014-10-15 21:11:31,682 - model - DEBUG - Step: 8/1\n"
       ]
      },
      {
       "output_type": "stream",
       "stream": "stderr",
       "text": [
        "2014-10-15 21:11:31,682 - model - DEBUG - Step: 8/1\n"
       ]
      },
      {
       "output_type": "stream",
       "stream": "stderr",
       "text": [
        "2014-10-15 21:11:31,682 - model - DEBUG - Step: 8/1\n"
       ]
      },
      {
       "output_type": "stream",
       "stream": "stderr",
       "text": [
        "DEBUG:model:Step: 8/1\n"
       ]
      },
      {
       "output_type": "stream",
       "stream": "stderr",
       "text": [
        "2014-10-15 21:11:31,779 - model - DEBUG - Step: 8/1\n"
       ]
      },
      {
       "output_type": "stream",
       "stream": "stderr",
       "text": [
        "2014-10-15 21:11:31,779 - model - DEBUG - Step: 8/1\n"
       ]
      },
      {
       "output_type": "stream",
       "stream": "stderr",
       "text": [
        "2014-10-15 21:11:31,779 - model - DEBUG - Step: 8/1\n"
       ]
      },
      {
       "output_type": "stream",
       "stream": "stderr",
       "text": [
        "2014-10-15 21:11:31,779 - model - DEBUG - Step: 8/1\n"
       ]
      },
      {
       "output_type": "stream",
       "stream": "stderr",
       "text": [
        "2014-10-15 21:11:31,779 - model - DEBUG - Step: 8/1\n"
       ]
      },
      {
       "output_type": "stream",
       "stream": "stderr",
       "text": [
        "2014-10-15 21:11:31,779 - model - DEBUG - Step: 8/1\n"
       ]
      },
      {
       "output_type": "stream",
       "stream": "stderr",
       "text": [
        "2014-10-15 21:11:31,779 - model - DEBUG - Step: 8/1\n"
       ]
      },
      {
       "output_type": "stream",
       "stream": "stderr",
       "text": [
        "2014-10-15 21:11:31,779 - model - DEBUG - Step: 8/1\n"
       ]
      },
      {
       "output_type": "stream",
       "stream": "stderr",
       "text": [
        "2014-10-15 21:11:31,779 - model - DEBUG - Step: 8/1\n"
       ]
      },
      {
       "output_type": "stream",
       "stream": "stderr",
       "text": [
        "2014-10-15 21:11:31,779 - model - DEBUG - Step: 8/1\n"
       ]
      },
      {
       "output_type": "stream",
       "stream": "stderr",
       "text": [
        "2014-10-15 21:11:31,779 - model - DEBUG - Step: 8/1\n"
       ]
      },
      {
       "output_type": "stream",
       "stream": "stderr",
       "text": [
        "2014-10-15 21:11:31,779 - model - DEBUG - Step: 8/1\n"
       ]
      },
      {
       "output_type": "stream",
       "stream": "stderr",
       "text": [
        "2014-10-15 21:11:31,779 - model - DEBUG - Step: 8/1\n"
       ]
      },
      {
       "output_type": "stream",
       "stream": "stderr",
       "text": [
        "DEBUG:model:Step: 8/1\n"
       ]
      },
      {
       "output_type": "stream",
       "stream": "stderr",
       "text": [
        "2014-10-15 21:11:31,782 - model - WARNING - Forcing data (/home/jaap/repos/wflow/examples/wflow_rhine_sbm/inmaps/IW000000.001) for timestep not present, returning 1.0\n"
       ]
      },
      {
       "output_type": "stream",
       "stream": "stderr",
       "text": [
        "2014-10-15 21:11:31,782 - model - WARNING - Forcing data (/home/jaap/repos/wflow/examples/wflow_rhine_sbm/inmaps/IW000000.001) for timestep not present, returning 1.0\n"
       ]
      },
      {
       "output_type": "stream",
       "stream": "stderr",
       "text": [
        "2014-10-15 21:11:31,782 - model - WARNING - Forcing data (/home/jaap/repos/wflow/examples/wflow_rhine_sbm/inmaps/IW000000.001) for timestep not present, returning 1.0\n"
       ]
      },
      {
       "output_type": "stream",
       "stream": "stderr",
       "text": [
        "2014-10-15 21:11:31,782 - model - WARNING - Forcing data (/home/jaap/repos/wflow/examples/wflow_rhine_sbm/inmaps/IW000000.001) for timestep not present, returning 1.0\n"
       ]
      },
      {
       "output_type": "stream",
       "stream": "stderr",
       "text": [
        "2014-10-15 21:11:31,782 - model - WARNING - Forcing data (/home/jaap/repos/wflow/examples/wflow_rhine_sbm/inmaps/IW000000.001) for timestep not present, returning 1.0\n"
       ]
      },
      {
       "output_type": "stream",
       "stream": "stderr",
       "text": [
        "2014-10-15 21:11:31,782 - model - WARNING - Forcing data (/home/jaap/repos/wflow/examples/wflow_rhine_sbm/inmaps/IW000000.001) for timestep not present, returning 1.0\n"
       ]
      },
      {
       "output_type": "stream",
       "stream": "stderr",
       "text": [
        "2014-10-15 21:11:31,782 - model - WARNING - Forcing data (/home/jaap/repos/wflow/examples/wflow_rhine_sbm/inmaps/IW000000.001) for timestep not present, returning 1.0\n"
       ]
      },
      {
       "output_type": "stream",
       "stream": "stderr",
       "text": [
        "2014-10-15 21:11:31,782 - model - WARNING - Forcing data (/home/jaap/repos/wflow/examples/wflow_rhine_sbm/inmaps/IW000000.001) for timestep not present, returning 1.0\n"
       ]
      },
      {
       "output_type": "stream",
       "stream": "stderr",
       "text": [
        "2014-10-15 21:11:31,782 - model - WARNING - Forcing data (/home/jaap/repos/wflow/examples/wflow_rhine_sbm/inmaps/IW000000.001) for timestep not present, returning 1.0\n"
       ]
      },
      {
       "output_type": "stream",
       "stream": "stderr",
       "text": [
        "2014-10-15 21:11:31,782 - model - WARNING - Forcing data (/home/jaap/repos/wflow/examples/wflow_rhine_sbm/inmaps/IW000000.001) for timestep not present, returning 1.0\n"
       ]
      },
      {
       "output_type": "stream",
       "stream": "stderr",
       "text": [
        "2014-10-15 21:11:31,782 - model - WARNING - Forcing data (/home/jaap/repos/wflow/examples/wflow_rhine_sbm/inmaps/IW000000.001) for timestep not present, returning 1.0\n"
       ]
      },
      {
       "output_type": "stream",
       "stream": "stderr",
       "text": [
        "2014-10-15 21:11:31,782 - model - WARNING - Forcing data (/home/jaap/repos/wflow/examples/wflow_rhine_sbm/inmaps/IW000000.001) for timestep not present, returning 1.0\n"
       ]
      },
      {
       "output_type": "stream",
       "stream": "stderr",
       "text": [
        "2014-10-15 21:11:31,782 - model - WARNING - Forcing data (/home/jaap/repos/wflow/examples/wflow_rhine_sbm/inmaps/IW000000.001) for timestep not present, returning 1.0\n"
       ]
      },
      {
       "output_type": "stream",
       "stream": "stderr",
       "text": [
        "WARNING:model:Forcing data (/home/jaap/repos/wflow/examples/wflow_rhine_sbm/inmaps/IW000000.001) for timestep not present, returning 1.0\n"
       ]
      },
      {
       "output_type": "stream",
       "stream": "stdout",
       "text": [
        "\n",
        "1995-02-08 00:00:00"
       ]
      },
      {
       "output_type": "stream",
       "stream": "stderr",
       "text": [
        "2014-10-15 21:11:31,836 - model - DEBUG - Step: 9/1\n"
       ]
      },
      {
       "output_type": "stream",
       "stream": "stderr",
       "text": [
        "2014-10-15 21:11:31,836 - model - DEBUG - Step: 9/1\n"
       ]
      },
      {
       "output_type": "stream",
       "stream": "stderr",
       "text": [
        "2014-10-15 21:11:31,836 - model - DEBUG - Step: 9/1\n"
       ]
      },
      {
       "output_type": "stream",
       "stream": "stderr",
       "text": [
        "2014-10-15 21:11:31,836 - model - DEBUG - Step: 9/1\n"
       ]
      },
      {
       "output_type": "stream",
       "stream": "stderr",
       "text": [
        "2014-10-15 21:11:31,836 - model - DEBUG - Step: 9/1\n"
       ]
      },
      {
       "output_type": "stream",
       "stream": "stderr",
       "text": [
        "2014-10-15 21:11:31,836 - model - DEBUG - Step: 9/1\n"
       ]
      },
      {
       "output_type": "stream",
       "stream": "stderr",
       "text": [
        "2014-10-15 21:11:31,836 - model - DEBUG - Step: 9/1\n"
       ]
      },
      {
       "output_type": "stream",
       "stream": "stderr",
       "text": [
        "2014-10-15 21:11:31,836 - model - DEBUG - Step: 9/1\n"
       ]
      },
      {
       "output_type": "stream",
       "stream": "stderr",
       "text": [
        "2014-10-15 21:11:31,836 - model - DEBUG - Step: 9/1\n"
       ]
      },
      {
       "output_type": "stream",
       "stream": "stderr",
       "text": [
        "2014-10-15 21:11:31,836 - model - DEBUG - Step: 9/1\n"
       ]
      },
      {
       "output_type": "stream",
       "stream": "stderr",
       "text": [
        "2014-10-15 21:11:31,836 - model - DEBUG - Step: 9/1\n"
       ]
      },
      {
       "output_type": "stream",
       "stream": "stderr",
       "text": [
        "2014-10-15 21:11:31,836 - model - DEBUG - Step: 9/1\n"
       ]
      },
      {
       "output_type": "stream",
       "stream": "stderr",
       "text": [
        "2014-10-15 21:11:31,836 - model - DEBUG - Step: 9/1\n"
       ]
      },
      {
       "output_type": "stream",
       "stream": "stderr",
       "text": [
        "DEBUG:model:Step: 9/1\n"
       ]
      },
      {
       "output_type": "stream",
       "stream": "stderr",
       "text": [
        "2014-10-15 21:11:31,928 - model - DEBUG - Step: 9/1\n"
       ]
      },
      {
       "output_type": "stream",
       "stream": "stderr",
       "text": [
        "2014-10-15 21:11:31,928 - model - DEBUG - Step: 9/1\n"
       ]
      },
      {
       "output_type": "stream",
       "stream": "stderr",
       "text": [
        "2014-10-15 21:11:31,928 - model - DEBUG - Step: 9/1\n"
       ]
      },
      {
       "output_type": "stream",
       "stream": "stderr",
       "text": [
        "2014-10-15 21:11:31,928 - model - DEBUG - Step: 9/1\n"
       ]
      },
      {
       "output_type": "stream",
       "stream": "stderr",
       "text": [
        "2014-10-15 21:11:31,928 - model - DEBUG - Step: 9/1\n"
       ]
      },
      {
       "output_type": "stream",
       "stream": "stderr",
       "text": [
        "2014-10-15 21:11:31,928 - model - DEBUG - Step: 9/1\n"
       ]
      },
      {
       "output_type": "stream",
       "stream": "stderr",
       "text": [
        "2014-10-15 21:11:31,928 - model - DEBUG - Step: 9/1\n"
       ]
      },
      {
       "output_type": "stream",
       "stream": "stderr",
       "text": [
        "2014-10-15 21:11:31,928 - model - DEBUG - Step: 9/1\n"
       ]
      },
      {
       "output_type": "stream",
       "stream": "stderr",
       "text": [
        "2014-10-15 21:11:31,928 - model - DEBUG - Step: 9/1\n"
       ]
      },
      {
       "output_type": "stream",
       "stream": "stderr",
       "text": [
        "2014-10-15 21:11:31,928 - model - DEBUG - Step: 9/1\n"
       ]
      },
      {
       "output_type": "stream",
       "stream": "stderr",
       "text": [
        "2014-10-15 21:11:31,928 - model - DEBUG - Step: 9/1\n"
       ]
      },
      {
       "output_type": "stream",
       "stream": "stderr",
       "text": [
        "2014-10-15 21:11:31,928 - model - DEBUG - Step: 9/1\n"
       ]
      },
      {
       "output_type": "stream",
       "stream": "stderr",
       "text": [
        "2014-10-15 21:11:31,928 - model - DEBUG - Step: 9/1\n"
       ]
      },
      {
       "output_type": "stream",
       "stream": "stderr",
       "text": [
        "DEBUG:model:Step: 9/1\n"
       ]
      },
      {
       "output_type": "stream",
       "stream": "stderr",
       "text": [
        "2014-10-15 21:11:31,931 - model - WARNING - Forcing data (/home/jaap/repos/wflow/examples/wflow_rhine_sbm/inmaps/IW000000.001) for timestep not present, returning 1.0\n"
       ]
      },
      {
       "output_type": "stream",
       "stream": "stderr",
       "text": [
        "2014-10-15 21:11:31,931 - model - WARNING - Forcing data (/home/jaap/repos/wflow/examples/wflow_rhine_sbm/inmaps/IW000000.001) for timestep not present, returning 1.0\n"
       ]
      },
      {
       "output_type": "stream",
       "stream": "stderr",
       "text": [
        "2014-10-15 21:11:31,931 - model - WARNING - Forcing data (/home/jaap/repos/wflow/examples/wflow_rhine_sbm/inmaps/IW000000.001) for timestep not present, returning 1.0\n"
       ]
      },
      {
       "output_type": "stream",
       "stream": "stderr",
       "text": [
        "2014-10-15 21:11:31,931 - model - WARNING - Forcing data (/home/jaap/repos/wflow/examples/wflow_rhine_sbm/inmaps/IW000000.001) for timestep not present, returning 1.0\n"
       ]
      },
      {
       "output_type": "stream",
       "stream": "stderr",
       "text": [
        "2014-10-15 21:11:31,931 - model - WARNING - Forcing data (/home/jaap/repos/wflow/examples/wflow_rhine_sbm/inmaps/IW000000.001) for timestep not present, returning 1.0\n"
       ]
      },
      {
       "output_type": "stream",
       "stream": "stderr",
       "text": [
        "2014-10-15 21:11:31,931 - model - WARNING - Forcing data (/home/jaap/repos/wflow/examples/wflow_rhine_sbm/inmaps/IW000000.001) for timestep not present, returning 1.0\n"
       ]
      },
      {
       "output_type": "stream",
       "stream": "stderr",
       "text": [
        "2014-10-15 21:11:31,931 - model - WARNING - Forcing data (/home/jaap/repos/wflow/examples/wflow_rhine_sbm/inmaps/IW000000.001) for timestep not present, returning 1.0\n"
       ]
      },
      {
       "output_type": "stream",
       "stream": "stderr",
       "text": [
        "2014-10-15 21:11:31,931 - model - WARNING - Forcing data (/home/jaap/repos/wflow/examples/wflow_rhine_sbm/inmaps/IW000000.001) for timestep not present, returning 1.0\n"
       ]
      },
      {
       "output_type": "stream",
       "stream": "stderr",
       "text": [
        "2014-10-15 21:11:31,931 - model - WARNING - Forcing data (/home/jaap/repos/wflow/examples/wflow_rhine_sbm/inmaps/IW000000.001) for timestep not present, returning 1.0\n"
       ]
      },
      {
       "output_type": "stream",
       "stream": "stderr",
       "text": [
        "2014-10-15 21:11:31,931 - model - WARNING - Forcing data (/home/jaap/repos/wflow/examples/wflow_rhine_sbm/inmaps/IW000000.001) for timestep not present, returning 1.0\n"
       ]
      },
      {
       "output_type": "stream",
       "stream": "stderr",
       "text": [
        "2014-10-15 21:11:31,931 - model - WARNING - Forcing data (/home/jaap/repos/wflow/examples/wflow_rhine_sbm/inmaps/IW000000.001) for timestep not present, returning 1.0\n"
       ]
      },
      {
       "output_type": "stream",
       "stream": "stderr",
       "text": [
        "2014-10-15 21:11:31,931 - model - WARNING - Forcing data (/home/jaap/repos/wflow/examples/wflow_rhine_sbm/inmaps/IW000000.001) for timestep not present, returning 1.0\n"
       ]
      },
      {
       "output_type": "stream",
       "stream": "stderr",
       "text": [
        "2014-10-15 21:11:31,931 - model - WARNING - Forcing data (/home/jaap/repos/wflow/examples/wflow_rhine_sbm/inmaps/IW000000.001) for timestep not present, returning 1.0\n"
       ]
      },
      {
       "output_type": "stream",
       "stream": "stderr",
       "text": [
        "WARNING:model:Forcing data (/home/jaap/repos/wflow/examples/wflow_rhine_sbm/inmaps/IW000000.001) for timestep not present, returning 1.0\n"
       ]
      },
      {
       "output_type": "stream",
       "stream": "stdout",
       "text": [
        "\n",
        "1995-02-09 00:00:00"
       ]
      },
      {
       "output_type": "stream",
       "stream": "stderr",
       "text": [
        "2014-10-15 21:11:31,983 - model - DEBUG - Step: 10/1\n"
       ]
      },
      {
       "output_type": "stream",
       "stream": "stderr",
       "text": [
        "2014-10-15 21:11:31,983 - model - DEBUG - Step: 10/1\n"
       ]
      },
      {
       "output_type": "stream",
       "stream": "stderr",
       "text": [
        "2014-10-15 21:11:31,983 - model - DEBUG - Step: 10/1\n"
       ]
      },
      {
       "output_type": "stream",
       "stream": "stderr",
       "text": [
        "2014-10-15 21:11:31,983 - model - DEBUG - Step: 10/1\n"
       ]
      },
      {
       "output_type": "stream",
       "stream": "stderr",
       "text": [
        "2014-10-15 21:11:31,983 - model - DEBUG - Step: 10/1\n"
       ]
      },
      {
       "output_type": "stream",
       "stream": "stderr",
       "text": [
        "2014-10-15 21:11:31,983 - model - DEBUG - Step: 10/1\n"
       ]
      },
      {
       "output_type": "stream",
       "stream": "stderr",
       "text": [
        "2014-10-15 21:11:31,983 - model - DEBUG - Step: 10/1\n"
       ]
      },
      {
       "output_type": "stream",
       "stream": "stderr",
       "text": [
        "2014-10-15 21:11:31,983 - model - DEBUG - Step: 10/1\n"
       ]
      },
      {
       "output_type": "stream",
       "stream": "stderr",
       "text": [
        "2014-10-15 21:11:31,983 - model - DEBUG - Step: 10/1\n"
       ]
      },
      {
       "output_type": "stream",
       "stream": "stderr",
       "text": [
        "2014-10-15 21:11:31,983 - model - DEBUG - Step: 10/1\n"
       ]
      },
      {
       "output_type": "stream",
       "stream": "stderr",
       "text": [
        "2014-10-15 21:11:31,983 - model - DEBUG - Step: 10/1\n"
       ]
      },
      {
       "output_type": "stream",
       "stream": "stderr",
       "text": [
        "2014-10-15 21:11:31,983 - model - DEBUG - Step: 10/1\n"
       ]
      },
      {
       "output_type": "stream",
       "stream": "stderr",
       "text": [
        "2014-10-15 21:11:31,983 - model - DEBUG - Step: 10/1\n"
       ]
      },
      {
       "output_type": "stream",
       "stream": "stderr",
       "text": [
        "DEBUG:model:Step: 10/1\n"
       ]
      },
      {
       "output_type": "stream",
       "stream": "stderr",
       "text": [
        "2014-10-15 21:11:32,078 - model - DEBUG - Step: 10/1\n"
       ]
      },
      {
       "output_type": "stream",
       "stream": "stderr",
       "text": [
        "2014-10-15 21:11:32,078 - model - DEBUG - Step: 10/1\n"
       ]
      },
      {
       "output_type": "stream",
       "stream": "stderr",
       "text": [
        "2014-10-15 21:11:32,078 - model - DEBUG - Step: 10/1\n"
       ]
      },
      {
       "output_type": "stream",
       "stream": "stderr",
       "text": [
        "2014-10-15 21:11:32,078 - model - DEBUG - Step: 10/1\n"
       ]
      },
      {
       "output_type": "stream",
       "stream": "stderr",
       "text": [
        "2014-10-15 21:11:32,078 - model - DEBUG - Step: 10/1\n"
       ]
      },
      {
       "output_type": "stream",
       "stream": "stderr",
       "text": [
        "2014-10-15 21:11:32,078 - model - DEBUG - Step: 10/1\n"
       ]
      },
      {
       "output_type": "stream",
       "stream": "stderr",
       "text": [
        "2014-10-15 21:11:32,078 - model - DEBUG - Step: 10/1\n"
       ]
      },
      {
       "output_type": "stream",
       "stream": "stderr",
       "text": [
        "2014-10-15 21:11:32,078 - model - DEBUG - Step: 10/1\n"
       ]
      },
      {
       "output_type": "stream",
       "stream": "stderr",
       "text": [
        "2014-10-15 21:11:32,078 - model - DEBUG - Step: 10/1\n"
       ]
      },
      {
       "output_type": "stream",
       "stream": "stderr",
       "text": [
        "2014-10-15 21:11:32,078 - model - DEBUG - Step: 10/1\n"
       ]
      },
      {
       "output_type": "stream",
       "stream": "stderr",
       "text": [
        "2014-10-15 21:11:32,078 - model - DEBUG - Step: 10/1\n"
       ]
      },
      {
       "output_type": "stream",
       "stream": "stderr",
       "text": [
        "2014-10-15 21:11:32,078 - model - DEBUG - Step: 10/1\n"
       ]
      },
      {
       "output_type": "stream",
       "stream": "stderr",
       "text": [
        "2014-10-15 21:11:32,078 - model - DEBUG - Step: 10/1\n"
       ]
      },
      {
       "output_type": "stream",
       "stream": "stderr",
       "text": [
        "DEBUG:model:Step: 10/1\n"
       ]
      },
      {
       "output_type": "stream",
       "stream": "stderr",
       "text": [
        "2014-10-15 21:11:32,082 - model - WARNING - Forcing data (/home/jaap/repos/wflow/examples/wflow_rhine_sbm/inmaps/IW000000.001) for timestep not present, returning 1.0\n"
       ]
      },
      {
       "output_type": "stream",
       "stream": "stderr",
       "text": [
        "2014-10-15 21:11:32,082 - model - WARNING - Forcing data (/home/jaap/repos/wflow/examples/wflow_rhine_sbm/inmaps/IW000000.001) for timestep not present, returning 1.0\n"
       ]
      },
      {
       "output_type": "stream",
       "stream": "stderr",
       "text": [
        "2014-10-15 21:11:32,082 - model - WARNING - Forcing data (/home/jaap/repos/wflow/examples/wflow_rhine_sbm/inmaps/IW000000.001) for timestep not present, returning 1.0\n"
       ]
      },
      {
       "output_type": "stream",
       "stream": "stderr",
       "text": [
        "2014-10-15 21:11:32,082 - model - WARNING - Forcing data (/home/jaap/repos/wflow/examples/wflow_rhine_sbm/inmaps/IW000000.001) for timestep not present, returning 1.0\n"
       ]
      },
      {
       "output_type": "stream",
       "stream": "stderr",
       "text": [
        "2014-10-15 21:11:32,082 - model - WARNING - Forcing data (/home/jaap/repos/wflow/examples/wflow_rhine_sbm/inmaps/IW000000.001) for timestep not present, returning 1.0\n"
       ]
      },
      {
       "output_type": "stream",
       "stream": "stderr",
       "text": [
        "2014-10-15 21:11:32,082 - model - WARNING - Forcing data (/home/jaap/repos/wflow/examples/wflow_rhine_sbm/inmaps/IW000000.001) for timestep not present, returning 1.0\n"
       ]
      },
      {
       "output_type": "stream",
       "stream": "stderr",
       "text": [
        "2014-10-15 21:11:32,082 - model - WARNING - Forcing data (/home/jaap/repos/wflow/examples/wflow_rhine_sbm/inmaps/IW000000.001) for timestep not present, returning 1.0\n"
       ]
      },
      {
       "output_type": "stream",
       "stream": "stderr",
       "text": [
        "2014-10-15 21:11:32,082 - model - WARNING - Forcing data (/home/jaap/repos/wflow/examples/wflow_rhine_sbm/inmaps/IW000000.001) for timestep not present, returning 1.0\n"
       ]
      },
      {
       "output_type": "stream",
       "stream": "stderr",
       "text": [
        "2014-10-15 21:11:32,082 - model - WARNING - Forcing data (/home/jaap/repos/wflow/examples/wflow_rhine_sbm/inmaps/IW000000.001) for timestep not present, returning 1.0\n"
       ]
      },
      {
       "output_type": "stream",
       "stream": "stderr",
       "text": [
        "2014-10-15 21:11:32,082 - model - WARNING - Forcing data (/home/jaap/repos/wflow/examples/wflow_rhine_sbm/inmaps/IW000000.001) for timestep not present, returning 1.0\n"
       ]
      },
      {
       "output_type": "stream",
       "stream": "stderr",
       "text": [
        "2014-10-15 21:11:32,082 - model - WARNING - Forcing data (/home/jaap/repos/wflow/examples/wflow_rhine_sbm/inmaps/IW000000.001) for timestep not present, returning 1.0\n"
       ]
      },
      {
       "output_type": "stream",
       "stream": "stderr",
       "text": [
        "2014-10-15 21:11:32,082 - model - WARNING - Forcing data (/home/jaap/repos/wflow/examples/wflow_rhine_sbm/inmaps/IW000000.001) for timestep not present, returning 1.0\n"
       ]
      },
      {
       "output_type": "stream",
       "stream": "stderr",
       "text": [
        "2014-10-15 21:11:32,082 - model - WARNING - Forcing data (/home/jaap/repos/wflow/examples/wflow_rhine_sbm/inmaps/IW000000.001) for timestep not present, returning 1.0\n"
       ]
      },
      {
       "output_type": "stream",
       "stream": "stderr",
       "text": [
        "WARNING:model:Forcing data (/home/jaap/repos/wflow/examples/wflow_rhine_sbm/inmaps/IW000000.001) for timestep not present, returning 1.0\n"
       ]
      },
      {
       "output_type": "stream",
       "stream": "stdout",
       "text": [
        "\n",
        "1995-02-10 00:00:00"
       ]
      },
      {
       "output_type": "stream",
       "stream": "stderr",
       "text": [
        "2014-10-15 21:11:32,134 - model - DEBUG - Step: 11/1\n"
       ]
      },
      {
       "output_type": "stream",
       "stream": "stderr",
       "text": [
        "2014-10-15 21:11:32,134 - model - DEBUG - Step: 11/1\n"
       ]
      },
      {
       "output_type": "stream",
       "stream": "stderr",
       "text": [
        "2014-10-15 21:11:32,134 - model - DEBUG - Step: 11/1\n"
       ]
      },
      {
       "output_type": "stream",
       "stream": "stderr",
       "text": [
        "2014-10-15 21:11:32,134 - model - DEBUG - Step: 11/1\n"
       ]
      },
      {
       "output_type": "stream",
       "stream": "stderr",
       "text": [
        "2014-10-15 21:11:32,134 - model - DEBUG - Step: 11/1\n"
       ]
      },
      {
       "output_type": "stream",
       "stream": "stderr",
       "text": [
        "2014-10-15 21:11:32,134 - model - DEBUG - Step: 11/1\n"
       ]
      },
      {
       "output_type": "stream",
       "stream": "stderr",
       "text": [
        "2014-10-15 21:11:32,134 - model - DEBUG - Step: 11/1\n"
       ]
      },
      {
       "output_type": "stream",
       "stream": "stderr",
       "text": [
        "2014-10-15 21:11:32,134 - model - DEBUG - Step: 11/1\n"
       ]
      },
      {
       "output_type": "stream",
       "stream": "stderr",
       "text": [
        "2014-10-15 21:11:32,134 - model - DEBUG - Step: 11/1\n"
       ]
      },
      {
       "output_type": "stream",
       "stream": "stderr",
       "text": [
        "2014-10-15 21:11:32,134 - model - DEBUG - Step: 11/1\n"
       ]
      },
      {
       "output_type": "stream",
       "stream": "stderr",
       "text": [
        "2014-10-15 21:11:32,134 - model - DEBUG - Step: 11/1\n"
       ]
      },
      {
       "output_type": "stream",
       "stream": "stderr",
       "text": [
        "2014-10-15 21:11:32,134 - model - DEBUG - Step: 11/1\n"
       ]
      },
      {
       "output_type": "stream",
       "stream": "stderr",
       "text": [
        "2014-10-15 21:11:32,134 - model - DEBUG - Step: 11/1\n"
       ]
      },
      {
       "output_type": "stream",
       "stream": "stderr",
       "text": [
        "DEBUG:model:Step: 11/1\n"
       ]
      },
      {
       "output_type": "stream",
       "stream": "stderr",
       "text": [
        "2014-10-15 21:11:32,227 - model - DEBUG - Step: 11/1\n"
       ]
      },
      {
       "output_type": "stream",
       "stream": "stderr",
       "text": [
        "2014-10-15 21:11:32,227 - model - DEBUG - Step: 11/1\n"
       ]
      },
      {
       "output_type": "stream",
       "stream": "stderr",
       "text": [
        "2014-10-15 21:11:32,227 - model - DEBUG - Step: 11/1\n"
       ]
      },
      {
       "output_type": "stream",
       "stream": "stderr",
       "text": [
        "2014-10-15 21:11:32,227 - model - DEBUG - Step: 11/1\n"
       ]
      },
      {
       "output_type": "stream",
       "stream": "stderr",
       "text": [
        "2014-10-15 21:11:32,227 - model - DEBUG - Step: 11/1\n"
       ]
      },
      {
       "output_type": "stream",
       "stream": "stderr",
       "text": [
        "2014-10-15 21:11:32,227 - model - DEBUG - Step: 11/1\n"
       ]
      },
      {
       "output_type": "stream",
       "stream": "stderr",
       "text": [
        "2014-10-15 21:11:32,227 - model - DEBUG - Step: 11/1\n"
       ]
      },
      {
       "output_type": "stream",
       "stream": "stderr",
       "text": [
        "2014-10-15 21:11:32,227 - model - DEBUG - Step: 11/1\n"
       ]
      },
      {
       "output_type": "stream",
       "stream": "stderr",
       "text": [
        "2014-10-15 21:11:32,227 - model - DEBUG - Step: 11/1\n"
       ]
      },
      {
       "output_type": "stream",
       "stream": "stderr",
       "text": [
        "2014-10-15 21:11:32,227 - model - DEBUG - Step: 11/1\n"
       ]
      },
      {
       "output_type": "stream",
       "stream": "stderr",
       "text": [
        "2014-10-15 21:11:32,227 - model - DEBUG - Step: 11/1\n"
       ]
      },
      {
       "output_type": "stream",
       "stream": "stderr",
       "text": [
        "2014-10-15 21:11:32,227 - model - DEBUG - Step: 11/1\n"
       ]
      },
      {
       "output_type": "stream",
       "stream": "stderr",
       "text": [
        "2014-10-15 21:11:32,227 - model - DEBUG - Step: 11/1\n"
       ]
      },
      {
       "output_type": "stream",
       "stream": "stderr",
       "text": [
        "DEBUG:model:Step: 11/1\n"
       ]
      },
      {
       "output_type": "stream",
       "stream": "stderr",
       "text": [
        "2014-10-15 21:11:32,231 - model - WARNING - Forcing data (/home/jaap/repos/wflow/examples/wflow_rhine_sbm/inmaps/IW000000.001) for timestep not present, returning 1.0\n"
       ]
      },
      {
       "output_type": "stream",
       "stream": "stderr",
       "text": [
        "2014-10-15 21:11:32,231 - model - WARNING - Forcing data (/home/jaap/repos/wflow/examples/wflow_rhine_sbm/inmaps/IW000000.001) for timestep not present, returning 1.0\n"
       ]
      },
      {
       "output_type": "stream",
       "stream": "stderr",
       "text": [
        "2014-10-15 21:11:32,231 - model - WARNING - Forcing data (/home/jaap/repos/wflow/examples/wflow_rhine_sbm/inmaps/IW000000.001) for timestep not present, returning 1.0\n"
       ]
      },
      {
       "output_type": "stream",
       "stream": "stderr",
       "text": [
        "2014-10-15 21:11:32,231 - model - WARNING - Forcing data (/home/jaap/repos/wflow/examples/wflow_rhine_sbm/inmaps/IW000000.001) for timestep not present, returning 1.0\n"
       ]
      },
      {
       "output_type": "stream",
       "stream": "stderr",
       "text": [
        "2014-10-15 21:11:32,231 - model - WARNING - Forcing data (/home/jaap/repos/wflow/examples/wflow_rhine_sbm/inmaps/IW000000.001) for timestep not present, returning 1.0\n"
       ]
      },
      {
       "output_type": "stream",
       "stream": "stderr",
       "text": [
        "2014-10-15 21:11:32,231 - model - WARNING - Forcing data (/home/jaap/repos/wflow/examples/wflow_rhine_sbm/inmaps/IW000000.001) for timestep not present, returning 1.0\n"
       ]
      },
      {
       "output_type": "stream",
       "stream": "stderr",
       "text": [
        "2014-10-15 21:11:32,231 - model - WARNING - Forcing data (/home/jaap/repos/wflow/examples/wflow_rhine_sbm/inmaps/IW000000.001) for timestep not present, returning 1.0\n"
       ]
      },
      {
       "output_type": "stream",
       "stream": "stderr",
       "text": [
        "2014-10-15 21:11:32,231 - model - WARNING - Forcing data (/home/jaap/repos/wflow/examples/wflow_rhine_sbm/inmaps/IW000000.001) for timestep not present, returning 1.0\n"
       ]
      },
      {
       "output_type": "stream",
       "stream": "stderr",
       "text": [
        "2014-10-15 21:11:32,231 - model - WARNING - Forcing data (/home/jaap/repos/wflow/examples/wflow_rhine_sbm/inmaps/IW000000.001) for timestep not present, returning 1.0\n"
       ]
      },
      {
       "output_type": "stream",
       "stream": "stderr",
       "text": [
        "2014-10-15 21:11:32,231 - model - WARNING - Forcing data (/home/jaap/repos/wflow/examples/wflow_rhine_sbm/inmaps/IW000000.001) for timestep not present, returning 1.0\n"
       ]
      },
      {
       "output_type": "stream",
       "stream": "stderr",
       "text": [
        "2014-10-15 21:11:32,231 - model - WARNING - Forcing data (/home/jaap/repos/wflow/examples/wflow_rhine_sbm/inmaps/IW000000.001) for timestep not present, returning 1.0\n"
       ]
      },
      {
       "output_type": "stream",
       "stream": "stderr",
       "text": [
        "2014-10-15 21:11:32,231 - model - WARNING - Forcing data (/home/jaap/repos/wflow/examples/wflow_rhine_sbm/inmaps/IW000000.001) for timestep not present, returning 1.0\n"
       ]
      },
      {
       "output_type": "stream",
       "stream": "stderr",
       "text": [
        "2014-10-15 21:11:32,231 - model - WARNING - Forcing data (/home/jaap/repos/wflow/examples/wflow_rhine_sbm/inmaps/IW000000.001) for timestep not present, returning 1.0\n"
       ]
      },
      {
       "output_type": "stream",
       "stream": "stderr",
       "text": [
        "WARNING:model:Forcing data (/home/jaap/repos/wflow/examples/wflow_rhine_sbm/inmaps/IW000000.001) for timestep not present, returning 1.0\n"
       ]
      },
      {
       "output_type": "stream",
       "stream": "stdout",
       "text": [
        "\n",
        "1995-02-11 00:00:00"
       ]
      },
      {
       "output_type": "stream",
       "stream": "stderr",
       "text": [
        "2014-10-15 21:11:32,285 - model - DEBUG - Step: 12/1\n"
       ]
      },
      {
       "output_type": "stream",
       "stream": "stderr",
       "text": [
        "2014-10-15 21:11:32,285 - model - DEBUG - Step: 12/1\n"
       ]
      },
      {
       "output_type": "stream",
       "stream": "stderr",
       "text": [
        "2014-10-15 21:11:32,285 - model - DEBUG - Step: 12/1\n"
       ]
      },
      {
       "output_type": "stream",
       "stream": "stderr",
       "text": [
        "2014-10-15 21:11:32,285 - model - DEBUG - Step: 12/1\n"
       ]
      },
      {
       "output_type": "stream",
       "stream": "stderr",
       "text": [
        "2014-10-15 21:11:32,285 - model - DEBUG - Step: 12/1\n"
       ]
      },
      {
       "output_type": "stream",
       "stream": "stderr",
       "text": [
        "2014-10-15 21:11:32,285 - model - DEBUG - Step: 12/1\n"
       ]
      },
      {
       "output_type": "stream",
       "stream": "stderr",
       "text": [
        "2014-10-15 21:11:32,285 - model - DEBUG - Step: 12/1\n"
       ]
      },
      {
       "output_type": "stream",
       "stream": "stderr",
       "text": [
        "2014-10-15 21:11:32,285 - model - DEBUG - Step: 12/1\n"
       ]
      },
      {
       "output_type": "stream",
       "stream": "stderr",
       "text": [
        "2014-10-15 21:11:32,285 - model - DEBUG - Step: 12/1\n"
       ]
      },
      {
       "output_type": "stream",
       "stream": "stderr",
       "text": [
        "2014-10-15 21:11:32,285 - model - DEBUG - Step: 12/1\n"
       ]
      },
      {
       "output_type": "stream",
       "stream": "stderr",
       "text": [
        "2014-10-15 21:11:32,285 - model - DEBUG - Step: 12/1\n"
       ]
      },
      {
       "output_type": "stream",
       "stream": "stderr",
       "text": [
        "2014-10-15 21:11:32,285 - model - DEBUG - Step: 12/1\n"
       ]
      },
      {
       "output_type": "stream",
       "stream": "stderr",
       "text": [
        "2014-10-15 21:11:32,285 - model - DEBUG - Step: 12/1\n"
       ]
      },
      {
       "output_type": "stream",
       "stream": "stderr",
       "text": [
        "DEBUG:model:Step: 12/1\n"
       ]
      },
      {
       "output_type": "stream",
       "stream": "stderr",
       "text": [
        "2014-10-15 21:11:32,385 - model - DEBUG - Step: 12/1\n"
       ]
      },
      {
       "output_type": "stream",
       "stream": "stderr",
       "text": [
        "2014-10-15 21:11:32,385 - model - DEBUG - Step: 12/1\n"
       ]
      },
      {
       "output_type": "stream",
       "stream": "stderr",
       "text": [
        "2014-10-15 21:11:32,385 - model - DEBUG - Step: 12/1\n"
       ]
      },
      {
       "output_type": "stream",
       "stream": "stderr",
       "text": [
        "2014-10-15 21:11:32,385 - model - DEBUG - Step: 12/1\n"
       ]
      },
      {
       "output_type": "stream",
       "stream": "stderr",
       "text": [
        "2014-10-15 21:11:32,385 - model - DEBUG - Step: 12/1\n"
       ]
      },
      {
       "output_type": "stream",
       "stream": "stderr",
       "text": [
        "2014-10-15 21:11:32,385 - model - DEBUG - Step: 12/1\n"
       ]
      },
      {
       "output_type": "stream",
       "stream": "stderr",
       "text": [
        "2014-10-15 21:11:32,385 - model - DEBUG - Step: 12/1\n"
       ]
      },
      {
       "output_type": "stream",
       "stream": "stderr",
       "text": [
        "2014-10-15 21:11:32,385 - model - DEBUG - Step: 12/1\n"
       ]
      },
      {
       "output_type": "stream",
       "stream": "stderr",
       "text": [
        "2014-10-15 21:11:32,385 - model - DEBUG - Step: 12/1\n"
       ]
      },
      {
       "output_type": "stream",
       "stream": "stderr",
       "text": [
        "2014-10-15 21:11:32,385 - model - DEBUG - Step: 12/1\n"
       ]
      },
      {
       "output_type": "stream",
       "stream": "stderr",
       "text": [
        "2014-10-15 21:11:32,385 - model - DEBUG - Step: 12/1\n"
       ]
      },
      {
       "output_type": "stream",
       "stream": "stderr",
       "text": [
        "2014-10-15 21:11:32,385 - model - DEBUG - Step: 12/1\n"
       ]
      },
      {
       "output_type": "stream",
       "stream": "stderr",
       "text": [
        "2014-10-15 21:11:32,385 - model - DEBUG - Step: 12/1\n"
       ]
      },
      {
       "output_type": "stream",
       "stream": "stderr",
       "text": [
        "DEBUG:model:Step: 12/1\n"
       ]
      },
      {
       "output_type": "stream",
       "stream": "stderr",
       "text": [
        "2014-10-15 21:11:32,390 - model - WARNING - Forcing data (/home/jaap/repos/wflow/examples/wflow_rhine_sbm/inmaps/IW000000.001) for timestep not present, returning 1.0\n"
       ]
      },
      {
       "output_type": "stream",
       "stream": "stderr",
       "text": [
        "2014-10-15 21:11:32,390 - model - WARNING - Forcing data (/home/jaap/repos/wflow/examples/wflow_rhine_sbm/inmaps/IW000000.001) for timestep not present, returning 1.0\n"
       ]
      },
      {
       "output_type": "stream",
       "stream": "stderr",
       "text": [
        "2014-10-15 21:11:32,390 - model - WARNING - Forcing data (/home/jaap/repos/wflow/examples/wflow_rhine_sbm/inmaps/IW000000.001) for timestep not present, returning 1.0\n"
       ]
      },
      {
       "output_type": "stream",
       "stream": "stderr",
       "text": [
        "2014-10-15 21:11:32,390 - model - WARNING - Forcing data (/home/jaap/repos/wflow/examples/wflow_rhine_sbm/inmaps/IW000000.001) for timestep not present, returning 1.0\n"
       ]
      },
      {
       "output_type": "stream",
       "stream": "stderr",
       "text": [
        "2014-10-15 21:11:32,390 - model - WARNING - Forcing data (/home/jaap/repos/wflow/examples/wflow_rhine_sbm/inmaps/IW000000.001) for timestep not present, returning 1.0\n"
       ]
      },
      {
       "output_type": "stream",
       "stream": "stderr",
       "text": [
        "2014-10-15 21:11:32,390 - model - WARNING - Forcing data (/home/jaap/repos/wflow/examples/wflow_rhine_sbm/inmaps/IW000000.001) for timestep not present, returning 1.0\n"
       ]
      },
      {
       "output_type": "stream",
       "stream": "stderr",
       "text": [
        "2014-10-15 21:11:32,390 - model - WARNING - Forcing data (/home/jaap/repos/wflow/examples/wflow_rhine_sbm/inmaps/IW000000.001) for timestep not present, returning 1.0\n"
       ]
      },
      {
       "output_type": "stream",
       "stream": "stderr",
       "text": [
        "2014-10-15 21:11:32,390 - model - WARNING - Forcing data (/home/jaap/repos/wflow/examples/wflow_rhine_sbm/inmaps/IW000000.001) for timestep not present, returning 1.0\n"
       ]
      },
      {
       "output_type": "stream",
       "stream": "stderr",
       "text": [
        "2014-10-15 21:11:32,390 - model - WARNING - Forcing data (/home/jaap/repos/wflow/examples/wflow_rhine_sbm/inmaps/IW000000.001) for timestep not present, returning 1.0\n"
       ]
      },
      {
       "output_type": "stream",
       "stream": "stderr",
       "text": [
        "2014-10-15 21:11:32,390 - model - WARNING - Forcing data (/home/jaap/repos/wflow/examples/wflow_rhine_sbm/inmaps/IW000000.001) for timestep not present, returning 1.0\n"
       ]
      },
      {
       "output_type": "stream",
       "stream": "stderr",
       "text": [
        "2014-10-15 21:11:32,390 - model - WARNING - Forcing data (/home/jaap/repos/wflow/examples/wflow_rhine_sbm/inmaps/IW000000.001) for timestep not present, returning 1.0\n"
       ]
      },
      {
       "output_type": "stream",
       "stream": "stderr",
       "text": [
        "2014-10-15 21:11:32,390 - model - WARNING - Forcing data (/home/jaap/repos/wflow/examples/wflow_rhine_sbm/inmaps/IW000000.001) for timestep not present, returning 1.0\n"
       ]
      },
      {
       "output_type": "stream",
       "stream": "stderr",
       "text": [
        "2014-10-15 21:11:32,390 - model - WARNING - Forcing data (/home/jaap/repos/wflow/examples/wflow_rhine_sbm/inmaps/IW000000.001) for timestep not present, returning 1.0\n"
       ]
      },
      {
       "output_type": "stream",
       "stream": "stderr",
       "text": [
        "WARNING:model:Forcing data (/home/jaap/repos/wflow/examples/wflow_rhine_sbm/inmaps/IW000000.001) for timestep not present, returning 1.0\n"
       ]
      },
      {
       "output_type": "stream",
       "stream": "stdout",
       "text": [
        "\n",
        "1995-02-12 00:00:00"
       ]
      },
      {
       "output_type": "stream",
       "stream": "stderr",
       "text": [
        "2014-10-15 21:11:32,441 - model - DEBUG - Step: 13/1\n"
       ]
      },
      {
       "output_type": "stream",
       "stream": "stderr",
       "text": [
        "2014-10-15 21:11:32,441 - model - DEBUG - Step: 13/1\n"
       ]
      },
      {
       "output_type": "stream",
       "stream": "stderr",
       "text": [
        "2014-10-15 21:11:32,441 - model - DEBUG - Step: 13/1\n"
       ]
      },
      {
       "output_type": "stream",
       "stream": "stderr",
       "text": [
        "2014-10-15 21:11:32,441 - model - DEBUG - Step: 13/1\n"
       ]
      },
      {
       "output_type": "stream",
       "stream": "stderr",
       "text": [
        "2014-10-15 21:11:32,441 - model - DEBUG - Step: 13/1\n"
       ]
      },
      {
       "output_type": "stream",
       "stream": "stderr",
       "text": [
        "2014-10-15 21:11:32,441 - model - DEBUG - Step: 13/1\n"
       ]
      },
      {
       "output_type": "stream",
       "stream": "stderr",
       "text": [
        "2014-10-15 21:11:32,441 - model - DEBUG - Step: 13/1\n"
       ]
      },
      {
       "output_type": "stream",
       "stream": "stderr",
       "text": [
        "2014-10-15 21:11:32,441 - model - DEBUG - Step: 13/1\n"
       ]
      },
      {
       "output_type": "stream",
       "stream": "stderr",
       "text": [
        "2014-10-15 21:11:32,441 - model - DEBUG - Step: 13/1\n"
       ]
      },
      {
       "output_type": "stream",
       "stream": "stderr",
       "text": [
        "2014-10-15 21:11:32,441 - model - DEBUG - Step: 13/1\n"
       ]
      },
      {
       "output_type": "stream",
       "stream": "stderr",
       "text": [
        "2014-10-15 21:11:32,441 - model - DEBUG - Step: 13/1\n"
       ]
      },
      {
       "output_type": "stream",
       "stream": "stderr",
       "text": [
        "2014-10-15 21:11:32,441 - model - DEBUG - Step: 13/1\n"
       ]
      },
      {
       "output_type": "stream",
       "stream": "stderr",
       "text": [
        "2014-10-15 21:11:32,441 - model - DEBUG - Step: 13/1\n"
       ]
      },
      {
       "output_type": "stream",
       "stream": "stderr",
       "text": [
        "DEBUG:model:Step: 13/1\n"
       ]
      },
      {
       "output_type": "stream",
       "stream": "stderr",
       "text": [
        "2014-10-15 21:11:32,563 - model - DEBUG - Step: 13/1\n"
       ]
      },
      {
       "output_type": "stream",
       "stream": "stderr",
       "text": [
        "2014-10-15 21:11:32,563 - model - DEBUG - Step: 13/1\n"
       ]
      },
      {
       "output_type": "stream",
       "stream": "stderr",
       "text": [
        "2014-10-15 21:11:32,563 - model - DEBUG - Step: 13/1\n"
       ]
      },
      {
       "output_type": "stream",
       "stream": "stderr",
       "text": [
        "2014-10-15 21:11:32,563 - model - DEBUG - Step: 13/1\n"
       ]
      },
      {
       "output_type": "stream",
       "stream": "stderr",
       "text": [
        "2014-10-15 21:11:32,563 - model - DEBUG - Step: 13/1\n"
       ]
      },
      {
       "output_type": "stream",
       "stream": "stderr",
       "text": [
        "2014-10-15 21:11:32,563 - model - DEBUG - Step: 13/1\n"
       ]
      },
      {
       "output_type": "stream",
       "stream": "stderr",
       "text": [
        "2014-10-15 21:11:32,563 - model - DEBUG - Step: 13/1\n"
       ]
      },
      {
       "output_type": "stream",
       "stream": "stderr",
       "text": [
        "2014-10-15 21:11:32,563 - model - DEBUG - Step: 13/1\n"
       ]
      },
      {
       "output_type": "stream",
       "stream": "stderr",
       "text": [
        "2014-10-15 21:11:32,563 - model - DEBUG - Step: 13/1\n"
       ]
      },
      {
       "output_type": "stream",
       "stream": "stderr",
       "text": [
        "2014-10-15 21:11:32,563 - model - DEBUG - Step: 13/1\n"
       ]
      },
      {
       "output_type": "stream",
       "stream": "stderr",
       "text": [
        "2014-10-15 21:11:32,563 - model - DEBUG - Step: 13/1\n"
       ]
      },
      {
       "output_type": "stream",
       "stream": "stderr",
       "text": [
        "2014-10-15 21:11:32,563 - model - DEBUG - Step: 13/1\n"
       ]
      },
      {
       "output_type": "stream",
       "stream": "stderr",
       "text": [
        "2014-10-15 21:11:32,563 - model - DEBUG - Step: 13/1\n"
       ]
      },
      {
       "output_type": "stream",
       "stream": "stderr",
       "text": [
        "DEBUG:model:Step: 13/1\n"
       ]
      },
      {
       "output_type": "stream",
       "stream": "stderr",
       "text": [
        "2014-10-15 21:11:32,567 - model - WARNING - Forcing data (/home/jaap/repos/wflow/examples/wflow_rhine_sbm/inmaps/IW000000.001) for timestep not present, returning 1.0\n"
       ]
      },
      {
       "output_type": "stream",
       "stream": "stderr",
       "text": [
        "2014-10-15 21:11:32,567 - model - WARNING - Forcing data (/home/jaap/repos/wflow/examples/wflow_rhine_sbm/inmaps/IW000000.001) for timestep not present, returning 1.0\n"
       ]
      },
      {
       "output_type": "stream",
       "stream": "stderr",
       "text": [
        "2014-10-15 21:11:32,567 - model - WARNING - Forcing data (/home/jaap/repos/wflow/examples/wflow_rhine_sbm/inmaps/IW000000.001) for timestep not present, returning 1.0\n"
       ]
      },
      {
       "output_type": "stream",
       "stream": "stderr",
       "text": [
        "2014-10-15 21:11:32,567 - model - WARNING - Forcing data (/home/jaap/repos/wflow/examples/wflow_rhine_sbm/inmaps/IW000000.001) for timestep not present, returning 1.0\n"
       ]
      },
      {
       "output_type": "stream",
       "stream": "stderr",
       "text": [
        "2014-10-15 21:11:32,567 - model - WARNING - Forcing data (/home/jaap/repos/wflow/examples/wflow_rhine_sbm/inmaps/IW000000.001) for timestep not present, returning 1.0\n"
       ]
      },
      {
       "output_type": "stream",
       "stream": "stderr",
       "text": [
        "2014-10-15 21:11:32,567 - model - WARNING - Forcing data (/home/jaap/repos/wflow/examples/wflow_rhine_sbm/inmaps/IW000000.001) for timestep not present, returning 1.0\n"
       ]
      },
      {
       "output_type": "stream",
       "stream": "stderr",
       "text": [
        "2014-10-15 21:11:32,567 - model - WARNING - Forcing data (/home/jaap/repos/wflow/examples/wflow_rhine_sbm/inmaps/IW000000.001) for timestep not present, returning 1.0\n"
       ]
      },
      {
       "output_type": "stream",
       "stream": "stderr",
       "text": [
        "2014-10-15 21:11:32,567 - model - WARNING - Forcing data (/home/jaap/repos/wflow/examples/wflow_rhine_sbm/inmaps/IW000000.001) for timestep not present, returning 1.0\n"
       ]
      },
      {
       "output_type": "stream",
       "stream": "stderr",
       "text": [
        "2014-10-15 21:11:32,567 - model - WARNING - Forcing data (/home/jaap/repos/wflow/examples/wflow_rhine_sbm/inmaps/IW000000.001) for timestep not present, returning 1.0\n"
       ]
      },
      {
       "output_type": "stream",
       "stream": "stderr",
       "text": [
        "2014-10-15 21:11:32,567 - model - WARNING - Forcing data (/home/jaap/repos/wflow/examples/wflow_rhine_sbm/inmaps/IW000000.001) for timestep not present, returning 1.0\n"
       ]
      },
      {
       "output_type": "stream",
       "stream": "stderr",
       "text": [
        "2014-10-15 21:11:32,567 - model - WARNING - Forcing data (/home/jaap/repos/wflow/examples/wflow_rhine_sbm/inmaps/IW000000.001) for timestep not present, returning 1.0\n"
       ]
      },
      {
       "output_type": "stream",
       "stream": "stderr",
       "text": [
        "2014-10-15 21:11:32,567 - model - WARNING - Forcing data (/home/jaap/repos/wflow/examples/wflow_rhine_sbm/inmaps/IW000000.001) for timestep not present, returning 1.0\n"
       ]
      },
      {
       "output_type": "stream",
       "stream": "stderr",
       "text": [
        "2014-10-15 21:11:32,567 - model - WARNING - Forcing data (/home/jaap/repos/wflow/examples/wflow_rhine_sbm/inmaps/IW000000.001) for timestep not present, returning 1.0\n"
       ]
      },
      {
       "output_type": "stream",
       "stream": "stderr",
       "text": [
        "WARNING:model:Forcing data (/home/jaap/repos/wflow/examples/wflow_rhine_sbm/inmaps/IW000000.001) for timestep not present, returning 1.0\n"
       ]
      },
      {
       "output_type": "stream",
       "stream": "stdout",
       "text": [
        "\n",
        "1995-02-13 00:00:00"
       ]
      },
      {
       "output_type": "stream",
       "stream": "stderr",
       "text": [
        "2014-10-15 21:11:32,628 - model - DEBUG - Step: 14/1\n"
       ]
      },
      {
       "output_type": "stream",
       "stream": "stderr",
       "text": [
        "2014-10-15 21:11:32,628 - model - DEBUG - Step: 14/1\n"
       ]
      },
      {
       "output_type": "stream",
       "stream": "stderr",
       "text": [
        "2014-10-15 21:11:32,628 - model - DEBUG - Step: 14/1\n"
       ]
      },
      {
       "output_type": "stream",
       "stream": "stderr",
       "text": [
        "2014-10-15 21:11:32,628 - model - DEBUG - Step: 14/1\n"
       ]
      },
      {
       "output_type": "stream",
       "stream": "stderr",
       "text": [
        "2014-10-15 21:11:32,628 - model - DEBUG - Step: 14/1\n"
       ]
      },
      {
       "output_type": "stream",
       "stream": "stderr",
       "text": [
        "2014-10-15 21:11:32,628 - model - DEBUG - Step: 14/1\n"
       ]
      },
      {
       "output_type": "stream",
       "stream": "stderr",
       "text": [
        "2014-10-15 21:11:32,628 - model - DEBUG - Step: 14/1\n"
       ]
      },
      {
       "output_type": "stream",
       "stream": "stderr",
       "text": [
        "2014-10-15 21:11:32,628 - model - DEBUG - Step: 14/1\n"
       ]
      },
      {
       "output_type": "stream",
       "stream": "stderr",
       "text": [
        "2014-10-15 21:11:32,628 - model - DEBUG - Step: 14/1\n"
       ]
      },
      {
       "output_type": "stream",
       "stream": "stderr",
       "text": [
        "2014-10-15 21:11:32,628 - model - DEBUG - Step: 14/1\n"
       ]
      },
      {
       "output_type": "stream",
       "stream": "stderr",
       "text": [
        "2014-10-15 21:11:32,628 - model - DEBUG - Step: 14/1\n"
       ]
      },
      {
       "output_type": "stream",
       "stream": "stderr",
       "text": [
        "2014-10-15 21:11:32,628 - model - DEBUG - Step: 14/1\n"
       ]
      },
      {
       "output_type": "stream",
       "stream": "stderr",
       "text": [
        "2014-10-15 21:11:32,628 - model - DEBUG - Step: 14/1\n"
       ]
      },
      {
       "output_type": "stream",
       "stream": "stderr",
       "text": [
        "DEBUG:model:Step: 14/1\n"
       ]
      },
      {
       "output_type": "stream",
       "stream": "stderr",
       "text": [
        "2014-10-15 21:11:32,734 - model - DEBUG - Step: 14/1\n"
       ]
      },
      {
       "output_type": "stream",
       "stream": "stderr",
       "text": [
        "2014-10-15 21:11:32,734 - model - DEBUG - Step: 14/1\n"
       ]
      },
      {
       "output_type": "stream",
       "stream": "stderr",
       "text": [
        "2014-10-15 21:11:32,734 - model - DEBUG - Step: 14/1\n"
       ]
      },
      {
       "output_type": "stream",
       "stream": "stderr",
       "text": [
        "2014-10-15 21:11:32,734 - model - DEBUG - Step: 14/1\n"
       ]
      },
      {
       "output_type": "stream",
       "stream": "stderr",
       "text": [
        "2014-10-15 21:11:32,734 - model - DEBUG - Step: 14/1\n"
       ]
      },
      {
       "output_type": "stream",
       "stream": "stderr",
       "text": [
        "2014-10-15 21:11:32,734 - model - DEBUG - Step: 14/1\n"
       ]
      },
      {
       "output_type": "stream",
       "stream": "stderr",
       "text": [
        "2014-10-15 21:11:32,734 - model - DEBUG - Step: 14/1\n"
       ]
      },
      {
       "output_type": "stream",
       "stream": "stderr",
       "text": [
        "2014-10-15 21:11:32,734 - model - DEBUG - Step: 14/1\n"
       ]
      },
      {
       "output_type": "stream",
       "stream": "stderr",
       "text": [
        "2014-10-15 21:11:32,734 - model - DEBUG - Step: 14/1\n"
       ]
      },
      {
       "output_type": "stream",
       "stream": "stderr",
       "text": [
        "2014-10-15 21:11:32,734 - model - DEBUG - Step: 14/1\n"
       ]
      },
      {
       "output_type": "stream",
       "stream": "stderr",
       "text": [
        "2014-10-15 21:11:32,734 - model - DEBUG - Step: 14/1\n"
       ]
      },
      {
       "output_type": "stream",
       "stream": "stderr",
       "text": [
        "2014-10-15 21:11:32,734 - model - DEBUG - Step: 14/1\n"
       ]
      },
      {
       "output_type": "stream",
       "stream": "stderr",
       "text": [
        "2014-10-15 21:11:32,734 - model - DEBUG - Step: 14/1\n"
       ]
      },
      {
       "output_type": "stream",
       "stream": "stderr",
       "text": [
        "DEBUG:model:Step: 14/1\n"
       ]
      },
      {
       "output_type": "stream",
       "stream": "stderr",
       "text": [
        "2014-10-15 21:11:32,739 - model - WARNING - Forcing data (/home/jaap/repos/wflow/examples/wflow_rhine_sbm/inmaps/IW000000.001) for timestep not present, returning 1.0\n"
       ]
      },
      {
       "output_type": "stream",
       "stream": "stderr",
       "text": [
        "2014-10-15 21:11:32,739 - model - WARNING - Forcing data (/home/jaap/repos/wflow/examples/wflow_rhine_sbm/inmaps/IW000000.001) for timestep not present, returning 1.0\n"
       ]
      },
      {
       "output_type": "stream",
       "stream": "stderr",
       "text": [
        "2014-10-15 21:11:32,739 - model - WARNING - Forcing data (/home/jaap/repos/wflow/examples/wflow_rhine_sbm/inmaps/IW000000.001) for timestep not present, returning 1.0\n"
       ]
      },
      {
       "output_type": "stream",
       "stream": "stderr",
       "text": [
        "2014-10-15 21:11:32,739 - model - WARNING - Forcing data (/home/jaap/repos/wflow/examples/wflow_rhine_sbm/inmaps/IW000000.001) for timestep not present, returning 1.0\n"
       ]
      },
      {
       "output_type": "stream",
       "stream": "stderr",
       "text": [
        "2014-10-15 21:11:32,739 - model - WARNING - Forcing data (/home/jaap/repos/wflow/examples/wflow_rhine_sbm/inmaps/IW000000.001) for timestep not present, returning 1.0\n"
       ]
      },
      {
       "output_type": "stream",
       "stream": "stderr",
       "text": [
        "2014-10-15 21:11:32,739 - model - WARNING - Forcing data (/home/jaap/repos/wflow/examples/wflow_rhine_sbm/inmaps/IW000000.001) for timestep not present, returning 1.0\n"
       ]
      },
      {
       "output_type": "stream",
       "stream": "stderr",
       "text": [
        "2014-10-15 21:11:32,739 - model - WARNING - Forcing data (/home/jaap/repos/wflow/examples/wflow_rhine_sbm/inmaps/IW000000.001) for timestep not present, returning 1.0\n"
       ]
      },
      {
       "output_type": "stream",
       "stream": "stderr",
       "text": [
        "2014-10-15 21:11:32,739 - model - WARNING - Forcing data (/home/jaap/repos/wflow/examples/wflow_rhine_sbm/inmaps/IW000000.001) for timestep not present, returning 1.0\n"
       ]
      },
      {
       "output_type": "stream",
       "stream": "stderr",
       "text": [
        "2014-10-15 21:11:32,739 - model - WARNING - Forcing data (/home/jaap/repos/wflow/examples/wflow_rhine_sbm/inmaps/IW000000.001) for timestep not present, returning 1.0\n"
       ]
      },
      {
       "output_type": "stream",
       "stream": "stderr",
       "text": [
        "2014-10-15 21:11:32,739 - model - WARNING - Forcing data (/home/jaap/repos/wflow/examples/wflow_rhine_sbm/inmaps/IW000000.001) for timestep not present, returning 1.0\n"
       ]
      },
      {
       "output_type": "stream",
       "stream": "stderr",
       "text": [
        "2014-10-15 21:11:32,739 - model - WARNING - Forcing data (/home/jaap/repos/wflow/examples/wflow_rhine_sbm/inmaps/IW000000.001) for timestep not present, returning 1.0\n"
       ]
      },
      {
       "output_type": "stream",
       "stream": "stderr",
       "text": [
        "2014-10-15 21:11:32,739 - model - WARNING - Forcing data (/home/jaap/repos/wflow/examples/wflow_rhine_sbm/inmaps/IW000000.001) for timestep not present, returning 1.0\n"
       ]
      },
      {
       "output_type": "stream",
       "stream": "stderr",
       "text": [
        "2014-10-15 21:11:32,739 - model - WARNING - Forcing data (/home/jaap/repos/wflow/examples/wflow_rhine_sbm/inmaps/IW000000.001) for timestep not present, returning 1.0\n"
       ]
      },
      {
       "output_type": "stream",
       "stream": "stderr",
       "text": [
        "WARNING:model:Forcing data (/home/jaap/repos/wflow/examples/wflow_rhine_sbm/inmaps/IW000000.001) for timestep not present, returning 1.0\n"
       ]
      },
      {
       "output_type": "stream",
       "stream": "stdout",
       "text": [
        "\n",
        "1995-02-14 00:00:00"
       ]
      },
      {
       "output_type": "stream",
       "stream": "stderr",
       "text": [
        "2014-10-15 21:11:32,801 - model - DEBUG - Step: 15/1\n"
       ]
      },
      {
       "output_type": "stream",
       "stream": "stderr",
       "text": [
        "2014-10-15 21:11:32,801 - model - DEBUG - Step: 15/1\n"
       ]
      },
      {
       "output_type": "stream",
       "stream": "stderr",
       "text": [
        "2014-10-15 21:11:32,801 - model - DEBUG - Step: 15/1\n"
       ]
      },
      {
       "output_type": "stream",
       "stream": "stderr",
       "text": [
        "2014-10-15 21:11:32,801 - model - DEBUG - Step: 15/1\n"
       ]
      },
      {
       "output_type": "stream",
       "stream": "stderr",
       "text": [
        "2014-10-15 21:11:32,801 - model - DEBUG - Step: 15/1\n"
       ]
      },
      {
       "output_type": "stream",
       "stream": "stderr",
       "text": [
        "2014-10-15 21:11:32,801 - model - DEBUG - Step: 15/1\n"
       ]
      },
      {
       "output_type": "stream",
       "stream": "stderr",
       "text": [
        "2014-10-15 21:11:32,801 - model - DEBUG - Step: 15/1\n"
       ]
      },
      {
       "output_type": "stream",
       "stream": "stderr",
       "text": [
        "2014-10-15 21:11:32,801 - model - DEBUG - Step: 15/1\n"
       ]
      },
      {
       "output_type": "stream",
       "stream": "stderr",
       "text": [
        "2014-10-15 21:11:32,801 - model - DEBUG - Step: 15/1\n"
       ]
      },
      {
       "output_type": "stream",
       "stream": "stderr",
       "text": [
        "2014-10-15 21:11:32,801 - model - DEBUG - Step: 15/1\n"
       ]
      },
      {
       "output_type": "stream",
       "stream": "stderr",
       "text": [
        "2014-10-15 21:11:32,801 - model - DEBUG - Step: 15/1\n"
       ]
      },
      {
       "output_type": "stream",
       "stream": "stderr",
       "text": [
        "2014-10-15 21:11:32,801 - model - DEBUG - Step: 15/1\n"
       ]
      },
      {
       "output_type": "stream",
       "stream": "stderr",
       "text": [
        "2014-10-15 21:11:32,801 - model - DEBUG - Step: 15/1\n"
       ]
      },
      {
       "output_type": "stream",
       "stream": "stderr",
       "text": [
        "DEBUG:model:Step: 15/1\n"
       ]
      },
      {
       "output_type": "stream",
       "stream": "stderr",
       "text": [
        "2014-10-15 21:11:32,908 - model - DEBUG - Step: 15/1\n"
       ]
      },
      {
       "output_type": "stream",
       "stream": "stderr",
       "text": [
        "2014-10-15 21:11:32,908 - model - DEBUG - Step: 15/1\n"
       ]
      },
      {
       "output_type": "stream",
       "stream": "stderr",
       "text": [
        "2014-10-15 21:11:32,908 - model - DEBUG - Step: 15/1\n"
       ]
      },
      {
       "output_type": "stream",
       "stream": "stderr",
       "text": [
        "2014-10-15 21:11:32,908 - model - DEBUG - Step: 15/1\n"
       ]
      },
      {
       "output_type": "stream",
       "stream": "stderr",
       "text": [
        "2014-10-15 21:11:32,908 - model - DEBUG - Step: 15/1\n"
       ]
      },
      {
       "output_type": "stream",
       "stream": "stderr",
       "text": [
        "2014-10-15 21:11:32,908 - model - DEBUG - Step: 15/1\n"
       ]
      },
      {
       "output_type": "stream",
       "stream": "stderr",
       "text": [
        "2014-10-15 21:11:32,908 - model - DEBUG - Step: 15/1\n"
       ]
      },
      {
       "output_type": "stream",
       "stream": "stderr",
       "text": [
        "2014-10-15 21:11:32,908 - model - DEBUG - Step: 15/1\n"
       ]
      },
      {
       "output_type": "stream",
       "stream": "stderr",
       "text": [
        "2014-10-15 21:11:32,908 - model - DEBUG - Step: 15/1\n"
       ]
      },
      {
       "output_type": "stream",
       "stream": "stderr",
       "text": [
        "2014-10-15 21:11:32,908 - model - DEBUG - Step: 15/1\n"
       ]
      },
      {
       "output_type": "stream",
       "stream": "stderr",
       "text": [
        "2014-10-15 21:11:32,908 - model - DEBUG - Step: 15/1\n"
       ]
      },
      {
       "output_type": "stream",
       "stream": "stderr",
       "text": [
        "2014-10-15 21:11:32,908 - model - DEBUG - Step: 15/1\n"
       ]
      },
      {
       "output_type": "stream",
       "stream": "stderr",
       "text": [
        "2014-10-15 21:11:32,908 - model - DEBUG - Step: 15/1\n"
       ]
      },
      {
       "output_type": "stream",
       "stream": "stderr",
       "text": [
        "DEBUG:model:Step: 15/1\n"
       ]
      },
      {
       "output_type": "stream",
       "stream": "stderr",
       "text": [
        "2014-10-15 21:11:32,911 - model - WARNING - Forcing data (/home/jaap/repos/wflow/examples/wflow_rhine_sbm/inmaps/IW000000.001) for timestep not present, returning 1.0\n"
       ]
      },
      {
       "output_type": "stream",
       "stream": "stderr",
       "text": [
        "2014-10-15 21:11:32,911 - model - WARNING - Forcing data (/home/jaap/repos/wflow/examples/wflow_rhine_sbm/inmaps/IW000000.001) for timestep not present, returning 1.0\n"
       ]
      },
      {
       "output_type": "stream",
       "stream": "stderr",
       "text": [
        "2014-10-15 21:11:32,911 - model - WARNING - Forcing data (/home/jaap/repos/wflow/examples/wflow_rhine_sbm/inmaps/IW000000.001) for timestep not present, returning 1.0\n"
       ]
      },
      {
       "output_type": "stream",
       "stream": "stderr",
       "text": [
        "2014-10-15 21:11:32,911 - model - WARNING - Forcing data (/home/jaap/repos/wflow/examples/wflow_rhine_sbm/inmaps/IW000000.001) for timestep not present, returning 1.0\n"
       ]
      },
      {
       "output_type": "stream",
       "stream": "stderr",
       "text": [
        "2014-10-15 21:11:32,911 - model - WARNING - Forcing data (/home/jaap/repos/wflow/examples/wflow_rhine_sbm/inmaps/IW000000.001) for timestep not present, returning 1.0\n"
       ]
      },
      {
       "output_type": "stream",
       "stream": "stderr",
       "text": [
        "2014-10-15 21:11:32,911 - model - WARNING - Forcing data (/home/jaap/repos/wflow/examples/wflow_rhine_sbm/inmaps/IW000000.001) for timestep not present, returning 1.0\n"
       ]
      },
      {
       "output_type": "stream",
       "stream": "stderr",
       "text": [
        "2014-10-15 21:11:32,911 - model - WARNING - Forcing data (/home/jaap/repos/wflow/examples/wflow_rhine_sbm/inmaps/IW000000.001) for timestep not present, returning 1.0\n"
       ]
      },
      {
       "output_type": "stream",
       "stream": "stderr",
       "text": [
        "2014-10-15 21:11:32,911 - model - WARNING - Forcing data (/home/jaap/repos/wflow/examples/wflow_rhine_sbm/inmaps/IW000000.001) for timestep not present, returning 1.0\n"
       ]
      },
      {
       "output_type": "stream",
       "stream": "stderr",
       "text": [
        "2014-10-15 21:11:32,911 - model - WARNING - Forcing data (/home/jaap/repos/wflow/examples/wflow_rhine_sbm/inmaps/IW000000.001) for timestep not present, returning 1.0\n"
       ]
      },
      {
       "output_type": "stream",
       "stream": "stderr",
       "text": [
        "2014-10-15 21:11:32,911 - model - WARNING - Forcing data (/home/jaap/repos/wflow/examples/wflow_rhine_sbm/inmaps/IW000000.001) for timestep not present, returning 1.0\n"
       ]
      },
      {
       "output_type": "stream",
       "stream": "stderr",
       "text": [
        "2014-10-15 21:11:32,911 - model - WARNING - Forcing data (/home/jaap/repos/wflow/examples/wflow_rhine_sbm/inmaps/IW000000.001) for timestep not present, returning 1.0\n"
       ]
      },
      {
       "output_type": "stream",
       "stream": "stderr",
       "text": [
        "2014-10-15 21:11:32,911 - model - WARNING - Forcing data (/home/jaap/repos/wflow/examples/wflow_rhine_sbm/inmaps/IW000000.001) for timestep not present, returning 1.0\n"
       ]
      },
      {
       "output_type": "stream",
       "stream": "stderr",
       "text": [
        "2014-10-15 21:11:32,911 - model - WARNING - Forcing data (/home/jaap/repos/wflow/examples/wflow_rhine_sbm/inmaps/IW000000.001) for timestep not present, returning 1.0\n"
       ]
      },
      {
       "output_type": "stream",
       "stream": "stderr",
       "text": [
        "WARNING:model:Forcing data (/home/jaap/repos/wflow/examples/wflow_rhine_sbm/inmaps/IW000000.001) for timestep not present, returning 1.0\n"
       ]
      },
      {
       "output_type": "stream",
       "stream": "stdout",
       "text": [
        "\n",
        "1995-02-15 00:00:00"
       ]
      },
      {
       "output_type": "stream",
       "stream": "stderr",
       "text": [
        "2014-10-15 21:11:32,959 - model - DEBUG - Step: 16/1\n"
       ]
      },
      {
       "output_type": "stream",
       "stream": "stderr",
       "text": [
        "2014-10-15 21:11:32,959 - model - DEBUG - Step: 16/1\n"
       ]
      },
      {
       "output_type": "stream",
       "stream": "stderr",
       "text": [
        "2014-10-15 21:11:32,959 - model - DEBUG - Step: 16/1\n"
       ]
      },
      {
       "output_type": "stream",
       "stream": "stderr",
       "text": [
        "2014-10-15 21:11:32,959 - model - DEBUG - Step: 16/1\n"
       ]
      },
      {
       "output_type": "stream",
       "stream": "stderr",
       "text": [
        "2014-10-15 21:11:32,959 - model - DEBUG - Step: 16/1\n"
       ]
      },
      {
       "output_type": "stream",
       "stream": "stderr",
       "text": [
        "2014-10-15 21:11:32,959 - model - DEBUG - Step: 16/1\n"
       ]
      },
      {
       "output_type": "stream",
       "stream": "stderr",
       "text": [
        "2014-10-15 21:11:32,959 - model - DEBUG - Step: 16/1\n"
       ]
      },
      {
       "output_type": "stream",
       "stream": "stderr",
       "text": [
        "2014-10-15 21:11:32,959 - model - DEBUG - Step: 16/1\n"
       ]
      },
      {
       "output_type": "stream",
       "stream": "stderr",
       "text": [
        "2014-10-15 21:11:32,959 - model - DEBUG - Step: 16/1\n"
       ]
      },
      {
       "output_type": "stream",
       "stream": "stderr",
       "text": [
        "2014-10-15 21:11:32,959 - model - DEBUG - Step: 16/1\n"
       ]
      },
      {
       "output_type": "stream",
       "stream": "stderr",
       "text": [
        "2014-10-15 21:11:32,959 - model - DEBUG - Step: 16/1\n"
       ]
      },
      {
       "output_type": "stream",
       "stream": "stderr",
       "text": [
        "2014-10-15 21:11:32,959 - model - DEBUG - Step: 16/1\n"
       ]
      },
      {
       "output_type": "stream",
       "stream": "stderr",
       "text": [
        "2014-10-15 21:11:32,959 - model - DEBUG - Step: 16/1\n"
       ]
      },
      {
       "output_type": "stream",
       "stream": "stderr",
       "text": [
        "DEBUG:model:Step: 16/1\n"
       ]
      },
      {
       "output_type": "stream",
       "stream": "stderr",
       "text": [
        "2014-10-15 21:11:33,049 - model - DEBUG - Step: 16/1\n"
       ]
      },
      {
       "output_type": "stream",
       "stream": "stderr",
       "text": [
        "2014-10-15 21:11:33,049 - model - DEBUG - Step: 16/1\n"
       ]
      },
      {
       "output_type": "stream",
       "stream": "stderr",
       "text": [
        "2014-10-15 21:11:33,049 - model - DEBUG - Step: 16/1\n"
       ]
      },
      {
       "output_type": "stream",
       "stream": "stderr",
       "text": [
        "2014-10-15 21:11:33,049 - model - DEBUG - Step: 16/1\n"
       ]
      },
      {
       "output_type": "stream",
       "stream": "stderr",
       "text": [
        "2014-10-15 21:11:33,049 - model - DEBUG - Step: 16/1\n"
       ]
      },
      {
       "output_type": "stream",
       "stream": "stderr",
       "text": [
        "2014-10-15 21:11:33,049 - model - DEBUG - Step: 16/1\n"
       ]
      },
      {
       "output_type": "stream",
       "stream": "stderr",
       "text": [
        "2014-10-15 21:11:33,049 - model - DEBUG - Step: 16/1\n"
       ]
      },
      {
       "output_type": "stream",
       "stream": "stderr",
       "text": [
        "2014-10-15 21:11:33,049 - model - DEBUG - Step: 16/1\n"
       ]
      },
      {
       "output_type": "stream",
       "stream": "stderr",
       "text": [
        "2014-10-15 21:11:33,049 - model - DEBUG - Step: 16/1\n"
       ]
      },
      {
       "output_type": "stream",
       "stream": "stderr",
       "text": [
        "2014-10-15 21:11:33,049 - model - DEBUG - Step: 16/1\n"
       ]
      },
      {
       "output_type": "stream",
       "stream": "stderr",
       "text": [
        "2014-10-15 21:11:33,049 - model - DEBUG - Step: 16/1\n"
       ]
      },
      {
       "output_type": "stream",
       "stream": "stderr",
       "text": [
        "2014-10-15 21:11:33,049 - model - DEBUG - Step: 16/1\n"
       ]
      },
      {
       "output_type": "stream",
       "stream": "stderr",
       "text": [
        "2014-10-15 21:11:33,049 - model - DEBUG - Step: 16/1\n"
       ]
      },
      {
       "output_type": "stream",
       "stream": "stderr",
       "text": [
        "DEBUG:model:Step: 16/1\n"
       ]
      },
      {
       "output_type": "stream",
       "stream": "stderr",
       "text": [
        "2014-10-15 21:11:33,052 - model - WARNING - Forcing data (/home/jaap/repos/wflow/examples/wflow_rhine_sbm/inmaps/IW000000.001) for timestep not present, returning 1.0\n"
       ]
      },
      {
       "output_type": "stream",
       "stream": "stderr",
       "text": [
        "2014-10-15 21:11:33,052 - model - WARNING - Forcing data (/home/jaap/repos/wflow/examples/wflow_rhine_sbm/inmaps/IW000000.001) for timestep not present, returning 1.0\n"
       ]
      },
      {
       "output_type": "stream",
       "stream": "stderr",
       "text": [
        "2014-10-15 21:11:33,052 - model - WARNING - Forcing data (/home/jaap/repos/wflow/examples/wflow_rhine_sbm/inmaps/IW000000.001) for timestep not present, returning 1.0\n"
       ]
      },
      {
       "output_type": "stream",
       "stream": "stderr",
       "text": [
        "2014-10-15 21:11:33,052 - model - WARNING - Forcing data (/home/jaap/repos/wflow/examples/wflow_rhine_sbm/inmaps/IW000000.001) for timestep not present, returning 1.0\n"
       ]
      },
      {
       "output_type": "stream",
       "stream": "stderr",
       "text": [
        "2014-10-15 21:11:33,052 - model - WARNING - Forcing data (/home/jaap/repos/wflow/examples/wflow_rhine_sbm/inmaps/IW000000.001) for timestep not present, returning 1.0\n"
       ]
      },
      {
       "output_type": "stream",
       "stream": "stderr",
       "text": [
        "2014-10-15 21:11:33,052 - model - WARNING - Forcing data (/home/jaap/repos/wflow/examples/wflow_rhine_sbm/inmaps/IW000000.001) for timestep not present, returning 1.0\n"
       ]
      },
      {
       "output_type": "stream",
       "stream": "stderr",
       "text": [
        "2014-10-15 21:11:33,052 - model - WARNING - Forcing data (/home/jaap/repos/wflow/examples/wflow_rhine_sbm/inmaps/IW000000.001) for timestep not present, returning 1.0\n"
       ]
      },
      {
       "output_type": "stream",
       "stream": "stderr",
       "text": [
        "2014-10-15 21:11:33,052 - model - WARNING - Forcing data (/home/jaap/repos/wflow/examples/wflow_rhine_sbm/inmaps/IW000000.001) for timestep not present, returning 1.0\n"
       ]
      },
      {
       "output_type": "stream",
       "stream": "stderr",
       "text": [
        "2014-10-15 21:11:33,052 - model - WARNING - Forcing data (/home/jaap/repos/wflow/examples/wflow_rhine_sbm/inmaps/IW000000.001) for timestep not present, returning 1.0\n"
       ]
      },
      {
       "output_type": "stream",
       "stream": "stderr",
       "text": [
        "2014-10-15 21:11:33,052 - model - WARNING - Forcing data (/home/jaap/repos/wflow/examples/wflow_rhine_sbm/inmaps/IW000000.001) for timestep not present, returning 1.0\n"
       ]
      },
      {
       "output_type": "stream",
       "stream": "stderr",
       "text": [
        "2014-10-15 21:11:33,052 - model - WARNING - Forcing data (/home/jaap/repos/wflow/examples/wflow_rhine_sbm/inmaps/IW000000.001) for timestep not present, returning 1.0\n"
       ]
      },
      {
       "output_type": "stream",
       "stream": "stderr",
       "text": [
        "2014-10-15 21:11:33,052 - model - WARNING - Forcing data (/home/jaap/repos/wflow/examples/wflow_rhine_sbm/inmaps/IW000000.001) for timestep not present, returning 1.0\n"
       ]
      },
      {
       "output_type": "stream",
       "stream": "stderr",
       "text": [
        "2014-10-15 21:11:33,052 - model - WARNING - Forcing data (/home/jaap/repos/wflow/examples/wflow_rhine_sbm/inmaps/IW000000.001) for timestep not present, returning 1.0\n"
       ]
      },
      {
       "output_type": "stream",
       "stream": "stderr",
       "text": [
        "WARNING:model:Forcing data (/home/jaap/repos/wflow/examples/wflow_rhine_sbm/inmaps/IW000000.001) for timestep not present, returning 1.0\n"
       ]
      },
      {
       "output_type": "stream",
       "stream": "stdout",
       "text": [
        "\n",
        "1995-02-16 00:00:00"
       ]
      },
      {
       "output_type": "stream",
       "stream": "stderr",
       "text": [
        "2014-10-15 21:11:33,104 - model - DEBUG - Step: 17/1\n"
       ]
      },
      {
       "output_type": "stream",
       "stream": "stderr",
       "text": [
        "2014-10-15 21:11:33,104 - model - DEBUG - Step: 17/1\n"
       ]
      },
      {
       "output_type": "stream",
       "stream": "stderr",
       "text": [
        "2014-10-15 21:11:33,104 - model - DEBUG - Step: 17/1\n"
       ]
      },
      {
       "output_type": "stream",
       "stream": "stderr",
       "text": [
        "2014-10-15 21:11:33,104 - model - DEBUG - Step: 17/1\n"
       ]
      },
      {
       "output_type": "stream",
       "stream": "stderr",
       "text": [
        "2014-10-15 21:11:33,104 - model - DEBUG - Step: 17/1\n"
       ]
      },
      {
       "output_type": "stream",
       "stream": "stderr",
       "text": [
        "2014-10-15 21:11:33,104 - model - DEBUG - Step: 17/1\n"
       ]
      },
      {
       "output_type": "stream",
       "stream": "stderr",
       "text": [
        "2014-10-15 21:11:33,104 - model - DEBUG - Step: 17/1\n"
       ]
      },
      {
       "output_type": "stream",
       "stream": "stderr",
       "text": [
        "2014-10-15 21:11:33,104 - model - DEBUG - Step: 17/1\n"
       ]
      },
      {
       "output_type": "stream",
       "stream": "stderr",
       "text": [
        "2014-10-15 21:11:33,104 - model - DEBUG - Step: 17/1\n"
       ]
      },
      {
       "output_type": "stream",
       "stream": "stderr",
       "text": [
        "2014-10-15 21:11:33,104 - model - DEBUG - Step: 17/1\n"
       ]
      },
      {
       "output_type": "stream",
       "stream": "stderr",
       "text": [
        "2014-10-15 21:11:33,104 - model - DEBUG - Step: 17/1\n"
       ]
      },
      {
       "output_type": "stream",
       "stream": "stderr",
       "text": [
        "2014-10-15 21:11:33,104 - model - DEBUG - Step: 17/1\n"
       ]
      },
      {
       "output_type": "stream",
       "stream": "stderr",
       "text": [
        "2014-10-15 21:11:33,104 - model - DEBUG - Step: 17/1\n"
       ]
      },
      {
       "output_type": "stream",
       "stream": "stderr",
       "text": [
        "DEBUG:model:Step: 17/1\n"
       ]
      },
      {
       "output_type": "stream",
       "stream": "stderr",
       "text": [
        "2014-10-15 21:11:33,233 - model - DEBUG - Step: 17/1\n"
       ]
      },
      {
       "output_type": "stream",
       "stream": "stderr",
       "text": [
        "2014-10-15 21:11:33,233 - model - DEBUG - Step: 17/1\n"
       ]
      },
      {
       "output_type": "stream",
       "stream": "stderr",
       "text": [
        "2014-10-15 21:11:33,233 - model - DEBUG - Step: 17/1\n"
       ]
      },
      {
       "output_type": "stream",
       "stream": "stderr",
       "text": [
        "2014-10-15 21:11:33,233 - model - DEBUG - Step: 17/1\n"
       ]
      },
      {
       "output_type": "stream",
       "stream": "stderr",
       "text": [
        "2014-10-15 21:11:33,233 - model - DEBUG - Step: 17/1\n"
       ]
      },
      {
       "output_type": "stream",
       "stream": "stderr",
       "text": [
        "2014-10-15 21:11:33,233 - model - DEBUG - Step: 17/1\n"
       ]
      },
      {
       "output_type": "stream",
       "stream": "stderr",
       "text": [
        "2014-10-15 21:11:33,233 - model - DEBUG - Step: 17/1\n"
       ]
      },
      {
       "output_type": "stream",
       "stream": "stderr",
       "text": [
        "2014-10-15 21:11:33,233 - model - DEBUG - Step: 17/1\n"
       ]
      },
      {
       "output_type": "stream",
       "stream": "stderr",
       "text": [
        "2014-10-15 21:11:33,233 - model - DEBUG - Step: 17/1\n"
       ]
      },
      {
       "output_type": "stream",
       "stream": "stderr",
       "text": [
        "2014-10-15 21:11:33,233 - model - DEBUG - Step: 17/1\n"
       ]
      },
      {
       "output_type": "stream",
       "stream": "stderr",
       "text": [
        "2014-10-15 21:11:33,233 - model - DEBUG - Step: 17/1\n"
       ]
      },
      {
       "output_type": "stream",
       "stream": "stderr",
       "text": [
        "2014-10-15 21:11:33,233 - model - DEBUG - Step: 17/1\n"
       ]
      },
      {
       "output_type": "stream",
       "stream": "stderr",
       "text": [
        "2014-10-15 21:11:33,233 - model - DEBUG - Step: 17/1\n"
       ]
      },
      {
       "output_type": "stream",
       "stream": "stderr",
       "text": [
        "DEBUG:model:Step: 17/1\n"
       ]
      },
      {
       "output_type": "stream",
       "stream": "stderr",
       "text": [
        "2014-10-15 21:11:33,236 - model - WARNING - Forcing data (/home/jaap/repos/wflow/examples/wflow_rhine_sbm/inmaps/IW000000.001) for timestep not present, returning 1.0\n"
       ]
      },
      {
       "output_type": "stream",
       "stream": "stderr",
       "text": [
        "2014-10-15 21:11:33,236 - model - WARNING - Forcing data (/home/jaap/repos/wflow/examples/wflow_rhine_sbm/inmaps/IW000000.001) for timestep not present, returning 1.0\n"
       ]
      },
      {
       "output_type": "stream",
       "stream": "stderr",
       "text": [
        "2014-10-15 21:11:33,236 - model - WARNING - Forcing data (/home/jaap/repos/wflow/examples/wflow_rhine_sbm/inmaps/IW000000.001) for timestep not present, returning 1.0\n"
       ]
      },
      {
       "output_type": "stream",
       "stream": "stderr",
       "text": [
        "2014-10-15 21:11:33,236 - model - WARNING - Forcing data (/home/jaap/repos/wflow/examples/wflow_rhine_sbm/inmaps/IW000000.001) for timestep not present, returning 1.0\n"
       ]
      },
      {
       "output_type": "stream",
       "stream": "stderr",
       "text": [
        "2014-10-15 21:11:33,236 - model - WARNING - Forcing data (/home/jaap/repos/wflow/examples/wflow_rhine_sbm/inmaps/IW000000.001) for timestep not present, returning 1.0\n"
       ]
      },
      {
       "output_type": "stream",
       "stream": "stderr",
       "text": [
        "2014-10-15 21:11:33,236 - model - WARNING - Forcing data (/home/jaap/repos/wflow/examples/wflow_rhine_sbm/inmaps/IW000000.001) for timestep not present, returning 1.0\n"
       ]
      },
      {
       "output_type": "stream",
       "stream": "stderr",
       "text": [
        "2014-10-15 21:11:33,236 - model - WARNING - Forcing data (/home/jaap/repos/wflow/examples/wflow_rhine_sbm/inmaps/IW000000.001) for timestep not present, returning 1.0\n"
       ]
      },
      {
       "output_type": "stream",
       "stream": "stderr",
       "text": [
        "2014-10-15 21:11:33,236 - model - WARNING - Forcing data (/home/jaap/repos/wflow/examples/wflow_rhine_sbm/inmaps/IW000000.001) for timestep not present, returning 1.0\n"
       ]
      },
      {
       "output_type": "stream",
       "stream": "stderr",
       "text": [
        "2014-10-15 21:11:33,236 - model - WARNING - Forcing data (/home/jaap/repos/wflow/examples/wflow_rhine_sbm/inmaps/IW000000.001) for timestep not present, returning 1.0\n"
       ]
      },
      {
       "output_type": "stream",
       "stream": "stderr",
       "text": [
        "2014-10-15 21:11:33,236 - model - WARNING - Forcing data (/home/jaap/repos/wflow/examples/wflow_rhine_sbm/inmaps/IW000000.001) for timestep not present, returning 1.0\n"
       ]
      },
      {
       "output_type": "stream",
       "stream": "stderr",
       "text": [
        "2014-10-15 21:11:33,236 - model - WARNING - Forcing data (/home/jaap/repos/wflow/examples/wflow_rhine_sbm/inmaps/IW000000.001) for timestep not present, returning 1.0\n"
       ]
      },
      {
       "output_type": "stream",
       "stream": "stderr",
       "text": [
        "2014-10-15 21:11:33,236 - model - WARNING - Forcing data (/home/jaap/repos/wflow/examples/wflow_rhine_sbm/inmaps/IW000000.001) for timestep not present, returning 1.0\n"
       ]
      },
      {
       "output_type": "stream",
       "stream": "stderr",
       "text": [
        "2014-10-15 21:11:33,236 - model - WARNING - Forcing data (/home/jaap/repos/wflow/examples/wflow_rhine_sbm/inmaps/IW000000.001) for timestep not present, returning 1.0\n"
       ]
      },
      {
       "output_type": "stream",
       "stream": "stderr",
       "text": [
        "WARNING:model:Forcing data (/home/jaap/repos/wflow/examples/wflow_rhine_sbm/inmaps/IW000000.001) for timestep not present, returning 1.0\n"
       ]
      },
      {
       "output_type": "stream",
       "stream": "stdout",
       "text": [
        "\n",
        "1995-02-17 00:00:00"
       ]
      },
      {
       "output_type": "stream",
       "stream": "stderr",
       "text": [
        "2014-10-15 21:11:33,287 - model - DEBUG - Step: 18/1\n"
       ]
      },
      {
       "output_type": "stream",
       "stream": "stderr",
       "text": [
        "2014-10-15 21:11:33,287 - model - DEBUG - Step: 18/1\n"
       ]
      },
      {
       "output_type": "stream",
       "stream": "stderr",
       "text": [
        "2014-10-15 21:11:33,287 - model - DEBUG - Step: 18/1\n"
       ]
      },
      {
       "output_type": "stream",
       "stream": "stderr",
       "text": [
        "2014-10-15 21:11:33,287 - model - DEBUG - Step: 18/1\n"
       ]
      },
      {
       "output_type": "stream",
       "stream": "stderr",
       "text": [
        "2014-10-15 21:11:33,287 - model - DEBUG - Step: 18/1\n"
       ]
      },
      {
       "output_type": "stream",
       "stream": "stderr",
       "text": [
        "2014-10-15 21:11:33,287 - model - DEBUG - Step: 18/1\n"
       ]
      },
      {
       "output_type": "stream",
       "stream": "stderr",
       "text": [
        "2014-10-15 21:11:33,287 - model - DEBUG - Step: 18/1\n"
       ]
      },
      {
       "output_type": "stream",
       "stream": "stderr",
       "text": [
        "2014-10-15 21:11:33,287 - model - DEBUG - Step: 18/1\n"
       ]
      },
      {
       "output_type": "stream",
       "stream": "stderr",
       "text": [
        "2014-10-15 21:11:33,287 - model - DEBUG - Step: 18/1\n"
       ]
      },
      {
       "output_type": "stream",
       "stream": "stderr",
       "text": [
        "2014-10-15 21:11:33,287 - model - DEBUG - Step: 18/1\n"
       ]
      },
      {
       "output_type": "stream",
       "stream": "stderr",
       "text": [
        "2014-10-15 21:11:33,287 - model - DEBUG - Step: 18/1\n"
       ]
      },
      {
       "output_type": "stream",
       "stream": "stderr",
       "text": [
        "2014-10-15 21:11:33,287 - model - DEBUG - Step: 18/1\n"
       ]
      },
      {
       "output_type": "stream",
       "stream": "stderr",
       "text": [
        "2014-10-15 21:11:33,287 - model - DEBUG - Step: 18/1\n"
       ]
      },
      {
       "output_type": "stream",
       "stream": "stderr",
       "text": [
        "DEBUG:model:Step: 18/1\n"
       ]
      },
      {
       "output_type": "stream",
       "stream": "stderr",
       "text": [
        "2014-10-15 21:11:33,378 - model - DEBUG - Step: 18/1\n"
       ]
      },
      {
       "output_type": "stream",
       "stream": "stderr",
       "text": [
        "2014-10-15 21:11:33,378 - model - DEBUG - Step: 18/1\n"
       ]
      },
      {
       "output_type": "stream",
       "stream": "stderr",
       "text": [
        "2014-10-15 21:11:33,378 - model - DEBUG - Step: 18/1\n"
       ]
      },
      {
       "output_type": "stream",
       "stream": "stderr",
       "text": [
        "2014-10-15 21:11:33,378 - model - DEBUG - Step: 18/1\n"
       ]
      },
      {
       "output_type": "stream",
       "stream": "stderr",
       "text": [
        "2014-10-15 21:11:33,378 - model - DEBUG - Step: 18/1\n"
       ]
      },
      {
       "output_type": "stream",
       "stream": "stderr",
       "text": [
        "2014-10-15 21:11:33,378 - model - DEBUG - Step: 18/1\n"
       ]
      },
      {
       "output_type": "stream",
       "stream": "stderr",
       "text": [
        "2014-10-15 21:11:33,378 - model - DEBUG - Step: 18/1\n"
       ]
      },
      {
       "output_type": "stream",
       "stream": "stderr",
       "text": [
        "2014-10-15 21:11:33,378 - model - DEBUG - Step: 18/1\n"
       ]
      },
      {
       "output_type": "stream",
       "stream": "stderr",
       "text": [
        "2014-10-15 21:11:33,378 - model - DEBUG - Step: 18/1\n"
       ]
      },
      {
       "output_type": "stream",
       "stream": "stderr",
       "text": [
        "2014-10-15 21:11:33,378 - model - DEBUG - Step: 18/1\n"
       ]
      },
      {
       "output_type": "stream",
       "stream": "stderr",
       "text": [
        "2014-10-15 21:11:33,378 - model - DEBUG - Step: 18/1\n"
       ]
      },
      {
       "output_type": "stream",
       "stream": "stderr",
       "text": [
        "2014-10-15 21:11:33,378 - model - DEBUG - Step: 18/1\n"
       ]
      },
      {
       "output_type": "stream",
       "stream": "stderr",
       "text": [
        "2014-10-15 21:11:33,378 - model - DEBUG - Step: 18/1\n"
       ]
      },
      {
       "output_type": "stream",
       "stream": "stderr",
       "text": [
        "DEBUG:model:Step: 18/1\n"
       ]
      },
      {
       "output_type": "stream",
       "stream": "stderr",
       "text": [
        "2014-10-15 21:11:33,381 - model - WARNING - Forcing data (/home/jaap/repos/wflow/examples/wflow_rhine_sbm/inmaps/IW000000.001) for timestep not present, returning 1.0\n"
       ]
      },
      {
       "output_type": "stream",
       "stream": "stderr",
       "text": [
        "2014-10-15 21:11:33,381 - model - WARNING - Forcing data (/home/jaap/repos/wflow/examples/wflow_rhine_sbm/inmaps/IW000000.001) for timestep not present, returning 1.0\n"
       ]
      },
      {
       "output_type": "stream",
       "stream": "stderr",
       "text": [
        "2014-10-15 21:11:33,381 - model - WARNING - Forcing data (/home/jaap/repos/wflow/examples/wflow_rhine_sbm/inmaps/IW000000.001) for timestep not present, returning 1.0\n"
       ]
      },
      {
       "output_type": "stream",
       "stream": "stderr",
       "text": [
        "2014-10-15 21:11:33,381 - model - WARNING - Forcing data (/home/jaap/repos/wflow/examples/wflow_rhine_sbm/inmaps/IW000000.001) for timestep not present, returning 1.0\n"
       ]
      },
      {
       "output_type": "stream",
       "stream": "stderr",
       "text": [
        "2014-10-15 21:11:33,381 - model - WARNING - Forcing data (/home/jaap/repos/wflow/examples/wflow_rhine_sbm/inmaps/IW000000.001) for timestep not present, returning 1.0\n"
       ]
      },
      {
       "output_type": "stream",
       "stream": "stderr",
       "text": [
        "2014-10-15 21:11:33,381 - model - WARNING - Forcing data (/home/jaap/repos/wflow/examples/wflow_rhine_sbm/inmaps/IW000000.001) for timestep not present, returning 1.0\n"
       ]
      },
      {
       "output_type": "stream",
       "stream": "stderr",
       "text": [
        "2014-10-15 21:11:33,381 - model - WARNING - Forcing data (/home/jaap/repos/wflow/examples/wflow_rhine_sbm/inmaps/IW000000.001) for timestep not present, returning 1.0\n"
       ]
      },
      {
       "output_type": "stream",
       "stream": "stderr",
       "text": [
        "2014-10-15 21:11:33,381 - model - WARNING - Forcing data (/home/jaap/repos/wflow/examples/wflow_rhine_sbm/inmaps/IW000000.001) for timestep not present, returning 1.0\n"
       ]
      },
      {
       "output_type": "stream",
       "stream": "stderr",
       "text": [
        "2014-10-15 21:11:33,381 - model - WARNING - Forcing data (/home/jaap/repos/wflow/examples/wflow_rhine_sbm/inmaps/IW000000.001) for timestep not present, returning 1.0\n"
       ]
      },
      {
       "output_type": "stream",
       "stream": "stderr",
       "text": [
        "2014-10-15 21:11:33,381 - model - WARNING - Forcing data (/home/jaap/repos/wflow/examples/wflow_rhine_sbm/inmaps/IW000000.001) for timestep not present, returning 1.0\n"
       ]
      },
      {
       "output_type": "stream",
       "stream": "stderr",
       "text": [
        "2014-10-15 21:11:33,381 - model - WARNING - Forcing data (/home/jaap/repos/wflow/examples/wflow_rhine_sbm/inmaps/IW000000.001) for timestep not present, returning 1.0\n"
       ]
      },
      {
       "output_type": "stream",
       "stream": "stderr",
       "text": [
        "2014-10-15 21:11:33,381 - model - WARNING - Forcing data (/home/jaap/repos/wflow/examples/wflow_rhine_sbm/inmaps/IW000000.001) for timestep not present, returning 1.0\n"
       ]
      },
      {
       "output_type": "stream",
       "stream": "stderr",
       "text": [
        "2014-10-15 21:11:33,381 - model - WARNING - Forcing data (/home/jaap/repos/wflow/examples/wflow_rhine_sbm/inmaps/IW000000.001) for timestep not present, returning 1.0\n"
       ]
      },
      {
       "output_type": "stream",
       "stream": "stderr",
       "text": [
        "WARNING:model:Forcing data (/home/jaap/repos/wflow/examples/wflow_rhine_sbm/inmaps/IW000000.001) for timestep not present, returning 1.0\n"
       ]
      },
      {
       "output_type": "stream",
       "stream": "stdout",
       "text": [
        "\n",
        "1995-02-18 00:00:00"
       ]
      },
      {
       "output_type": "stream",
       "stream": "stderr",
       "text": [
        "2014-10-15 21:11:33,433 - model - DEBUG - Step: 19/1\n"
       ]
      },
      {
       "output_type": "stream",
       "stream": "stderr",
       "text": [
        "2014-10-15 21:11:33,433 - model - DEBUG - Step: 19/1\n"
       ]
      },
      {
       "output_type": "stream",
       "stream": "stderr",
       "text": [
        "2014-10-15 21:11:33,433 - model - DEBUG - Step: 19/1\n"
       ]
      },
      {
       "output_type": "stream",
       "stream": "stderr",
       "text": [
        "2014-10-15 21:11:33,433 - model - DEBUG - Step: 19/1\n"
       ]
      },
      {
       "output_type": "stream",
       "stream": "stderr",
       "text": [
        "2014-10-15 21:11:33,433 - model - DEBUG - Step: 19/1\n"
       ]
      },
      {
       "output_type": "stream",
       "stream": "stderr",
       "text": [
        "2014-10-15 21:11:33,433 - model - DEBUG - Step: 19/1\n"
       ]
      },
      {
       "output_type": "stream",
       "stream": "stderr",
       "text": [
        "2014-10-15 21:11:33,433 - model - DEBUG - Step: 19/1\n"
       ]
      },
      {
       "output_type": "stream",
       "stream": "stderr",
       "text": [
        "2014-10-15 21:11:33,433 - model - DEBUG - Step: 19/1\n"
       ]
      },
      {
       "output_type": "stream",
       "stream": "stderr",
       "text": [
        "2014-10-15 21:11:33,433 - model - DEBUG - Step: 19/1\n"
       ]
      },
      {
       "output_type": "stream",
       "stream": "stderr",
       "text": [
        "2014-10-15 21:11:33,433 - model - DEBUG - Step: 19/1\n"
       ]
      },
      {
       "output_type": "stream",
       "stream": "stderr",
       "text": [
        "2014-10-15 21:11:33,433 - model - DEBUG - Step: 19/1\n"
       ]
      },
      {
       "output_type": "stream",
       "stream": "stderr",
       "text": [
        "2014-10-15 21:11:33,433 - model - DEBUG - Step: 19/1\n"
       ]
      },
      {
       "output_type": "stream",
       "stream": "stderr",
       "text": [
        "2014-10-15 21:11:33,433 - model - DEBUG - Step: 19/1\n"
       ]
      },
      {
       "output_type": "stream",
       "stream": "stderr",
       "text": [
        "DEBUG:model:Step: 19/1\n"
       ]
      },
      {
       "output_type": "stream",
       "stream": "stderr",
       "text": [
        "2014-10-15 21:11:33,526 - model - DEBUG - Step: 19/1\n"
       ]
      },
      {
       "output_type": "stream",
       "stream": "stderr",
       "text": [
        "2014-10-15 21:11:33,526 - model - DEBUG - Step: 19/1\n"
       ]
      },
      {
       "output_type": "stream",
       "stream": "stderr",
       "text": [
        "2014-10-15 21:11:33,526 - model - DEBUG - Step: 19/1\n"
       ]
      },
      {
       "output_type": "stream",
       "stream": "stderr",
       "text": [
        "2014-10-15 21:11:33,526 - model - DEBUG - Step: 19/1\n"
       ]
      },
      {
       "output_type": "stream",
       "stream": "stderr",
       "text": [
        "2014-10-15 21:11:33,526 - model - DEBUG - Step: 19/1\n"
       ]
      },
      {
       "output_type": "stream",
       "stream": "stderr",
       "text": [
        "2014-10-15 21:11:33,526 - model - DEBUG - Step: 19/1\n"
       ]
      },
      {
       "output_type": "stream",
       "stream": "stderr",
       "text": [
        "2014-10-15 21:11:33,526 - model - DEBUG - Step: 19/1\n"
       ]
      },
      {
       "output_type": "stream",
       "stream": "stderr",
       "text": [
        "2014-10-15 21:11:33,526 - model - DEBUG - Step: 19/1\n"
       ]
      },
      {
       "output_type": "stream",
       "stream": "stderr",
       "text": [
        "2014-10-15 21:11:33,526 - model - DEBUG - Step: 19/1\n"
       ]
      },
      {
       "output_type": "stream",
       "stream": "stderr",
       "text": [
        "2014-10-15 21:11:33,526 - model - DEBUG - Step: 19/1\n"
       ]
      },
      {
       "output_type": "stream",
       "stream": "stderr",
       "text": [
        "2014-10-15 21:11:33,526 - model - DEBUG - Step: 19/1\n"
       ]
      },
      {
       "output_type": "stream",
       "stream": "stderr",
       "text": [
        "2014-10-15 21:11:33,526 - model - DEBUG - Step: 19/1\n"
       ]
      },
      {
       "output_type": "stream",
       "stream": "stderr",
       "text": [
        "2014-10-15 21:11:33,526 - model - DEBUG - Step: 19/1\n"
       ]
      },
      {
       "output_type": "stream",
       "stream": "stderr",
       "text": [
        "DEBUG:model:Step: 19/1\n"
       ]
      },
      {
       "output_type": "stream",
       "stream": "stderr",
       "text": [
        "2014-10-15 21:11:33,532 - model - WARNING - Forcing data (/home/jaap/repos/wflow/examples/wflow_rhine_sbm/inmaps/IW000000.001) for timestep not present, returning 1.0\n"
       ]
      },
      {
       "output_type": "stream",
       "stream": "stderr",
       "text": [
        "2014-10-15 21:11:33,532 - model - WARNING - Forcing data (/home/jaap/repos/wflow/examples/wflow_rhine_sbm/inmaps/IW000000.001) for timestep not present, returning 1.0\n"
       ]
      },
      {
       "output_type": "stream",
       "stream": "stderr",
       "text": [
        "2014-10-15 21:11:33,532 - model - WARNING - Forcing data (/home/jaap/repos/wflow/examples/wflow_rhine_sbm/inmaps/IW000000.001) for timestep not present, returning 1.0\n"
       ]
      },
      {
       "output_type": "stream",
       "stream": "stderr",
       "text": [
        "2014-10-15 21:11:33,532 - model - WARNING - Forcing data (/home/jaap/repos/wflow/examples/wflow_rhine_sbm/inmaps/IW000000.001) for timestep not present, returning 1.0\n"
       ]
      },
      {
       "output_type": "stream",
       "stream": "stderr",
       "text": [
        "2014-10-15 21:11:33,532 - model - WARNING - Forcing data (/home/jaap/repos/wflow/examples/wflow_rhine_sbm/inmaps/IW000000.001) for timestep not present, returning 1.0\n"
       ]
      },
      {
       "output_type": "stream",
       "stream": "stderr",
       "text": [
        "2014-10-15 21:11:33,532 - model - WARNING - Forcing data (/home/jaap/repos/wflow/examples/wflow_rhine_sbm/inmaps/IW000000.001) for timestep not present, returning 1.0\n"
       ]
      },
      {
       "output_type": "stream",
       "stream": "stderr",
       "text": [
        "2014-10-15 21:11:33,532 - model - WARNING - Forcing data (/home/jaap/repos/wflow/examples/wflow_rhine_sbm/inmaps/IW000000.001) for timestep not present, returning 1.0\n"
       ]
      },
      {
       "output_type": "stream",
       "stream": "stderr",
       "text": [
        "2014-10-15 21:11:33,532 - model - WARNING - Forcing data (/home/jaap/repos/wflow/examples/wflow_rhine_sbm/inmaps/IW000000.001) for timestep not present, returning 1.0\n"
       ]
      },
      {
       "output_type": "stream",
       "stream": "stderr",
       "text": [
        "2014-10-15 21:11:33,532 - model - WARNING - Forcing data (/home/jaap/repos/wflow/examples/wflow_rhine_sbm/inmaps/IW000000.001) for timestep not present, returning 1.0\n"
       ]
      },
      {
       "output_type": "stream",
       "stream": "stderr",
       "text": [
        "2014-10-15 21:11:33,532 - model - WARNING - Forcing data (/home/jaap/repos/wflow/examples/wflow_rhine_sbm/inmaps/IW000000.001) for timestep not present, returning 1.0\n"
       ]
      },
      {
       "output_type": "stream",
       "stream": "stderr",
       "text": [
        "2014-10-15 21:11:33,532 - model - WARNING - Forcing data (/home/jaap/repos/wflow/examples/wflow_rhine_sbm/inmaps/IW000000.001) for timestep not present, returning 1.0\n"
       ]
      },
      {
       "output_type": "stream",
       "stream": "stderr",
       "text": [
        "2014-10-15 21:11:33,532 - model - WARNING - Forcing data (/home/jaap/repos/wflow/examples/wflow_rhine_sbm/inmaps/IW000000.001) for timestep not present, returning 1.0\n"
       ]
      },
      {
       "output_type": "stream",
       "stream": "stderr",
       "text": [
        "2014-10-15 21:11:33,532 - model - WARNING - Forcing data (/home/jaap/repos/wflow/examples/wflow_rhine_sbm/inmaps/IW000000.001) for timestep not present, returning 1.0\n"
       ]
      },
      {
       "output_type": "stream",
       "stream": "stderr",
       "text": [
        "WARNING:model:Forcing data (/home/jaap/repos/wflow/examples/wflow_rhine_sbm/inmaps/IW000000.001) for timestep not present, returning 1.0\n"
       ]
      },
      {
       "output_type": "stream",
       "stream": "stdout",
       "text": [
        "\n",
        "1995-02-19 00:00:00"
       ]
      },
      {
       "output_type": "stream",
       "stream": "stderr",
       "text": [
        "2014-10-15 21:11:33,584 - model - DEBUG - Step: 20/1\n"
       ]
      },
      {
       "output_type": "stream",
       "stream": "stderr",
       "text": [
        "2014-10-15 21:11:33,584 - model - DEBUG - Step: 20/1\n"
       ]
      },
      {
       "output_type": "stream",
       "stream": "stderr",
       "text": [
        "2014-10-15 21:11:33,584 - model - DEBUG - Step: 20/1\n"
       ]
      },
      {
       "output_type": "stream",
       "stream": "stderr",
       "text": [
        "2014-10-15 21:11:33,584 - model - DEBUG - Step: 20/1\n"
       ]
      },
      {
       "output_type": "stream",
       "stream": "stderr",
       "text": [
        "2014-10-15 21:11:33,584 - model - DEBUG - Step: 20/1\n"
       ]
      },
      {
       "output_type": "stream",
       "stream": "stderr",
       "text": [
        "2014-10-15 21:11:33,584 - model - DEBUG - Step: 20/1\n"
       ]
      },
      {
       "output_type": "stream",
       "stream": "stderr",
       "text": [
        "2014-10-15 21:11:33,584 - model - DEBUG - Step: 20/1\n"
       ]
      },
      {
       "output_type": "stream",
       "stream": "stderr",
       "text": [
        "2014-10-15 21:11:33,584 - model - DEBUG - Step: 20/1\n"
       ]
      },
      {
       "output_type": "stream",
       "stream": "stderr",
       "text": [
        "2014-10-15 21:11:33,584 - model - DEBUG - Step: 20/1\n"
       ]
      },
      {
       "output_type": "stream",
       "stream": "stderr",
       "text": [
        "2014-10-15 21:11:33,584 - model - DEBUG - Step: 20/1\n"
       ]
      },
      {
       "output_type": "stream",
       "stream": "stderr",
       "text": [
        "2014-10-15 21:11:33,584 - model - DEBUG - Step: 20/1\n"
       ]
      },
      {
       "output_type": "stream",
       "stream": "stderr",
       "text": [
        "2014-10-15 21:11:33,584 - model - DEBUG - Step: 20/1\n"
       ]
      },
      {
       "output_type": "stream",
       "stream": "stderr",
       "text": [
        "2014-10-15 21:11:33,584 - model - DEBUG - Step: 20/1\n"
       ]
      },
      {
       "output_type": "stream",
       "stream": "stderr",
       "text": [
        "DEBUG:model:Step: 20/1\n"
       ]
      },
      {
       "output_type": "stream",
       "stream": "stderr",
       "text": [
        "2014-10-15 21:11:33,690 - model - DEBUG - Step: 20/1\n"
       ]
      },
      {
       "output_type": "stream",
       "stream": "stderr",
       "text": [
        "2014-10-15 21:11:33,690 - model - DEBUG - Step: 20/1\n"
       ]
      },
      {
       "output_type": "stream",
       "stream": "stderr",
       "text": [
        "2014-10-15 21:11:33,690 - model - DEBUG - Step: 20/1\n"
       ]
      },
      {
       "output_type": "stream",
       "stream": "stderr",
       "text": [
        "2014-10-15 21:11:33,690 - model - DEBUG - Step: 20/1\n"
       ]
      },
      {
       "output_type": "stream",
       "stream": "stderr",
       "text": [
        "2014-10-15 21:11:33,690 - model - DEBUG - Step: 20/1\n"
       ]
      },
      {
       "output_type": "stream",
       "stream": "stderr",
       "text": [
        "2014-10-15 21:11:33,690 - model - DEBUG - Step: 20/1\n"
       ]
      },
      {
       "output_type": "stream",
       "stream": "stderr",
       "text": [
        "2014-10-15 21:11:33,690 - model - DEBUG - Step: 20/1\n"
       ]
      },
      {
       "output_type": "stream",
       "stream": "stderr",
       "text": [
        "2014-10-15 21:11:33,690 - model - DEBUG - Step: 20/1\n"
       ]
      },
      {
       "output_type": "stream",
       "stream": "stderr",
       "text": [
        "2014-10-15 21:11:33,690 - model - DEBUG - Step: 20/1\n"
       ]
      },
      {
       "output_type": "stream",
       "stream": "stderr",
       "text": [
        "2014-10-15 21:11:33,690 - model - DEBUG - Step: 20/1\n"
       ]
      },
      {
       "output_type": "stream",
       "stream": "stderr",
       "text": [
        "2014-10-15 21:11:33,690 - model - DEBUG - Step: 20/1\n"
       ]
      },
      {
       "output_type": "stream",
       "stream": "stderr",
       "text": [
        "2014-10-15 21:11:33,690 - model - DEBUG - Step: 20/1\n"
       ]
      },
      {
       "output_type": "stream",
       "stream": "stderr",
       "text": [
        "2014-10-15 21:11:33,690 - model - DEBUG - Step: 20/1\n"
       ]
      },
      {
       "output_type": "stream",
       "stream": "stderr",
       "text": [
        "DEBUG:model:Step: 20/1\n"
       ]
      },
      {
       "output_type": "stream",
       "stream": "stderr",
       "text": [
        "2014-10-15 21:11:33,695 - model - WARNING - Forcing data (/home/jaap/repos/wflow/examples/wflow_rhine_sbm/inmaps/IW000000.001) for timestep not present, returning 1.0\n"
       ]
      },
      {
       "output_type": "stream",
       "stream": "stderr",
       "text": [
        "2014-10-15 21:11:33,695 - model - WARNING - Forcing data (/home/jaap/repos/wflow/examples/wflow_rhine_sbm/inmaps/IW000000.001) for timestep not present, returning 1.0\n"
       ]
      },
      {
       "output_type": "stream",
       "stream": "stderr",
       "text": [
        "2014-10-15 21:11:33,695 - model - WARNING - Forcing data (/home/jaap/repos/wflow/examples/wflow_rhine_sbm/inmaps/IW000000.001) for timestep not present, returning 1.0\n"
       ]
      },
      {
       "output_type": "stream",
       "stream": "stderr",
       "text": [
        "2014-10-15 21:11:33,695 - model - WARNING - Forcing data (/home/jaap/repos/wflow/examples/wflow_rhine_sbm/inmaps/IW000000.001) for timestep not present, returning 1.0\n"
       ]
      },
      {
       "output_type": "stream",
       "stream": "stderr",
       "text": [
        "2014-10-15 21:11:33,695 - model - WARNING - Forcing data (/home/jaap/repos/wflow/examples/wflow_rhine_sbm/inmaps/IW000000.001) for timestep not present, returning 1.0\n"
       ]
      },
      {
       "output_type": "stream",
       "stream": "stderr",
       "text": [
        "2014-10-15 21:11:33,695 - model - WARNING - Forcing data (/home/jaap/repos/wflow/examples/wflow_rhine_sbm/inmaps/IW000000.001) for timestep not present, returning 1.0\n"
       ]
      },
      {
       "output_type": "stream",
       "stream": "stderr",
       "text": [
        "2014-10-15 21:11:33,695 - model - WARNING - Forcing data (/home/jaap/repos/wflow/examples/wflow_rhine_sbm/inmaps/IW000000.001) for timestep not present, returning 1.0\n"
       ]
      },
      {
       "output_type": "stream",
       "stream": "stderr",
       "text": [
        "2014-10-15 21:11:33,695 - model - WARNING - Forcing data (/home/jaap/repos/wflow/examples/wflow_rhine_sbm/inmaps/IW000000.001) for timestep not present, returning 1.0\n"
       ]
      },
      {
       "output_type": "stream",
       "stream": "stderr",
       "text": [
        "2014-10-15 21:11:33,695 - model - WARNING - Forcing data (/home/jaap/repos/wflow/examples/wflow_rhine_sbm/inmaps/IW000000.001) for timestep not present, returning 1.0\n"
       ]
      },
      {
       "output_type": "stream",
       "stream": "stderr",
       "text": [
        "2014-10-15 21:11:33,695 - model - WARNING - Forcing data (/home/jaap/repos/wflow/examples/wflow_rhine_sbm/inmaps/IW000000.001) for timestep not present, returning 1.0\n"
       ]
      },
      {
       "output_type": "stream",
       "stream": "stderr",
       "text": [
        "2014-10-15 21:11:33,695 - model - WARNING - Forcing data (/home/jaap/repos/wflow/examples/wflow_rhine_sbm/inmaps/IW000000.001) for timestep not present, returning 1.0\n"
       ]
      },
      {
       "output_type": "stream",
       "stream": "stderr",
       "text": [
        "2014-10-15 21:11:33,695 - model - WARNING - Forcing data (/home/jaap/repos/wflow/examples/wflow_rhine_sbm/inmaps/IW000000.001) for timestep not present, returning 1.0\n"
       ]
      },
      {
       "output_type": "stream",
       "stream": "stderr",
       "text": [
        "2014-10-15 21:11:33,695 - model - WARNING - Forcing data (/home/jaap/repos/wflow/examples/wflow_rhine_sbm/inmaps/IW000000.001) for timestep not present, returning 1.0\n"
       ]
      },
      {
       "output_type": "stream",
       "stream": "stderr",
       "text": [
        "WARNING:model:Forcing data (/home/jaap/repos/wflow/examples/wflow_rhine_sbm/inmaps/IW000000.001) for timestep not present, returning 1.0\n"
       ]
      },
      {
       "output_type": "stream",
       "stream": "stdout",
       "text": [
        "\n",
        "1995-02-20 00:00:00"
       ]
      },
      {
       "output_type": "stream",
       "stream": "stderr",
       "text": [
        "2014-10-15 21:11:33,743 - model - DEBUG - Step: 21/1\n"
       ]
      },
      {
       "output_type": "stream",
       "stream": "stderr",
       "text": [
        "2014-10-15 21:11:33,743 - model - DEBUG - Step: 21/1\n"
       ]
      },
      {
       "output_type": "stream",
       "stream": "stderr",
       "text": [
        "2014-10-15 21:11:33,743 - model - DEBUG - Step: 21/1\n"
       ]
      },
      {
       "output_type": "stream",
       "stream": "stderr",
       "text": [
        "2014-10-15 21:11:33,743 - model - DEBUG - Step: 21/1\n"
       ]
      },
      {
       "output_type": "stream",
       "stream": "stderr",
       "text": [
        "2014-10-15 21:11:33,743 - model - DEBUG - Step: 21/1\n"
       ]
      },
      {
       "output_type": "stream",
       "stream": "stderr",
       "text": [
        "2014-10-15 21:11:33,743 - model - DEBUG - Step: 21/1\n"
       ]
      },
      {
       "output_type": "stream",
       "stream": "stderr",
       "text": [
        "2014-10-15 21:11:33,743 - model - DEBUG - Step: 21/1\n"
       ]
      },
      {
       "output_type": "stream",
       "stream": "stderr",
       "text": [
        "2014-10-15 21:11:33,743 - model - DEBUG - Step: 21/1\n"
       ]
      },
      {
       "output_type": "stream",
       "stream": "stderr",
       "text": [
        "2014-10-15 21:11:33,743 - model - DEBUG - Step: 21/1\n"
       ]
      },
      {
       "output_type": "stream",
       "stream": "stderr",
       "text": [
        "2014-10-15 21:11:33,743 - model - DEBUG - Step: 21/1\n"
       ]
      },
      {
       "output_type": "stream",
       "stream": "stderr",
       "text": [
        "2014-10-15 21:11:33,743 - model - DEBUG - Step: 21/1\n"
       ]
      },
      {
       "output_type": "stream",
       "stream": "stderr",
       "text": [
        "2014-10-15 21:11:33,743 - model - DEBUG - Step: 21/1\n"
       ]
      },
      {
       "output_type": "stream",
       "stream": "stderr",
       "text": [
        "2014-10-15 21:11:33,743 - model - DEBUG - Step: 21/1\n"
       ]
      },
      {
       "output_type": "stream",
       "stream": "stderr",
       "text": [
        "DEBUG:model:Step: 21/1\n"
       ]
      },
      {
       "output_type": "stream",
       "stream": "stderr",
       "text": [
        "2014-10-15 21:11:33,843 - model - DEBUG - Step: 21/1\n"
       ]
      },
      {
       "output_type": "stream",
       "stream": "stderr",
       "text": [
        "2014-10-15 21:11:33,843 - model - DEBUG - Step: 21/1\n"
       ]
      },
      {
       "output_type": "stream",
       "stream": "stderr",
       "text": [
        "2014-10-15 21:11:33,843 - model - DEBUG - Step: 21/1\n"
       ]
      },
      {
       "output_type": "stream",
       "stream": "stderr",
       "text": [
        "2014-10-15 21:11:33,843 - model - DEBUG - Step: 21/1\n"
       ]
      },
      {
       "output_type": "stream",
       "stream": "stderr",
       "text": [
        "2014-10-15 21:11:33,843 - model - DEBUG - Step: 21/1\n"
       ]
      },
      {
       "output_type": "stream",
       "stream": "stderr",
       "text": [
        "2014-10-15 21:11:33,843 - model - DEBUG - Step: 21/1\n"
       ]
      },
      {
       "output_type": "stream",
       "stream": "stderr",
       "text": [
        "2014-10-15 21:11:33,843 - model - DEBUG - Step: 21/1\n"
       ]
      },
      {
       "output_type": "stream",
       "stream": "stderr",
       "text": [
        "2014-10-15 21:11:33,843 - model - DEBUG - Step: 21/1\n"
       ]
      },
      {
       "output_type": "stream",
       "stream": "stderr",
       "text": [
        "2014-10-15 21:11:33,843 - model - DEBUG - Step: 21/1\n"
       ]
      },
      {
       "output_type": "stream",
       "stream": "stderr",
       "text": [
        "2014-10-15 21:11:33,843 - model - DEBUG - Step: 21/1\n"
       ]
      },
      {
       "output_type": "stream",
       "stream": "stderr",
       "text": [
        "2014-10-15 21:11:33,843 - model - DEBUG - Step: 21/1\n"
       ]
      },
      {
       "output_type": "stream",
       "stream": "stderr",
       "text": [
        "2014-10-15 21:11:33,843 - model - DEBUG - Step: 21/1\n"
       ]
      },
      {
       "output_type": "stream",
       "stream": "stderr",
       "text": [
        "2014-10-15 21:11:33,843 - model - DEBUG - Step: 21/1\n"
       ]
      },
      {
       "output_type": "stream",
       "stream": "stderr",
       "text": [
        "DEBUG:model:Step: 21/1\n"
       ]
      },
      {
       "output_type": "stream",
       "stream": "stderr",
       "text": [
        "2014-10-15 21:11:33,848 - model - WARNING - Forcing data (/home/jaap/repos/wflow/examples/wflow_rhine_sbm/inmaps/IW000000.001) for timestep not present, returning 1.0\n"
       ]
      },
      {
       "output_type": "stream",
       "stream": "stderr",
       "text": [
        "2014-10-15 21:11:33,848 - model - WARNING - Forcing data (/home/jaap/repos/wflow/examples/wflow_rhine_sbm/inmaps/IW000000.001) for timestep not present, returning 1.0\n"
       ]
      },
      {
       "output_type": "stream",
       "stream": "stderr",
       "text": [
        "2014-10-15 21:11:33,848 - model - WARNING - Forcing data (/home/jaap/repos/wflow/examples/wflow_rhine_sbm/inmaps/IW000000.001) for timestep not present, returning 1.0\n"
       ]
      },
      {
       "output_type": "stream",
       "stream": "stderr",
       "text": [
        "2014-10-15 21:11:33,848 - model - WARNING - Forcing data (/home/jaap/repos/wflow/examples/wflow_rhine_sbm/inmaps/IW000000.001) for timestep not present, returning 1.0\n"
       ]
      },
      {
       "output_type": "stream",
       "stream": "stderr",
       "text": [
        "2014-10-15 21:11:33,848 - model - WARNING - Forcing data (/home/jaap/repos/wflow/examples/wflow_rhine_sbm/inmaps/IW000000.001) for timestep not present, returning 1.0\n"
       ]
      },
      {
       "output_type": "stream",
       "stream": "stderr",
       "text": [
        "2014-10-15 21:11:33,848 - model - WARNING - Forcing data (/home/jaap/repos/wflow/examples/wflow_rhine_sbm/inmaps/IW000000.001) for timestep not present, returning 1.0\n"
       ]
      },
      {
       "output_type": "stream",
       "stream": "stderr",
       "text": [
        "2014-10-15 21:11:33,848 - model - WARNING - Forcing data (/home/jaap/repos/wflow/examples/wflow_rhine_sbm/inmaps/IW000000.001) for timestep not present, returning 1.0\n"
       ]
      },
      {
       "output_type": "stream",
       "stream": "stderr",
       "text": [
        "2014-10-15 21:11:33,848 - model - WARNING - Forcing data (/home/jaap/repos/wflow/examples/wflow_rhine_sbm/inmaps/IW000000.001) for timestep not present, returning 1.0\n"
       ]
      },
      {
       "output_type": "stream",
       "stream": "stderr",
       "text": [
        "2014-10-15 21:11:33,848 - model - WARNING - Forcing data (/home/jaap/repos/wflow/examples/wflow_rhine_sbm/inmaps/IW000000.001) for timestep not present, returning 1.0\n"
       ]
      },
      {
       "output_type": "stream",
       "stream": "stderr",
       "text": [
        "2014-10-15 21:11:33,848 - model - WARNING - Forcing data (/home/jaap/repos/wflow/examples/wflow_rhine_sbm/inmaps/IW000000.001) for timestep not present, returning 1.0\n"
       ]
      },
      {
       "output_type": "stream",
       "stream": "stderr",
       "text": [
        "2014-10-15 21:11:33,848 - model - WARNING - Forcing data (/home/jaap/repos/wflow/examples/wflow_rhine_sbm/inmaps/IW000000.001) for timestep not present, returning 1.0\n"
       ]
      },
      {
       "output_type": "stream",
       "stream": "stderr",
       "text": [
        "2014-10-15 21:11:33,848 - model - WARNING - Forcing data (/home/jaap/repos/wflow/examples/wflow_rhine_sbm/inmaps/IW000000.001) for timestep not present, returning 1.0\n"
       ]
      },
      {
       "output_type": "stream",
       "stream": "stderr",
       "text": [
        "2014-10-15 21:11:33,848 - model - WARNING - Forcing data (/home/jaap/repos/wflow/examples/wflow_rhine_sbm/inmaps/IW000000.001) for timestep not present, returning 1.0\n"
       ]
      },
      {
       "output_type": "stream",
       "stream": "stderr",
       "text": [
        "WARNING:model:Forcing data (/home/jaap/repos/wflow/examples/wflow_rhine_sbm/inmaps/IW000000.001) for timestep not present, returning 1.0\n"
       ]
      },
      {
       "output_type": "stream",
       "stream": "stdout",
       "text": [
        "\n",
        "1995-02-21 00:00:00"
       ]
      },
      {
       "output_type": "stream",
       "stream": "stderr",
       "text": [
        "2014-10-15 21:11:33,896 - model - DEBUG - Step: 22/1\n"
       ]
      },
      {
       "output_type": "stream",
       "stream": "stderr",
       "text": [
        "2014-10-15 21:11:33,896 - model - DEBUG - Step: 22/1\n"
       ]
      },
      {
       "output_type": "stream",
       "stream": "stderr",
       "text": [
        "2014-10-15 21:11:33,896 - model - DEBUG - Step: 22/1\n"
       ]
      },
      {
       "output_type": "stream",
       "stream": "stderr",
       "text": [
        "2014-10-15 21:11:33,896 - model - DEBUG - Step: 22/1\n"
       ]
      },
      {
       "output_type": "stream",
       "stream": "stderr",
       "text": [
        "2014-10-15 21:11:33,896 - model - DEBUG - Step: 22/1\n"
       ]
      },
      {
       "output_type": "stream",
       "stream": "stderr",
       "text": [
        "2014-10-15 21:11:33,896 - model - DEBUG - Step: 22/1\n"
       ]
      },
      {
       "output_type": "stream",
       "stream": "stderr",
       "text": [
        "2014-10-15 21:11:33,896 - model - DEBUG - Step: 22/1\n"
       ]
      },
      {
       "output_type": "stream",
       "stream": "stderr",
       "text": [
        "2014-10-15 21:11:33,896 - model - DEBUG - Step: 22/1\n"
       ]
      },
      {
       "output_type": "stream",
       "stream": "stderr",
       "text": [
        "2014-10-15 21:11:33,896 - model - DEBUG - Step: 22/1\n"
       ]
      },
      {
       "output_type": "stream",
       "stream": "stderr",
       "text": [
        "2014-10-15 21:11:33,896 - model - DEBUG - Step: 22/1\n"
       ]
      },
      {
       "output_type": "stream",
       "stream": "stderr",
       "text": [
        "2014-10-15 21:11:33,896 - model - DEBUG - Step: 22/1\n"
       ]
      },
      {
       "output_type": "stream",
       "stream": "stderr",
       "text": [
        "2014-10-15 21:11:33,896 - model - DEBUG - Step: 22/1\n"
       ]
      },
      {
       "output_type": "stream",
       "stream": "stderr",
       "text": [
        "2014-10-15 21:11:33,896 - model - DEBUG - Step: 22/1\n"
       ]
      },
      {
       "output_type": "stream",
       "stream": "stderr",
       "text": [
        "DEBUG:model:Step: 22/1\n"
       ]
      },
      {
       "output_type": "stream",
       "stream": "stderr",
       "text": [
        "2014-10-15 21:11:34,025 - model - DEBUG - Step: 22/1\n"
       ]
      },
      {
       "output_type": "stream",
       "stream": "stderr",
       "text": [
        "2014-10-15 21:11:34,025 - model - DEBUG - Step: 22/1\n"
       ]
      },
      {
       "output_type": "stream",
       "stream": "stderr",
       "text": [
        "2014-10-15 21:11:34,025 - model - DEBUG - Step: 22/1\n"
       ]
      },
      {
       "output_type": "stream",
       "stream": "stderr",
       "text": [
        "2014-10-15 21:11:34,025 - model - DEBUG - Step: 22/1\n"
       ]
      },
      {
       "output_type": "stream",
       "stream": "stderr",
       "text": [
        "2014-10-15 21:11:34,025 - model - DEBUG - Step: 22/1\n"
       ]
      },
      {
       "output_type": "stream",
       "stream": "stderr",
       "text": [
        "2014-10-15 21:11:34,025 - model - DEBUG - Step: 22/1\n"
       ]
      },
      {
       "output_type": "stream",
       "stream": "stderr",
       "text": [
        "2014-10-15 21:11:34,025 - model - DEBUG - Step: 22/1\n"
       ]
      },
      {
       "output_type": "stream",
       "stream": "stderr",
       "text": [
        "2014-10-15 21:11:34,025 - model - DEBUG - Step: 22/1\n"
       ]
      },
      {
       "output_type": "stream",
       "stream": "stderr",
       "text": [
        "2014-10-15 21:11:34,025 - model - DEBUG - Step: 22/1\n"
       ]
      },
      {
       "output_type": "stream",
       "stream": "stderr",
       "text": [
        "2014-10-15 21:11:34,025 - model - DEBUG - Step: 22/1\n"
       ]
      },
      {
       "output_type": "stream",
       "stream": "stderr",
       "text": [
        "2014-10-15 21:11:34,025 - model - DEBUG - Step: 22/1\n"
       ]
      },
      {
       "output_type": "stream",
       "stream": "stderr",
       "text": [
        "2014-10-15 21:11:34,025 - model - DEBUG - Step: 22/1\n"
       ]
      },
      {
       "output_type": "stream",
       "stream": "stderr",
       "text": [
        "2014-10-15 21:11:34,025 - model - DEBUG - Step: 22/1\n"
       ]
      },
      {
       "output_type": "stream",
       "stream": "stderr",
       "text": [
        "DEBUG:model:Step: 22/1\n"
       ]
      },
      {
       "output_type": "stream",
       "stream": "stderr",
       "text": [
        "2014-10-15 21:11:34,031 - model - WARNING - Forcing data (/home/jaap/repos/wflow/examples/wflow_rhine_sbm/inmaps/IW000000.001) for timestep not present, returning 1.0\n"
       ]
      },
      {
       "output_type": "stream",
       "stream": "stderr",
       "text": [
        "2014-10-15 21:11:34,031 - model - WARNING - Forcing data (/home/jaap/repos/wflow/examples/wflow_rhine_sbm/inmaps/IW000000.001) for timestep not present, returning 1.0\n"
       ]
      },
      {
       "output_type": "stream",
       "stream": "stderr",
       "text": [
        "2014-10-15 21:11:34,031 - model - WARNING - Forcing data (/home/jaap/repos/wflow/examples/wflow_rhine_sbm/inmaps/IW000000.001) for timestep not present, returning 1.0\n"
       ]
      },
      {
       "output_type": "stream",
       "stream": "stderr",
       "text": [
        "2014-10-15 21:11:34,031 - model - WARNING - Forcing data (/home/jaap/repos/wflow/examples/wflow_rhine_sbm/inmaps/IW000000.001) for timestep not present, returning 1.0\n"
       ]
      },
      {
       "output_type": "stream",
       "stream": "stderr",
       "text": [
        "2014-10-15 21:11:34,031 - model - WARNING - Forcing data (/home/jaap/repos/wflow/examples/wflow_rhine_sbm/inmaps/IW000000.001) for timestep not present, returning 1.0\n"
       ]
      },
      {
       "output_type": "stream",
       "stream": "stderr",
       "text": [
        "2014-10-15 21:11:34,031 - model - WARNING - Forcing data (/home/jaap/repos/wflow/examples/wflow_rhine_sbm/inmaps/IW000000.001) for timestep not present, returning 1.0\n"
       ]
      },
      {
       "output_type": "stream",
       "stream": "stderr",
       "text": [
        "2014-10-15 21:11:34,031 - model - WARNING - Forcing data (/home/jaap/repos/wflow/examples/wflow_rhine_sbm/inmaps/IW000000.001) for timestep not present, returning 1.0\n"
       ]
      },
      {
       "output_type": "stream",
       "stream": "stderr",
       "text": [
        "2014-10-15 21:11:34,031 - model - WARNING - Forcing data (/home/jaap/repos/wflow/examples/wflow_rhine_sbm/inmaps/IW000000.001) for timestep not present, returning 1.0\n"
       ]
      },
      {
       "output_type": "stream",
       "stream": "stderr",
       "text": [
        "2014-10-15 21:11:34,031 - model - WARNING - Forcing data (/home/jaap/repos/wflow/examples/wflow_rhine_sbm/inmaps/IW000000.001) for timestep not present, returning 1.0\n"
       ]
      },
      {
       "output_type": "stream",
       "stream": "stderr",
       "text": [
        "2014-10-15 21:11:34,031 - model - WARNING - Forcing data (/home/jaap/repos/wflow/examples/wflow_rhine_sbm/inmaps/IW000000.001) for timestep not present, returning 1.0\n"
       ]
      },
      {
       "output_type": "stream",
       "stream": "stderr",
       "text": [
        "2014-10-15 21:11:34,031 - model - WARNING - Forcing data (/home/jaap/repos/wflow/examples/wflow_rhine_sbm/inmaps/IW000000.001) for timestep not present, returning 1.0\n"
       ]
      },
      {
       "output_type": "stream",
       "stream": "stderr",
       "text": [
        "2014-10-15 21:11:34,031 - model - WARNING - Forcing data (/home/jaap/repos/wflow/examples/wflow_rhine_sbm/inmaps/IW000000.001) for timestep not present, returning 1.0\n"
       ]
      },
      {
       "output_type": "stream",
       "stream": "stderr",
       "text": [
        "2014-10-15 21:11:34,031 - model - WARNING - Forcing data (/home/jaap/repos/wflow/examples/wflow_rhine_sbm/inmaps/IW000000.001) for timestep not present, returning 1.0\n"
       ]
      },
      {
       "output_type": "stream",
       "stream": "stderr",
       "text": [
        "WARNING:model:Forcing data (/home/jaap/repos/wflow/examples/wflow_rhine_sbm/inmaps/IW000000.001) for timestep not present, returning 1.0\n"
       ]
      },
      {
       "output_type": "stream",
       "stream": "stdout",
       "text": [
        "\n",
        "1995-02-22 00:00:00"
       ]
      },
      {
       "output_type": "stream",
       "stream": "stderr",
       "text": [
        "2014-10-15 21:11:34,082 - model - DEBUG - Step: 23/1\n"
       ]
      },
      {
       "output_type": "stream",
       "stream": "stderr",
       "text": [
        "2014-10-15 21:11:34,082 - model - DEBUG - Step: 23/1\n"
       ]
      },
      {
       "output_type": "stream",
       "stream": "stderr",
       "text": [
        "2014-10-15 21:11:34,082 - model - DEBUG - Step: 23/1\n"
       ]
      },
      {
       "output_type": "stream",
       "stream": "stderr",
       "text": [
        "2014-10-15 21:11:34,082 - model - DEBUG - Step: 23/1\n"
       ]
      },
      {
       "output_type": "stream",
       "stream": "stderr",
       "text": [
        "2014-10-15 21:11:34,082 - model - DEBUG - Step: 23/1\n"
       ]
      },
      {
       "output_type": "stream",
       "stream": "stderr",
       "text": [
        "2014-10-15 21:11:34,082 - model - DEBUG - Step: 23/1\n"
       ]
      },
      {
       "output_type": "stream",
       "stream": "stderr",
       "text": [
        "2014-10-15 21:11:34,082 - model - DEBUG - Step: 23/1\n"
       ]
      },
      {
       "output_type": "stream",
       "stream": "stderr",
       "text": [
        "2014-10-15 21:11:34,082 - model - DEBUG - Step: 23/1\n"
       ]
      },
      {
       "output_type": "stream",
       "stream": "stderr",
       "text": [
        "2014-10-15 21:11:34,082 - model - DEBUG - Step: 23/1\n"
       ]
      },
      {
       "output_type": "stream",
       "stream": "stderr",
       "text": [
        "2014-10-15 21:11:34,082 - model - DEBUG - Step: 23/1\n"
       ]
      },
      {
       "output_type": "stream",
       "stream": "stderr",
       "text": [
        "2014-10-15 21:11:34,082 - model - DEBUG - Step: 23/1\n"
       ]
      },
      {
       "output_type": "stream",
       "stream": "stderr",
       "text": [
        "2014-10-15 21:11:34,082 - model - DEBUG - Step: 23/1\n"
       ]
      },
      {
       "output_type": "stream",
       "stream": "stderr",
       "text": [
        "2014-10-15 21:11:34,082 - model - DEBUG - Step: 23/1\n"
       ]
      },
      {
       "output_type": "stream",
       "stream": "stderr",
       "text": [
        "DEBUG:model:Step: 23/1\n"
       ]
      },
      {
       "output_type": "stream",
       "stream": "stderr",
       "text": [
        "2014-10-15 21:11:34,179 - model - DEBUG - Step: 23/1\n"
       ]
      },
      {
       "output_type": "stream",
       "stream": "stderr",
       "text": [
        "2014-10-15 21:11:34,179 - model - DEBUG - Step: 23/1\n"
       ]
      },
      {
       "output_type": "stream",
       "stream": "stderr",
       "text": [
        "2014-10-15 21:11:34,179 - model - DEBUG - Step: 23/1\n"
       ]
      },
      {
       "output_type": "stream",
       "stream": "stderr",
       "text": [
        "2014-10-15 21:11:34,179 - model - DEBUG - Step: 23/1\n"
       ]
      },
      {
       "output_type": "stream",
       "stream": "stderr",
       "text": [
        "2014-10-15 21:11:34,179 - model - DEBUG - Step: 23/1\n"
       ]
      },
      {
       "output_type": "stream",
       "stream": "stderr",
       "text": [
        "2014-10-15 21:11:34,179 - model - DEBUG - Step: 23/1\n"
       ]
      },
      {
       "output_type": "stream",
       "stream": "stderr",
       "text": [
        "2014-10-15 21:11:34,179 - model - DEBUG - Step: 23/1\n"
       ]
      },
      {
       "output_type": "stream",
       "stream": "stderr",
       "text": [
        "2014-10-15 21:11:34,179 - model - DEBUG - Step: 23/1\n"
       ]
      },
      {
       "output_type": "stream",
       "stream": "stderr",
       "text": [
        "2014-10-15 21:11:34,179 - model - DEBUG - Step: 23/1\n"
       ]
      },
      {
       "output_type": "stream",
       "stream": "stderr",
       "text": [
        "2014-10-15 21:11:34,179 - model - DEBUG - Step: 23/1\n"
       ]
      },
      {
       "output_type": "stream",
       "stream": "stderr",
       "text": [
        "2014-10-15 21:11:34,179 - model - DEBUG - Step: 23/1\n"
       ]
      },
      {
       "output_type": "stream",
       "stream": "stderr",
       "text": [
        "2014-10-15 21:11:34,179 - model - DEBUG - Step: 23/1\n"
       ]
      },
      {
       "output_type": "stream",
       "stream": "stderr",
       "text": [
        "2014-10-15 21:11:34,179 - model - DEBUG - Step: 23/1\n"
       ]
      },
      {
       "output_type": "stream",
       "stream": "stderr",
       "text": [
        "DEBUG:model:Step: 23/1\n"
       ]
      },
      {
       "output_type": "stream",
       "stream": "stderr",
       "text": [
        "2014-10-15 21:11:34,184 - model - WARNING - Forcing data (/home/jaap/repos/wflow/examples/wflow_rhine_sbm/inmaps/IW000000.001) for timestep not present, returning 1.0\n"
       ]
      },
      {
       "output_type": "stream",
       "stream": "stderr",
       "text": [
        "2014-10-15 21:11:34,184 - model - WARNING - Forcing data (/home/jaap/repos/wflow/examples/wflow_rhine_sbm/inmaps/IW000000.001) for timestep not present, returning 1.0\n"
       ]
      },
      {
       "output_type": "stream",
       "stream": "stderr",
       "text": [
        "2014-10-15 21:11:34,184 - model - WARNING - Forcing data (/home/jaap/repos/wflow/examples/wflow_rhine_sbm/inmaps/IW000000.001) for timestep not present, returning 1.0\n"
       ]
      },
      {
       "output_type": "stream",
       "stream": "stderr",
       "text": [
        "2014-10-15 21:11:34,184 - model - WARNING - Forcing data (/home/jaap/repos/wflow/examples/wflow_rhine_sbm/inmaps/IW000000.001) for timestep not present, returning 1.0\n"
       ]
      },
      {
       "output_type": "stream",
       "stream": "stderr",
       "text": [
        "2014-10-15 21:11:34,184 - model - WARNING - Forcing data (/home/jaap/repos/wflow/examples/wflow_rhine_sbm/inmaps/IW000000.001) for timestep not present, returning 1.0\n"
       ]
      },
      {
       "output_type": "stream",
       "stream": "stderr",
       "text": [
        "2014-10-15 21:11:34,184 - model - WARNING - Forcing data (/home/jaap/repos/wflow/examples/wflow_rhine_sbm/inmaps/IW000000.001) for timestep not present, returning 1.0\n"
       ]
      },
      {
       "output_type": "stream",
       "stream": "stderr",
       "text": [
        "2014-10-15 21:11:34,184 - model - WARNING - Forcing data (/home/jaap/repos/wflow/examples/wflow_rhine_sbm/inmaps/IW000000.001) for timestep not present, returning 1.0\n"
       ]
      },
      {
       "output_type": "stream",
       "stream": "stderr",
       "text": [
        "2014-10-15 21:11:34,184 - model - WARNING - Forcing data (/home/jaap/repos/wflow/examples/wflow_rhine_sbm/inmaps/IW000000.001) for timestep not present, returning 1.0\n"
       ]
      },
      {
       "output_type": "stream",
       "stream": "stderr",
       "text": [
        "2014-10-15 21:11:34,184 - model - WARNING - Forcing data (/home/jaap/repos/wflow/examples/wflow_rhine_sbm/inmaps/IW000000.001) for timestep not present, returning 1.0\n"
       ]
      },
      {
       "output_type": "stream",
       "stream": "stderr",
       "text": [
        "2014-10-15 21:11:34,184 - model - WARNING - Forcing data (/home/jaap/repos/wflow/examples/wflow_rhine_sbm/inmaps/IW000000.001) for timestep not present, returning 1.0\n"
       ]
      },
      {
       "output_type": "stream",
       "stream": "stderr",
       "text": [
        "2014-10-15 21:11:34,184 - model - WARNING - Forcing data (/home/jaap/repos/wflow/examples/wflow_rhine_sbm/inmaps/IW000000.001) for timestep not present, returning 1.0\n"
       ]
      },
      {
       "output_type": "stream",
       "stream": "stderr",
       "text": [
        "2014-10-15 21:11:34,184 - model - WARNING - Forcing data (/home/jaap/repos/wflow/examples/wflow_rhine_sbm/inmaps/IW000000.001) for timestep not present, returning 1.0\n"
       ]
      },
      {
       "output_type": "stream",
       "stream": "stderr",
       "text": [
        "2014-10-15 21:11:34,184 - model - WARNING - Forcing data (/home/jaap/repos/wflow/examples/wflow_rhine_sbm/inmaps/IW000000.001) for timestep not present, returning 1.0\n"
       ]
      },
      {
       "output_type": "stream",
       "stream": "stderr",
       "text": [
        "WARNING:model:Forcing data (/home/jaap/repos/wflow/examples/wflow_rhine_sbm/inmaps/IW000000.001) for timestep not present, returning 1.0\n"
       ]
      },
      {
       "output_type": "stream",
       "stream": "stdout",
       "text": [
        "\n",
        "1995-02-23 00:00:00"
       ]
      },
      {
       "output_type": "stream",
       "stream": "stderr",
       "text": [
        "2014-10-15 21:11:34,232 - model - DEBUG - Step: 24/1\n"
       ]
      },
      {
       "output_type": "stream",
       "stream": "stderr",
       "text": [
        "2014-10-15 21:11:34,232 - model - DEBUG - Step: 24/1\n"
       ]
      },
      {
       "output_type": "stream",
       "stream": "stderr",
       "text": [
        "2014-10-15 21:11:34,232 - model - DEBUG - Step: 24/1\n"
       ]
      },
      {
       "output_type": "stream",
       "stream": "stderr",
       "text": [
        "2014-10-15 21:11:34,232 - model - DEBUG - Step: 24/1\n"
       ]
      },
      {
       "output_type": "stream",
       "stream": "stderr",
       "text": [
        "2014-10-15 21:11:34,232 - model - DEBUG - Step: 24/1\n"
       ]
      },
      {
       "output_type": "stream",
       "stream": "stderr",
       "text": [
        "2014-10-15 21:11:34,232 - model - DEBUG - Step: 24/1\n"
       ]
      },
      {
       "output_type": "stream",
       "stream": "stderr",
       "text": [
        "2014-10-15 21:11:34,232 - model - DEBUG - Step: 24/1\n"
       ]
      },
      {
       "output_type": "stream",
       "stream": "stderr",
       "text": [
        "2014-10-15 21:11:34,232 - model - DEBUG - Step: 24/1\n"
       ]
      },
      {
       "output_type": "stream",
       "stream": "stderr",
       "text": [
        "2014-10-15 21:11:34,232 - model - DEBUG - Step: 24/1\n"
       ]
      },
      {
       "output_type": "stream",
       "stream": "stderr",
       "text": [
        "2014-10-15 21:11:34,232 - model - DEBUG - Step: 24/1\n"
       ]
      },
      {
       "output_type": "stream",
       "stream": "stderr",
       "text": [
        "2014-10-15 21:11:34,232 - model - DEBUG - Step: 24/1\n"
       ]
      },
      {
       "output_type": "stream",
       "stream": "stderr",
       "text": [
        "2014-10-15 21:11:34,232 - model - DEBUG - Step: 24/1\n"
       ]
      },
      {
       "output_type": "stream",
       "stream": "stderr",
       "text": [
        "2014-10-15 21:11:34,232 - model - DEBUG - Step: 24/1\n"
       ]
      },
      {
       "output_type": "stream",
       "stream": "stderr",
       "text": [
        "DEBUG:model:Step: 24/1\n"
       ]
      },
      {
       "output_type": "stream",
       "stream": "stderr",
       "text": [
        "2014-10-15 21:11:34,326 - model - DEBUG - Step: 24/1\n"
       ]
      },
      {
       "output_type": "stream",
       "stream": "stderr",
       "text": [
        "2014-10-15 21:11:34,326 - model - DEBUG - Step: 24/1\n"
       ]
      },
      {
       "output_type": "stream",
       "stream": "stderr",
       "text": [
        "2014-10-15 21:11:34,326 - model - DEBUG - Step: 24/1\n"
       ]
      },
      {
       "output_type": "stream",
       "stream": "stderr",
       "text": [
        "2014-10-15 21:11:34,326 - model - DEBUG - Step: 24/1\n"
       ]
      },
      {
       "output_type": "stream",
       "stream": "stderr",
       "text": [
        "2014-10-15 21:11:34,326 - model - DEBUG - Step: 24/1\n"
       ]
      },
      {
       "output_type": "stream",
       "stream": "stderr",
       "text": [
        "2014-10-15 21:11:34,326 - model - DEBUG - Step: 24/1\n"
       ]
      },
      {
       "output_type": "stream",
       "stream": "stderr",
       "text": [
        "2014-10-15 21:11:34,326 - model - DEBUG - Step: 24/1\n"
       ]
      },
      {
       "output_type": "stream",
       "stream": "stderr",
       "text": [
        "2014-10-15 21:11:34,326 - model - DEBUG - Step: 24/1\n"
       ]
      },
      {
       "output_type": "stream",
       "stream": "stderr",
       "text": [
        "2014-10-15 21:11:34,326 - model - DEBUG - Step: 24/1\n"
       ]
      },
      {
       "output_type": "stream",
       "stream": "stderr",
       "text": [
        "2014-10-15 21:11:34,326 - model - DEBUG - Step: 24/1\n"
       ]
      },
      {
       "output_type": "stream",
       "stream": "stderr",
       "text": [
        "2014-10-15 21:11:34,326 - model - DEBUG - Step: 24/1\n"
       ]
      },
      {
       "output_type": "stream",
       "stream": "stderr",
       "text": [
        "2014-10-15 21:11:34,326 - model - DEBUG - Step: 24/1\n"
       ]
      },
      {
       "output_type": "stream",
       "stream": "stderr",
       "text": [
        "2014-10-15 21:11:34,326 - model - DEBUG - Step: 24/1\n"
       ]
      },
      {
       "output_type": "stream",
       "stream": "stderr",
       "text": [
        "DEBUG:model:Step: 24/1\n"
       ]
      },
      {
       "output_type": "stream",
       "stream": "stderr",
       "text": [
        "2014-10-15 21:11:34,330 - model - WARNING - Forcing data (/home/jaap/repos/wflow/examples/wflow_rhine_sbm/inmaps/IW000000.001) for timestep not present, returning 1.0\n"
       ]
      },
      {
       "output_type": "stream",
       "stream": "stderr",
       "text": [
        "2014-10-15 21:11:34,330 - model - WARNING - Forcing data (/home/jaap/repos/wflow/examples/wflow_rhine_sbm/inmaps/IW000000.001) for timestep not present, returning 1.0\n"
       ]
      },
      {
       "output_type": "stream",
       "stream": "stderr",
       "text": [
        "2014-10-15 21:11:34,330 - model - WARNING - Forcing data (/home/jaap/repos/wflow/examples/wflow_rhine_sbm/inmaps/IW000000.001) for timestep not present, returning 1.0\n"
       ]
      },
      {
       "output_type": "stream",
       "stream": "stderr",
       "text": [
        "2014-10-15 21:11:34,330 - model - WARNING - Forcing data (/home/jaap/repos/wflow/examples/wflow_rhine_sbm/inmaps/IW000000.001) for timestep not present, returning 1.0\n"
       ]
      },
      {
       "output_type": "stream",
       "stream": "stderr",
       "text": [
        "2014-10-15 21:11:34,330 - model - WARNING - Forcing data (/home/jaap/repos/wflow/examples/wflow_rhine_sbm/inmaps/IW000000.001) for timestep not present, returning 1.0\n"
       ]
      },
      {
       "output_type": "stream",
       "stream": "stderr",
       "text": [
        "2014-10-15 21:11:34,330 - model - WARNING - Forcing data (/home/jaap/repos/wflow/examples/wflow_rhine_sbm/inmaps/IW000000.001) for timestep not present, returning 1.0\n"
       ]
      },
      {
       "output_type": "stream",
       "stream": "stderr",
       "text": [
        "2014-10-15 21:11:34,330 - model - WARNING - Forcing data (/home/jaap/repos/wflow/examples/wflow_rhine_sbm/inmaps/IW000000.001) for timestep not present, returning 1.0\n"
       ]
      },
      {
       "output_type": "stream",
       "stream": "stderr",
       "text": [
        "2014-10-15 21:11:34,330 - model - WARNING - Forcing data (/home/jaap/repos/wflow/examples/wflow_rhine_sbm/inmaps/IW000000.001) for timestep not present, returning 1.0\n"
       ]
      },
      {
       "output_type": "stream",
       "stream": "stderr",
       "text": [
        "2014-10-15 21:11:34,330 - model - WARNING - Forcing data (/home/jaap/repos/wflow/examples/wflow_rhine_sbm/inmaps/IW000000.001) for timestep not present, returning 1.0\n"
       ]
      },
      {
       "output_type": "stream",
       "stream": "stderr",
       "text": [
        "2014-10-15 21:11:34,330 - model - WARNING - Forcing data (/home/jaap/repos/wflow/examples/wflow_rhine_sbm/inmaps/IW000000.001) for timestep not present, returning 1.0\n"
       ]
      },
      {
       "output_type": "stream",
       "stream": "stderr",
       "text": [
        "2014-10-15 21:11:34,330 - model - WARNING - Forcing data (/home/jaap/repos/wflow/examples/wflow_rhine_sbm/inmaps/IW000000.001) for timestep not present, returning 1.0\n"
       ]
      },
      {
       "output_type": "stream",
       "stream": "stderr",
       "text": [
        "2014-10-15 21:11:34,330 - model - WARNING - Forcing data (/home/jaap/repos/wflow/examples/wflow_rhine_sbm/inmaps/IW000000.001) for timestep not present, returning 1.0\n"
       ]
      },
      {
       "output_type": "stream",
       "stream": "stderr",
       "text": [
        "2014-10-15 21:11:34,330 - model - WARNING - Forcing data (/home/jaap/repos/wflow/examples/wflow_rhine_sbm/inmaps/IW000000.001) for timestep not present, returning 1.0\n"
       ]
      },
      {
       "output_type": "stream",
       "stream": "stderr",
       "text": [
        "WARNING:model:Forcing data (/home/jaap/repos/wflow/examples/wflow_rhine_sbm/inmaps/IW000000.001) for timestep not present, returning 1.0\n"
       ]
      },
      {
       "output_type": "stream",
       "stream": "stdout",
       "text": [
        "\n",
        "1995-02-24 00:00:00"
       ]
      },
      {
       "output_type": "stream",
       "stream": "stderr",
       "text": [
        "2014-10-15 21:11:34,371 - model - DEBUG - Step: 25/1\n"
       ]
      },
      {
       "output_type": "stream",
       "stream": "stderr",
       "text": [
        "2014-10-15 21:11:34,371 - model - DEBUG - Step: 25/1\n"
       ]
      },
      {
       "output_type": "stream",
       "stream": "stderr",
       "text": [
        "2014-10-15 21:11:34,371 - model - DEBUG - Step: 25/1\n"
       ]
      },
      {
       "output_type": "stream",
       "stream": "stderr",
       "text": [
        "2014-10-15 21:11:34,371 - model - DEBUG - Step: 25/1\n"
       ]
      },
      {
       "output_type": "stream",
       "stream": "stderr",
       "text": [
        "2014-10-15 21:11:34,371 - model - DEBUG - Step: 25/1\n"
       ]
      },
      {
       "output_type": "stream",
       "stream": "stderr",
       "text": [
        "2014-10-15 21:11:34,371 - model - DEBUG - Step: 25/1\n"
       ]
      },
      {
       "output_type": "stream",
       "stream": "stderr",
       "text": [
        "2014-10-15 21:11:34,371 - model - DEBUG - Step: 25/1\n"
       ]
      },
      {
       "output_type": "stream",
       "stream": "stderr",
       "text": [
        "2014-10-15 21:11:34,371 - model - DEBUG - Step: 25/1\n"
       ]
      },
      {
       "output_type": "stream",
       "stream": "stderr",
       "text": [
        "2014-10-15 21:11:34,371 - model - DEBUG - Step: 25/1\n"
       ]
      },
      {
       "output_type": "stream",
       "stream": "stderr",
       "text": [
        "2014-10-15 21:11:34,371 - model - DEBUG - Step: 25/1\n"
       ]
      },
      {
       "output_type": "stream",
       "stream": "stderr",
       "text": [
        "2014-10-15 21:11:34,371 - model - DEBUG - Step: 25/1\n"
       ]
      },
      {
       "output_type": "stream",
       "stream": "stderr",
       "text": [
        "2014-10-15 21:11:34,371 - model - DEBUG - Step: 25/1\n"
       ]
      },
      {
       "output_type": "stream",
       "stream": "stderr",
       "text": [
        "2014-10-15 21:11:34,371 - model - DEBUG - Step: 25/1\n"
       ]
      },
      {
       "output_type": "stream",
       "stream": "stderr",
       "text": [
        "DEBUG:model:Step: 25/1\n"
       ]
      },
      {
       "output_type": "stream",
       "stream": "stderr",
       "text": [
        "2014-10-15 21:11:34,463 - model - DEBUG - Step: 25/1\n"
       ]
      },
      {
       "output_type": "stream",
       "stream": "stderr",
       "text": [
        "2014-10-15 21:11:34,463 - model - DEBUG - Step: 25/1\n"
       ]
      },
      {
       "output_type": "stream",
       "stream": "stderr",
       "text": [
        "2014-10-15 21:11:34,463 - model - DEBUG - Step: 25/1\n"
       ]
      },
      {
       "output_type": "stream",
       "stream": "stderr",
       "text": [
        "2014-10-15 21:11:34,463 - model - DEBUG - Step: 25/1\n"
       ]
      },
      {
       "output_type": "stream",
       "stream": "stderr",
       "text": [
        "2014-10-15 21:11:34,463 - model - DEBUG - Step: 25/1\n"
       ]
      },
      {
       "output_type": "stream",
       "stream": "stderr",
       "text": [
        "2014-10-15 21:11:34,463 - model - DEBUG - Step: 25/1\n"
       ]
      },
      {
       "output_type": "stream",
       "stream": "stderr",
       "text": [
        "2014-10-15 21:11:34,463 - model - DEBUG - Step: 25/1\n"
       ]
      },
      {
       "output_type": "stream",
       "stream": "stderr",
       "text": [
        "2014-10-15 21:11:34,463 - model - DEBUG - Step: 25/1\n"
       ]
      },
      {
       "output_type": "stream",
       "stream": "stderr",
       "text": [
        "2014-10-15 21:11:34,463 - model - DEBUG - Step: 25/1\n"
       ]
      },
      {
       "output_type": "stream",
       "stream": "stderr",
       "text": [
        "2014-10-15 21:11:34,463 - model - DEBUG - Step: 25/1\n"
       ]
      },
      {
       "output_type": "stream",
       "stream": "stderr",
       "text": [
        "2014-10-15 21:11:34,463 - model - DEBUG - Step: 25/1\n"
       ]
      },
      {
       "output_type": "stream",
       "stream": "stderr",
       "text": [
        "2014-10-15 21:11:34,463 - model - DEBUG - Step: 25/1\n"
       ]
      },
      {
       "output_type": "stream",
       "stream": "stderr",
       "text": [
        "2014-10-15 21:11:34,463 - model - DEBUG - Step: 25/1\n"
       ]
      },
      {
       "output_type": "stream",
       "stream": "stderr",
       "text": [
        "DEBUG:model:Step: 25/1\n"
       ]
      },
      {
       "output_type": "stream",
       "stream": "stderr",
       "text": [
        "2014-10-15 21:11:34,466 - model - WARNING - Forcing data (/home/jaap/repos/wflow/examples/wflow_rhine_sbm/inmaps/IW000000.001) for timestep not present, returning 1.0\n"
       ]
      },
      {
       "output_type": "stream",
       "stream": "stderr",
       "text": [
        "2014-10-15 21:11:34,466 - model - WARNING - Forcing data (/home/jaap/repos/wflow/examples/wflow_rhine_sbm/inmaps/IW000000.001) for timestep not present, returning 1.0\n"
       ]
      },
      {
       "output_type": "stream",
       "stream": "stderr",
       "text": [
        "2014-10-15 21:11:34,466 - model - WARNING - Forcing data (/home/jaap/repos/wflow/examples/wflow_rhine_sbm/inmaps/IW000000.001) for timestep not present, returning 1.0\n"
       ]
      },
      {
       "output_type": "stream",
       "stream": "stderr",
       "text": [
        "2014-10-15 21:11:34,466 - model - WARNING - Forcing data (/home/jaap/repos/wflow/examples/wflow_rhine_sbm/inmaps/IW000000.001) for timestep not present, returning 1.0\n"
       ]
      },
      {
       "output_type": "stream",
       "stream": "stderr",
       "text": [
        "2014-10-15 21:11:34,466 - model - WARNING - Forcing data (/home/jaap/repos/wflow/examples/wflow_rhine_sbm/inmaps/IW000000.001) for timestep not present, returning 1.0\n"
       ]
      },
      {
       "output_type": "stream",
       "stream": "stderr",
       "text": [
        "2014-10-15 21:11:34,466 - model - WARNING - Forcing data (/home/jaap/repos/wflow/examples/wflow_rhine_sbm/inmaps/IW000000.001) for timestep not present, returning 1.0\n"
       ]
      },
      {
       "output_type": "stream",
       "stream": "stderr",
       "text": [
        "2014-10-15 21:11:34,466 - model - WARNING - Forcing data (/home/jaap/repos/wflow/examples/wflow_rhine_sbm/inmaps/IW000000.001) for timestep not present, returning 1.0\n"
       ]
      },
      {
       "output_type": "stream",
       "stream": "stderr",
       "text": [
        "2014-10-15 21:11:34,466 - model - WARNING - Forcing data (/home/jaap/repos/wflow/examples/wflow_rhine_sbm/inmaps/IW000000.001) for timestep not present, returning 1.0\n"
       ]
      },
      {
       "output_type": "stream",
       "stream": "stderr",
       "text": [
        "2014-10-15 21:11:34,466 - model - WARNING - Forcing data (/home/jaap/repos/wflow/examples/wflow_rhine_sbm/inmaps/IW000000.001) for timestep not present, returning 1.0\n"
       ]
      },
      {
       "output_type": "stream",
       "stream": "stderr",
       "text": [
        "2014-10-15 21:11:34,466 - model - WARNING - Forcing data (/home/jaap/repos/wflow/examples/wflow_rhine_sbm/inmaps/IW000000.001) for timestep not present, returning 1.0\n"
       ]
      },
      {
       "output_type": "stream",
       "stream": "stderr",
       "text": [
        "2014-10-15 21:11:34,466 - model - WARNING - Forcing data (/home/jaap/repos/wflow/examples/wflow_rhine_sbm/inmaps/IW000000.001) for timestep not present, returning 1.0\n"
       ]
      },
      {
       "output_type": "stream",
       "stream": "stderr",
       "text": [
        "2014-10-15 21:11:34,466 - model - WARNING - Forcing data (/home/jaap/repos/wflow/examples/wflow_rhine_sbm/inmaps/IW000000.001) for timestep not present, returning 1.0\n"
       ]
      },
      {
       "output_type": "stream",
       "stream": "stderr",
       "text": [
        "2014-10-15 21:11:34,466 - model - WARNING - Forcing data (/home/jaap/repos/wflow/examples/wflow_rhine_sbm/inmaps/IW000000.001) for timestep not present, returning 1.0\n"
       ]
      },
      {
       "output_type": "stream",
       "stream": "stderr",
       "text": [
        "WARNING:model:Forcing data (/home/jaap/repos/wflow/examples/wflow_rhine_sbm/inmaps/IW000000.001) for timestep not present, returning 1.0\n"
       ]
      },
      {
       "output_type": "stream",
       "stream": "stdout",
       "text": [
        "\n",
        "1995-02-25 00:00:00"
       ]
      },
      {
       "output_type": "stream",
       "stream": "stderr",
       "text": [
        "2014-10-15 21:11:34,512 - model - DEBUG - Step: 26/1\n"
       ]
      },
      {
       "output_type": "stream",
       "stream": "stderr",
       "text": [
        "2014-10-15 21:11:34,512 - model - DEBUG - Step: 26/1\n"
       ]
      },
      {
       "output_type": "stream",
       "stream": "stderr",
       "text": [
        "2014-10-15 21:11:34,512 - model - DEBUG - Step: 26/1\n"
       ]
      },
      {
       "output_type": "stream",
       "stream": "stderr",
       "text": [
        "2014-10-15 21:11:34,512 - model - DEBUG - Step: 26/1\n"
       ]
      },
      {
       "output_type": "stream",
       "stream": "stderr",
       "text": [
        "2014-10-15 21:11:34,512 - model - DEBUG - Step: 26/1\n"
       ]
      },
      {
       "output_type": "stream",
       "stream": "stderr",
       "text": [
        "2014-10-15 21:11:34,512 - model - DEBUG - Step: 26/1\n"
       ]
      },
      {
       "output_type": "stream",
       "stream": "stderr",
       "text": [
        "2014-10-15 21:11:34,512 - model - DEBUG - Step: 26/1\n"
       ]
      },
      {
       "output_type": "stream",
       "stream": "stderr",
       "text": [
        "2014-10-15 21:11:34,512 - model - DEBUG - Step: 26/1\n"
       ]
      },
      {
       "output_type": "stream",
       "stream": "stderr",
       "text": [
        "2014-10-15 21:11:34,512 - model - DEBUG - Step: 26/1\n"
       ]
      },
      {
       "output_type": "stream",
       "stream": "stderr",
       "text": [
        "2014-10-15 21:11:34,512 - model - DEBUG - Step: 26/1\n"
       ]
      },
      {
       "output_type": "stream",
       "stream": "stderr",
       "text": [
        "2014-10-15 21:11:34,512 - model - DEBUG - Step: 26/1\n"
       ]
      },
      {
       "output_type": "stream",
       "stream": "stderr",
       "text": [
        "2014-10-15 21:11:34,512 - model - DEBUG - Step: 26/1\n"
       ]
      },
      {
       "output_type": "stream",
       "stream": "stderr",
       "text": [
        "2014-10-15 21:11:34,512 - model - DEBUG - Step: 26/1\n"
       ]
      },
      {
       "output_type": "stream",
       "stream": "stderr",
       "text": [
        "DEBUG:model:Step: 26/1\n"
       ]
      },
      {
       "output_type": "stream",
       "stream": "stderr",
       "text": [
        "2014-10-15 21:11:34,615 - model - DEBUG - Step: 26/1\n"
       ]
      },
      {
       "output_type": "stream",
       "stream": "stderr",
       "text": [
        "2014-10-15 21:11:34,615 - model - DEBUG - Step: 26/1\n"
       ]
      },
      {
       "output_type": "stream",
       "stream": "stderr",
       "text": [
        "2014-10-15 21:11:34,615 - model - DEBUG - Step: 26/1\n"
       ]
      },
      {
       "output_type": "stream",
       "stream": "stderr",
       "text": [
        "2014-10-15 21:11:34,615 - model - DEBUG - Step: 26/1\n"
       ]
      },
      {
       "output_type": "stream",
       "stream": "stderr",
       "text": [
        "2014-10-15 21:11:34,615 - model - DEBUG - Step: 26/1\n"
       ]
      },
      {
       "output_type": "stream",
       "stream": "stderr",
       "text": [
        "2014-10-15 21:11:34,615 - model - DEBUG - Step: 26/1\n"
       ]
      },
      {
       "output_type": "stream",
       "stream": "stderr",
       "text": [
        "2014-10-15 21:11:34,615 - model - DEBUG - Step: 26/1\n"
       ]
      },
      {
       "output_type": "stream",
       "stream": "stderr",
       "text": [
        "2014-10-15 21:11:34,615 - model - DEBUG - Step: 26/1\n"
       ]
      },
      {
       "output_type": "stream",
       "stream": "stderr",
       "text": [
        "2014-10-15 21:11:34,615 - model - DEBUG - Step: 26/1\n"
       ]
      },
      {
       "output_type": "stream",
       "stream": "stderr",
       "text": [
        "2014-10-15 21:11:34,615 - model - DEBUG - Step: 26/1\n"
       ]
      },
      {
       "output_type": "stream",
       "stream": "stderr",
       "text": [
        "2014-10-15 21:11:34,615 - model - DEBUG - Step: 26/1\n"
       ]
      },
      {
       "output_type": "stream",
       "stream": "stderr",
       "text": [
        "2014-10-15 21:11:34,615 - model - DEBUG - Step: 26/1\n"
       ]
      },
      {
       "output_type": "stream",
       "stream": "stderr",
       "text": [
        "2014-10-15 21:11:34,615 - model - DEBUG - Step: 26/1\n"
       ]
      },
      {
       "output_type": "stream",
       "stream": "stderr",
       "text": [
        "DEBUG:model:Step: 26/1\n"
       ]
      },
      {
       "output_type": "stream",
       "stream": "stderr",
       "text": [
        "2014-10-15 21:11:34,620 - model - WARNING - Forcing data (/home/jaap/repos/wflow/examples/wflow_rhine_sbm/inmaps/IW000000.001) for timestep not present, returning 1.0\n"
       ]
      },
      {
       "output_type": "stream",
       "stream": "stderr",
       "text": [
        "2014-10-15 21:11:34,620 - model - WARNING - Forcing data (/home/jaap/repos/wflow/examples/wflow_rhine_sbm/inmaps/IW000000.001) for timestep not present, returning 1.0\n"
       ]
      },
      {
       "output_type": "stream",
       "stream": "stderr",
       "text": [
        "2014-10-15 21:11:34,620 - model - WARNING - Forcing data (/home/jaap/repos/wflow/examples/wflow_rhine_sbm/inmaps/IW000000.001) for timestep not present, returning 1.0\n"
       ]
      },
      {
       "output_type": "stream",
       "stream": "stderr",
       "text": [
        "2014-10-15 21:11:34,620 - model - WARNING - Forcing data (/home/jaap/repos/wflow/examples/wflow_rhine_sbm/inmaps/IW000000.001) for timestep not present, returning 1.0\n"
       ]
      },
      {
       "output_type": "stream",
       "stream": "stderr",
       "text": [
        "2014-10-15 21:11:34,620 - model - WARNING - Forcing data (/home/jaap/repos/wflow/examples/wflow_rhine_sbm/inmaps/IW000000.001) for timestep not present, returning 1.0\n"
       ]
      },
      {
       "output_type": "stream",
       "stream": "stderr",
       "text": [
        "2014-10-15 21:11:34,620 - model - WARNING - Forcing data (/home/jaap/repos/wflow/examples/wflow_rhine_sbm/inmaps/IW000000.001) for timestep not present, returning 1.0\n"
       ]
      },
      {
       "output_type": "stream",
       "stream": "stderr",
       "text": [
        "2014-10-15 21:11:34,620 - model - WARNING - Forcing data (/home/jaap/repos/wflow/examples/wflow_rhine_sbm/inmaps/IW000000.001) for timestep not present, returning 1.0\n"
       ]
      },
      {
       "output_type": "stream",
       "stream": "stderr",
       "text": [
        "2014-10-15 21:11:34,620 - model - WARNING - Forcing data (/home/jaap/repos/wflow/examples/wflow_rhine_sbm/inmaps/IW000000.001) for timestep not present, returning 1.0\n"
       ]
      },
      {
       "output_type": "stream",
       "stream": "stderr",
       "text": [
        "2014-10-15 21:11:34,620 - model - WARNING - Forcing data (/home/jaap/repos/wflow/examples/wflow_rhine_sbm/inmaps/IW000000.001) for timestep not present, returning 1.0\n"
       ]
      },
      {
       "output_type": "stream",
       "stream": "stderr",
       "text": [
        "2014-10-15 21:11:34,620 - model - WARNING - Forcing data (/home/jaap/repos/wflow/examples/wflow_rhine_sbm/inmaps/IW000000.001) for timestep not present, returning 1.0\n"
       ]
      },
      {
       "output_type": "stream",
       "stream": "stderr",
       "text": [
        "2014-10-15 21:11:34,620 - model - WARNING - Forcing data (/home/jaap/repos/wflow/examples/wflow_rhine_sbm/inmaps/IW000000.001) for timestep not present, returning 1.0\n"
       ]
      },
      {
       "output_type": "stream",
       "stream": "stderr",
       "text": [
        "2014-10-15 21:11:34,620 - model - WARNING - Forcing data (/home/jaap/repos/wflow/examples/wflow_rhine_sbm/inmaps/IW000000.001) for timestep not present, returning 1.0\n"
       ]
      },
      {
       "output_type": "stream",
       "stream": "stderr",
       "text": [
        "2014-10-15 21:11:34,620 - model - WARNING - Forcing data (/home/jaap/repos/wflow/examples/wflow_rhine_sbm/inmaps/IW000000.001) for timestep not present, returning 1.0\n"
       ]
      },
      {
       "output_type": "stream",
       "stream": "stderr",
       "text": [
        "WARNING:model:Forcing data (/home/jaap/repos/wflow/examples/wflow_rhine_sbm/inmaps/IW000000.001) for timestep not present, returning 1.0\n"
       ]
      },
      {
       "output_type": "stream",
       "stream": "stdout",
       "text": [
        "\n",
        "1995-02-26 00:00:00"
       ]
      },
      {
       "output_type": "stream",
       "stream": "stderr",
       "text": [
        "2014-10-15 21:11:34,673 - model - DEBUG - Step: 27/1\n"
       ]
      },
      {
       "output_type": "stream",
       "stream": "stderr",
       "text": [
        "2014-10-15 21:11:34,673 - model - DEBUG - Step: 27/1\n"
       ]
      },
      {
       "output_type": "stream",
       "stream": "stderr",
       "text": [
        "2014-10-15 21:11:34,673 - model - DEBUG - Step: 27/1\n"
       ]
      },
      {
       "output_type": "stream",
       "stream": "stderr",
       "text": [
        "2014-10-15 21:11:34,673 - model - DEBUG - Step: 27/1\n"
       ]
      },
      {
       "output_type": "stream",
       "stream": "stderr",
       "text": [
        "2014-10-15 21:11:34,673 - model - DEBUG - Step: 27/1\n"
       ]
      },
      {
       "output_type": "stream",
       "stream": "stderr",
       "text": [
        "2014-10-15 21:11:34,673 - model - DEBUG - Step: 27/1\n"
       ]
      },
      {
       "output_type": "stream",
       "stream": "stderr",
       "text": [
        "2014-10-15 21:11:34,673 - model - DEBUG - Step: 27/1\n"
       ]
      },
      {
       "output_type": "stream",
       "stream": "stderr",
       "text": [
        "2014-10-15 21:11:34,673 - model - DEBUG - Step: 27/1\n"
       ]
      },
      {
       "output_type": "stream",
       "stream": "stderr",
       "text": [
        "2014-10-15 21:11:34,673 - model - DEBUG - Step: 27/1\n"
       ]
      },
      {
       "output_type": "stream",
       "stream": "stderr",
       "text": [
        "2014-10-15 21:11:34,673 - model - DEBUG - Step: 27/1\n"
       ]
      },
      {
       "output_type": "stream",
       "stream": "stderr",
       "text": [
        "2014-10-15 21:11:34,673 - model - DEBUG - Step: 27/1\n"
       ]
      },
      {
       "output_type": "stream",
       "stream": "stderr",
       "text": [
        "2014-10-15 21:11:34,673 - model - DEBUG - Step: 27/1\n"
       ]
      },
      {
       "output_type": "stream",
       "stream": "stderr",
       "text": [
        "2014-10-15 21:11:34,673 - model - DEBUG - Step: 27/1\n"
       ]
      },
      {
       "output_type": "stream",
       "stream": "stderr",
       "text": [
        "DEBUG:model:Step: 27/1\n"
       ]
      },
      {
       "output_type": "stream",
       "stream": "stderr",
       "text": [
        "2014-10-15 21:11:34,790 - model - DEBUG - Step: 27/1\n"
       ]
      },
      {
       "output_type": "stream",
       "stream": "stderr",
       "text": [
        "2014-10-15 21:11:34,790 - model - DEBUG - Step: 27/1\n"
       ]
      },
      {
       "output_type": "stream",
       "stream": "stderr",
       "text": [
        "2014-10-15 21:11:34,790 - model - DEBUG - Step: 27/1\n"
       ]
      },
      {
       "output_type": "stream",
       "stream": "stderr",
       "text": [
        "2014-10-15 21:11:34,790 - model - DEBUG - Step: 27/1\n"
       ]
      },
      {
       "output_type": "stream",
       "stream": "stderr",
       "text": [
        "2014-10-15 21:11:34,790 - model - DEBUG - Step: 27/1\n"
       ]
      },
      {
       "output_type": "stream",
       "stream": "stderr",
       "text": [
        "2014-10-15 21:11:34,790 - model - DEBUG - Step: 27/1\n"
       ]
      },
      {
       "output_type": "stream",
       "stream": "stderr",
       "text": [
        "2014-10-15 21:11:34,790 - model - DEBUG - Step: 27/1\n"
       ]
      },
      {
       "output_type": "stream",
       "stream": "stderr",
       "text": [
        "2014-10-15 21:11:34,790 - model - DEBUG - Step: 27/1\n"
       ]
      },
      {
       "output_type": "stream",
       "stream": "stderr",
       "text": [
        "2014-10-15 21:11:34,790 - model - DEBUG - Step: 27/1\n"
       ]
      },
      {
       "output_type": "stream",
       "stream": "stderr",
       "text": [
        "2014-10-15 21:11:34,790 - model - DEBUG - Step: 27/1\n"
       ]
      },
      {
       "output_type": "stream",
       "stream": "stderr",
       "text": [
        "2014-10-15 21:11:34,790 - model - DEBUG - Step: 27/1\n"
       ]
      },
      {
       "output_type": "stream",
       "stream": "stderr",
       "text": [
        "2014-10-15 21:11:34,790 - model - DEBUG - Step: 27/1\n"
       ]
      },
      {
       "output_type": "stream",
       "stream": "stderr",
       "text": [
        "2014-10-15 21:11:34,790 - model - DEBUG - Step: 27/1\n"
       ]
      },
      {
       "output_type": "stream",
       "stream": "stderr",
       "text": [
        "DEBUG:model:Step: 27/1\n"
       ]
      },
      {
       "output_type": "stream",
       "stream": "stderr",
       "text": [
        "2014-10-15 21:11:34,796 - model - WARNING - Forcing data (/home/jaap/repos/wflow/examples/wflow_rhine_sbm/inmaps/IW000000.001) for timestep not present, returning 1.0\n"
       ]
      },
      {
       "output_type": "stream",
       "stream": "stderr",
       "text": [
        "2014-10-15 21:11:34,796 - model - WARNING - Forcing data (/home/jaap/repos/wflow/examples/wflow_rhine_sbm/inmaps/IW000000.001) for timestep not present, returning 1.0\n"
       ]
      },
      {
       "output_type": "stream",
       "stream": "stderr",
       "text": [
        "2014-10-15 21:11:34,796 - model - WARNING - Forcing data (/home/jaap/repos/wflow/examples/wflow_rhine_sbm/inmaps/IW000000.001) for timestep not present, returning 1.0\n"
       ]
      },
      {
       "output_type": "stream",
       "stream": "stderr",
       "text": [
        "2014-10-15 21:11:34,796 - model - WARNING - Forcing data (/home/jaap/repos/wflow/examples/wflow_rhine_sbm/inmaps/IW000000.001) for timestep not present, returning 1.0\n"
       ]
      },
      {
       "output_type": "stream",
       "stream": "stderr",
       "text": [
        "2014-10-15 21:11:34,796 - model - WARNING - Forcing data (/home/jaap/repos/wflow/examples/wflow_rhine_sbm/inmaps/IW000000.001) for timestep not present, returning 1.0\n"
       ]
      },
      {
       "output_type": "stream",
       "stream": "stderr",
       "text": [
        "2014-10-15 21:11:34,796 - model - WARNING - Forcing data (/home/jaap/repos/wflow/examples/wflow_rhine_sbm/inmaps/IW000000.001) for timestep not present, returning 1.0\n"
       ]
      },
      {
       "output_type": "stream",
       "stream": "stderr",
       "text": [
        "2014-10-15 21:11:34,796 - model - WARNING - Forcing data (/home/jaap/repos/wflow/examples/wflow_rhine_sbm/inmaps/IW000000.001) for timestep not present, returning 1.0\n"
       ]
      },
      {
       "output_type": "stream",
       "stream": "stderr",
       "text": [
        "2014-10-15 21:11:34,796 - model - WARNING - Forcing data (/home/jaap/repos/wflow/examples/wflow_rhine_sbm/inmaps/IW000000.001) for timestep not present, returning 1.0\n"
       ]
      },
      {
       "output_type": "stream",
       "stream": "stderr",
       "text": [
        "2014-10-15 21:11:34,796 - model - WARNING - Forcing data (/home/jaap/repos/wflow/examples/wflow_rhine_sbm/inmaps/IW000000.001) for timestep not present, returning 1.0\n"
       ]
      },
      {
       "output_type": "stream",
       "stream": "stderr",
       "text": [
        "2014-10-15 21:11:34,796 - model - WARNING - Forcing data (/home/jaap/repos/wflow/examples/wflow_rhine_sbm/inmaps/IW000000.001) for timestep not present, returning 1.0\n"
       ]
      },
      {
       "output_type": "stream",
       "stream": "stderr",
       "text": [
        "2014-10-15 21:11:34,796 - model - WARNING - Forcing data (/home/jaap/repos/wflow/examples/wflow_rhine_sbm/inmaps/IW000000.001) for timestep not present, returning 1.0\n"
       ]
      },
      {
       "output_type": "stream",
       "stream": "stderr",
       "text": [
        "2014-10-15 21:11:34,796 - model - WARNING - Forcing data (/home/jaap/repos/wflow/examples/wflow_rhine_sbm/inmaps/IW000000.001) for timestep not present, returning 1.0\n"
       ]
      },
      {
       "output_type": "stream",
       "stream": "stderr",
       "text": [
        "2014-10-15 21:11:34,796 - model - WARNING - Forcing data (/home/jaap/repos/wflow/examples/wflow_rhine_sbm/inmaps/IW000000.001) for timestep not present, returning 1.0\n"
       ]
      },
      {
       "output_type": "stream",
       "stream": "stderr",
       "text": [
        "WARNING:model:Forcing data (/home/jaap/repos/wflow/examples/wflow_rhine_sbm/inmaps/IW000000.001) for timestep not present, returning 1.0\n"
       ]
      },
      {
       "output_type": "stream",
       "stream": "stdout",
       "text": [
        "\n",
        "1995-02-27 00:00:00"
       ]
      },
      {
       "output_type": "stream",
       "stream": "stdout",
       "text": [
        "\n"
       ]
      }
     ],
     "prompt_number": 42
    },
    {
     "cell_type": "code",
     "collapsed": false,
     "input": [
      "LA_model.finalize()\n",
      "RT_model.finalize()"
     ],
     "language": "python",
     "metadata": {},
     "outputs": [],
     "prompt_number": 35
    },
    {
     "cell_type": "code",
     "collapsed": false,
     "input": [],
     "language": "python",
     "metadata": {},
     "outputs": []
    }
   ],
   "metadata": {}
  }
 ]
}
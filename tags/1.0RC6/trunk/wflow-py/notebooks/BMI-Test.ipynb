{
 "metadata": {
  "name": "",
  "signature": "sha256:6def8f750521c22f4566d866780cbf15dd5580c2096122e75da8145804c9d2cc"
 },
 "nbformat": 3,
 "nbformat_minor": 0,
 "worksheets": [
  {
   "cells": [
    {
     "cell_type": "markdown",
     "metadata": {},
     "source": [
      "Basic test of the wflow BMI interface"
     ]
    },
    {
     "cell_type": "code",
     "collapsed": false,
     "input": [
      "import wflow.wflow_bmi as bmi\n",
      "import logging\n",
      "%matplotlib\n",
      "reload(bmi)\n",
      "%matplotlib inline "
     ],
     "language": "python",
     "metadata": {},
     "outputs": []
    },
    {
     "cell_type": "code",
     "collapsed": false,
     "input": [
      "# This is the LAnd Atmophere (LA) model\n",
      "LA_model = bmi.wflowbmi()\n",
      "LA_model.initialize(configfile='../../examples/wflow_rhine_sbm/wflow_sbm.ini',loglevel=logging.WARN)\n",
      "\n",
      "# This is the routing (LA) model\n",
      "RT_model = bmi.wflowbmi()\n",
      "RT_model.initialize(configfile='../../examples/wflow_rhine_sbm/wflow_routing.ini',loglevel=logging.WARN)"
     ],
     "language": "python",
     "metadata": {},
     "outputs": []
    },
    {
     "cell_type": "code",
     "collapsed": false,
     "input": [
      "for i in range(0,LA_model.get_var_count()):\n",
      "    print LA_model.get_var_name(i)"
     ],
     "language": "python",
     "metadata": {},
     "outputs": []
    },
    {
     "cell_type": "code",
     "collapsed": false,
     "input": [
      "for i in range(0,RT_model.get_var_count()):\n",
      "    print RT_model.get_var_name(i)\n"
     ],
     "language": "python",
     "metadata": {},
     "outputs": []
    },
    {
     "cell_type": "code",
     "collapsed": false,
     "input": [
      "t_end = RT_model.get_end_time()\n",
      "t_start = RT_model.get_start_time()\n",
      "t = RT_model.get_current_time()"
     ],
     "language": "python",
     "metadata": {},
     "outputs": []
    },
    {
     "cell_type": "code",
     "collapsed": false,
     "input": [
      "\n",
      "(t_end  - t_start)/(86400)\n"
     ],
     "language": "python",
     "metadata": {},
     "outputs": []
    },
    {
     "cell_type": "code",
     "collapsed": false,
     "input": [
      "t_end = RT_model.get_end_time()\n",
      "t = RT_model.get_start_time()\n",
      "\n",
      "\n",
      "\n",
      "\n",
      "while t < t_end:\n",
      "    LA_model.update(dt=-1)\n",
      "    # Now set the output from the LA model (specific Q) as input to the RT model\n",
      "    thevar = LA_model.get_var(\"InwaterMM\")\n",
      "    RT_model.set_var(\"IW\",thevar) # The IW is set in the wflow_routing.ini var as a forcing\n",
      "    RT_model.update(dt=-1)\n",
      "    t = RT_model.get_current_time()\n",
      "    \n",
      "    print datetime.datetime.fromtimestamp(t)"
     ],
     "language": "python",
     "metadata": {},
     "outputs": []
    },
    {
     "cell_type": "code",
     "collapsed": false,
     "input": [
      "LA_model.finalize()\n",
      "RT_model.finalize()"
     ],
     "language": "python",
     "metadata": {},
     "outputs": []
    },
    {
     "cell_type": "code",
     "collapsed": false,
     "input": [
      "\n"
     ],
     "language": "python",
     "metadata": {},
     "outputs": []
    },
    {
     "cell_type": "code",
     "collapsed": false,
     "input": [],
     "language": "python",
     "metadata": {},
     "outputs": []
    }
   ],
   "metadata": {}
  }
 ]
}
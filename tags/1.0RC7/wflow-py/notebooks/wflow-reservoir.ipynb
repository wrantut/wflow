{
 "metadata": {
  "name": ""
 },
 "nbformat": 3,
 "nbformat_minor": 0,
 "worksheets": [
  {
   "cells": [
    {
     "cell_type": "heading",
     "level": 1,
     "metadata": {},
     "source": [
      "Use of the wflow OpenStreams framework API to connect a reservoir model"
     ]
    },
    {
     "cell_type": "heading",
     "level": 3,
     "metadata": {},
     "source": [
      "http://wflow.googlecode.com"
     ]
    },
    {
     "cell_type": "markdown",
     "metadata": {},
     "source": [
      "This ipython notebook demonstrates how to load an openstreams python model, execute it step-by-step and investigate the (intermediate) results. It also shows how to re-route surface water through a reservoir model. The first steps is to load the model and framework:\n"
     ]
    },
    {
     "cell_type": "code",
     "collapsed": false,
     "input": [
      "# First import the model. Here we use the HBV version\n",
      "from wflow.wflow_sbm import *\n",
      "import IPython\n",
      "from IPython.display import display, clear_output\n",
      "\n",
      "#clear_output = IPython.core.display.clear_output"
     ],
     "language": "python",
     "metadata": {},
     "outputs": []
    },
    {
     "cell_type": "code",
     "collapsed": false,
     "input": [
      "# Here we define a simple fictious reservoir\n",
      "reservoirstorage = 15000\n",
      "\n",
      "def simplereservoir(inputq,storage):\n",
      "    K = 0.087\n",
      "    storage = storage + inputq\n",
      "    outflow = storage * K\n",
      "    storage = storage - outflow\n",
      "    \n",
      "    return outflow, storage"
     ],
     "language": "python",
     "metadata": {},
     "outputs": []
    },
    {
     "cell_type": "heading",
     "level": 2,
     "metadata": {},
     "source": [
      "Set model run-time parameters"
     ]
    },
    {
     "cell_type": "markdown",
     "metadata": {},
     "source": [
      " Set the:\n",
      " \n",
      " - start and time time\n",
      " - set the runid (this is where the results are stored, relative to the casename)\n",
      " - set the name of the configfile (stire in the case directory\n",
      " - set the clone mape (usually the wflow_subcatch.map)\n",
      " - set the casename. This is where all the model the model resides\n",
      "\n"
     ]
    },
    {
     "cell_type": "code",
     "collapsed": false,
     "input": [
      "# define start and stop time of the run\n",
      "startTime = 1\n",
      "stopTime = 200\n",
      "currentTime = 1\n",
      "     \n",
      "# set runid, cl;onemap and casename. Also define the ini file\n",
      "runId = \"reservoirtest_1\"\n",
      "#configfile=\"wflow_hbv_mem.ini\"\n",
      "configfile=\"wflow_sbm.ini\"\n",
      "wflow_cloneMap = 'wflow_subcatch.map' \n",
      "\n",
      "# the casename points to the complete model setup with both static and dynamic input\n",
      "caseName=\"../../examples/wflow_rhine_sbm/\"\n"
     ],
     "language": "python",
     "metadata": {},
     "outputs": []
    },
    {
     "cell_type": "code",
     "collapsed": false,
     "input": [
      "#make a usermodel object     \n",
      "myModel = WflowModel(wflow_cloneMap, caseName,runId,configfile)\n",
      "\n",
      "# initialise the framework\n",
      "dynModelFw = wf_DynamicFramework(myModel, stopTime,startTime)\n"
     ],
     "language": "python",
     "metadata": {},
     "outputs": []
    },
    {
     "cell_type": "code",
     "collapsed": false,
     "input": [
      "dynModelFw.createRunId(NoOverWrite=False,level=logging.ERROR)\n",
      "dynModelFw.setQuiet(1)\n",
      "# Run the initial part of the model (reads parameters and sets initial values)\n",
      "dynModelFw._runInitial() # Runs initial part"
     ],
     "language": "python",
     "metadata": {},
     "outputs": []
    },
    {
     "cell_type": "code",
     "collapsed": false,
     "input": [
      "dynModelFw._runResume() # gets the state variables from disk\n",
      "# Get list of variables supplied by the model\n",
      "#print dynModelFw.wf_supplyVariableNamesAndRoles()"
     ],
     "language": "python",
     "metadata": {},
     "outputs": []
    },
    {
     "cell_type": "heading",
     "level": 2,
     "metadata": {},
     "source": [
      "Here we make a pit in the middle of the main river. This will be the inflow to the reservoir"
     ]
    },
    {
     "cell_type": "code",
     "collapsed": false,
     "input": [
      "# A pit can be set in the ldd by specifying the direction 5 \n",
      "# (see pcraster.eu for the ldd direction conventions)\n",
      "ret = dynModelFw.wf_setValueLdd(\"TopoLdd\",5.0,8.40943,49.6682)\n",
      "report(myModel.TopoLdd,\"n_ldd.map\")"
     ],
     "language": "python",
     "metadata": {},
     "outputs": []
    },
    {
     "cell_type": "heading",
     "level": 2,
     "metadata": {},
     "source": [
      "Run for a number of timesteps"
     ]
    },
    {
     "cell_type": "code",
     "collapsed": false,
     "input": [
      "f, ax = plt.subplots(1,3,figsize=(14, 4))\n",
      "\n",
      "plotar = []\n",
      "plotarstorage = []\n",
      "plotaroutflow = []\n",
      "\n",
      "for ts in range(1,30):\n",
      "        # Add inflow to outflow downstream of the pit\n",
      "        # See the API setion of the INI file      \n",
      "        # Get Q value at pit, the reservoir inflow\n",
      "        inflowQ = dynModelFw.wf_supplyScalar(\"SurfaceRunoff\",8.40943,49.6682)\n",
      "        # save for plotting\n",
      "        plotar.append(inflowQ)   \n",
      "        # Feed to the reservoir model\n",
      "        outflow, reservoirstorage = simplereservoir(inflowQ, reservoirstorage)\n",
      "        # save for plotting\n",
      "        plotarstorage.append(reservoirstorage)\n",
      "        plotaroutflow.append(outflow)\n",
      "        #dynModelFw._userModel().IF = cover(0.0)\n",
      "        dynModelFw.wf_setValue(\"IF\", outflow  ,8.40943,49.7085)\n",
      "        # update runoff ONLY NEEDED IF YOU FIDDLE WITH THE KIN_WAVE RESERVOIR\n",
      "        myModel.updateRunOff()     \n",
      "        dynModelFw._runDynamic(ts,ts) # runs for this timesteps \n",
      "        # Now get some results for display\n",
      "        run = dynModelFw.wf_supplyMapAsNumpy(\"SurfaceRunoff\")\n",
      "        uz = dynModelFw.wf_supplyMapAsNumpy(\"FirstZoneCapacity\")\n",
      "        sm = dynModelFw.wf_supplyMapAsNumpy(\"UStoreDepth\")        \n",
      "        sm[sm == -999] = np.nan\n",
      "        uz[uz == -999] = np.nan\n",
      "        run[run == -999] = np.nan\n",
      "        ax[0].imshow(log(run))\n",
      "        ax[1].plot(plotarstorage,'k')\n",
      "        ax[1].set_title(\"Reservoir storage\")\n",
      "        ax[2].plot(plotar,'b')\n",
      "        ax[2].plot(plotaroutflow,'r')\n",
      "        \n",
      "        ax[2].set_title(\"Blue inflow, red outflow:\" + str(ts))\n",
      "        clear_output()\n",
      "        display(f)\n",
      "        \n",
      "plt.close()"
     ],
     "language": "python",
     "metadata": {},
     "outputs": []
    },
    {
     "cell_type": "code",
     "collapsed": false,
     "input": [
      "dynModelFw._runSuspend() # saves the state variables\n",
      "dynModelFw._wf_shutdown()"
     ],
     "language": "python",
     "metadata": {},
     "outputs": []
    },
    {
     "cell_type": "code",
     "collapsed": false,
     "input": [],
     "language": "python",
     "metadata": {},
     "outputs": []
    }
   ],
   "metadata": {}
  }
 ]
}